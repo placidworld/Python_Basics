{
 "cells": [
  {
   "cell_type": "markdown",
   "id": "9a78a257",
   "metadata": {},
   "source": [
    "* Matplotlib\n",
    "* Dictionaries & Pandas\n",
    "* Logic, Control Flow and Filtering\n",
    "* Loops\n",
    "* Case Study: Hackers statistics"
   ]
  },
  {
   "cell_type": "markdown",
   "id": "88a00a01",
   "metadata": {},
   "source": [
    "**Line plot (1)**\n",
    "\n",
    "With matplotlib, you can create a bunch of different plots in Python. The most basic plot is the line plot. A general recipe is given here.\n",
    "\n",
    "```Python\n",
    "import matplotlib.pyplot as plt\n",
    "plt.plot(x,y)\n",
    "plt.show()\n",
    "```\n",
    "\n",
    "In the video, you already saw how much the world population has grown over the past years. Will it continue to do so? The world bank has estimates of the world population for the years 1950 up to 2100. The years are loaded in your workspace as a list called **year**, and the corresponding populations as a list called **pop**.\n",
    "\n",
    "This course touches on a lot of concepts you may have forgotten, so if you ever need a quick refresher, download the Python for data science Cheat Sheet and keep it handy!\n",
    "\n",
    "**Instructions**\n",
    "\n",
    "* **print()** the last item from both the **year** and the **pop** list to see what the predicted population for the year 2100 is. Use two **print()** functions.\n",
    "* Before you can start, you should import **matplotlib.pyplot** as **plt**. **pyplot** is a sub-package of **matplotlib**, hence the dot.\n",
    "* Use **plt.plot()** to build a line plot. **year** should be mapped on the horizontal axis, **pop** on the vertical axis. Don't forget to finish off with the **plt.show()** function to actually display the plot."
   ]
  },
  {
   "cell_type": "code",
   "execution_count": null,
   "id": "02f43b49",
   "metadata": {},
   "outputs": [],
   "source": [
    "# Print the last item from year and pop\n",
    "print(year[-1])\n",
    "print(pop[-1])\n",
    "\n",
    "# Import matplotlib.pyplot as plt\n",
    "from matplotlib import pyplot as plt\n",
    "\n",
    "# Make a line plot: year on the x-axis, pop on the y-axis\n",
    "plt.plot(year, pop)\n",
    "\n",
    "# Display the plot with plt.show()\n",
    "plt.show()"
   ]
  },
  {
   "cell_type": "markdown",
   "id": "8863d068",
   "metadata": {},
   "source": [
    "**Line Plot (2): Interpretation**\n",
    "\n",
    "Have another look at the plot you created in the previous exercise; it's shown on the right. Based on the plot, in approximately what year will there be more than ten billion human beings on this planet?\n",
    "\n",
    "**Instructions**\n",
    "\n",
    "Possible Answers\n",
    "\n",
    "* 【】2040\n",
    "\n",
    "* 【X】2060\n",
    "\n",
    "* 【】2085\n",
    "\n",
    "* 【】2095"
   ]
  },
  {
   "cell_type": "markdown",
   "id": "0bcbf3ba",
   "metadata": {},
   "source": [
    "**Line plot (3)**<br/>\n",
    "\n",
    "Now that you've built your first line plot, let's start working on the data that professor Hans Rosling used to build his beautiful bubble chart. It was collected in 2007. Two lists are available for you:\n",
    "\n",
    "* **life_exp** which contains the life expectancy for each country and\n",
    "* **gdp_cap**, which contains the GDP per capita (i.e. per person) for each country expressed in US Dollars.\n",
    "\n",
    "GDP stands for Gross Domestic Product. It basically represents the size of the economy of a country. Divide this by the population and you get the GDP per capita.\n",
    "\n",
    "**matplotlib.pyplot** is already imported as **plt**, so you can get started straight away.\n",
    "\n",
    "**Instructions**\n",
    "\n",
    "* Print the last item from both the list **gdp_cap**, and the list **life_exp**; it is information about Zimbabwe.\n",
    "* Build a line chart, with **gdp_cap** on the x-axis, and **life_exp** on the y-axis. Does it make sense to plot this data on a line plot?\n",
    "* Don't forget to finish off with a **plt.show()** command, to actually display the plot."
   ]
  },
  {
   "cell_type": "markdown",
   "id": "37b86902",
   "metadata": {},
   "source": [
    "**Scatter Plot (1)**<br/>\n",
    "\n",
    "When you have a time scale along the horizontal axis, the line plot is your friend. But in many other cases, when you're trying to assess if there's a correlation between two variables, for example, the scatter plot is the better choice. Below is an example of how to build a scatter plot.\n",
    "\n",
    "```Python\n",
    "import matplotlib.pyplot as plt\n",
    "plt.scatter(x,y)\n",
    "plt.show()\n",
    "```\n",
    "\n",
    "Let's continue with the **gdp_cap** versus **life_exp** plot, the GDP and life expectancy data for different countries in 2007. Maybe a scatter plot will be a better alternative?\n",
    "\n",
    "Again, the **matplotlib.pyplot** package is available as **plt**.\n",
    "\n",
    "**Instructions**\n",
    "\n",
    "* Change the line plot that's coded in the script to a scatter plot.\n",
    "* A correlation will become clear when you display the GDP per capita on a logarithmic scale. Add the line **plt.xscale('log')**.\n",
    "* Finish off your script with **plt.show()** to display the plot."
   ]
  },
  {
   "cell_type": "code",
   "execution_count": null,
   "id": "4d860fe2",
   "metadata": {},
   "outputs": [],
   "source": [
    "# Change the line plot below to a scatter plot\n",
    "plt.scatter(gdp_cap, life_exp)\n",
    "\n",
    "# Put the x-axis on a logarithmic scale\n",
    "plt.xscale('log')\n",
    "\n",
    "# Show plot\n",
    "plt.show()"
   ]
  },
  {
   "cell_type": "markdown",
   "id": "b27e961a",
   "metadata": {},
   "source": [
    "**Scatter plot (2)**\n",
    "\n",
    "In the previous exercise, you saw that the higher GDP usually corresponds to a higher life expectancy. In other words, there is a positive correlation.\n",
    "\n",
    "Do you think there's a relationship between population and life expectancy of a country? The **list life_exp** from the previous exercise is already available. In addition, now also **pop** is available, listing the corresponding populations for the countries in 2007. The populations are in millions of people.\n",
    "\n",
    "**Instructions**\n",
    "\n",
    "* Start from scratch: import **matplotlib.pyplot** as **plt**.\n",
    "* Build a scatter plot, where **pop** is mapped on the horizontal axis, and **life_exp** is mapped on the vertical axis.\n",
    "* Finish the script with **plt.show()** to actually display the plot. Do you see a correlation?"
   ]
  },
  {
   "cell_type": "code",
   "execution_count": null,
   "id": "8ba4e58e",
   "metadata": {},
   "outputs": [],
   "source": [
    "# Import package\n",
    "from matplotlib import pyplot as plt\n",
    "\n",
    "# Build Scatter plot\n",
    "plt.scatter(pop, life_exp)\n",
    "\n",
    "# Show plot\n",
    "plt.show()"
   ]
  },
  {
   "cell_type": "markdown",
   "id": "8d91e297",
   "metadata": {},
   "source": [
    "**Build a histogram (1)**<br/>\n",
    "\n",
    "**life_exp**, the list containing data on the life expectancy for different countries in 2007, is available in your Python shell.\n",
    "\n",
    "To see how life expectancy in different countries is distributed, let's create a histogram of **life_exp**.\n",
    "\n",
    "**matplotlib.pyplot** is already available as **plt**.\n",
    "\n",
    "**Instructions**\n",
    "\n",
    "* Use **plt.hist()** to create a histogram of the values in **life_exp**. Do not specify the number of bins; Python will set the number of bins to 10 by default for you.\n",
    "* Add **plt.show()** to actually display the histogram. Can you tell which bin contains the most observations?"
   ]
  },
  {
   "cell_type": "code",
   "execution_count": null,
   "id": "922d7f36",
   "metadata": {},
   "outputs": [],
   "source": [
    "# Create histogram of life_exp data\n",
    "plt.hist(life_exp)\n",
    "\n",
    "# Display histogram\n",
    "plt.show()"
   ]
  },
  {
   "cell_type": "markdown",
   "id": "88bab8a1",
   "metadata": {},
   "source": [
    "**Build a histogram (2): bins**\n",
    "    \n",
    "In the previous exercise, you didn't specify the number of bins. By default, Python sets the number of bins to 10 in that case. The number of bins is pretty important. Too few bins will oversimplify reality and won't show you the details. Too many bins will overcomplicate reality and won't show the bigger picture.\n",
    "\n",
    "To control the number of bins to divide your data in, you can set the **bins** argument.\n",
    "\n",
    "That's exactly what you'll do in this exercise. You'll be making two plots here. The code in the script already includes **plt.show()** and **plt.clf()** calls; **plt.show()** displays a plot; **plt.clf()** cleans it up again so you can start afresh.\n",
    "\n",
    "As before, life_exp is available and **matplotlib.pyplot** is imported as **plt**.\n",
    "\n",
    "**Instructions**\n",
    "\n",
    "* Build a histogram of **life_exp**, with 5 bins. Can you tell which bin contains the most observations?\n",
    "* Build another histogram of **life_exp**, this time with 20 bins. Is this better?"
   ]
  },
  {
   "cell_type": "code",
   "execution_count": null,
   "id": "f0c6efc5",
   "metadata": {},
   "outputs": [],
   "source": [
    "# Build histogram with 5 bins\n",
    "plt.hist(life_exp, bins = 5)\n",
    "\n",
    "# Show and clean up plot\n",
    "plt.show()\n",
    "plt.clf()\n",
    "\n",
    "# Build histogram with 20 bins\n",
    "plt.hist(life_exp, 20)\n",
    "\n",
    "# Show and clean up again\n",
    "plt.show()\n",
    "plt.clf()"
   ]
  },
  {
   "cell_type": "markdown",
   "id": "e7f64db1",
   "metadata": {},
   "source": [
    "**Build a histogram (3): compare**\n",
    "    \n",
    "In the video, you saw population pyramids for the present day and for the future. Because we were using a histogram, it was very easy to make a comparison.\n",
    "\n",
    "Let's do a similar comparison. life_exp contains life expectancy data for different countries in 2007. You also have access to a second list now, life_exp1950, containing similar data for 1950. Can you make a histogram for both datasets?\n",
    "\n",
    "You'll again be making two plots. The plt.show() and plt.clf() commands to render everything nicely are already included. Also matplotlib.pyplot is imported for you, as plt.\n",
    "\n",
    "Instructions\n",
    "100 XP\n",
    "Build a histogram of life_exp with 15 bins.\n",
    "Build a histogram of life_exp1950, also with 15 bins. Is there a big difference with the histogram for the 2007 data?"
   ]
  }
 ],
 "metadata": {
  "kernelspec": {
   "display_name": "Python 3 (ipykernel)",
   "language": "python",
   "name": "python3"
  },
  "language_info": {
   "codemirror_mode": {
    "name": "ipython",
    "version": 3
   },
   "file_extension": ".py",
   "mimetype": "text/x-python",
   "name": "python",
   "nbconvert_exporter": "python",
   "pygments_lexer": "ipython3",
   "version": "3.9.12"
  }
 },
 "nbformat": 4,
 "nbformat_minor": 5
}
