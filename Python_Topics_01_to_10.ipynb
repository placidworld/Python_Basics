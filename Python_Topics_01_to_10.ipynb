{
 "cells": [
  {
   "cell_type": "markdown",
   "id": "b29c49b4",
   "metadata": {},
   "source": [
    "## Python Tutorials\n",
    "1.  Syntax\n",
    "2. Comments\n",
    "3. Variables\n",
    "4. Data Types\n",
    "5. Numbers\n",
    "6. Csating\n",
    "7. Strings\n",
    "8. Boolean\n",
    "9. Operators\n",
    "10. Lists\n",
    "11. Tuples\n",
    "12. Sets\n",
    "13. Dictionaries\n",
    "14. If..Else\n",
    "15. While Loops\n",
    "16. For Loops\n",
    "17. Functions\n",
    "18. Lambda\n",
    "19. Arrays\n",
    "20. Classes/Objects\n",
    "21. Inheritance\n",
    "22. Iterators\n",
    "23. Scope\n",
    "24. Modules\n",
    "25. Dates\n",
    "26. Math\n",
    "27. JSON\n",
    "28. RegEx\n",
    "29. PIP\n",
    "30. Try...Except\n",
    "31. User Input\n",
    "32. String Formatting"
   ]
  },
  {
   "cell_type": "markdown",
   "id": "d22ad1c8",
   "metadata": {},
   "source": [
    "### 1. Python Syntax"
   ]
  },
  {
   "cell_type": "markdown",
   "id": "f5e7b75e",
   "metadata": {},
   "source": [
    "Python Syntax can be executed by writing directly in the command line:\n",
    "\n",
    "> **print(\"Hello, World\")**\n",
    "\n",
    "or by creating a python file on the server, using the .py file extensiion, and running it in the command line:\n",
    "    \n",
    "> **C:\\Users\\Your Name>python myfile.py**"
   ]
  },
  {
   "cell_type": "markdown",
   "id": "e6e8b75f",
   "metadata": {},
   "source": [
    "**Python Indentation**\n",
    "\n",
    "Indentation refers to the spaces at the beginning of a code line.\n",
    "\n",
    "Where in other programming languages the indentation in code is for readability only, the indentation in Python is very important.\n",
    "\n",
    "Python uses indentation to indicate a block of code."
   ]
  },
  {
   "cell_type": "code",
   "execution_count": 1,
   "id": "698ae57d",
   "metadata": {},
   "outputs": [
    {
     "name": "stdout",
     "output_type": "stream",
     "text": [
      "Five is greater than two!\n"
     ]
    }
   ],
   "source": [
    "if 5 > 2:\n",
    "  print(\"Five is greater than two!\")"
   ]
  },
  {
   "cell_type": "code",
   "execution_count": null,
   "id": "b3252203",
   "metadata": {},
   "outputs": [],
   "source": [
    "# Try to run the following code to see what will happen.\n",
    "if 5 > 2:\n",
    "print(\"Five is greater than two!\")"
   ]
  },
  {
   "cell_type": "markdown",
   "id": "7033f9a3",
   "metadata": {},
   "source": [
    "The number of spaces is up to you as a programmer, the most common use is four, but it has to be at least one.\n",
    "You have to use the same number of spaces in the same block of code, otherwise Python will give you an error.\n",
    "Or you can use Tab"
   ]
  },
  {
   "cell_type": "code",
   "execution_count": null,
   "id": "5eab2571",
   "metadata": {},
   "outputs": [],
   "source": [
    "if 5 > 2:\n",
    " print(\"Five is greater than two!\") \n",
    "if 5 > 2:\n",
    "        print(\"Five is greater than two!\") "
   ]
  },
  {
   "cell_type": "code",
   "execution_count": null,
   "id": "37858fe5",
   "metadata": {},
   "outputs": [],
   "source": [
    "if 5 > 2:\n",
    " print(\"Five is greater than two!\")\n",
    "        print(\"Five is greater than two!\")"
   ]
  },
  {
   "cell_type": "markdown",
   "id": "5a33ad29",
   "metadata": {},
   "source": [
    "**Python Variables**\n",
    "\n",
    "In Python, variables are created when you assign a value to it.<br/>\n",
    "Python has no command for declaring a variable."
   ]
  },
  {
   "cell_type": "code",
   "execution_count": null,
   "id": "7b845e65",
   "metadata": {},
   "outputs": [],
   "source": [
    "x = 5\n",
    "y = \"Hello, World!\""
   ]
  },
  {
   "cell_type": "markdown",
   "id": "d88a36c6",
   "metadata": {},
   "source": [
    "**Comments**\n",
    "\n",
    "Python has commenting capability for the purpose of in-code documentation.\n",
    "\n",
    "Comments start with a #, and Python will render the rest of the line as a comment:"
   ]
  },
  {
   "cell_type": "code",
   "execution_count": null,
   "id": "7ecf5d31",
   "metadata": {},
   "outputs": [],
   "source": [
    "#This is a comment.\n",
    "print(\"Hello, World!\")"
   ]
  },
  {
   "cell_type": "markdown",
   "id": "2f0445e2",
   "metadata": {},
   "source": [
    "### 2. Python Comments\n",
    "\n",
    "Comments can be used to explain Python code.\n",
    "\n",
    "Comments can be used to make the code more readable.\n",
    "\n",
    "Comments can be used to prevent execution when testing code."
   ]
  },
  {
   "cell_type": "code",
   "execution_count": null,
   "id": "fcb2cff7",
   "metadata": {},
   "outputs": [],
   "source": [
    "# Comments starts with a #, and Python will ignore them:\n",
    "#This is a comment\n",
    "print(\"Hello, World!\")"
   ]
  },
  {
   "cell_type": "code",
   "execution_count": null,
   "id": "c9c347d1",
   "metadata": {},
   "outputs": [],
   "source": [
    "# Comments can be placed at the end of a line, and Python will ignore the rest of the line:\n",
    "print(\"Hello, World!\") #This is a comment"
   ]
  },
  {
   "cell_type": "code",
   "execution_count": null,
   "id": "8b39b971",
   "metadata": {},
   "outputs": [],
   "source": [
    "# A comment does not have to be text that explains the code, it can also be used to prevent Python from executing code:\n",
    "#print(\"Hello, World!\")\n",
    "print(\"Cheers, Mate!\")"
   ]
  },
  {
   "cell_type": "code",
   "execution_count": null,
   "id": "8e0978b5",
   "metadata": {},
   "outputs": [],
   "source": [
    "# Multi Line Comments\n",
    "# Python does not really have a syntax for multi line comments.\n",
    "\n",
    "# To add a multiline comment you could insert a # for each line:\n",
    "#This is a comment\n",
    "#written in\n",
    "#more than just one line\n",
    "print(\"Hello, World!\")"
   ]
  },
  {
   "cell_type": "code",
   "execution_count": null,
   "id": "5ae0f62f",
   "metadata": {},
   "outputs": [],
   "source": [
    "\"\"\"\n",
    "Or, not quite as intended, you can use a multiline string.\n",
    "\n",
    "Since Python will ignore string literals that are not assigned to a variable, \n",
    "you can add a multiline string (triple quotes) in your code, and place your comment inside it:\n",
    "\"\"\"\n",
    "\n",
    "\"\"\"\n",
    "This is a comment\n",
    "written in\n",
    "more than just one line\n",
    "\"\"\"\n",
    "print(\"Hello, World!\")"
   ]
  },
  {
   "cell_type": "markdown",
   "id": "6e5cb735",
   "metadata": {},
   "source": [
    "### 3. Python Variables\n",
    "\n",
    "Variables are containers for storing data values."
   ]
  },
  {
   "cell_type": "markdown",
   "id": "7526ae6e",
   "metadata": {},
   "source": [
    "**Creating Variables**\n",
    "\n",
    "Python has no command for declaring a variable.\n",
    "\n",
    "A variable is created the moment you first assign a value to it."
   ]
  },
  {
   "cell_type": "code",
   "execution_count": null,
   "id": "f906975d",
   "metadata": {},
   "outputs": [],
   "source": [
    "x = 5\n",
    "y = \"John\"\n",
    "print(x)\n",
    "print(y)"
   ]
  },
  {
   "cell_type": "markdown",
   "id": "d1318575",
   "metadata": {},
   "source": [
    "Variables do not need to be declared with any particular type, and can even change type after they have been set."
   ]
  },
  {
   "cell_type": "code",
   "execution_count": null,
   "id": "9fbdfc69",
   "metadata": {},
   "outputs": [],
   "source": [
    "x = 4       # x is of type int\n",
    "x = \"Sally\" # x is now of type str\n",
    "print(x)"
   ]
  },
  {
   "cell_type": "markdown",
   "id": "5370c3fb",
   "metadata": {},
   "source": [
    "**Casting**\n",
    "\n",
    "If you want to specify the data type of a variable, this can be done with casting."
   ]
  },
  {
   "cell_type": "code",
   "execution_count": null,
   "id": "78362148",
   "metadata": {},
   "outputs": [],
   "source": [
    "x = str(3)    # x will be '3'\n",
    "y = int(3)    # y will be 3\n",
    "z = float(3)  # z will be 3.0"
   ]
  },
  {
   "cell_type": "markdown",
   "id": "76cdd98e",
   "metadata": {},
   "source": [
    "**Get the Type**\n",
    "\n",
    "You can get the data type of a variable with the **type()** function."
   ]
  },
  {
   "cell_type": "code",
   "execution_count": null,
   "id": "d8fe3c68",
   "metadata": {},
   "outputs": [],
   "source": [
    "x = 5\n",
    "y = \"John\"\n",
    "print(type(x))\n",
    "print(type(y))"
   ]
  },
  {
   "cell_type": "markdown",
   "id": "b48c76f4",
   "metadata": {},
   "source": [
    "**Single or Double Quotes?**\n",
    "\n",
    "String variables can be declared either by using single or double quotes:"
   ]
  },
  {
   "cell_type": "code",
   "execution_count": null,
   "id": "c6779010",
   "metadata": {},
   "outputs": [],
   "source": [
    "x = \"John\"\n",
    "# is the same as\n",
    "x = 'John'"
   ]
  },
  {
   "cell_type": "markdown",
   "id": "e4682f1e",
   "metadata": {},
   "source": [
    "**Case-Sensitive**\n",
    "\n",
    "Variable names are case-sensitive."
   ]
  },
  {
   "cell_type": "code",
   "execution_count": null,
   "id": "ea710d34",
   "metadata": {},
   "outputs": [],
   "source": [
    "a = 4\n",
    "A = \"Sally\"\n",
    "#A will not overwrite a"
   ]
  },
  {
   "cell_type": "markdown",
   "id": "c0d77d81",
   "metadata": {},
   "source": [
    "**Variable Names**\n",
    "\n",
    "A variable can have a short name (like x and y) or a more descriptive name (age, carname, total_volume). Rules for Python variables:\n",
    "* A variable name must start with a letter or the underscore character\n",
    "* A variable name cannot start with a number\n",
    "* A variable name can only contain alpha-numeric characters and underscores (A-z, 0-9, and _ )\n",
    "* Variable names are case-sensitive (age, Age and AGE are three different variables)"
   ]
  },
  {
   "cell_type": "markdown",
   "id": "4b2b4739",
   "metadata": {},
   "source": [
    "**Legal variable names:**\n",
    "\n",
    "```Python\n",
    "myvar = \"John\"\n",
    "my_var = \"John\"\n",
    "_my_var = \"John\"\n",
    "myVar = \"John\"\n",
    "MYVAR = \"John\"\n",
    "myvar2 = \"John\"    \n",
    "```"
   ]
  },
  {
   "cell_type": "code",
   "execution_count": null,
   "id": "480f3a50",
   "metadata": {},
   "outputs": [],
   "source": [
    "myvar = \"John\"\n",
    "my_var = \"John\"\n",
    "_my_var = \"John\"\n",
    "myVar = \"John\"\n",
    "MYVAR = \"John\"\n",
    "myvar2 = \"John\""
   ]
  },
  {
   "cell_type": "markdown",
   "id": "c8bf3279",
   "metadata": {},
   "source": [
    "**Illegal variable names:**\n",
    "\n",
    "```Python\n",
    "2myvar = \"John\"\n",
    "my-var = \"John\"\n",
    "my var = \"John\"\n",
    "```"
   ]
  },
  {
   "cell_type": "code",
   "execution_count": null,
   "id": "61d379d8",
   "metadata": {},
   "outputs": [],
   "source": [
    "2myvar = \"John\"\n",
    "my-var = \"John\"\n",
    "my var = \"John\""
   ]
  },
  {
   "cell_type": "markdown",
   "id": "5776907d",
   "metadata": {},
   "source": [
    "**Multi Words Variable Names**\n",
    "\n",
    "Variable names with more than one word can be difficult to read.\n",
    "\n",
    "There are several techniques you can use to make them more readable."
   ]
  },
  {
   "cell_type": "markdown",
   "id": "b7a11dfd",
   "metadata": {},
   "source": [
    "**Camel Case**\n",
    "\n",
    "Each word, except the first, starts with a capital letter:\n",
    "\n",
    "> **```myVariableName = \"John\"```**"
   ]
  },
  {
   "cell_type": "code",
   "execution_count": null,
   "id": "5d670301",
   "metadata": {},
   "outputs": [],
   "source": [
    "myVariableName = \"John\""
   ]
  },
  {
   "cell_type": "markdown",
   "id": "bc267ad2",
   "metadata": {},
   "source": [
    "**Pascal Case**\n",
    "\n",
    "Each word starts with a capital letter:\n",
    "\n",
    "> **```MyVariableName = \"John\"```**"
   ]
  },
  {
   "cell_type": "code",
   "execution_count": null,
   "id": "bd276e0d",
   "metadata": {},
   "outputs": [],
   "source": [
    "MyVariableName = \"John\""
   ]
  },
  {
   "cell_type": "markdown",
   "id": "b7e13439",
   "metadata": {},
   "source": [
    "**Snake Case**\n",
    "\n",
    "Each word is separated by an underscore character:\n",
    "\n",
    "> **```my_variable_name = \"John\"```**"
   ]
  },
  {
   "cell_type": "code",
   "execution_count": null,
   "id": "0305e4c1",
   "metadata": {},
   "outputs": [],
   "source": [
    "my_variable_name = \"John\""
   ]
  },
  {
   "cell_type": "markdown",
   "id": "615da629",
   "metadata": {},
   "source": [
    "#### Python Variables - Assign Multiple Values"
   ]
  },
  {
   "cell_type": "markdown",
   "id": "978c3a97",
   "metadata": {},
   "source": [
    "**Many Values to Multiple Variables**\n",
    "\n",
    "Python allows you to assign values to multiple variables in one line:\n",
    "\n",
    "Example:\n",
    "\n",
    "```Python\n",
    "x, y, z = \"Orange\", \"Banana\", \"Cherry\"\n",
    "print(x)\n",
    "print(y)\n",
    "print(z)\n",
    "```\n",
    "\n",
    "* Note: Make sure the number of variables matches the number of values, or else you will get an error."
   ]
  },
  {
   "cell_type": "code",
   "execution_count": null,
   "id": "8bfab6f8",
   "metadata": {},
   "outputs": [],
   "source": [
    "x, y, z = \"Orange\", \"Banana\", \"Cherry\"\n",
    "print(x)\n",
    "print(y)\n",
    "print(z)"
   ]
  },
  {
   "cell_type": "markdown",
   "id": "0cad5d50",
   "metadata": {},
   "source": [
    "**One Value to Multiple Variables**\n",
    "\n",
    "And you can assign the same value to multiple variables in one line:\n",
    "\n",
    "Example\n",
    "\n",
    "```Python\n",
    "x = y = z = \"Orange\"\n",
    "print(x)\n",
    "print(y)\n",
    "print(z)\n",
    "```"
   ]
  },
  {
   "cell_type": "markdown",
   "id": "f2a6d827",
   "metadata": {},
   "source": [
    "**Unpack a Collection**\n",
    "\n",
    "If you have a collection of values in a list, tuple etc. Python allows you to extract the values into variables. This is called unpacking.\n",
    "\n",
    "Example\n",
    "Unpack a list:\n",
    "\n",
    "```Python\n",
    "fruits = [\"apple\", \"banana\", \"cherry\"]\n",
    "x, y, z = fruits\n",
    "print(x)\n",
    "print(y)\n",
    "print(z)\n",
    "```"
   ]
  },
  {
   "cell_type": "code",
   "execution_count": null,
   "id": "1fb09b28",
   "metadata": {},
   "outputs": [],
   "source": [
    "fruits = [\"apple\", \"banana\", \"cherry\"]\n",
    "x, y, z = fruits\n",
    "print(x)\n",
    "print(y)\n",
    "print(z)"
   ]
  },
  {
   "cell_type": "markdown",
   "id": "65e0b2a8",
   "metadata": {},
   "source": [
    "#### Python - Output Variables"
   ]
  },
  {
   "cell_type": "markdown",
   "id": "9c57d202",
   "metadata": {},
   "source": [
    "**Output Variables**\n",
    "\n",
    "The Python print() function is often used to output variables.\n",
    "\n",
    "Example\n",
    "```Python\n",
    "x = \"Python is awesome\"\n",
    "print(x)\n",
    "```"
   ]
  },
  {
   "cell_type": "code",
   "execution_count": null,
   "id": "d6b1fc3c",
   "metadata": {},
   "outputs": [],
   "source": [
    "x = \"Python is awesome\"\n",
    "print(x)"
   ]
  },
  {
   "cell_type": "markdown",
   "id": "433607fb",
   "metadata": {},
   "source": [
    "In the print() function, you output multiple variables, separated by a comma:\n",
    "\n",
    "Example\n",
    "```Python\n",
    "x = \"Python\"\n",
    "y = \"is\"\n",
    "z = \"awesome\"\n",
    "print(x, y, z)\n",
    "```"
   ]
  },
  {
   "cell_type": "code",
   "execution_count": null,
   "id": "6a6bb992",
   "metadata": {},
   "outputs": [],
   "source": [
    "x = \"Python\"\n",
    "y = \"is\"\n",
    "z = \"awesome\"\n",
    "print(x, y, z)"
   ]
  },
  {
   "cell_type": "markdown",
   "id": "c41416e8",
   "metadata": {},
   "source": [
    "You can also use the + operator to output multiple variables:\n",
    "\n",
    "Example\n",
    "```Python\n",
    "x = \"Python \"\n",
    "y = \"is \"\n",
    "z = \"awesome\"\n",
    "print(x + y + z)\n",
    "```\n",
    "\n",
    "* Notice the space character after \"Python \" and \"is \", without them the result would be \"Pythonisawesome\"."
   ]
  },
  {
   "cell_type": "code",
   "execution_count": null,
   "id": "62b6c4ad",
   "metadata": {},
   "outputs": [],
   "source": [
    "x = \"Python \"\n",
    "y = \"is \"\n",
    "z = \"awesome\"\n",
    "print(x + y + z)"
   ]
  },
  {
   "cell_type": "markdown",
   "id": "4f212cfa",
   "metadata": {},
   "source": [
    "For numbers, the + character works as a mathematical operator:\n",
    "\n",
    "Example\n",
    "```Python\n",
    "x = 5\n",
    "y = 10\n",
    "print(x + y)\n",
    "```"
   ]
  },
  {
   "cell_type": "code",
   "execution_count": null,
   "id": "6a56168e",
   "metadata": {},
   "outputs": [],
   "source": [
    "x = 5\n",
    "y = 10\n",
    "print(x + y)"
   ]
  },
  {
   "cell_type": "markdown",
   "id": "dcee0160",
   "metadata": {},
   "source": [
    "In the print() function, when you try to combine a string and a number with the + operator, Python will give you an error:\n",
    "\n",
    "Example\n",
    "```Python\n",
    "x = 5\n",
    "y = \"John\"\n",
    "print(x + y)\n",
    "```"
   ]
  },
  {
   "cell_type": "code",
   "execution_count": null,
   "id": "287033e2",
   "metadata": {},
   "outputs": [],
   "source": [
    "x = 5\n",
    "y = \"John\"\n",
    "print(x + y)"
   ]
  },
  {
   "cell_type": "markdown",
   "id": "860ae03b",
   "metadata": {},
   "source": [
    "The best way to output multiple variables in the print() function is to separate them with commas, which even support different data types:\n",
    "\n",
    "Example\n",
    "```Python\n",
    "x = 5\n",
    "y = \"John\"\n",
    "print(x, y)\n",
    "```"
   ]
  },
  {
   "cell_type": "code",
   "execution_count": null,
   "id": "ce57ea47",
   "metadata": {},
   "outputs": [],
   "source": [
    "x = 5\n",
    "y = \"John\"\n",
    "print(x, y)"
   ]
  },
  {
   "cell_type": "markdown",
   "id": "a929c1c4",
   "metadata": {},
   "source": [
    "#### Python - Global Variables"
   ]
  },
  {
   "cell_type": "markdown",
   "id": "b644c20e",
   "metadata": {},
   "source": [
    "**Global Variables**\n",
    "\n",
    "Variables that are created outside of a function (as in all of the examples above) are known as global variables.\n",
    "\n",
    "Global variables can be used by everyone, both inside of functions and outside.\n",
    "\n",
    "**Example**\n",
    "\n",
    "Create a variable outside of a function, and use it inside the function\n",
    "\n",
    "```Python\n",
    "x = \"awesome\"\n",
    "\n",
    "def myfunc():\n",
    "    print(\"Python is \" + x)\n",
    "\n",
    "myfunc()\n",
    "```\n",
    "\n",
    "If you create a variable with the same name inside a function, this variable will be local, and can only be used inside the function. The global variable with the same name will remain as it was, global and with the original value."
   ]
  },
  {
   "cell_type": "code",
   "execution_count": null,
   "id": "b4b1c8b4",
   "metadata": {},
   "outputs": [],
   "source": [
    "x = \"awesome\"\n",
    "\n",
    "def myfunc():\n",
    "    print(\"Python is \" + x)\n",
    "\n",
    "myfunc()"
   ]
  },
  {
   "cell_type": "markdown",
   "id": "04dce2ce",
   "metadata": {},
   "source": [
    "**Example**\n",
    "\n",
    "Create a variable inside a function, with the same name as the global variable\n",
    "\n",
    "```Python\n",
    "x = \"awesome\"\n",
    "\n",
    "def myfunc():\n",
    "    x = \"fantastic\"\n",
    "    print(\"Python is \" + x)\n",
    "\n",
    "myfunc()\n",
    "\n",
    "print(\"Python is \" + x)\n",
    "```"
   ]
  },
  {
   "cell_type": "code",
   "execution_count": null,
   "id": "d29b05e8",
   "metadata": {},
   "outputs": [],
   "source": [
    "x = \"awesome\"\n",
    "\n",
    "def myfunc():\n",
    "    x = \"fantastic\"\n",
    "    print(\"Python is \" + x)\n",
    "\n",
    "myfunc()\n",
    "\n",
    "print(\"Python is \" + x)"
   ]
  },
  {
   "cell_type": "markdown",
   "id": "150e0294",
   "metadata": {},
   "source": [
    "**The global Keyword**\n",
    "\n",
    "Normally, when you create a variable inside a function, that variable is local, and can only be used inside that function.\n",
    "\n",
    "To create a global variable inside a function, you can use the global keyword.\n",
    "\n",
    "**Example**\n",
    "\n",
    "If you use the global keyword, the variable belongs to the global scope:\n",
    "\n",
    "```Python\n",
    "def myfunc():\n",
    "    global x\n",
    "    x = \"fantastic\"\n",
    "\n",
    "myfunc()\n",
    "\n",
    "print(\"Python is \" + x)\n",
    "```\n",
    "\n",
    "* Also, use the global keyword if you want to change a global variable inside a function."
   ]
  },
  {
   "cell_type": "code",
   "execution_count": null,
   "id": "10f85950",
   "metadata": {},
   "outputs": [],
   "source": [
    "def myfunc():\n",
    "    global x\n",
    "    x = \"fantastic\"\n",
    "\n",
    "myfunc()\n",
    "\n",
    "print(\"Python is \" + x)"
   ]
  },
  {
   "cell_type": "markdown",
   "id": "ea23bef7",
   "metadata": {},
   "source": [
    "To change the value of a global variable inside a function, refer to the variable by using the global keyword:\n",
    "\n",
    "```Python\n",
    "x = \"awesome\"\n",
    "\n",
    "def myfunc():\n",
    "    global x\n",
    "    x = \"fantastic\"\n",
    "\n",
    "myfunc()\n",
    "\n",
    "print(\"Python is \" + x)\n",
    "```"
   ]
  },
  {
   "cell_type": "code",
   "execution_count": null,
   "id": "abdd83de",
   "metadata": {},
   "outputs": [],
   "source": [
    "x = \"awesome\"\n",
    "\n",
    "def myfunc():\n",
    "    global x\n",
    "    x = \"fantastic\"\n",
    "\n",
    "myfunc()\n",
    "\n",
    "print(\"Python is \" + x)"
   ]
  },
  {
   "cell_type": "markdown",
   "id": "b11cd7af",
   "metadata": {},
   "source": [
    "### 4. Python Data Types"
   ]
  },
  {
   "cell_type": "markdown",
   "id": "867c8dcf",
   "metadata": {},
   "source": [
    "**Built-in Data Types**\n",
    "\n",
    "In programming, data type is an important concept.\n",
    "\n",
    "Variables can store data of different types, and different types can do different things.\n",
    "\n",
    "Python has the following data types built-in by default, in these categories:\n",
    "\n",
    "|Python Data Types|type()|\n",
    "|:--------------------|:---------------|\n",
    "|Text Type:|str|\n",
    "|Numeric Types:|int, float, complex|\n",
    "|Sequence Types:|list, tuple, range|\n",
    "|Mapping Type:|dict|\n",
    "|Set Types:|set, frozenset|\n",
    "|Boolean Type:|bool|\n",
    "|Binary Types:|bytes, bytearray, memoryview|\n",
    "|None Type:|NoneType|"
   ]
  },
  {
   "cell_type": "markdown",
   "id": "8b2dc15a",
   "metadata": {},
   "source": [
    "**Getting the Data Type**\n",
    "\n",
    "You can get the data type of any object by using the type() function:\n",
    "\n",
    "**Example**\n",
    "\n",
    "Print the data type of the variable x:\n",
    "\n",
    "```Python\n",
    "x = 5\n",
    "print(type(x))\n",
    "```"
   ]
  },
  {
   "cell_type": "code",
   "execution_count": null,
   "id": "bc90d37e",
   "metadata": {},
   "outputs": [],
   "source": [
    "x = 5\n",
    "print(type(x))"
   ]
  },
  {
   "cell_type": "markdown",
   "id": "d8ba53fc",
   "metadata": {},
   "source": [
    "**Characters You Can Escape**\n",
    "\n",
    "You can use a backslash to escape the following characters.\n",
    "\n",
    "**Setting the Data Type**\n",
    "\n",
    "In Python, the data type is set when you assign a value to a variable:\n",
    "\n",
    "|Example|Data Type|\n",
    "|:-----------------------------------------------------|:----------------|\n",
    "|x = \"Hello World\"|str|\t\n",
    "|x = 20|int|\t\n",
    "|x = 20.5|float|\t\n",
    "|x = 1j|complex|\t\n",
    "|x = [\"apple\", \"banana\", \"cherry\"]|list|\t\n",
    "|x = (\"apple\", \"banana\", \"cherry\")|tuple|\t\n",
    "|x = range(6)|range|\t\n",
    "|x = {\"name\" : \"John\", \"age\" : 36}|dict|\t\n",
    "|x = {\"apple\", \"banana\", \"cherry\"}|set|\t\n",
    "|x = frozenset({\"apple\", \"banana\", \"cherry\"})|frozenset|\t\n",
    "|x = True|bool|\t\n",
    "|x = b\"Hello\"|bytes|\t\n",
    "|x = bytearray(5)|bytearray|\t\n",
    "|x = memoryview(bytes(5))|memoryview|\t\n",
    "|x = None|NoneType|\t\n"
   ]
  },
  {
   "cell_type": "code",
   "execution_count": null,
   "id": "6aaf2343",
   "metadata": {},
   "outputs": [],
   "source": [
    "# Data Type Practice 1\n",
    "\n",
    "x = \"Hello World\"\n",
    "\n",
    "#display x:\n",
    "print(x)\n",
    "\n",
    "#display the data type of x:\n",
    "print(type(x)) "
   ]
  },
  {
   "cell_type": "code",
   "execution_count": null,
   "id": "a3e9ab91",
   "metadata": {},
   "outputs": [],
   "source": [
    "# Data Type Practice 2\n",
    "\n",
    "x = 20\n",
    "\n",
    "#display x:\n",
    "print(x)\n",
    "\n",
    "#display the data type of x:\n",
    "print(type(x)) "
   ]
  },
  {
   "cell_type": "code",
   "execution_count": null,
   "id": "d1158eb4",
   "metadata": {},
   "outputs": [],
   "source": [
    "# Data Type Practice 3\n",
    "\n",
    "x = 20.5\n",
    "\n",
    "#display x:\n",
    "print(x)\n",
    "\n",
    "#display the data type of x:\n",
    "print(type(x)) "
   ]
  },
  {
   "cell_type": "code",
   "execution_count": null,
   "id": "722fe780",
   "metadata": {},
   "outputs": [],
   "source": [
    "# Data Type Practice 4\n",
    "\n",
    "x = 1j\n",
    "\n",
    "#display x:\n",
    "print(x)\n",
    "\n",
    "#display the data type of x:\n",
    "print(type(x)) "
   ]
  },
  {
   "cell_type": "code",
   "execution_count": null,
   "id": "711c80d6",
   "metadata": {},
   "outputs": [],
   "source": [
    "# Data Type Practice 5\n",
    "\n",
    "x = [\"apple\", \"banana\", \"cherry\"]\n",
    "\n",
    "#display x:\n",
    "print(x)\n",
    "\n",
    "#display the data type of x:\n",
    "print(type(x)) "
   ]
  },
  {
   "cell_type": "code",
   "execution_count": null,
   "id": "5c92ad6d",
   "metadata": {},
   "outputs": [],
   "source": [
    "# Data Type Practice 6\n",
    "\n",
    "x = (\"apple\", \"banana\", \"cherry\")\n",
    "\n",
    "#display x:\n",
    "print(x)\n",
    "\n",
    "#display the data type of x:\n",
    "print(type(x)) "
   ]
  },
  {
   "cell_type": "code",
   "execution_count": null,
   "id": "35af8936",
   "metadata": {},
   "outputs": [],
   "source": [
    "# Data Type Practice 7\n",
    "\n",
    "x = range(6)\n",
    "\n",
    "#display x:\n",
    "print(x)\n",
    "\n",
    "#display the data type of x:\n",
    "print(type(x)) "
   ]
  },
  {
   "cell_type": "code",
   "execution_count": null,
   "id": "4842e7e9",
   "metadata": {},
   "outputs": [],
   "source": [
    "# Data Type Practice 8\n",
    "\n",
    "x = {\"name\" : \"John\", \"age\" : 36}\n",
    "\n",
    "#display x:\n",
    "print(x)\n",
    "\n",
    "#display the data type of x:\n",
    "print(type(x)) "
   ]
  },
  {
   "cell_type": "code",
   "execution_count": null,
   "id": "76544156",
   "metadata": {},
   "outputs": [],
   "source": [
    "# Data Type Practice 9\n",
    "\n",
    "x = {\"apple\", \"banana\", \"cherry\"}\n",
    "\n",
    "#display x:\n",
    "print(x)\n",
    "\n",
    "#display the data type of x:\n",
    "print(type(x)) "
   ]
  },
  {
   "cell_type": "code",
   "execution_count": null,
   "id": "96708be6",
   "metadata": {},
   "outputs": [],
   "source": [
    "# Data Type Practice 10\n",
    "\n",
    "x = frozenset({\"apple\", \"banana\", \"cherry\"})\n",
    "\n",
    "#display x:\n",
    "print(x)\n",
    "\n",
    "#display the data type of x:\n",
    "print(type(x)) "
   ]
  },
  {
   "cell_type": "code",
   "execution_count": null,
   "id": "dac23cb0",
   "metadata": {},
   "outputs": [],
   "source": [
    "# Data Type Practice 11\n",
    "\n",
    "x = True\n",
    "\n",
    "#display x:\n",
    "print(x)\n",
    "\n",
    "#display the data type of x:\n",
    "print(type(x)) "
   ]
  },
  {
   "cell_type": "code",
   "execution_count": null,
   "id": "876bdbd5",
   "metadata": {},
   "outputs": [],
   "source": [
    "# Data Type Practice 12\n",
    "\n",
    "x = b\"Hello\"\n",
    "\n",
    "#display x:\n",
    "print(x)\n",
    "\n",
    "#display the data type of x:\n",
    "print(type(x)) "
   ]
  },
  {
   "cell_type": "code",
   "execution_count": null,
   "id": "71903e86",
   "metadata": {},
   "outputs": [],
   "source": [
    "# Data Type Practice 13\n",
    "\n",
    "x = bytearray(5)\n",
    "\n",
    "#display x:\n",
    "print(x)\n",
    "\n",
    "#display the data type of x:\n",
    "print(type(x)) "
   ]
  },
  {
   "cell_type": "code",
   "execution_count": null,
   "id": "5b0d6536",
   "metadata": {},
   "outputs": [],
   "source": [
    "# Data Type Practice 14\n",
    "\n",
    "x = memoryview(bytes(5))\n",
    "\n",
    "#display x:\n",
    "print(x)\n",
    "\n",
    "#display the data type of x:\n",
    "print(type(x)) "
   ]
  },
  {
   "cell_type": "code",
   "execution_count": null,
   "id": "825d4175",
   "metadata": {},
   "outputs": [],
   "source": [
    "# Data Type Practice 15\n",
    "\n",
    "x = None\n",
    "\n",
    "#display x:\n",
    "print(x)\n",
    "\n",
    "#display the data type of x:\n",
    "print(type(x)) "
   ]
  },
  {
   "cell_type": "markdown",
   "id": "6d137382",
   "metadata": {},
   "source": [
    "**Setting the Specific Data Type**\n",
    "\n",
    "If you want to specify the data type, you can use the following constructor functions:\n",
    "\n",
    "|Example|Data Type|\n",
    "|:--------------------------------------------------|:---------------------|\n",
    "|x = str(\"Hello World\")|str|\t\n",
    "|x = int(20)|int|\t\n",
    "|x = float(20.5)|float|\t\n",
    "|x = complex(1j)|complex|\t\n",
    "|x = list((\"apple\", \"banana\", \"cherry\"))|list|\t\n",
    "|x = tuple((\"apple\", \"banana\", \"cherry\"))|tuple|\t\n",
    "|x = range(6)|range|\t\n",
    "|x = dict(name=\"John\", age=36)|dict|\t\n",
    "|x = set((\"apple\", \"banana\", \"cherry\"))|set|\t\n",
    "|x = frozenset((\"apple\", \"banana\", \"cherry\"))|frozenset|\t\n",
    "|x = bool(5)|bool|\t\n",
    "|x = bytes(5)|bytes|\t\n",
    "|x = bytearray(5)|bytearray|\t\n",
    "|x = memoryview(bytes(5))|memoryview|\t"
   ]
  },
  {
   "cell_type": "code",
   "execution_count": null,
   "id": "fbeecbb2",
   "metadata": {},
   "outputs": [],
   "source": [
    "# Setting Specific Data Type Practice 1\n",
    "\n",
    "x = str(\"Hello World\")\n",
    "\n",
    "#display x:\n",
    "print(x)\n",
    "\n",
    "#display the data type of x:\n",
    "print(type(x)) "
   ]
  },
  {
   "cell_type": "code",
   "execution_count": null,
   "id": "c892ace9",
   "metadata": {},
   "outputs": [],
   "source": [
    "# Setting Specific Data Type Practice 2\n",
    "\n",
    "x = int(20)\n",
    "\n",
    "#display x:\n",
    "print(x)\n",
    "\n",
    "#display the data type of x:\n",
    "print(type(x)) "
   ]
  },
  {
   "cell_type": "code",
   "execution_count": null,
   "id": "852bd2f3",
   "metadata": {},
   "outputs": [],
   "source": [
    "# Setting Specific Data Type Practice 3\n",
    "\n",
    "x = float(20.5)\n",
    "\n",
    "#display x:\n",
    "print(x)\n",
    "\n",
    "#display the data type of x:\n",
    "print(type(x)) "
   ]
  },
  {
   "cell_type": "code",
   "execution_count": null,
   "id": "df51efc5",
   "metadata": {},
   "outputs": [],
   "source": [
    "# Setting Specific Data Type Practice 4\n",
    "\n",
    "x = complex(1j)\n",
    "\n",
    "#display x:\n",
    "print(x)\n",
    "\n",
    "#display the data type of x:\n",
    "print(type(x)) "
   ]
  },
  {
   "cell_type": "code",
   "execution_count": null,
   "id": "0f556af4",
   "metadata": {},
   "outputs": [],
   "source": [
    "# Setting Specific Data Type Practice 5\n",
    "\n",
    "x = list((\"apple\", \"banana\", \"cherry\"))\n",
    "\n",
    "#display x:\n",
    "print(x)\n",
    "\n",
    "#display the data type of x:\n",
    "print(type(x)) "
   ]
  },
  {
   "cell_type": "code",
   "execution_count": null,
   "id": "22e5aa36",
   "metadata": {},
   "outputs": [],
   "source": [
    "# Setting Specific Data Type Practice 6\n",
    "\n",
    "x = tuple((\"apple\", \"banana\", \"cherry\"))\n",
    "\n",
    "#display x:\n",
    "print(x)\n",
    "\n",
    "#display the data type of x:\n",
    "print(type(x)) "
   ]
  },
  {
   "cell_type": "code",
   "execution_count": null,
   "id": "8ea4a6a7",
   "metadata": {},
   "outputs": [],
   "source": [
    "# Setting Specific Data Type Practice 7\n",
    "\n",
    "x = range(6)\n",
    "\n",
    "#display x:\n",
    "print(x)\n",
    "\n",
    "#display the data type of x:\n",
    "print(type(x)) "
   ]
  },
  {
   "cell_type": "code",
   "execution_count": null,
   "id": "282e2517",
   "metadata": {},
   "outputs": [],
   "source": [
    "# Setting Specific Data Type Practice 8\n",
    "\n",
    "x = dict(name=\"John\", age=36)\n",
    "\n",
    "#display x:\n",
    "print(x)\n",
    "\n",
    "#display the data type of x:\n",
    "print(type(x)) "
   ]
  },
  {
   "cell_type": "code",
   "execution_count": null,
   "id": "4eb17785",
   "metadata": {},
   "outputs": [],
   "source": [
    "# Setting Specific Data Type Practice 9\n",
    "\n",
    "x = set((\"apple\", \"banana\", \"cherry\"))\n",
    "\n",
    "#display x:\n",
    "print(x)\n",
    "\n",
    "#display the data type of x:\n",
    "print(type(x)) "
   ]
  },
  {
   "cell_type": "code",
   "execution_count": null,
   "id": "e0caf2a8",
   "metadata": {},
   "outputs": [],
   "source": [
    "# Setting Specific Data Type Practice 10\n",
    "\n",
    "x = frozenset((\"apple\", \"banana\", \"cherry\"))\n",
    "\n",
    "#display x:\n",
    "print(x)\n",
    "\n",
    "#display the data type of x:\n",
    "print(type(x)) "
   ]
  },
  {
   "cell_type": "code",
   "execution_count": null,
   "id": "6a7e8ae2",
   "metadata": {},
   "outputs": [],
   "source": [
    "# Setting Specific Data Type Practice 11\n",
    "\n",
    "x = bool(5)\n",
    "\n",
    "#display x:\n",
    "print(x)\n",
    "\n",
    "#display the data type of x:\n",
    "print(type(x)) "
   ]
  },
  {
   "cell_type": "code",
   "execution_count": null,
   "id": "d251e06b",
   "metadata": {},
   "outputs": [],
   "source": [
    "# Setting Specific Data Type Practice 12\n",
    "\n",
    "x = bytes(5)\n",
    "\n",
    "#display x:\n",
    "print(x)\n",
    "\n",
    "#display the data type of x:\n",
    "print(type(x)) "
   ]
  },
  {
   "cell_type": "code",
   "execution_count": null,
   "id": "8072ed1d",
   "metadata": {},
   "outputs": [],
   "source": [
    "# Setting Specific Data Type Practice 13\n",
    "\n",
    "x = bytearray(5)\n",
    "\n",
    "#display x:\n",
    "print(x)\n",
    "\n",
    "#display the data type of x:\n",
    "print(type(x)) "
   ]
  },
  {
   "cell_type": "code",
   "execution_count": null,
   "id": "5da2994a",
   "metadata": {},
   "outputs": [],
   "source": [
    "# Setting Specific Data Type Practice 13\n",
    "\n",
    "x = memoryview(bytes(5))\n",
    "\n",
    "#display x:\n",
    "print(x)\n",
    "\n",
    "#display the data type of x:\n",
    "print(type(x)) "
   ]
  },
  {
   "cell_type": "markdown",
   "id": "bfd0277f",
   "metadata": {},
   "source": [
    "### 5. Python Numbers"
   ]
  },
  {
   "cell_type": "markdown",
   "id": "e0936e8d",
   "metadata": {},
   "source": [
    "**Python Numbers**\n",
    "\n",
    "There are three numeric types in Python:\n",
    "\n",
    "* int\n",
    "* float\n",
    "* complex\n",
    "\n",
    "Variables of numeric types are created when you assign a value to them:\n",
    "\n",
    "Example\n",
    "```Python\n",
    "x = 1    # int\n",
    "y = 2.8  # float\n",
    "z = 1j   # complex\n",
    "```"
   ]
  },
  {
   "cell_type": "code",
   "execution_count": null,
   "id": "2c88686a",
   "metadata": {},
   "outputs": [],
   "source": [
    "x = 1    # int\n",
    "y = 2.8  # float\n",
    "z = 1j   # complex"
   ]
  },
  {
   "cell_type": "markdown",
   "id": "daf28278",
   "metadata": {},
   "source": [
    "To verify the type of any object in Python, use the type() function:\n",
    "\n",
    "Example\n",
    "```Python\n",
    "print(type(x))\n",
    "print(type(y))\n",
    "print(type(z))\n",
    "```"
   ]
  },
  {
   "cell_type": "code",
   "execution_count": null,
   "id": "7875461e",
   "metadata": {},
   "outputs": [],
   "source": [
    "print(type(x))\n",
    "print(type(y))\n",
    "print(type(z))"
   ]
  },
  {
   "cell_type": "markdown",
   "id": "f9d4d2fd",
   "metadata": {},
   "source": [
    "**Int**\n",
    "\n",
    "Int, or integer, is a whole number, positive or negative, without decimals, of unlimited length.\n",
    "\n",
    "**Example**<br/>\n",
    "\n",
    "Integers:\n",
    "\n",
    "```Python\n",
    "x = 1\n",
    "y = 35656222554887711\n",
    "z = -3255522\n",
    "\n",
    "print(type(x))\n",
    "print(type(y))\n",
    "print(type(z))\n",
    "```"
   ]
  },
  {
   "cell_type": "code",
   "execution_count": null,
   "id": "9762ab35",
   "metadata": {},
   "outputs": [],
   "source": [
    "x = 1\n",
    "y = 35656222554887711\n",
    "z = -3255522\n",
    "\n",
    "print(type(x))\n",
    "print(type(y))\n",
    "print(type(z))"
   ]
  },
  {
   "cell_type": "markdown",
   "id": "5fe0db5d",
   "metadata": {},
   "source": [
    "**Float**\n",
    "\n",
    "Float, or \"floating point number\" is a number, positive or negative, containing one or more decimals.\n",
    "\n",
    "**Example**\n",
    "\n",
    "Floats:\n",
    "\n",
    "```Python\n",
    "x = 1.10\n",
    "y = 1.0\n",
    "z = -35.59\n",
    "\n",
    "print(type(x))\n",
    "print(type(y))\n",
    "print(type(z))\n",
    "```"
   ]
  },
  {
   "cell_type": "code",
   "execution_count": null,
   "id": "6ac35afc",
   "metadata": {},
   "outputs": [],
   "source": [
    "x = 1.10\n",
    "y = 1.0\n",
    "z = -35.59\n",
    "\n",
    "print(type(x))\n",
    "print(type(y))\n",
    "print(type(z))"
   ]
  },
  {
   "cell_type": "markdown",
   "id": "c04a52f8",
   "metadata": {},
   "source": [
    "Float can also be scientific numbers with an \"e\" to indicate the power of 10.\n",
    "\n",
    "**Example**<br/>\n",
    "\n",
    "Floats:\n",
    "\n",
    "```Python\n",
    "x = 35e3\n",
    "y = 12E4\n",
    "z = -87.7e100\n",
    "\n",
    "print(type(x))\n",
    "print(type(y))\n",
    "print(type(z))\n",
    "```"
   ]
  },
  {
   "cell_type": "code",
   "execution_count": null,
   "id": "aa1e34ff",
   "metadata": {},
   "outputs": [],
   "source": [
    "x = 35e3\n",
    "y = 12E4\n",
    "z = -87.7e100\n",
    "\n",
    "print(type(x))\n",
    "print(type(y))\n",
    "print(type(z))"
   ]
  },
  {
   "cell_type": "markdown",
   "id": "9a555c11",
   "metadata": {},
   "source": [
    "**Complex**<br/>\n",
    "\n",
    "Complex numbers are written with a \"j\" as the imaginary part:\n",
    "\n",
    "**Example**<br/>\n",
    "\n",
    "Complex:\n",
    "\n",
    "```Python\n",
    "x = 3+5j\n",
    "y = 5j\n",
    "z = -5j\n",
    "\n",
    "print(type(x))\n",
    "print(type(y))\n",
    "print(type(z))\n",
    "```"
   ]
  },
  {
   "cell_type": "code",
   "execution_count": null,
   "id": "eeea842a",
   "metadata": {},
   "outputs": [],
   "source": [
    "x = 3+5j\n",
    "y = 5j\n",
    "z = -5j\n",
    "\n",
    "print(type(x))\n",
    "print(type(y))\n",
    "print(type(z))"
   ]
  },
  {
   "cell_type": "markdown",
   "id": "abaeacf2",
   "metadata": {},
   "source": [
    "**Type Conversion**<br/>\n",
    "\n",
    "You can convert from one type to another with the int(), float(), and complex() methods:\n",
    "\n",
    "**Example**<br/>\n",
    "\n",
    "Convert from one type to another:\n",
    "\n",
    "```Python\n",
    "x = 1    # int\n",
    "y = 2.8  # float\n",
    "z = 1j   # complex\n",
    "\n",
    "#convert from int to float:\n",
    "a = float(x)\n",
    "\n",
    "#convert from float to int:\n",
    "b = int(y)\n",
    "\n",
    "#convert from int to complex:\n",
    "c = complex(x)\n",
    "\n",
    "print(a)\n",
    "print(b)\n",
    "print(c)\n",
    "\n",
    "print(type(a))\n",
    "print(type(b))\n",
    "print(type(c))\n",
    "```\n",
    "\n",
    "* Note: You cannot convert complex numbers into another number type."
   ]
  },
  {
   "cell_type": "code",
   "execution_count": null,
   "id": "e9c001ea",
   "metadata": {},
   "outputs": [],
   "source": [
    "x = 1    # int\n",
    "y = 2.8  # float\n",
    "z = 1j   # complex\n",
    "\n",
    "#convert from int to float:\n",
    "a = float(x)\n",
    "\n",
    "#convert from float to int:\n",
    "b = int(y)\n",
    "\n",
    "#convert from int to complex:\n",
    "c = complex(x)\n",
    "\n",
    "print(a)\n",
    "print(b)\n",
    "print(c)\n",
    "\n",
    "print(type(a))\n",
    "print(type(b))\n",
    "print(type(c))"
   ]
  },
  {
   "cell_type": "markdown",
   "id": "2143d3cb",
   "metadata": {},
   "source": [
    "**Random Number**<br/>\n",
    "\n",
    "Python does not have a random() function to make a random number, but Python has a built-in module called random that can be used to make random numbers:\n",
    "\n",
    "**Example**<br/>\n",
    "\n",
    "```Python\n",
    "Import the random module, and display a random number between 1 and 9:\n",
    "\n",
    "import random\n",
    "\n",
    "print(random.randrange(1, 10))\n",
    "```"
   ]
  },
  {
   "cell_type": "code",
   "execution_count": null,
   "id": "075f23ca",
   "metadata": {},
   "outputs": [],
   "source": [
    "import random\n",
    "\n",
    "print(random.randrange(1, 10))"
   ]
  },
  {
   "cell_type": "markdown",
   "id": "4745052c",
   "metadata": {},
   "source": [
    "#### Python Casting"
   ]
  },
  {
   "cell_type": "markdown",
   "id": "216fce0b",
   "metadata": {},
   "source": [
    "**Specify a Variable Type**\n",
    "\n",
    "There may be times when you want to specify a type on to a variable. This can be done with casting. Python is an object-orientated language, and as such it uses classes to define data types, including its primitive types.\n",
    "\n",
    "Casting in python is therefore done using constructor functions:\n",
    "\n",
    "* **int()** - constructs an integer number from an integer literal, a float literal (by removing all decimals), or a string literal (providing the string represents a whole number)\n",
    "* **float()** - constructs a float number from an integer literal, a float literal or a string literal (providing the string represents a float or an integer)\n",
    "* **str()** - constructs a string from a wide variety of data types, including strings, integer literals and float literals\n",
    "\n",
    "**Example**\n",
    "\n",
    "Integers:\n",
    "\n",
    "```Python\n",
    "x = int(1)   # x will be 1\n",
    "y = int(2.8) # y will be 2\n",
    "z = int(\"3\") # z will be 3\n",
    "```"
   ]
  },
  {
   "cell_type": "code",
   "execution_count": null,
   "id": "62c77149",
   "metadata": {},
   "outputs": [],
   "source": [
    "x = int(1)   # x will be 1\n",
    "y = int(2.8) # y will be 2\n",
    "z = int(\"3\") # z will be 3"
   ]
  },
  {
   "cell_type": "markdown",
   "id": "bc75ff23",
   "metadata": {},
   "source": [
    "**Example**\n",
    "\n",
    "Floats:\n",
    "\n",
    "```Python\n",
    "x = float(1)     # x will be 1.0\n",
    "y = float(2.8)   # y will be 2.8\n",
    "z = float(\"3\")   # z will be 3.0\n",
    "w = float(\"4.2\") # w will be 4.2\n",
    "```"
   ]
  },
  {
   "cell_type": "code",
   "execution_count": null,
   "id": "95484899",
   "metadata": {},
   "outputs": [],
   "source": [
    "x = float(1)     # x will be 1.0\n",
    "y = float(2.8)   # y will be 2.8\n",
    "z = float(\"3\")   # z will be 3.0\n",
    "w = float(\"4.2\") # w will be 4.2"
   ]
  },
  {
   "cell_type": "markdown",
   "id": "af6a5e03",
   "metadata": {},
   "source": [
    "**Example**\n",
    "\n",
    "Strings:\n",
    "\n",
    "```Python\n",
    "x = str(\"s1\") # x will be 's1'\n",
    "y = str(2)    # y will be '2'\n",
    "z = str(3.0)  # z will be '3.0'\n",
    "```"
   ]
  },
  {
   "cell_type": "code",
   "execution_count": null,
   "id": "0dc5b974",
   "metadata": {},
   "outputs": [],
   "source": [
    "x = str(\"s1\") # x will be 's1'\n",
    "y = str(2)    # y will be '2'\n",
    "z = str(3.0)  # z will be '3.0'"
   ]
  },
  {
   "cell_type": "markdown",
   "id": "976cff26",
   "metadata": {},
   "source": [
    "### 6. Python Strings "
   ]
  },
  {
   "cell_type": "markdown",
   "id": "a2711f7f",
   "metadata": {},
   "source": [
    "**Strings**\n",
    "\n",
    "Strings in python are surrounded by either single quotation marks, or double quotation marks.\n",
    "\n",
    "**'hello'** is the same as **\"hello\"**.\n",
    "\n",
    "You can display a string literal with the **print()** function:\n",
    "\n",
    "**Example**\n",
    "```Python\n",
    "print(\"Hello\")\n",
    "print('Hello')\n",
    "```"
   ]
  },
  {
   "cell_type": "code",
   "execution_count": null,
   "id": "63a0620e",
   "metadata": {},
   "outputs": [],
   "source": [
    "print(\"Hello\")\n",
    "print('Hello')"
   ]
  },
  {
   "cell_type": "markdown",
   "id": "31249065",
   "metadata": {},
   "source": [
    "**Assign String to a Variable**\n",
    "\n",
    "Assigning a string to a variable is done with the variable name followed by an equal sign and the string:\n",
    "\n",
    "**Example**\n",
    "\n",
    "```Python\n",
    "a = \"Hello\"\n",
    "print(a)\n",
    "```"
   ]
  },
  {
   "cell_type": "code",
   "execution_count": null,
   "id": "2cbe5e3e",
   "metadata": {},
   "outputs": [],
   "source": [
    "a = \"Hello\"\n",
    "print(a)"
   ]
  },
  {
   "cell_type": "markdown",
   "id": "41559fe5",
   "metadata": {},
   "source": [
    "**Multiline Strings**<br/>\n",
    "\n",
    "You can assign a multiline string to a variable by using three quotes:\n",
    "\n",
    "**Example**<br/>\n",
    "\n",
    "You can use three double quotes:\n",
    "\n",
    "```Python\n",
    "a = \"\"\"Lorem ipsum dolor sit amet,\n",
    "consectetur adipiscing elit,\n",
    "sed do eiusmod tempor incididunt\n",
    "ut labore et dolore magna aliqua.\"\"\"\n",
    "print(a)\n",
    "```"
   ]
  },
  {
   "cell_type": "code",
   "execution_count": null,
   "id": "2a102868",
   "metadata": {},
   "outputs": [],
   "source": [
    "a = \"\"\"Lorem ipsum dolor sit amet,\n",
    "consectetur adipiscing elit,\n",
    "sed do eiusmod tempor incididunt\n",
    "ut labore et dolore magna aliqua.\"\"\"\n",
    "print(a)"
   ]
  },
  {
   "cell_type": "markdown",
   "id": "764d4cac",
   "metadata": {},
   "source": [
    "Or three single quotes:\n",
    "\n",
    "**Example**\n",
    "\n",
    "```Python\n",
    "a = '''Lorem ipsum dolor sit amet,\n",
    "consectetur adipiscing elit,\n",
    "sed do eiusmod tempor incididunt\n",
    "ut labore et dolore magna aliqua.'''\n",
    "print(a)\n",
    "```"
   ]
  },
  {
   "cell_type": "code",
   "execution_count": null,
   "id": "1b66087f",
   "metadata": {},
   "outputs": [],
   "source": [
    "a = '''Lorem ipsum dolor sit amet,\n",
    "consectetur adipiscing elit,\n",
    "sed do eiusmod tempor incididunt\n",
    "ut labore et dolore magna aliqua.'''\n",
    "print(a)"
   ]
  },
  {
   "cell_type": "markdown",
   "id": "1dfe32b9",
   "metadata": {},
   "source": [
    "**Strings are Arrays**\n",
    "\n",
    "Like many other popular programming languages, strings in Python are arrays of bytes representing unicode characters.\n",
    "\n",
    "However, Python does not have a character data type, a single character is simply a string with a length of 1.\n",
    "\n",
    "Square brackets can be used to access elements of the string.\n",
    "\n",
    "**Example**\n",
    "\n",
    "Get the character at position 1 (remember that the first character has the position 0):\n",
    "\n",
    "```Python\n",
    "a = \"Hello, World!\"\n",
    "print(a[1])\n",
    "```"
   ]
  },
  {
   "cell_type": "code",
   "execution_count": null,
   "id": "3dc1a329",
   "metadata": {},
   "outputs": [],
   "source": [
    "a = \"Hello, World!\"\n",
    "print(a[1])"
   ]
  },
  {
   "cell_type": "markdown",
   "id": "f154ed9a",
   "metadata": {},
   "source": [
    "**Looping Through a String**\n",
    "\n",
    "Since strings are arrays, we can loop through the characters in a string, with a for loop.\n",
    "\n",
    "**Example**\n",
    "\n",
    "Loop through the letters in the word \"banana\":\n",
    "\n",
    "```Python\n",
    "for x in \"banana\":\n",
    "    print(x)\n",
    "```"
   ]
  },
  {
   "cell_type": "code",
   "execution_count": null,
   "id": "3001f53b",
   "metadata": {},
   "outputs": [],
   "source": [
    "for x in \"banana\":\n",
    "    print(x)"
   ]
  },
  {
   "cell_type": "markdown",
   "id": "d978e040",
   "metadata": {},
   "source": [
    "**String Length**\n",
    "\n",
    "To get the length of a string, use the **len()** function.\n",
    "\n",
    "**Example**\n",
    "\n",
    "The **len()** function returns the length of a string:\n",
    "\n",
    "```Python\n",
    "a = \"Hello, World!\"\n",
    "print(len(a))\n",
    "```"
   ]
  },
  {
   "cell_type": "code",
   "execution_count": null,
   "id": "a19291da",
   "metadata": {},
   "outputs": [],
   "source": [
    "a = \"Hello, World!\"\n",
    "print(len(a))"
   ]
  },
  {
   "cell_type": "markdown",
   "id": "8d66e7ba",
   "metadata": {},
   "source": [
    "**Check String**\n",
    "\n",
    "To check if a certain phrase or character is present in a string, we can use the keyword in.\n",
    "\n",
    "**Example**\n",
    "\n",
    "Check if \"free\" is present in the following text:\n",
    "\n",
    "```Python\n",
    "txt = \"The best things in life are free!\"\n",
    "print(\"free\" in txt)\n",
    "```"
   ]
  },
  {
   "cell_type": "code",
   "execution_count": null,
   "id": "cd27a3a6",
   "metadata": {},
   "outputs": [],
   "source": [
    "txt = \"The best things in life are free!\"\n",
    "print(\"free\" in txt)"
   ]
  },
  {
   "cell_type": "markdown",
   "id": "6b531d0e",
   "metadata": {},
   "source": [
    "Use it in an if statement:\n",
    "\n",
    "**Example**\n",
    "\n",
    "Print only if \"free\" is present:\n",
    "\n",
    "```Python\n",
    "txt = \"The best things in life are free!\"\n",
    "if \"free\" in txt:\n",
    "    print(\"Yes, 'free' is present.\")\n",
    "```"
   ]
  },
  {
   "cell_type": "code",
   "execution_count": null,
   "id": "6f44ebdf",
   "metadata": {},
   "outputs": [],
   "source": [
    "txt = \"The best things in life are free!\"\n",
    "if \"free\" in txt:\n",
    "    print(\"Yes, 'free' is present.\")"
   ]
  },
  {
   "cell_type": "markdown",
   "id": "c767a2bb",
   "metadata": {},
   "source": [
    "**Check if NOT**\n",
    "\n",
    "To check if a certain phrase or character is NOT present in a string, we can use the keyword not in.\n",
    "\n",
    "**Example**\n",
    "\n",
    "Check if \"expensive\" is NOT present in the following text:\n",
    "\n",
    "```Python\n",
    "txt = \"The best things in life are free!\"\n",
    "print(\"expensive\" not in txt)\n",
    "```"
   ]
  },
  {
   "cell_type": "code",
   "execution_count": null,
   "id": "b70c550e",
   "metadata": {},
   "outputs": [],
   "source": [
    "txt = \"The best things in life are free!\"\n",
    "print(\"expensive\" not in txt)"
   ]
  },
  {
   "cell_type": "markdown",
   "id": "6682deb2",
   "metadata": {},
   "source": [
    "Use it in an if statement:\n",
    "\n",
    "**Example**\n",
    "\n",
    "print only if \"expensive\" is NOT present:\n",
    "\n",
    "```Python\n",
    "txt = \"The best things in life are free!\"\n",
    "if \"expensive\" not in txt:\n",
    "    print(\"No, 'expensive' is NOT present.\")\n",
    "```"
   ]
  },
  {
   "cell_type": "code",
   "execution_count": null,
   "id": "09970478",
   "metadata": {},
   "outputs": [],
   "source": [
    "txt = \"The best things in life are free!\"\n",
    "\n",
    "if \"expensive\" not in txt:\n",
    "    print(\"No, 'expensive' is NOT present.\")"
   ]
  },
  {
   "cell_type": "markdown",
   "id": "d5232170",
   "metadata": {},
   "source": [
    "#### Python - Slicing Strings"
   ]
  },
  {
   "cell_type": "markdown",
   "id": "db073339",
   "metadata": {},
   "source": [
    "**Slicing**\n",
    "\n",
    "You can return a range of characters by using the slice syntax.\n",
    "\n",
    "Specify the start index and the end index, separated by a colon, to return a part of the string.\n",
    "\n",
    "**Example**\n",
    "\n",
    "Get the characters from position 2 to position 5 (not included):\n",
    "\n",
    "```Python\n",
    "b = \"Hello, World!\"\n",
    "print(b[2:5])\n",
    "```\n",
    "\n",
    "* Note: The first character has index 0."
   ]
  },
  {
   "cell_type": "code",
   "execution_count": null,
   "id": "70d60df3",
   "metadata": {},
   "outputs": [],
   "source": [
    "b = \"Hello, World!\"\n",
    "print(b[2:5])"
   ]
  },
  {
   "cell_type": "markdown",
   "id": "5f0a90eb",
   "metadata": {},
   "source": [
    "**Slice From the Start**\n",
    "\n",
    "By leaving out the start index, the range will start at the first character:\n",
    "\n",
    "**Example**\n",
    "\n",
    "Get the characters from the start to position 5 (not included):\n",
    "\n",
    "```Python\n",
    "b = \"Hello, World!\"\n",
    "print(b[:5])\n",
    "```"
   ]
  },
  {
   "cell_type": "code",
   "execution_count": null,
   "id": "68eb358f",
   "metadata": {},
   "outputs": [],
   "source": [
    "b = \"Hello, World!\"\n",
    "print(b[:5])"
   ]
  },
  {
   "cell_type": "markdown",
   "id": "7c4ef622",
   "metadata": {},
   "source": [
    "**Slice To the End**\n",
    "\n",
    "By leaving out the end index, the range will go to the end:\n",
    "\n",
    "**Example**\n",
    "\n",
    "Get the characters from position 2, and all the way to the end:\n",
    "\n",
    "```Python\n",
    "b = \"Hello, World!\"\n",
    "print(b[2:])\n",
    "```"
   ]
  },
  {
   "cell_type": "code",
   "execution_count": null,
   "id": "7b27e63e",
   "metadata": {},
   "outputs": [],
   "source": [
    "b = \"Hello, World!\"\n",
    "print(b[2:])"
   ]
  },
  {
   "cell_type": "markdown",
   "id": "7d0dd40e",
   "metadata": {},
   "source": [
    "**Negative Indexing**\n",
    "\n",
    "Use negative indexes to start the slice from the end of the string:\n",
    "\n",
    "**Example**\n",
    "\n",
    "Get the characters:\n",
    "\n",
    "From: \"o\" in \"World!\" (position -5)\n",
    "\n",
    "To, but not included: \"d\" in \"World!\" (position -2):\n",
    "\n",
    "```Python\n",
    "b = \"Hello, World!\"\n",
    "print(b[-5:-2])\n",
    "```"
   ]
  },
  {
   "cell_type": "code",
   "execution_count": null,
   "id": "2f893806",
   "metadata": {},
   "outputs": [],
   "source": [
    "b = \"Hello, World!\"\n",
    "print(b[-5:-2])"
   ]
  },
  {
   "cell_type": "markdown",
   "id": "dfa3097c",
   "metadata": {},
   "source": [
    "#### Python - Modify Strings"
   ]
  },
  {
   "cell_type": "markdown",
   "id": "0fcf095f",
   "metadata": {},
   "source": [
    "**Upper Case**\n",
    "\n",
    "**Example**\n",
    "\n",
    "The **upper()** method returns the string in upper case:\n",
    "\n",
    "```Python\n",
    "a = \"Hello, World!\"\n",
    "print(a.upper())\n",
    "```"
   ]
  },
  {
   "cell_type": "code",
   "execution_count": null,
   "id": "2d9a2ead",
   "metadata": {},
   "outputs": [],
   "source": [
    "a = \"Hello, World!\"\n",
    "print(a.upper())"
   ]
  },
  {
   "cell_type": "markdown",
   "id": "2e4339fc",
   "metadata": {},
   "source": [
    "**Lower Case**\n",
    "\n",
    "**Example**\n",
    "\n",
    "The **lower()** method returns the string in lower case:\n",
    "\n",
    "```Python\n",
    "a = \"Hello, World!\"\n",
    "print(a.lower())\n",
    "```"
   ]
  },
  {
   "cell_type": "code",
   "execution_count": null,
   "id": "d8b88a72",
   "metadata": {},
   "outputs": [],
   "source": [
    "a = \"Hello, World!\"\n",
    "print(a.lower())"
   ]
  },
  {
   "cell_type": "markdown",
   "id": "09ae17ab",
   "metadata": {},
   "source": [
    "**Remove Whitespace**\n",
    "\n",
    "Whitespace is the space before and/or after the actual text, and very often you want to remove this space.\n",
    "\n",
    "**Example**\n",
    "\n",
    "The **strip()** method removes any whitespace from the beginning or the end:\n",
    "\n",
    "```Python\n",
    "a = \" Hello, World! \"\n",
    "print(a.strip()) # returns \"Hello, World!\"\n",
    "```"
   ]
  },
  {
   "cell_type": "code",
   "execution_count": null,
   "id": "8a4fe1db",
   "metadata": {},
   "outputs": [],
   "source": [
    "a = \" Hello, World! \"\n",
    "print(a.strip()) # returns \"Hello, World!\""
   ]
  },
  {
   "cell_type": "markdown",
   "id": "2047fd64",
   "metadata": {},
   "source": [
    "**Replace String**\n",
    "\n",
    "**Example**\n",
    "\n",
    "The **replace()** method replaces a string with another string:\n",
    "    \n",
    "```Python\n",
    "a = \"Hello, World!\"\n",
    "print(a.replace(\"H\", \"J\"))\n",
    "```"
   ]
  },
  {
   "cell_type": "code",
   "execution_count": null,
   "id": "5013f61b",
   "metadata": {},
   "outputs": [],
   "source": [
    "a = \"Hello, World!\"\n",
    "print(a.replace(\"H\", \"J\"))"
   ]
  },
  {
   "cell_type": "markdown",
   "id": "85eace37",
   "metadata": {},
   "source": [
    "**Split String**\n",
    "\n",
    "The **split()** method returns a list where the text between the specified separator becomes the list items.\n",
    "\n",
    "**Example**\n",
    "\n",
    "The **split()** method splits the string into substrings if it finds instances of the separator:\n",
    "    \n",
    "```Python\n",
    "a = \"Hello, World!\"\n",
    "print(a.split(\",\")) # returns ['Hello', ' World!']\n",
    "```"
   ]
  },
  {
   "cell_type": "code",
   "execution_count": null,
   "id": "b3400e48",
   "metadata": {},
   "outputs": [],
   "source": [
    "a = \"Hello, World!\"\n",
    "print(a.split(\",\")) # returns ['Hello', ' World!']"
   ]
  },
  {
   "cell_type": "markdown",
   "id": "3028266c",
   "metadata": {},
   "source": [
    "#### Python - String Concatenation\n"
   ]
  },
  {
   "cell_type": "markdown",
   "id": "604a8bdc",
   "metadata": {},
   "source": [
    "**String Concatenation**\n",
    "\n",
    "To concatenate, or combine, two strings you can use the + operator.\n",
    "\n",
    "**Example**\n",
    "\n",
    "Merge variable a with variable b into variable c:\n",
    "\n",
    "```Python\n",
    "a = \"Hello\"\n",
    "b = \"World\"\n",
    "c = a + b\n",
    "print(c)\n",
    "```"
   ]
  },
  {
   "cell_type": "code",
   "execution_count": null,
   "id": "2841ac92",
   "metadata": {},
   "outputs": [],
   "source": [
    "a = \"Hello\"\n",
    "b = \"World\"\n",
    "c = a + b\n",
    "print(c)"
   ]
  },
  {
   "cell_type": "markdown",
   "id": "1d17b75d",
   "metadata": {},
   "source": [
    "To add a space between them, add a \" \":\n",
    "\n",
    "```Python\n",
    "a = \"Hello\"\n",
    "b = \"World\"\n",
    "c = a + \" \" + b\n",
    "print(c)\n",
    "```"
   ]
  },
  {
   "cell_type": "code",
   "execution_count": null,
   "id": "5c7886bf",
   "metadata": {},
   "outputs": [],
   "source": [
    "a = \"Hello\"\n",
    "b = \"World\"\n",
    "c = a + \" \" + b\n",
    "print(c)"
   ]
  },
  {
   "cell_type": "markdown",
   "id": "903a59ad",
   "metadata": {},
   "source": [
    "#### String Format"
   ]
  },
  {
   "cell_type": "markdown",
   "id": "668bb486",
   "metadata": {},
   "source": [
    "**String Format**\n",
    "\n",
    "As we learned in the Python Variables chapter, we cannot combine strings and numbers like this:\n",
    "\n",
    "**Example**\n",
    "\n",
    "```Python\n",
    "age = 36\n",
    "txt = \"My name is John, I am \" + age\n",
    "print(txt)\n",
    "```"
   ]
  },
  {
   "cell_type": "markdown",
   "id": "846d9916",
   "metadata": {},
   "source": [
    "But we can combine strings and numbers by using the **format()** method!\n",
    "\n",
    "The **format()** method takes the passed arguments, formats them, and places them in the string where the placeholders {} are:\n",
    "\n",
    "**Example**\n",
    "\n",
    "Use the **format()** method to insert numbers into strings:\n",
    "\n",
    "```Python\n",
    "age = 36\n",
    "txt = \"My name is John, and I am {}\"\n",
    "print(txt.format(age))\n",
    "```"
   ]
  },
  {
   "cell_type": "code",
   "execution_count": null,
   "id": "362fff3d",
   "metadata": {},
   "outputs": [],
   "source": [
    "age = 36\n",
    "txt = \"My name is John, and I am {}\"\n",
    "print(txt.format(age))"
   ]
  },
  {
   "cell_type": "markdown",
   "id": "6dfc3fd9",
   "metadata": {},
   "source": [
    "The **format()** method takes unlimited number of arguments, and are placed into the respective placeholders:\n",
    "\n",
    "**Example**\n",
    "\n",
    "```Python\n",
    "quantity = 3\n",
    "itemno = 567\n",
    "price = 49.95\n",
    "myorder = \"I want {} pieces of item {} for {} dollars.\"\n",
    "print(myorder.format(quantity, itemno, price))\n",
    "```"
   ]
  },
  {
   "cell_type": "code",
   "execution_count": null,
   "id": "d419e2c0",
   "metadata": {},
   "outputs": [],
   "source": [
    "quantity = 3\n",
    "itemno = 567\n",
    "price = 49.95\n",
    "myorder = \"I want {} pieces of item {} for {} dollars.\"\n",
    "print(myorder.format(quantity, itemno, price))"
   ]
  },
  {
   "cell_type": "markdown",
   "id": "461c18d1",
   "metadata": {},
   "source": [
    "You can use index numbers **{0}** to be sure the arguments are placed in the correct placeholders:\n",
    "\n",
    "**Example**\n",
    "\n",
    "```Python\n",
    "quantity = 3\n",
    "itemno = 567\n",
    "price = 49.95\n",
    "myorder = \"I want to pay {2} dollars for {0} pieces of item {1}.\"\n",
    "print(myorder.format(quantity, itemno, price))\n",
    "```"
   ]
  },
  {
   "cell_type": "code",
   "execution_count": null,
   "id": "1e8e200d",
   "metadata": {},
   "outputs": [],
   "source": [
    "quantity = 3\n",
    "itemno = 567\n",
    "price = 49.95\n",
    "myorder = \"I want to pay {2} dollars for {0} pieces of item {1}.\"\n",
    "print(myorder.format(quantity, itemno, price))"
   ]
  },
  {
   "cell_type": "markdown",
   "id": "07234a96",
   "metadata": {},
   "source": [
    "#### Python - Escape Characters"
   ]
  },
  {
   "cell_type": "markdown",
   "id": "f0263c72",
   "metadata": {},
   "source": [
    "**Escape Character**\n",
    "\n",
    "To insert characters that are illegal in a string, use an escape character.\n",
    "\n",
    "An escape character is a backslash \\ followed by the character you want to insert.\n",
    "\n",
    "An example of an illegal character is a double quote inside a string that is surrounded by double quotes:\n",
    "\n",
    "**Example**\n",
    "\n",
    "You will get an error if you use double quotes inside a string that is surrounded by double quotes:\n",
    "\n",
    "> **```txt = \"We are the so-called \"Vikings\" from the north.\"```**\n",
    "\n",
    "To fix this problem, use the escape character \\\":\n",
    "\n",
    "**Example**\n",
    "\n",
    "The escape character allows you to use double quotes when you normally would not be allowed:\n",
    "\n",
    "> **```txt = \"We are the so-called \\\"Vikings\\\" from the north.\"```**"
   ]
  },
  {
   "cell_type": "code",
   "execution_count": null,
   "id": "3dcbd318",
   "metadata": {},
   "outputs": [],
   "source": [
    "txt = \"We are the so-called \"Vikings\" from the north.\""
   ]
  },
  {
   "cell_type": "code",
   "execution_count": null,
   "id": "36dd37b9",
   "metadata": {},
   "outputs": [],
   "source": [
    "txt = \"We are the so-called \\\"Vikings\\\" from the north.\""
   ]
  },
  {
   "cell_type": "markdown",
   "id": "123df548",
   "metadata": {},
   "source": [
    "**Escape Characters**\n",
    "Other escape characters used in Python:\n",
    "\n",
    "|Code|Result|\n",
    "|:---------------|:--------------------------------------|\n",
    "|\\'|Single Quote|\t\n",
    "|\\\\|Backslash|\t\n",
    "|\\n|New Line|\t\n",
    "|\\r|Carriage Return|\t\n",
    "|\\t|Tab|\t\n",
    "|\\b|Backspace|\t\n",
    "|\\f|Form Feed|\t\n",
    "|\\ooo|Octal value|\t\n",
    "|\\xhh|Hex value|"
   ]
  },
  {
   "cell_type": "code",
   "execution_count": null,
   "id": "1f43b1b5",
   "metadata": {},
   "outputs": [],
   "source": [
    "# Escape Character Practice 1 - Single Quote\n",
    "\n",
    "txt = 'It\\'s alright.'\n",
    "print(txt) "
   ]
  },
  {
   "cell_type": "code",
   "execution_count": null,
   "id": "281e0137",
   "metadata": {},
   "outputs": [],
   "source": [
    "# Escape Character Practice 2 - Single backslash\n",
    "\n",
    "txt = \"This will insert one \\\\ (backslash).\"\n",
    "print(txt) "
   ]
  },
  {
   "cell_type": "code",
   "execution_count": 7,
   "id": "d92b15b6",
   "metadata": {},
   "outputs": [
    {
     "name": "stdout",
     "output_type": "stream",
     "text": [
      "It's alright.\n"
     ]
    }
   ],
   "source": [
    "# Escape Character Practice 3 - Insert New Line\n",
    "\n",
    "txt = \"Hello\\nWorld!\"\n",
    "print(txt) "
   ]
  },
  {
   "cell_type": "code",
   "execution_count": null,
   "id": "02b5f570",
   "metadata": {},
   "outputs": [],
   "source": [
    "# Escape Character Practice 4 - Carriage Return\n",
    "\n",
    "txt = \"Hello\\rWorld!\"\n",
    "print(txt) "
   ]
  },
  {
   "cell_type": "code",
   "execution_count": null,
   "id": "7be38e66",
   "metadata": {},
   "outputs": [],
   "source": [
    "# Escape Character Practice 5 - Tab\n",
    "\n",
    "txt = \"Hello\\tWorld!\"\n",
    "print(txt) "
   ]
  },
  {
   "cell_type": "code",
   "execution_count": null,
   "id": "e8bc4773",
   "metadata": {},
   "outputs": [],
   "source": [
    "# Escape Character Practice 6 - BackSpace\n",
    "\n",
    "#This example erases one character (backspace):\n",
    "txt = \"Hello \\bWorld!\"\n",
    "print(txt) "
   ]
  },
  {
   "cell_type": "code",
   "execution_count": null,
   "id": "d48d315e",
   "metadata": {},
   "outputs": [],
   "source": [
    "# Escape Character Practice 7 - BackSpace\n",
    "\n",
    "#A backslash followed by three integers will result in a octal value:\n",
    "txt = \"\\110\\145\\154\\154\\157\"\n",
    "print(txt) "
   ]
  },
  {
   "cell_type": "code",
   "execution_count": null,
   "id": "91a27656",
   "metadata": {},
   "outputs": [],
   "source": [
    "# Escape Character Practice 8 - Form Feed\n",
    "\n",
    "x = 'hello\\fworld'\n",
    "print(x)"
   ]
  },
  {
   "cell_type": "code",
   "execution_count": null,
   "id": "378a03d5",
   "metadata": {},
   "outputs": [],
   "source": [
    "# Escape Character Practice 9 - Octal Value\n",
    "\n",
    "#A backslash followed by three integers will result in a octal value:\n",
    "txt = \"\\110\\145\\154\\154\\157\"\n",
    "print(txt) "
   ]
  },
  {
   "cell_type": "code",
   "execution_count": null,
   "id": "b8f11209",
   "metadata": {},
   "outputs": [],
   "source": [
    "# Escape Character Practice 10 - Hex Value\n",
    "\n",
    "#A backslash followed by an 'x' and a hex number represents a hex value:\n",
    "txt = \"\\x48\\x65\\x6c\\x6c\\x6f\"\n",
    "print(txt) "
   ]
  },
  {
   "cell_type": "markdown",
   "id": "ea62ea7e",
   "metadata": {},
   "source": [
    "#### Python - String Methods\n"
   ]
  },
  {
   "cell_type": "markdown",
   "id": "4225cb87",
   "metadata": {},
   "source": [
    "**String Methods**\n",
    "\n",
    "Python has a set of built-in methods that you can use on strings.\n",
    "\n",
    "* Note: All string methods returns new values. They do not change the original string.\n",
    "\n",
    "|Method|Description|\n",
    "|:-----------------|:-------------------------------------------------------------------------------------------------------|\n",
    "|capitalize()|Converts the first character to upper case|\n",
    "|casefold()|Converts string into lower case|\n",
    "|center()|Returns a centered string|\n",
    "|count()|Returns the number of times a specified value occurs in a string|\n",
    "|encode()|Returns an encoded version of the string|\n",
    "|endswith()|Returns true if the string ends with the specified value|\n",
    "|expandtabs()|Sets the tab size of the string|\n",
    "|find()|Searches the string for a specified value and returns the position of where it was found|\n",
    "|format()|Formats specified values in a string|\n",
    "|format_map()|Formats specified values in a string|\n",
    "|index()|Searches the string for a specified value and returns the position of where it was found|\n",
    "|isalnum()|Returns True if all characters in the string are alphanumeric|\n",
    "|isalpha()|Returns True if all characters in the string are in the alphabet|\n",
    "|isdecimal()|Returns True if all characters in the string are decimals|\n",
    "|isdigit()|Returns True if all characters in the string are digits|\n",
    "|isidentifier()|Returns True if the string is an identifier|\n",
    "|islower()|Returns True if all characters in the string are lower case|\n",
    "|isnumeric()|Returns True if all characters in the string are numeric|\n",
    "|isprintable()|Returns True if all characters in the string are printable|\n",
    "|isspace()|Returns True if all characters in the string are whitespaces|\n",
    "|istitle()|Returns True if the string follows the rules of a title|\n",
    "|isupper()|Returns True if all characters in the string are upper case|\n",
    "|join()|Joins the elements of an iterable to the end of the string|\n",
    "|ljust()|Returns a left justified version of the string|\n",
    "|lower()|Converts a string into lower case|\n",
    "|lstrip()|Returns a left trim version of the string|\n",
    "|maketrans()|Returns a translation table to be used in translations|\n",
    "|partition()|Returns a tuple where the string is parted into three parts|\n",
    "|replace()|Returns a string where a specified value is replaced with a specified value|\n",
    "|rfind()|Searches the string for a specified value and returns the last position of where it was found|\n",
    "|rindex()|Searches the string for a specified value and returns the last position of where it was found|\n",
    "|rjust()|Returns a right justified version of the string|\n",
    "|rpartition()|Returns a tuple where the string is parted into three parts|\n",
    "|rsplit()|Splits the string at the specified separator, and returns a list|\n",
    "|rstrip()|Returns a right trim version of the string|\n",
    "|split()|Splits the string at the specified separator, and returns a list|\n",
    "|splitlines()|Splits the string at line breaks and returns a list|\n",
    "|startswith()|Returns true if the string starts with the specified value|\n",
    "|strip()|Returns a trimmed version of the string|\n",
    "|swapcase()|Swaps cases, lower case becomes upper case and vice versa|\n",
    "|title()|Converts the first character of each word to upper case|\n",
    "|translate()|Returns a translated string|\n",
    "|upper()|Converts a string into upper case|\n",
    "|zfill()|Fills the string with a specified number of 0 values at the beginning|"
   ]
  },
  {
   "cell_type": "markdown",
   "id": "efa9080a",
   "metadata": {},
   "source": [
    "### 8. Python Booleans"
   ]
  },
  {
   "cell_type": "markdown",
   "id": "b87f3d38",
   "metadata": {},
   "source": [
    "Booleans represent one of two values: **True** or **False**.\n",
    "\n",
    "**Boolean Values**\n",
    "\n",
    "In programming you often need to know if an expression is **True** or **False**.\n",
    "\n",
    "You can evaluate any expression in Python, and get one of two answers, **True** or **False**.\n",
    "\n",
    "When you compare two values, the expression is evaluated and Python returns the Boolean answer:\n",
    "\n",
    "**Example**\n",
    "\n",
    "```Python\n",
    "print(10 > 9)\n",
    "print(10 == 9)\n",
    "print(10 < 9)\n",
    "```"
   ]
  },
  {
   "cell_type": "code",
   "execution_count": null,
   "id": "575d8ef6",
   "metadata": {},
   "outputs": [],
   "source": [
    "print(10 > 9)\n",
    "print(10 == 9)\n",
    "print(10 < 9)"
   ]
  },
  {
   "cell_type": "markdown",
   "id": "48d26dba",
   "metadata": {},
   "source": [
    "When you run a condition in an if statement, Python returns **True** or **False**:\n",
    "\n",
    "**Example**\n",
    "\n",
    "Print a message based on whether the condition is **True** or **False**:\n",
    "\n",
    "```Python    \n",
    "a = 200\n",
    "b = 33\n",
    "\n",
    "if b > a:\n",
    "    print(\"b is greater than a\")\n",
    "else:\n",
    "    print(\"b is not greater than a\")\n",
    "```"
   ]
  },
  {
   "cell_type": "code",
   "execution_count": null,
   "id": "de1d7d9a",
   "metadata": {},
   "outputs": [],
   "source": [
    "a = 200\n",
    "b = 33\n",
    "\n",
    "if b > a:\n",
    "    print(\"b is greater than a\")\n",
    "else:\n",
    "    print(\"b is not greater than a\")"
   ]
  },
  {
   "cell_type": "code",
   "execution_count": null,
   "id": "4b79195e",
   "metadata": {},
   "outputs": [],
   "source": [
    "**Evaluate Values and Variables**\n",
    "\n",
    "The **bool()** function allows you to evaluate any value, and give you **True** or **False** in return,\n",
    "\n",
    "**Example**\n",
    "\n",
    "Evaluate a string and a number:\n",
    "\n",
    "```Python\n",
    "print(bool(\"Hello\"))\n",
    "print(bool(15))\n",
    "```"
   ]
  },
  {
   "cell_type": "code",
   "execution_count": null,
   "id": "34d4d395",
   "metadata": {},
   "outputs": [],
   "source": [
    "print(bool(\"Hello\"))\n",
    "print(bool(15))"
   ]
  },
  {
   "cell_type": "markdown",
   "id": "6336f956",
   "metadata": {},
   "source": [
    "Evaluate two variables:\n",
    "\n",
    "```Python\n",
    "x = \"Hello\"\n",
    "y = 15\n",
    "\n",
    "print(bool(x))\n",
    "print(bool(y))\n",
    "```"
   ]
  },
  {
   "cell_type": "code",
   "execution_count": null,
   "id": "1789885f",
   "metadata": {},
   "outputs": [],
   "source": [
    "x = \"Hello\"\n",
    "y = 15\n",
    "\n",
    "print(bool(x))\n",
    "print(bool(y))"
   ]
  },
  {
   "cell_type": "markdown",
   "id": "e8fcc6b3",
   "metadata": {},
   "source": [
    "**Most Values are True**\n",
    "\n",
    "Almost any value is evaluated to **True** if it has some sort of content.\n",
    "\n",
    "**Any string is True, except empty strings.**\n",
    "\n",
    "**Any number is True, except 0.**\n",
    "\n",
    "**Any list, tuple, set, and dictionary are True, except empty ones.**\n",
    "\n",
    "**Example**\n",
    "\n",
    "The following will return True:\n",
    "\n",
    "```Python\n",
    "bool(\"abc\")\n",
    "bool(123)\n",
    "bool([\"apple\", \"cherry\", \"banana\"])\n",
    "```"
   ]
  },
  {
   "cell_type": "code",
   "execution_count": null,
   "id": "eb3dec2f",
   "metadata": {},
   "outputs": [],
   "source": [
    "bool(\"abc\")\n",
    "bool(123)\n",
    "bool([\"apple\", \"cherry\", \"banana\"])"
   ]
  },
  {
   "cell_type": "markdown",
   "id": "bca50c46",
   "metadata": {},
   "source": [
    "**Some Values are False**\n",
    "\n",
    "In fact, there are not many values that evaluate to **False**, except empty values, such as **(), [], {}, \"\"**, the number **0**, and the value **None**. And of course the value **False** evaluates to **False**.\n",
    "\n",
    "**Example**\n",
    "\n",
    "The following will return **False**:\n",
    "\n",
    "```Python\n",
    "bool(False)\n",
    "bool(None)\n",
    "bool(0)\n",
    "bool(\"\")\n",
    "bool(())\n",
    "bool([])\n",
    "bool({})\n",
    "```"
   ]
  },
  {
   "cell_type": "code",
   "execution_count": null,
   "id": "2648d830",
   "metadata": {},
   "outputs": [],
   "source": [
    "bool(False)\n",
    "bool(None)\n",
    "bool(0)\n",
    "bool(\"\")\n",
    "bool(())\n",
    "bool([])\n",
    "bool({})"
   ]
  },
  {
   "cell_type": "markdown",
   "id": "d748f156",
   "metadata": {},
   "source": [
    "One more value, or object in this case, evaluates to **False**, and that is if you have an object that is made from a class with a **__len__** function that returns **0** or **False**:\n",
    "\n",
    "**Example**\n",
    "\n",
    "```Python\n",
    "class myclass():\n",
    "    def __len__(self):\n",
    "        return 0\n",
    "\n",
    "myobj = myclass()\n",
    "print(bool(myobj))\n",
    "```"
   ]
  },
  {
   "cell_type": "code",
   "execution_count": null,
   "id": "919e5326",
   "metadata": {},
   "outputs": [],
   "source": [
    "class myclass():\n",
    "    def __len__(self):\n",
    "        return 0\n",
    "\n",
    "myobj = myclass()\n",
    "print(bool(myobj))"
   ]
  },
  {
   "cell_type": "markdown",
   "id": "f4e1fe3a",
   "metadata": {},
   "source": [
    "**Functions can Return a Boolean**\n",
    "\n",
    "You can create functions that returns a Boolean Value:\n",
    "\n",
    "**Example**\n",
    "\n",
    "Print the answer of a function:\n",
    "\n",
    "```Python\n",
    "def myFunction() :\n",
    "    return True\n",
    "\n",
    "print(myFunction())\n",
    "```"
   ]
  },
  {
   "cell_type": "code",
   "execution_count": null,
   "id": "a30b1718",
   "metadata": {},
   "outputs": [],
   "source": [
    "def myFunction() :\n",
    "    return True\n",
    "\n",
    "print(myFunction())"
   ]
  },
  {
   "cell_type": "markdown",
   "id": "01f92b67",
   "metadata": {},
   "source": [
    "You can execute code based on the Boolean answer of a function:\n",
    "\n",
    "**Example**\n",
    "\n",
    "Print \"YES!\" if the function returns True, otherwise print \"NO!\":\n",
    "\n",
    "```Python\n",
    "def myFunction() :\n",
    "    return True\n",
    "\n",
    "if myFunction():\n",
    "    print(\"YES!\")\n",
    "else:\n",
    "    print(\"NO!\")\n",
    "```"
   ]
  },
  {
   "cell_type": "code",
   "execution_count": null,
   "id": "e0404e40",
   "metadata": {},
   "outputs": [],
   "source": [
    "def myFunction() :\n",
    "    return True\n",
    "\n",
    "if myFunction():\n",
    "    print(\"YES!\")\n",
    "else:\n",
    "    print(\"NO!\")"
   ]
  },
  {
   "cell_type": "markdown",
   "id": "ea7e7d7e",
   "metadata": {},
   "source": [
    "Python also has many built-in functions that return a boolean value, like the **isinstance()** function, which can be used to determine if an object is of a certain data type:\n",
    "\n",
    "**Example**\n",
    "\n",
    "Check if an object is an integer or not:\n",
    "\n",
    "```Python\n",
    "x = 200\n",
    "print(isinstance(x, int))\n",
    "```"
   ]
  },
  {
   "cell_type": "code",
   "execution_count": null,
   "id": "8510f53a",
   "metadata": {},
   "outputs": [],
   "source": [
    "x = 200\n",
    "print(isinstance(x, int))"
   ]
  },
  {
   "cell_type": "markdown",
   "id": "bce70c7f",
   "metadata": {},
   "source": [
    "### 9. Python Operators"
   ]
  },
  {
   "cell_type": "markdown",
   "id": "bdce5596",
   "metadata": {},
   "source": [
    "**Python Operators**\n",
    "\n",
    "Operators are used to perform operations on variables and values.\n",
    "\n",
    "In the example below, we use the **+** operator to add together two values:\n",
    "\n",
    "**Example**\n",
    "\n",
    "```Python\n",
    "print(10 + 5)\n",
    "```"
   ]
  },
  {
   "cell_type": "code",
   "execution_count": null,
   "id": "7820684d",
   "metadata": {},
   "outputs": [],
   "source": [
    "print(10 + 5)"
   ]
  },
  {
   "cell_type": "markdown",
   "id": "315d6304",
   "metadata": {},
   "source": [
    "Python divides the operators in the following groups:\n",
    "\n",
    "+ Arithmetic operators\n",
    "+ Assignment operators\n",
    "+ Comparison operators\n",
    "+ Logical operators\n",
    "+ Identity operators\n",
    "+ Membership operators\n",
    "+ Bitwise operators"
   ]
  },
  {
   "cell_type": "markdown",
   "id": "d768e814",
   "metadata": {},
   "source": [
    "**Python Arithmetic Operators**\n",
    "\n",
    "Arithmetic operators are used with numeric values to perform common mathematical operations:\n",
    "\n",
    "|Operator|Name|Example|\n",
    "|:-------|:--------------------------|:--------------------------|\n",
    "|**+**|Addition|x + y|\t\n",
    "|**-**|Subtraction|x - y|\t\n",
    "|**\\***|Multiplication|x * y|\t\n",
    "|**/**|Division|x / y|\t\n",
    "|**%**|Modulus|x % y|\t\n",
    "|**\\*\\***|Exponentiation|x ** y|\t\n",
    "|**//**|Floor division|x // y|\t\n"
   ]
  },
  {
   "cell_type": "code",
   "execution_count": null,
   "id": "b8fbe77a",
   "metadata": {},
   "outputs": [],
   "source": [
    "# Arithmetic Operators practice 1 - Addition\n",
    "\n",
    "x = 5\n",
    "y = 3\n",
    "\n",
    "print(x + y)"
   ]
  },
  {
   "cell_type": "code",
   "execution_count": null,
   "id": "7cbeec4a",
   "metadata": {},
   "outputs": [],
   "source": [
    "# Arithmetic Operators practice 2 - Subtraction\n",
    "\n",
    "x = 5\n",
    "y = 3\n",
    "\n",
    "print(x - y)"
   ]
  },
  {
   "cell_type": "code",
   "execution_count": null,
   "id": "24bdd599",
   "metadata": {},
   "outputs": [],
   "source": [
    "# Arithmetic Operators practice 3 - Multiplication\n",
    "\n",
    "x = 5\n",
    "y = 3\n",
    "\n",
    "print(x * y)"
   ]
  },
  {
   "cell_type": "code",
   "execution_count": null,
   "id": "4eab16ca",
   "metadata": {},
   "outputs": [],
   "source": [
    "# Arithmetic Operators practice 4 - Division\n",
    "\n",
    "x = 12\n",
    "y = 3\n",
    "\n",
    "print(x / y)"
   ]
  },
  {
   "cell_type": "code",
   "execution_count": null,
   "id": "1ac5797e",
   "metadata": {},
   "outputs": [],
   "source": [
    "# Arithmetic Operators practice 5 - Modulus\n",
    "\n",
    "x = 5\n",
    "y = 2\n",
    "\n",
    "print(x % y)"
   ]
  },
  {
   "cell_type": "code",
   "execution_count": null,
   "id": "4620a942",
   "metadata": {},
   "outputs": [],
   "source": [
    "# Arithmetic Operators practice 6 - Exponentiation\n",
    "\n",
    "x = 2\n",
    "y = 5\n",
    "\n",
    "print(x ** y) #same as 2*2*2*2*2"
   ]
  },
  {
   "cell_type": "code",
   "execution_count": null,
   "id": "03485502",
   "metadata": {},
   "outputs": [],
   "source": [
    "# Arithmetic Operators practice 7 - Floor Division\n",
    "\n",
    "x = 15\n",
    "y = 2\n",
    "\n",
    "print(x // y)\n",
    "\n",
    "#the floor division // rounds the result down to the nearest whole number"
   ]
  },
  {
   "cell_type": "markdown",
   "id": "a59eb523",
   "metadata": {},
   "source": [
    "**Python Assignment Operators**\n",
    "\n",
    "Assignment operators are used to assign values to variables:\n",
    "\n",
    "|Operator|Example|Same As|\n",
    "|:-------|:--------------------------|:--------------------------|\n",
    "|**=**|x = 5|x = 5|\t\n",
    "|**+=**|x += 3|x = x + 3|\n",
    "|**-=**|x -= 3|x = x - 3|\n",
    "|***=**|x *= 3|x = x * 3|\n",
    "|**/=**|x /= 3|x = x / 3|\n",
    "|**%=**|x %= 3|x = x % 3|\n",
    "|**//=**|x //= 3|x = x // 3|\n",
    "|****=**|x **= 3|x = x ** 3|\n",
    "|**&=**|x &= 3|x = x & 3|\n",
    "|**\\|=**|x \\|= 3|x = x \\| 3|\n",
    "|**^=**|x ^= 3|x = x ^ 3|\n",
    "|**>>=**|x >>= 3|x = x >> 3|\n",
    "|**<<=**|x <<= 3|x = x << 3|\n"
   ]
  },
  {
   "cell_type": "code",
   "execution_count": null,
   "id": "72ccd47a",
   "metadata": {},
   "outputs": [],
   "source": [
    "# Assignment Operators practice 1\n",
    "\n",
    "x = 5\n",
    "\n",
    "print(x)"
   ]
  },
  {
   "cell_type": "code",
   "execution_count": null,
   "id": "d93b512e",
   "metadata": {},
   "outputs": [],
   "source": [
    "# Assignment Operators practice 2\n",
    "\n",
    "x = 5\n",
    "\n",
    "x += 3\n",
    "\n",
    "print(x)"
   ]
  },
  {
   "cell_type": "code",
   "execution_count": null,
   "id": "9cf64345",
   "metadata": {},
   "outputs": [],
   "source": [
    "# Assignment Operators practice 3\n",
    "\n",
    "x = 5\n",
    "\n",
    "x -= 3\n",
    "\n",
    "print(x)"
   ]
  },
  {
   "cell_type": "code",
   "execution_count": null,
   "id": "e1ca856d",
   "metadata": {},
   "outputs": [],
   "source": [
    "# Assignment Operators practice 4\n",
    "\n",
    "x = 5\n",
    "\n",
    "x *= 3\n",
    "\n",
    "print(x)"
   ]
  },
  {
   "cell_type": "code",
   "execution_count": null,
   "id": "5e23fe41",
   "metadata": {},
   "outputs": [],
   "source": [
    "# Assignment Operators practice 5\n",
    "\n",
    "x = 5\n",
    "\n",
    "x /= 3\n",
    "\n",
    "print(x)"
   ]
  },
  {
   "cell_type": "code",
   "execution_count": null,
   "id": "5336f9be",
   "metadata": {},
   "outputs": [],
   "source": [
    "# Assignment Operators practice 6\n",
    "\n",
    "x = 5\n",
    "\n",
    "x%=3\n",
    "\n",
    "print(x)"
   ]
  },
  {
   "cell_type": "code",
   "execution_count": null,
   "id": "d6d020b0",
   "metadata": {},
   "outputs": [],
   "source": [
    "# Assignment Operators practice 7\n",
    "\n",
    "x = 5\n",
    "\n",
    "x//=3\n",
    "\n",
    "print(x)"
   ]
  },
  {
   "cell_type": "code",
   "execution_count": null,
   "id": "e658388c",
   "metadata": {},
   "outputs": [],
   "source": [
    "# Assignment Operators practice 8\n",
    "\n",
    "x = 5\n",
    "\n",
    "x **= 3\n",
    "\n",
    "print(x)"
   ]
  },
  {
   "cell_type": "code",
   "execution_count": null,
   "id": "d1783c37",
   "metadata": {},
   "outputs": [],
   "source": [
    "# Assignment Operators practice 9\n",
    "\n",
    "x = 5\n",
    "\n",
    "x &= 3\n",
    "\n",
    "print(x)"
   ]
  },
  {
   "cell_type": "code",
   "execution_count": null,
   "id": "1a90d0e7",
   "metadata": {},
   "outputs": [],
   "source": [
    "# Assignment Operators practice 10\n",
    "\n",
    "x = 5\n",
    "\n",
    "x |= 3\n",
    "\n",
    "print(x)"
   ]
  },
  {
   "cell_type": "code",
   "execution_count": null,
   "id": "37f9b0f3",
   "metadata": {},
   "outputs": [],
   "source": [
    "# Assignment Operators practice 11\n",
    "\n",
    "x = 5\n",
    "\n",
    "x ^= 3\n",
    "\n",
    "print(x)"
   ]
  },
  {
   "cell_type": "code",
   "execution_count": null,
   "id": "c12725f6",
   "metadata": {},
   "outputs": [],
   "source": [
    "# Assignment Operators practice 12\n",
    "\n",
    "x = 5\n",
    "\n",
    "x >>= 3\n",
    "\n",
    "print(x)"
   ]
  },
  {
   "cell_type": "code",
   "execution_count": null,
   "id": "db6843e8",
   "metadata": {},
   "outputs": [],
   "source": [
    "# Assignment Operators practice 13\n",
    "\n",
    "x = 5\n",
    "\n",
    "x <<= 3\n",
    "\n",
    "print(x)"
   ]
  },
  {
   "cell_type": "markdown",
   "id": "8cd47d0b",
   "metadata": {},
   "source": [
    "**Python Comparison Operators**\n",
    "\n",
    "Comparison operators are used to compare two values:\n",
    "\n",
    "|Operator|Name|Example|\n",
    "|:-------|:--------------------------|:--------------------------|\n",
    "|**==**|Equal|x == y|\n",
    "|**!=**|Not equal|x != y|\n",
    "|**>**|Greater than|x > y|\n",
    "|**<**|Less than|x < y|\n",
    "|**>=**|Greater than or equal to|x >= y|\n",
    "|**<=**|Less than or equal to|x <= y|"
   ]
  },
  {
   "cell_type": "code",
   "execution_count": null,
   "id": "657ec858",
   "metadata": {},
   "outputs": [],
   "source": [
    "# Comparison Operators practice 1\n",
    "\n",
    "x = 5\n",
    "y = 3\n",
    "\n",
    "print(x == y)\n",
    "\n",
    "# returns False because 5 is not equal to 3"
   ]
  },
  {
   "cell_type": "code",
   "execution_count": null,
   "id": "19686250",
   "metadata": {},
   "outputs": [],
   "source": [
    "# Comparison Operators practice 2\n",
    "\n",
    "x = 5\n",
    "y = 3\n",
    "\n",
    "print(x != y)\n",
    "\n",
    "# returns True because 5 is not equal to 3"
   ]
  },
  {
   "cell_type": "code",
   "execution_count": null,
   "id": "20a4890d",
   "metadata": {},
   "outputs": [],
   "source": [
    "# Comparison Operators practice 3\n",
    "\n",
    "x = 5\n",
    "y = 3\n",
    "\n",
    "print(x > y)\n",
    "\n",
    "# returns True because 5 is greater than 3"
   ]
  },
  {
   "cell_type": "code",
   "execution_count": null,
   "id": "be07933f",
   "metadata": {},
   "outputs": [],
   "source": [
    "# Comparison Operators practice 4\n",
    "\n",
    "x = 5\n",
    "y = 3\n",
    "\n",
    "print(x < y)\n",
    "\n",
    "# returns False because 5 is not less than 3"
   ]
  },
  {
   "cell_type": "code",
   "execution_count": null,
   "id": "25f63d5e",
   "metadata": {},
   "outputs": [],
   "source": [
    "# Comparison Operators practice 5\n",
    "\n",
    "x = 5\n",
    "y = 3\n",
    "\n",
    "print(x >= y)\n",
    "\n",
    "# returns True because five is greater, or equal, to 3"
   ]
  },
  {
   "cell_type": "code",
   "execution_count": null,
   "id": "f115ed7c",
   "metadata": {},
   "outputs": [],
   "source": [
    "# Comparison Operators practice 6\n",
    "\n",
    "x = 5\n",
    "y = 3\n",
    "\n",
    "print(x <= y)\n",
    "\n",
    "# returns False because 5 is neither less than or equal to 3"
   ]
  },
  {
   "cell_type": "markdown",
   "id": "ab276979",
   "metadata": {},
   "source": [
    "**Python Logical Operators**\n",
    "\n",
    "Logical operators are used to combine conditional statements:\n",
    "\n",
    "|Operator|Description|Example|\n",
    "|:-------|:--------------------------|:--------------------------|\n",
    "|**and**|Returns True if both statements are true|x < 5 and  x < 10|\t\n",
    "|**or**|Returns True if one of the statements is true|x < 5 or x < 4|\t\n",
    "|**not**|Reverse the result, returns False if the result is true|not(x < 5 and x < 10)|\n",
    "\n",
    "\n",
    "\n"
   ]
  },
  {
   "cell_type": "code",
   "execution_count": null,
   "id": "b442a53b",
   "metadata": {},
   "outputs": [],
   "source": [
    "# Logical Operators practice 1\n",
    "\n",
    "x = 5\n",
    "\n",
    "print(x > 3 and x < 10)\n",
    "\n",
    "# returns True because 5 is greater than 3 AND 5 is less than 10"
   ]
  },
  {
   "cell_type": "code",
   "execution_count": 8,
   "id": "bba920e9",
   "metadata": {},
   "outputs": [],
   "source": [
    "# Logical Operators practice 2\n",
    "\n",
    "x = 5\n",
    "\n",
    "print(x > 3 or x < 4)\n",
    "\n",
    "# returns True because one of the conditions are true (5 is greater than 3, but 5 is not less than 4)"
   ]
  },
  {
   "cell_type": "code",
   "execution_count": null,
   "id": "62b9d151",
   "metadata": {},
   "outputs": [],
   "source": [
    "# Logical Operators practice 3\n",
    "\n",
    "x = 5\n",
    "\n",
    "print(not(x > 3 and x < 10))\n",
    "\n",
    "# returns False because not is used to reverse the result"
   ]
  },
  {
   "cell_type": "markdown",
   "id": "1c405b65",
   "metadata": {},
   "source": [
    "**Python Membership Operators**\n",
    "\n",
    "Membership operators are used to test if a sequence is presented in an object:\n",
    "\n",
    "|Operator|Description|Example|\n",
    "|:-------|:----------------------------------------------------------------------------------|:--------------------------|\n",
    "|**in**|Returns True if a sequence with the specified value is present in the object|x in y|\t\n",
    "|**not in**|Returns True if a sequence with the specified value is not present in the object|x not in y|"
   ]
  },
  {
   "cell_type": "code",
   "execution_count": null,
   "id": "b8f85853",
   "metadata": {},
   "outputs": [],
   "source": [
    "# Membership Operators practice # 1\n",
    "\n",
    "x = [\"apple\", \"banana\"]\n",
    "\n",
    "print(\"banana\" in x)\n",
    "\n",
    "# returns True because a sequence with the value \"banana\" is in the list"
   ]
  },
  {
   "cell_type": "code",
   "execution_count": null,
   "id": "9607fcb8",
   "metadata": {},
   "outputs": [],
   "source": [
    "# Membership Operators practice # 2\n",
    "\n",
    "x = [\"apple\", \"banana\"]\n",
    "\n",
    "print(\"pineapple\" not in x)\n",
    "\n",
    "# returns True because a sequence with the value \"pineapple\" is not in the list"
   ]
  },
  {
   "cell_type": "markdown",
   "id": "4bc736eb",
   "metadata": {},
   "source": [
    "**Python Identity Operators**\n",
    "\n",
    "Identity operators are used to compare the objects, not if they are equal, but if they are actually the same object, with the same memory location:\n",
    "\n",
    "|Operator|Description|Example|\n",
    "|---------|:--------------------------------------------------------------------|:-------------|\n",
    "|**is**|Returns True if both variables are the same object|x is y|\t\n",
    "|**is not**|Returns True if both variables are not the same object|x is not y|"
   ]
  },
  {
   "cell_type": "code",
   "execution_count": null,
   "id": "93c8de1d",
   "metadata": {},
   "outputs": [],
   "source": [
    "# Identity Operators practice 1\n",
    "\n",
    "x = [\"apple\", \"banana\"]\n",
    "y = [\"apple\", \"banana\"]\n",
    "z = x\n",
    "\n",
    "print(x is z)\n",
    "\n",
    "# returns True because z is the same object as x\n",
    "\n",
    "print(x is y)\n",
    "\n",
    "# returns False because x is not the same object as y, even if they have the same content\n",
    "\n",
    "print(x == y)\n",
    "\n",
    "# to demonstrate the difference betweeen \"is\" and \"==\": this comparison returns True because x is equal to y"
   ]
  },
  {
   "cell_type": "code",
   "execution_count": null,
   "id": "e7a6fcfc",
   "metadata": {},
   "outputs": [],
   "source": [
    "# Identity Operators practice 2\n",
    "\n",
    "x = [\"apple\", \"banana\"]\n",
    "y = [\"apple\", \"banana\"]\n",
    "z = x\n",
    "\n",
    "print(x is not z)\n",
    "\n",
    "# returns False because z is the same object as x\n",
    "\n",
    "print(x is not y)\n",
    "\n",
    "# returns True because x is not the same object as y, even if they have the same content\n",
    "\n",
    "print(x != y)\n",
    "\n",
    "# to demonstrate the difference betweeen \"is not\" and \"!=\": this comparison returns False because x is equal to y"
   ]
  },
  {
   "cell_type": "markdown",
   "id": "c9ec8a7b",
   "metadata": {},
   "source": [
    "**Python Bitwise Operators\n",
    "Bitwise operators are used to compare (binary) numbers:\n",
    "\n",
    "|Operator|Name|Description|\n",
    "|:-------|:-----------------------|:---------------------------------------------------------------------------------------------|\n",
    "|**&**|AND|Sets each bit to 1 if both bits are 1|\n",
    "|**\\|**|OR|Sets each bit to 1 if one of two bits is 1|\n",
    "|**^**|XOR|Sets each bit to 1 if only one of two bits is 1|\n",
    "|**~**|NOT|Inverts all the bits|\n",
    "|**<<**|Zero fill left shift|Shift left by pushing zeros in from the right and let the leftmost bits fall off|\n",
    "|**>>**|Signed right shift|Shift right by pushing copies of the leftmost bit in from the left, and let the rightmost bits fall off|\n",
    "\n",
    "\n",
    "\n",
    "\n",
    "\n"
   ]
  },
  {
   "cell_type": "markdown",
   "id": "06a4678b",
   "metadata": {},
   "source": [
    "### 10. Python Lists"
   ]
  },
  {
   "cell_type": "code",
   "execution_count": null,
   "id": "d20646db",
   "metadata": {},
   "outputs": [],
   "source": [
    "mylist = [\"apple\", \"banana\", \"cherry\"]"
   ]
  },
  {
   "cell_type": "markdown",
   "id": "77e16939",
   "metadata": {},
   "source": [
    "**List**\n",
    "\n",
    "Lists are used to store multiple items in a single variable.\n",
    "\n",
    "Lists are one of 4 built-in data types in Python used to store collections of data, the other 3 are Tuple, Set, and Dictionary, all with different qualities and usage.\n",
    "\n",
    "Lists are created using square brackets:\n",
    "\n",
    "**Example**\n",
    "\n",
    "Create a List:\n",
    "\n",
    "```Python\n",
    "thislist = [\"apple\", \"banana\", \"cherry\"]\n",
    "print(thislist)\n",
    "```"
   ]
  },
  {
   "cell_type": "code",
   "execution_count": null,
   "id": "cdf3502c",
   "metadata": {},
   "outputs": [],
   "source": [
    "thislist = [\"apple\", \"banana\", \"cherry\"]\n",
    "print(thislist)"
   ]
  },
  {
   "cell_type": "markdown",
   "id": "76b7cf00",
   "metadata": {},
   "source": [
    "**List Items**\n",
    "\n",
    "List items are **ordered, changeable, and allow duplicate values**.\n",
    "\n",
    "List items are indexed, the first item has index **[0]**, the second item has index **[1]** etc.\n",
    "\n",
    "**Ordered**\n",
    "\n",
    "When we say that lists are ordered, it means that the items have a defined order, and that order will not change.\n",
    "\n",
    "If you add new items to a list, the new items will be placed at the end of the list.\n",
    "\n",
    "* Note: There are some list methods that will change the order, but in general: the order of the items will not change.\n",
    "\n",
    "**Changeable**\n",
    "\n",
    "The list is changeable, meaning that we can change, add, and remove items in a list after it has been created.\n",
    "\n",
    "**Allow Duplicates**\n",
    "\n",
    "Since lists are indexed, lists can have items with the same value:\n",
    "\n",
    "**Example**\n",
    "\n",
    "Lists allow duplicate values:\n",
    "\n",
    "```Python    \n",
    "thislist = [\"apple\", \"banana\", \"cherry\", \"apple\", \"cherry\"]\n",
    "print(thislist)\n",
    "```"
   ]
  },
  {
   "cell_type": "code",
   "execution_count": null,
   "id": "cf4895d5",
   "metadata": {},
   "outputs": [],
   "source": [
    "thislist = [\"apple\", \"banana\", \"cherry\", \"apple\", \"cherry\"]\n",
    "print(thislist)"
   ]
  },
  {
   "cell_type": "markdown",
   "id": "4b6045ba",
   "metadata": {},
   "source": [
    "**List Length**\n",
    "\n",
    "To determine how many items a list has, use the **len()** function:\n",
    "\n",
    "**Example**\n",
    "\n",
    "Print the number of items in the list:\n",
    "\n",
    "```Python    \n",
    "thislist = [\"apple\", \"banana\", \"cherry\"]\n",
    "print(len(thislist))\n",
    "```"
   ]
  },
  {
   "cell_type": "code",
   "execution_count": null,
   "id": "2e3a69be",
   "metadata": {},
   "outputs": [],
   "source": [
    "thislist = [\"apple\", \"banana\", \"cherry\"]\n",
    "print(len(thislist))"
   ]
  },
  {
   "cell_type": "markdown",
   "id": "dde5e887",
   "metadata": {},
   "source": [
    "**List Items - Data Types**\n",
    "\n",
    "List items can be of any data type:\n",
    "\n",
    "**Example**\n",
    "\n",
    "String, int and boolean data types:\n",
    "\n",
    "```Python    \n",
    "list1 = [\"apple\", \"banana\", \"cherry\"]\n",
    "list2 = [1, 5, 7, 9, 3]\n",
    "list3 = [True, False, False]\n",
    "```"
   ]
  },
  {
   "cell_type": "code",
   "execution_count": null,
   "id": "18c9455e",
   "metadata": {},
   "outputs": [],
   "source": [
    "list1 = [\"apple\", \"banana\", \"cherry\"]\n",
    "list2 = [1, 5, 7, 9, 3]\n",
    "list3 = [True, False, False]"
   ]
  },
  {
   "cell_type": "code",
   "execution_count": null,
   "id": "ea7c0b48",
   "metadata": {},
   "outputs": [],
   "source": [
    "# A list can contain different data types:\n",
    "\n",
    "# Example\n",
    "#A list with strings, integers and boolean values:\n",
    "\n",
    "list1 = [\"abc\", 34, True, 40, \"male\"]"
   ]
  },
  {
   "cell_type": "markdown",
   "id": "e499d534",
   "metadata": {},
   "source": [
    "**type()**\n",
    "\n",
    "From Python's perspective, lists are defined as objects with the data type 'list':\n",
    "\n",
    "```Python\n",
    "<class 'list'>\n",
    "```"
   ]
  },
  {
   "cell_type": "code",
   "execution_count": null,
   "id": "12d7bfd0",
   "metadata": {},
   "outputs": [],
   "source": [
    "# What is the data type of a list?\n",
    "\n",
    "mylist = [\"apple\", \"banana\", \"cherry\"]\n",
    "print(type(mylist))"
   ]
  },
  {
   "cell_type": "markdown",
   "id": "4031f8e5",
   "metadata": {},
   "source": [
    "**The list() Constructor**\n",
    "\n",
    "It is also possible to use the list() constructor when creating a new list.\n",
    "\n",
    "**Example**\n",
    "\n",
    "Using the **list()** constructor to make a List:\n",
    "\n",
    "```Python\n",
    "thislist = list((\"apple\", \"banana\", \"cherry\")) # note the double round-brackets\n",
    "print(thislist)\n",
    "```"
   ]
  },
  {
   "cell_type": "code",
   "execution_count": null,
   "id": "d08dc186",
   "metadata": {},
   "outputs": [],
   "source": [
    "thislist = list((\"apple\", \"banana\", \"cherry\")) # note the double round-brackets\n",
    "print(thislist)"
   ]
  },
  {
   "cell_type": "markdown",
   "id": "e81a0a06",
   "metadata": {},
   "source": [
    "**Python Collections (Arrays)**\n",
    "\n",
    "There are four collection data types in the Python programming language:\n",
    "\n",
    "* **List** is a collection which is ordered and changeable. Allows duplicate members.\n",
    "* **Tuple** is a collection which is ordered and unchangeable. Allows duplicate members.\n",
    "* **Set** is a collection which is unordered, unchangeable*, and unindexed. No duplicate members.\n",
    "* **Dictionary** is a collection which is ordered** and changeable. No duplicate members.\n",
    "\n",
    "*Set items are unchangeable, but you can remove and/or add items whenever you like.\n",
    "\n",
    "*As of Python version 3.7, dictionaries are ordered. In Python 3.6 and earlier, dictionaries are unordered.\n",
    "\n",
    "When choosing a collection type, it is useful to understand the properties of that type. Choosing the right type for a particular data set could mean retention of meaning, and, it could mean an increase in efficiency or security."
   ]
  },
  {
   "cell_type": "markdown",
   "id": "1e6385ae",
   "metadata": {},
   "source": [
    "#### Python - Access List Items"
   ]
  },
  {
   "cell_type": "markdown",
   "id": "ecc2ce28",
   "metadata": {},
   "source": [
    "**Access Items**\n",
    "\n",
    "List items are indexed and you can access them by referring to the index number:\n",
    "\n",
    "**Example**\n",
    "\n",
    "Print the second item of the list:\n",
    "\n",
    "```Python\n",
    "thislist = [\"apple\", \"banana\", \"cherry\"]\n",
    "print(thislist[1])\n",
    "```\n",
    "\n",
    "* Note: The first item has index 0."
   ]
  },
  {
   "cell_type": "code",
   "execution_count": null,
   "id": "01fe15c9",
   "metadata": {},
   "outputs": [],
   "source": [
    "thislist = [\"apple\", \"banana\", \"cherry\"]\n",
    "print(thislist[1])"
   ]
  },
  {
   "cell_type": "markdown",
   "id": "f38edb59",
   "metadata": {},
   "source": [
    "**Negative Indexing**\n",
    "\n",
    "Negative indexing means start from the end\n",
    "\n",
    "**-1** refers to the last item, **-2** refers to the second last item etc.\n",
    "\n",
    "**Example**\n",
    "\n",
    "Print the last item of the list:\n",
    "\n",
    "```Python    \n",
    "thislist = [\"apple\", \"banana\", \"cherry\"]\n",
    "print(thislist[-1])\n",
    "```"
   ]
  },
  {
   "cell_type": "code",
   "execution_count": null,
   "id": "874305cb",
   "metadata": {},
   "outputs": [],
   "source": [
    "thislist = [\"apple\", \"banana\", \"cherry\"]\n",
    "print(thislist[-1])"
   ]
  },
  {
   "cell_type": "markdown",
   "id": "e605fbce",
   "metadata": {},
   "source": [
    "**Range of Indexes**\n",
    "\n",
    "You can specify a range of indexes by specifying where to start and where to end the range.\n",
    "\n",
    "When specifying a range, the return value will be a new list with the specified items.\n",
    "\n",
    "**Example**\n",
    "\n",
    "Return the third, fourth, and fifth item:\n",
    "\n",
    "```Python\n",
    "thislist = [\"apple\", \"banana\", \"cherry\", \"orange\", \"kiwi\", \"melon\", \"mango\"]\n",
    "print(thislist[2:5])\n",
    "```\n",
    "\n",
    "* Note: The search will start at index 2 (included) and end at index 5 (not included)."
   ]
  },
  {
   "cell_type": "code",
   "execution_count": null,
   "id": "1be36184",
   "metadata": {},
   "outputs": [],
   "source": [
    "thislist = [\"apple\", \"banana\", \"cherry\", \"orange\", \"kiwi\", \"melon\", \"mango\"]\n",
    "print(thislist[2:5])"
   ]
  },
  {
   "cell_type": "markdown",
   "id": "215c9009",
   "metadata": {},
   "source": [
    "Remember that the first item has index 0.\n",
    "\n",
    "By leaving out the start value, the range will start at the first item:\n",
    "\n",
    "**Example**\n",
    "\n",
    "This example returns the items from the beginning to, but NOT including, \"kiwi\":\n",
    "\n",
    "```Python    \n",
    "thislist = [\"apple\", \"banana\", \"cherry\", \"orange\", \"kiwi\", \"melon\", \"mango\"]\n",
    "print(thislist[:4])\n",
    "```"
   ]
  },
  {
   "cell_type": "code",
   "execution_count": null,
   "id": "a06b61b3",
   "metadata": {},
   "outputs": [],
   "source": [
    "thislist = [\"apple\", \"banana\", \"cherry\", \"orange\", \"kiwi\", \"melon\", \"mango\"]\n",
    "print(thislist[:4])"
   ]
  },
  {
   "cell_type": "markdown",
   "id": "acc81f24",
   "metadata": {},
   "source": [
    "By leaving out the end value, the range will go on to the end of the list:\n",
    "\n",
    "**Example**\n",
    "\n",
    "This example returns the items from \"cherry\" to the end:\n",
    "\n",
    "```Python    \n",
    "thislist = [\"apple\", \"banana\", \"cherry\", \"orange\", \"kiwi\", \"melon\", \"mango\"]\n",
    "print(thislist[2:])\n",
    "```"
   ]
  },
  {
   "cell_type": "code",
   "execution_count": null,
   "id": "6adf80bb",
   "metadata": {},
   "outputs": [],
   "source": [
    "thislist = [\"apple\", \"banana\", \"cherry\", \"orange\", \"kiwi\", \"melon\", \"mango\"]\n",
    "print(thislist[2:])"
   ]
  },
  {
   "cell_type": "markdown",
   "id": "3341c16a",
   "metadata": {},
   "source": [
    "**Range of Negative Indexes**\n",
    "\n",
    "Specify negative indexes if you want to start the search from the end of the list:\n",
    "\n",
    "**Example**\n",
    "\n",
    "This example returns the items from \"orange\" (-4) to, but NOT including \"mango\" (-1):\n",
    "\n",
    "```Python    \n",
    "thislist = [\"apple\", \"banana\", \"cherry\", \"orange\", \"kiwi\", \"melon\", \"mango\"]\n",
    "print(thislist[-4:-1])\n",
    "```"
   ]
  },
  {
   "cell_type": "code",
   "execution_count": null,
   "id": "500f2a6a",
   "metadata": {},
   "outputs": [],
   "source": [
    "thislist = [\"apple\", \"banana\", \"cherry\", \"orange\", \"kiwi\", \"melon\", \"mango\"]\n",
    "print(thislist[-4:-1])"
   ]
  },
  {
   "cell_type": "markdown",
   "id": "21f6f41a",
   "metadata": {},
   "source": [
    "**Check if Item Exists**\n",
    "\n",
    "To determine if a specified item is present in a list use the in keyword:\n",
    "\n",
    "**Example**\n",
    "\n",
    "Check if \"apple\" is present in the list:\n",
    "\n",
    "```Python\n",
    "thislist = [\"apple\", \"banana\", \"cherry\"]\n",
    "if \"apple\" in thislist:\n",
    "    print(\"Yes, 'apple' is in the fruits list\")\n",
    "```"
   ]
  },
  {
   "cell_type": "code",
   "execution_count": null,
   "id": "2d5ad9bf",
   "metadata": {},
   "outputs": [],
   "source": [
    "thislist = [\"apple\", \"banana\", \"cherry\"]\n",
    "\n",
    "if \"apple\" in thislist:\n",
    "    print(\"Yes, 'apple' is in the fruits list\")"
   ]
  },
  {
   "cell_type": "markdown",
   "id": "a16e0c42",
   "metadata": {},
   "source": [
    "#### Python - Change List Items"
   ]
  },
  {
   "cell_type": "markdown",
   "id": "60c5494a",
   "metadata": {},
   "source": [
    "**Change Item Value**\n",
    "\n",
    "To change the value of a specific item, refer to the index number:\n",
    "\n",
    "**Example**\n",
    "\n",
    "Change the second item:\n",
    "\n",
    "```Python\n",
    "thislist = [\"apple\", \"banana\", \"cherry\"]\n",
    "thislist[1] = \"blackcurrant\"\n",
    "print(thislist)\n",
    "```"
   ]
  },
  {
   "cell_type": "code",
   "execution_count": null,
   "id": "c445884b",
   "metadata": {},
   "outputs": [],
   "source": [
    "thislist = [\"apple\", \"banana\", \"cherry\"]\n",
    "thislist[1] = \"blackcurrant\"\n",
    "print(thislist)"
   ]
  },
  {
   "cell_type": "markdown",
   "id": "56e4f5a9",
   "metadata": {},
   "source": [
    "**Change a Range of Item Values**\n",
    "\n",
    "To change the value of items within a specific range, define a list with the new values, and refer to the range of index numbers where you want to insert the new values:\n",
    "\n",
    "**Example**\n",
    "\n",
    "Change the values \"banana\" and \"cherry\" with the values \"blackcurrant\" and \"watermelon\":\n",
    "\n",
    "```Python\n",
    "thislist = [\"apple\", \"banana\", \"cherry\", \"orange\", \"kiwi\", \"mango\"]\n",
    "thislist[1:3] = [\"blackcurrant\", \"watermelon\"]\n",
    "print(thislist)\n",
    "```"
   ]
  },
  {
   "cell_type": "code",
   "execution_count": null,
   "id": "5c67e947",
   "metadata": {},
   "outputs": [],
   "source": [
    "thislist = [\"apple\", \"banana\", \"cherry\", \"orange\", \"kiwi\", \"mango\"]\n",
    "thislist[1:3] = [\"blackcurrant\", \"watermelon\"]\n",
    "print(thislist)"
   ]
  },
  {
   "cell_type": "markdown",
   "id": "53f4f9c2",
   "metadata": {},
   "source": [
    "If you insert more items than you replace, the new items will be inserted where you specified, and the remaining items will move accordingly:\n",
    "\n",
    "**Example**\n",
    "\n",
    "Change the second value by replacing it with two new values:\n",
    "\n",
    "```Python\n",
    "thislist = [\"apple\", \"banana\", \"cherry\"]\n",
    "thislist[1:2] = [\"blackcurrant\", \"watermelon\"]\n",
    "print(thislist)\n",
    "```\n",
    "\n",
    "* Note: The length of the list will change when the number of items inserted does not match the number of items replaced."
   ]
  },
  {
   "cell_type": "code",
   "execution_count": null,
   "id": "8e3a7ccd",
   "metadata": {},
   "outputs": [],
   "source": [
    "thislist = [\"apple\", \"banana\", \"cherry\"]\n",
    "thislist[1:2] = [\"blackcurrant\", \"watermelon\"]\n",
    "print(thislist)"
   ]
  },
  {
   "cell_type": "markdown",
   "id": "910c77a3",
   "metadata": {},
   "source": [
    "If you insert less items than you replace, the new items will be inserted where you specified, and the remaining items will move accordingly:\n",
    "\n",
    "**Example**\n",
    "\n",
    "Change the second and third value by replacing it with one value:\n",
    "\n",
    "```Python\n",
    "thislist = [\"apple\", \"banana\", \"cherry\"]\n",
    "thislist[1:3] = [\"watermelon\"]\n",
    "print(thislist)\n",
    "```"
   ]
  },
  {
   "cell_type": "code",
   "execution_count": null,
   "id": "32277597",
   "metadata": {},
   "outputs": [],
   "source": [
    "thislist = [\"apple\", \"banana\", \"cherry\"]\n",
    "thislist[1:3] = [\"watermelon\"]\n",
    "print(thislist)"
   ]
  },
  {
   "cell_type": "markdown",
   "id": "4f1e660d",
   "metadata": {},
   "source": [
    "**Insert Items**\n",
    "\n",
    "To insert a new list item, without replacing any of the existing values, we can use the **insert()** method.\n",
    "\n",
    "The **insert()** method inserts an item at the specified index:\n",
    "\n",
    "**Example**\n",
    "\n",
    "Insert \"watermelon\" as the third item:\n",
    "\n",
    "```Python\n",
    "thislist = [\"apple\", \"banana\", \"cherry\"]\n",
    "thislist.insert(2, \"watermelon\")\n",
    "print(thislist)\n",
    "```"
   ]
  },
  {
   "cell_type": "code",
   "execution_count": null,
   "id": "22f4c85b",
   "metadata": {},
   "outputs": [],
   "source": [
    "thislist = [\"apple\", \"banana\", \"cherry\"]\n",
    "thislist.insert(2, \"watermelon\")\n",
    "print(thislist)"
   ]
  },
  {
   "cell_type": "markdown",
   "id": "dff09e20",
   "metadata": {},
   "source": [
    "#### Python - Add List Items"
   ]
  },
  {
   "cell_type": "markdown",
   "id": "906d0a02",
   "metadata": {},
   "source": [
    "**Append Items**\n",
    "\n",
    "To add an item to the end of the list, use the **append()** method:\n",
    "\n",
    "**Example**\n",
    "\n",
    "Using the **append()** method to append an item:\n",
    "\n",
    "```Python\n",
    "thislist = [\"apple\", \"banana\", \"cherry\"]\n",
    "thislist.append(\"orange\")\n",
    "print(thislist)\n",
    "```"
   ]
  },
  {
   "cell_type": "code",
   "execution_count": null,
   "id": "db535bc9",
   "metadata": {},
   "outputs": [],
   "source": [
    "thislist = [\"apple\", \"banana\", \"cherry\"]\n",
    "thislist.append(\"orange\")\n",
    "print(thislist)"
   ]
  },
  {
   "cell_type": "markdown",
   "id": "df2a33b9",
   "metadata": {},
   "source": [
    "**Insert Items**\n",
    "\n",
    "To insert a list item at a specified index, use the **insert()** method.\n",
    "\n",
    "The **insert()** method inserts an item at the specified index:\n",
    "\n",
    "**Example**\n",
    "\n",
    "Insert an item as the second position:\n",
    "\n",
    "```Python    \n",
    "thislist = [\"apple\", \"banana\", \"cherry\"]\n",
    "thislist.insert(1, \"orange\")\n",
    "print(thislist)\n",
    "```\n",
    "\n",
    "* Note: As a result of the examples above, the lists will now contain 4 items."
   ]
  },
  {
   "cell_type": "code",
   "execution_count": null,
   "id": "01c8c107",
   "metadata": {},
   "outputs": [],
   "source": [
    "thislist = [\"apple\", \"banana\", \"cherry\"]\n",
    "thislist.insert(1, \"orange\")\n",
    "print(thislist)"
   ]
  },
  {
   "cell_type": "markdown",
   "id": "917202bc",
   "metadata": {},
   "source": [
    "**Extend List**\n",
    "\n",
    "To append elements from another list to the current list, use the **extend()** method.\n",
    "\n",
    "**Example**\n",
    "\n",
    "Add the elements of tropical to thislist:\n",
    "    \n",
    "```Python\n",
    "thislist = [\"apple\", \"banana\", \"cherry\"]\n",
    "tropical = [\"mango\", \"pineapple\", \"papaya\"]\n",
    "thislist.extend(tropical)\n",
    "print(thislist)\n",
    "```\n",
    "\n",
    "* The elements will be added to the end of the list."
   ]
  },
  {
   "cell_type": "markdown",
   "id": "32f4450a",
   "metadata": {},
   "source": [
    "**Add Any Iterable**\n",
    "\n",
    "The **extend()** method does not have to append lists, you can add any iterable object (tuples, sets, dictionaries etc.).\n",
    "\n",
    "**Example**\n",
    "\n",
    "Add elements of a tuple to a list:\n",
    "\n",
    "```Python\n",
    "thislist = [\"apple\", \"banana\", \"cherry\"]\n",
    "thistuple = (\"kiwi\", \"orange\")\n",
    "thislist.extend(thistuple)\n",
    "print(thislist)\n",
    "```"
   ]
  },
  {
   "cell_type": "code",
   "execution_count": null,
   "id": "76b8453b",
   "metadata": {},
   "outputs": [],
   "source": [
    "thislist = [\"apple\", \"banana\", \"cherry\"]\n",
    "thistuple = (\"kiwi\", \"orange\")\n",
    "thislist.extend(thistuple)\n",
    "print(thislist)"
   ]
  },
  {
   "cell_type": "markdown",
   "id": "4bc601f9",
   "metadata": {},
   "source": [
    "#### Python - Remove List Items\n"
   ]
  },
  {
   "cell_type": "markdown",
   "id": "58d5a152",
   "metadata": {},
   "source": [
    "**Remove Specified Item**\n",
    "\n",
    "The **remove()** method removes the specified item.\n",
    "\n",
    "**Example**\n",
    "\n",
    "Remove \"banana\":\n",
    "\n",
    "```Python\n",
    "thislist = [\"apple\", \"banana\", \"cherry\"]\n",
    "thislist.remove(\"banana\")\n",
    "print(thislist)\n",
    "```"
   ]
  },
  {
   "cell_type": "code",
   "execution_count": null,
   "id": "f3642fde",
   "metadata": {},
   "outputs": [],
   "source": [
    "thislist = [\"apple\", \"banana\", \"cherry\"]\n",
    "thislist.remove(\"banana\")\n",
    "print(thislist)"
   ]
  },
  {
   "cell_type": "code",
   "execution_count": null,
   "id": "312cbd79",
   "metadata": {},
   "outputs": [],
   "source": [
    "**Remove Specified Index**\n",
    "\n",
    "The **pop()** method removes the specified index.\n",
    "\n",
    "**Example**\n",
    "\n",
    "Remove the second item:\n",
    "\n",
    "```Python\n",
    "thislist = [\"apple\", \"banana\", \"cherry\"]\n",
    "thislist.pop(1)\n",
    "print(thislist)\n",
    "```\n",
    "\n",
    "* If you do not specify the index, the pop() method removes the last item."
   ]
  },
  {
   "cell_type": "code",
   "execution_count": null,
   "id": "ed6720d7",
   "metadata": {},
   "outputs": [],
   "source": [
    "thislist = [\"apple\", \"banana\", \"cherry\"]\n",
    "thislist.pop(1)\n",
    "print(thislist)"
   ]
  },
  {
   "cell_type": "markdown",
   "id": "515fcf37",
   "metadata": {},
   "source": [
    "Remove the last item:\n",
    "\n",
    "```Python    \n",
    "thislist = [\"apple\", \"banana\", \"cherry\"]\n",
    "thislist.pop()\n",
    "print(thislist)\n",
    "```"
   ]
  },
  {
   "cell_type": "code",
   "execution_count": null,
   "id": "987212b2",
   "metadata": {},
   "outputs": [],
   "source": [
    "thislist = [\"apple\", \"banana\", \"cherry\"]\n",
    "thislist.pop()\n",
    "print(thislist)"
   ]
  },
  {
   "cell_type": "markdown",
   "id": "f87c24d9",
   "metadata": {},
   "source": [
    "The **del** keyword also removes the specified index:\n",
    "\n",
    "**Example**\n",
    "\n",
    "Remove the first item:\n",
    "\n",
    "```Python    \n",
    "thislist = [\"apple\", \"banana\", \"cherry\"]\n",
    "del thislist[0]\n",
    "print(thislist)\n",
    "```"
   ]
  },
  {
   "cell_type": "code",
   "execution_count": null,
   "id": "73cd444c",
   "metadata": {},
   "outputs": [],
   "source": [
    "thislist = [\"apple\", \"banana\", \"cherry\"]\n",
    "del thislist[0]\n",
    "print(thislist)"
   ]
  },
  {
   "cell_type": "markdown",
   "id": "94817b75",
   "metadata": {},
   "source": [
    "The **del** keyword can also delete the list completely.\n",
    "\n",
    "**Example**\n",
    "\n",
    "Delete the entire list:\n",
    "\n",
    "```Python    \n",
    "thislist = [\"apple\", \"banana\", \"cherry\"]\n",
    "del thislist\n",
    "```"
   ]
  },
  {
   "cell_type": "code",
   "execution_count": null,
   "id": "c8957665",
   "metadata": {},
   "outputs": [],
   "source": [
    "thislist = [\"apple\", \"banana\", \"cherry\"]\n",
    "del thislist"
   ]
  },
  {
   "cell_type": "markdown",
   "id": "095dc953",
   "metadata": {},
   "source": [
    "**Clear the List**\n",
    "\n",
    "The **clear()** method empties the list.\n",
    "\n",
    "The list still remains, but it has no content.\n",
    "\n",
    "**Example**\n",
    "\n",
    "Clear the list content:\n",
    "\n",
    "```Python    \n",
    "thislist = [\"apple\", \"banana\", \"cherry\"]\n",
    "thislist.clear()\n",
    "print(thislist)\n",
    "```"
   ]
  },
  {
   "cell_type": "code",
   "execution_count": null,
   "id": "b4ff49bf",
   "metadata": {},
   "outputs": [],
   "source": [
    "thislist = [\"apple\", \"banana\", \"cherry\"]\n",
    "thislist.clear()\n",
    "print(thislist)"
   ]
  },
  {
   "cell_type": "markdown",
   "id": "b72e99a0",
   "metadata": {},
   "source": [
    "#### Python - Loop Lists"
   ]
  },
  {
   "cell_type": "markdown",
   "id": "1d41f822",
   "metadata": {},
   "source": [
    "**Loop Through a List**\n",
    "\n",
    "You can loop through the list items by using a for loop:\n",
    "\n",
    "**Example**\n",
    "\n",
    "Print all items in the list, one by one:\n",
    "\n",
    "```Python    \n",
    "thislist = [\"apple\", \"banana\", \"cherry\"]\n",
    "for x in thislist:\n",
    "    print(x)\n",
    "```"
   ]
  },
  {
   "cell_type": "code",
   "execution_count": null,
   "id": "6eababcc",
   "metadata": {},
   "outputs": [],
   "source": [
    "thislist = [\"apple\", \"banana\", \"cherry\"]\n",
    "for x in thislist:\n",
    "    print(x)"
   ]
  },
  {
   "cell_type": "markdown",
   "id": "a03808d5",
   "metadata": {},
   "source": [
    "**Loop Through the Index Numbers**\n",
    "\n",
    "You can also loop through the list items by referring to their index number.\n",
    "\n",
    "Use the **range()** and **len()** functions to create a suitable iterable.\n",
    "\n",
    "**Example**\n",
    "\n",
    "Print all items by referring to their index number:\n",
    "\n",
    "```Python    \n",
    "thislist = [\"apple\", \"banana\", \"cherry\"]\n",
    "for i in range(len(thislist)):\n",
    "    print(thislist[i])\n",
    "```"
   ]
  },
  {
   "cell_type": "code",
   "execution_count": null,
   "id": "dd50cab7",
   "metadata": {},
   "outputs": [],
   "source": [
    "thislist = [\"apple\", \"banana\", \"cherry\"]\n",
    "for i in range(len(thislist)):\n",
    "    print(thislist[i])"
   ]
  },
  {
   "cell_type": "markdown",
   "id": "51ca3b68",
   "metadata": {},
   "source": [
    "**Using a While Loop**\n",
    "\n",
    "You can loop through the list items by using a **while loop**.\n",
    "\n",
    "Use the **len()** function to determine the length of the list, then start at **0** and loop your way through the list items by refering to their indexes.\n",
    "\n",
    "Remember to increase the index by 1 after each iteration.\n",
    "\n",
    "**Example**\n",
    "\n",
    "Print all items, using a while loop to go through all the index numbers\n",
    "\n",
    "```Python\n",
    "thislist = [\"apple\", \"banana\", \"cherry\"]\n",
    "i = 0\n",
    "while i < len(thislist):\n",
    "    print(thislist[i])\n",
    "    i = i + 1\n",
    "```"
   ]
  },
  {
   "cell_type": "code",
   "execution_count": null,
   "id": "68bbba7f",
   "metadata": {},
   "outputs": [],
   "source": [
    "thislist = [\"apple\", \"banana\", \"cherry\"]\n",
    "i = 0\n",
    "while i < len(thislist):\n",
    "    print(thislist[i])\n",
    "    i = i + 1"
   ]
  },
  {
   "cell_type": "markdown",
   "id": "ae817c14",
   "metadata": {},
   "source": [
    "**Looping Using List Comprehension**\n",
    "\n",
    "List Comprehension offers the shortest syntax for looping through lists:\n",
    "\n",
    "**Example**\n",
    "\n",
    "A short hand for loop that will print all items in a list:\n",
    "\n",
    "```Python    \n",
    "thislist = [\"apple\", \"banana\", \"cherry\"]\n",
    "[print(x) for x in thislist]\n",
    "```"
   ]
  },
  {
   "cell_type": "code",
   "execution_count": null,
   "id": "3b14eff8",
   "metadata": {},
   "outputs": [],
   "source": [
    "thislist = [\"apple\", \"banana\", \"cherry\"]\n",
    "[print(x) for x in thislist]"
   ]
  },
  {
   "cell_type": "markdown",
   "id": "c56bb4b6",
   "metadata": {},
   "source": [
    "#### Python - List Comprehension"
   ]
  },
  {
   "cell_type": "markdown",
   "id": "b5f7dadd",
   "metadata": {},
   "source": [
    "**List Comprehension**\n",
    "\n",
    "List comprehension offers a shorter syntax when you want to create a new list based on the values of an existing list.\n",
    "\n",
    "**Example**:\n",
    "\n",
    "Based on a list of fruits, you want a new list, containing only the fruits with the letter \"a\" in the name.\n",
    "\n",
    "Without list comprehension you will have to write a **for** statement with a conditional test inside:\n",
    "\n",
    "**Example**\n",
    "\n",
    "```Python\n",
    "fruits = [\"apple\", \"banana\", \"cherry\", \"kiwi\", \"mango\"]\n",
    "newlist = []\n",
    "\n",
    "for x in fruits:\n",
    "    if \"a\" in x:\n",
    "        newlist.append(x)\n",
    "\n",
    "print(newlist)\n",
    "```"
   ]
  },
  {
   "cell_type": "code",
   "execution_count": null,
   "id": "6d4d7685",
   "metadata": {},
   "outputs": [],
   "source": [
    "fruits = [\"apple\", \"banana\", \"cherry\", \"kiwi\", \"mango\"]\n",
    "newlist = []\n",
    "\n",
    "for x in fruits:\n",
    "    if \"a\" in x:\n",
    "        newlist.append(x)\n",
    "\n",
    "print(newlist)"
   ]
  },
  {
   "cell_type": "markdown",
   "id": "4f0743c8",
   "metadata": {},
   "source": [
    "With list comprehension you can do all that with only one line of code:\n",
    "\n",
    "**Example**\n",
    "\n",
    "```Python\n",
    "fruits = [\"apple\", \"banana\", \"cherry\", \"kiwi\", \"mango\"]\n",
    "\n",
    "newlist = [x for x in fruits if \"a\" in x]\n",
    "\n",
    "print(newlist)\n",
    "```"
   ]
  },
  {
   "cell_type": "code",
   "execution_count": null,
   "id": "7984c273",
   "metadata": {},
   "outputs": [],
   "source": [
    "fruits = [\"apple\", \"banana\", \"cherry\", \"kiwi\", \"mango\"]\n",
    "\n",
    "newlist = [x for x in fruits if \"a\" in x]\n",
    "\n",
    "print(newlist)"
   ]
  },
  {
   "cell_type": "markdown",
   "id": "06de97b7",
   "metadata": {},
   "source": [
    "**The Syntax**\n",
    "\n",
    "> newlist = [expression for item in iterable if condition == True]\n",
    "\n",
    "The return value is a new list, leaving the old list unchanged.\n",
    "\n",
    "**Condition**\n",
    "\n",
    "The condition is like a filter that only accepts the items that valuate to True.\n",
    "\n",
    "**Example**\n",
    "\n",
    "Only accept items that are not \"apple\":\n",
    "\n",
    "```Python    \n",
    "newlist = [x for x in fruits if x != \"apple\"]\n",
    "```"
   ]
  },
  {
   "cell_type": "code",
   "execution_count": null,
   "id": "bb1ee1d3",
   "metadata": {},
   "outputs": [],
   "source": [
    "fruits = [\"apple\", \"banana\", \"cherry\", \"kiwi\", \"mango\"]\n",
    "\n",
    "newlist = [x for x in fruits if x != \"apple\"]\n",
    "\n",
    "print(newlist)"
   ]
  },
  {
   "cell_type": "markdown",
   "id": "c0312c03",
   "metadata": {},
   "source": [
    "The condition if x != \"apple\"  will return True for all elements other than \"apple\", making the new list contain all fruits except \"apple\".\n",
    "\n",
    "The condition is optional and can be omitted:\n",
    "\n",
    "**Example**\n",
    "\n",
    "With no if statement:\n",
    "\n",
    "```Python    \n",
    "newlist = [x for x in fruits]\n",
    "```"
   ]
  },
  {
   "cell_type": "code",
   "execution_count": null,
   "id": "1e70d9f2",
   "metadata": {},
   "outputs": [],
   "source": [
    "fruits = [\"apple\", \"banana\", \"cherry\", \"kiwi\", \"mango\"]\n",
    "\n",
    "newlist = [x for x in fruits]\n",
    "\n",
    "print(newlist)"
   ]
  },
  {
   "cell_type": "markdown",
   "id": "5c628daf",
   "metadata": {},
   "source": [
    "**Iterable**\n",
    "\n",
    "The iterable can be any iterable object, like a list, tuple, set etc.\n",
    "\n",
    "**Example**\n",
    "\n",
    "You can use the range() function to create an iterable:\n",
    "\n",
    "```Python    \n",
    "newlist = [x for x in range(10)]\n",
    "```"
   ]
  },
  {
   "cell_type": "code",
   "execution_count": null,
   "id": "f9a9f583",
   "metadata": {},
   "outputs": [],
   "source": [
    "newlist = [x for x in range(10)]\n",
    "\n",
    "print(newlist)"
   ]
  },
  {
   "cell_type": "markdown",
   "id": "99d64dd8",
   "metadata": {},
   "source": [
    "Same example, but with a condition:\n",
    "\n",
    "**Example**\n",
    "\n",
    "Accept only numbers lower than 5:\n",
    "\n",
    "```Python    \n",
    "newlist = [x for x in range(10) if x < 5]\n",
    "```"
   ]
  },
  {
   "cell_type": "code",
   "execution_count": null,
   "id": "512b4afb",
   "metadata": {},
   "outputs": [],
   "source": [
    "newlist = [x for x in range(10) if x < 5]"
   ]
  },
  {
   "cell_type": "markdown",
   "id": "49efb9c6",
   "metadata": {},
   "source": [
    "**Expression**\n",
    "\n",
    "The expression is the current item in the iteration, but it is also the outcome, which you can manipulate before it ends up like a list item in the new list:\n",
    "\n",
    "**Example**\n",
    "\n",
    "Set the values in the new list to upper case:\n",
    "\n",
    "```Python    \n",
    "newlist = [x.upper() for x in fruits]\n",
    "```"
   ]
  },
  {
   "cell_type": "code",
   "execution_count": null,
   "id": "92296501",
   "metadata": {},
   "outputs": [],
   "source": [
    "fruits = [\"apple\", \"banana\", \"cherry\", \"kiwi\", \"mango\"]\n",
    "\n",
    "newlist = [x.upper() for x in fruits]\n",
    "\n",
    "print(newlist)"
   ]
  },
  {
   "cell_type": "markdown",
   "id": "7411fb3c",
   "metadata": {},
   "source": [
    "You can set the outcome to whatever you like:\n",
    "\n",
    "**Example**\n",
    "\n",
    "Set all values in the new list to 'hello':\n",
    "\n",
    "```Python    \n",
    "newlist = ['hello' for x in fruits]\n",
    "```"
   ]
  },
  {
   "cell_type": "code",
   "execution_count": null,
   "id": "c98d5865",
   "metadata": {},
   "outputs": [],
   "source": [
    "fruits = [\"apple\", \"banana\", \"cherry\", \"kiwi\", \"mango\"]\n",
    "\n",
    "newlist = ['hello' for x in fruits]\n",
    "\n",
    "print(newlist)"
   ]
  },
  {
   "cell_type": "markdown",
   "id": "1275348a",
   "metadata": {},
   "source": [
    "The expression can also contain conditions, not like a filter, but as a way to manipulate the outcome:\n",
    "\n",
    "**Example**\n",
    "\n",
    "Return \"orange\" instead of \"banana\":\n",
    "\n",
    "```Python    \n",
    "newlist = [x if x != \"banana\" else \"orange\" for x in fruits]\n",
    "```\n",
    "\n",
    "The expression in the example above says:\n",
    "\n",
    "\"Return the item if it is not banana, if it is banana return orange\"."
   ]
  },
  {
   "cell_type": "code",
   "execution_count": null,
   "id": "76395d21",
   "metadata": {},
   "outputs": [],
   "source": [
    "fruits = [\"apple\", \"banana\", \"cherry\", \"kiwi\", \"mango\"]\n",
    "\n",
    "newlist = [x if x != \"banana\" else \"orange\" for x in fruits]\n",
    "\n",
    "print(newlist)"
   ]
  },
  {
   "cell_type": "markdown",
   "id": "bdf5988a",
   "metadata": {},
   "source": [
    "#### Python - Sort Lists"
   ]
  },
  {
   "cell_type": "markdown",
   "id": "6ad9aa05",
   "metadata": {},
   "source": [
    "**Sort List Alphanumerically**\n",
    "\n",
    "List objects have a **sort()** method that will sort the list alphanumerically, ascending, by default:\n",
    "\n",
    "**Example**\n",
    "\n",
    "Sort the list alphabetically:\n",
    "\n",
    "```Python    \n",
    "thislist = [\"orange\", \"mango\", \"kiwi\", \"pineapple\", \"banana\"]\n",
    "thislist.sort()\n",
    "print(thislist)\n",
    "```"
   ]
  },
  {
   "cell_type": "code",
   "execution_count": null,
   "id": "9e2ae191",
   "metadata": {},
   "outputs": [],
   "source": [
    "thislist = [\"orange\", \"mango\", \"kiwi\", \"pineapple\", \"banana\"]\n",
    "thislist.sort()\n",
    "print(thislist)"
   ]
  },
  {
   "cell_type": "code",
   "execution_count": null,
   "id": "3958654f",
   "metadata": {},
   "outputs": [],
   "source": [
    "# Sort the list numerically:\n",
    "\n",
    "thislist = [100, 50, 65, 82, 23]\n",
    "thislist.sort()\n",
    "print(thislist)"
   ]
  },
  {
   "cell_type": "markdown",
   "id": "4a257ed4",
   "metadata": {},
   "source": [
    "**Sort Descending**\n",
    "\n",
    "To sort descending, use the keyword argument reverse = True:\n",
    "\n",
    "**Example**\n",
    "\n",
    "Sort the list descending:\n",
    "\n",
    "```Python    \n",
    "thislist = [\"orange\", \"mango\", \"kiwi\", \"pineapple\", \"banana\"]\n",
    "thislist.sort(reverse = True)\n",
    "print(thislist)\n",
    "```"
   ]
  },
  {
   "cell_type": "code",
   "execution_count": null,
   "id": "d3d98d44",
   "metadata": {},
   "outputs": [],
   "source": [
    "thislist = [\"orange\", \"mango\", \"kiwi\", \"pineapple\", \"banana\"]\n",
    "thislist.sort(reverse = True)\n",
    "print(thislist)"
   ]
  },
  {
   "cell_type": "code",
   "execution_count": null,
   "id": "8879fa55",
   "metadata": {},
   "outputs": [],
   "source": [
    "# Sort the list descending:\n",
    "\n",
    "thislist = [100, 50, 65, 82, 23]\n",
    "thislist.sort(reverse = True)\n",
    "print(thislist)"
   ]
  },
  {
   "cell_type": "markdown",
   "id": "10062e1c",
   "metadata": {},
   "source": [
    "**Customize Sort Function**\n",
    "\n",
    "You can also customize your own function by using the keyword argument key = function.\n",
    "\n",
    "The function will return a number that will be used to sort the list (the lowest number first):\n",
    "\n",
    "**Example**\n",
    "\n",
    "Sort the list based on how close the number is to 50:\n",
    "\n",
    "```Python    \n",
    "def myfunc(n):\n",
    "    return abs(n - 50)\n",
    "\n",
    "thislist = [100, 50, 65, 82, 23]\n",
    "thislist.sort(key = myfunc)\n",
    "print(thislist)\n",
    "```"
   ]
  },
  {
   "cell_type": "code",
   "execution_count": null,
   "id": "7ad5403b",
   "metadata": {},
   "outputs": [],
   "source": [
    "def myfunc(n):\n",
    "    return abs(n - 50)\n",
    "\n",
    "thislist = [100, 50, 65, 82, 23]\n",
    "thislist.sort(key = myfunc)\n",
    "print(thislist)"
   ]
  },
  {
   "cell_type": "markdown",
   "id": "dcfb87ed",
   "metadata": {},
   "source": [
    "**Case Insensitive Sort**\n",
    "\n",
    "By default the **sort()** method is case sensitive, resulting in all capital letters being sorted before lower case letters:\n",
    "\n",
    "**Example**\n",
    "\n",
    "Case sensitive sorting can give an unexpected result:\n",
    "\n",
    "```Python    \n",
    "thislist = [\"banana\", \"Orange\", \"Kiwi\", \"cherry\"]\n",
    "thislist.sort()\n",
    "print(thislist)\n",
    "```"
   ]
  },
  {
   "cell_type": "code",
   "execution_count": null,
   "id": "98852a4c",
   "metadata": {},
   "outputs": [],
   "source": [
    "thislist = [\"banana\", \"Orange\", \"Kiwi\", \"cherry\"]\n",
    "thislist.sort()\n",
    "print(thislist)"
   ]
  },
  {
   "cell_type": "markdown",
   "id": "b393df31",
   "metadata": {},
   "source": [
    "Luckily we can use built-in functions as key functions when sorting a list.\n",
    "\n",
    "So if you want a case-insensitive sort function, use str.lower as a key function:\n",
    "\n",
    "**Example**\n",
    "\n",
    "Perform a case-insensitive sort of the list:\n",
    "\n",
    "```Python    \n",
    "thislist = [\"banana\", \"Orange\", \"Kiwi\", \"cherry\"]\n",
    "thislist.sort(key = str.lower)\n",
    "print(thislist)\n",
    "```"
   ]
  },
  {
   "cell_type": "code",
   "execution_count": null,
   "id": "b4dcc5a6",
   "metadata": {},
   "outputs": [],
   "source": [
    "thislist = [\"banana\", \"Orange\", \"Kiwi\", \"cherry\"]\n",
    "thislist.sort(key = str.lower)\n",
    "print(thislist)"
   ]
  },
  {
   "cell_type": "markdown",
   "id": "11df45b4",
   "metadata": {},
   "source": [
    "**Reverse Order**\n",
    "\n",
    "What if you want to reverse the order of a list, regardless of the alphabet?\n",
    "\n",
    "The **reverse()** method reverses the current sorting order of the elements.\n",
    "\n",
    "**Example**\n",
    "\n",
    "Reverse the order of the list items:\n",
    "\n",
    "```Python    \n",
    "thislist = [\"banana\", \"Orange\", \"Kiwi\", \"cherry\"]\n",
    "thislist.reverse()\n",
    "print(thislist)\n",
    "```"
   ]
  },
  {
   "cell_type": "code",
   "execution_count": null,
   "id": "85c1dd0c",
   "metadata": {},
   "outputs": [],
   "source": [
    "thislist = [\"banana\", \"Orange\", \"Kiwi\", \"cherry\"]\n",
    "thislist.reverse()\n",
    "print(thislist)"
   ]
  },
  {
   "cell_type": "markdown",
   "id": "da02a1fe",
   "metadata": {},
   "source": [
    "#### Python - Copy Lists"
   ]
  },
  {
   "cell_type": "markdown",
   "id": "2f6d3fb7",
   "metadata": {},
   "source": [
    "**Copy a List**\n",
    "\n",
    "You cannot copy a list simply by typing list2 = list1, because: list2 will only be a reference to list1, and changes made in list1 will automatically also be made in list2.\n",
    "\n",
    "There are ways to make a copy, one way is to use the built-in List method **copy()**.\n",
    "\n",
    "**Example**\n",
    "\n",
    "Make a copy of a list with the **copy()** method:\n",
    "\n",
    "```Python    \n",
    "thislist = [\"apple\", \"banana\", \"cherry\"]\n",
    "mylist = thislist.copy()\n",
    "print(mylist)\n",
    "```"
   ]
  },
  {
   "cell_type": "code",
   "execution_count": null,
   "id": "a3fb3e07",
   "metadata": {},
   "outputs": [],
   "source": [
    "thislist = [\"apple\", \"banana\", \"cherry\"]\n",
    "mylist = thislist.copy()\n",
    "print(mylist)"
   ]
  },
  {
   "cell_type": "markdown",
   "id": "f2529245",
   "metadata": {},
   "source": [
    "Another way to make a copy is to use the built-in method **list()**.\n",
    "\n",
    "**Example**\n",
    "\n",
    "Make a copy of a list with the **list()** method:\n",
    "    \n",
    "```Python\n",
    "thislist = [\"apple\", \"banana\", \"cherry\"]\n",
    "mylist = list(thislist)\n",
    "print(mylist)\n",
    "```"
   ]
  },
  {
   "cell_type": "code",
   "execution_count": null,
   "id": "d79e1900",
   "metadata": {},
   "outputs": [],
   "source": [
    "thislist = [\"apple\", \"banana\", \"cherry\"]\n",
    "mylist = list(thislist)\n",
    "print(mylist)"
   ]
  },
  {
   "cell_type": "markdown",
   "id": "2f7c544c",
   "metadata": {},
   "source": [
    "#### Python - Join Lists"
   ]
  },
  {
   "cell_type": "markdown",
   "id": "fbf6c84d",
   "metadata": {},
   "source": [
    "**Join Two Lists**\n",
    "\n",
    "There are several ways to join, or concatenate, two or more lists in Python.\n",
    "\n",
    "One of the easiest ways are by using the + operator.\n",
    "\n",
    "**Example**\n",
    "\n",
    "Join two list:\n",
    "\n",
    "```Python    \n",
    "list1 = [\"a\", \"b\", \"c\"]\n",
    "list2 = [1, 2, 3]\n",
    "\n",
    "list3 = list1 + list2\n",
    "print(list3)\n",
    "```"
   ]
  },
  {
   "cell_type": "code",
   "execution_count": null,
   "id": "e89d17e4",
   "metadata": {},
   "outputs": [],
   "source": [
    "list1 = [\"a\", \"b\", \"c\"]\n",
    "list2 = [1, 2, 3]\n",
    "\n",
    "list3 = list1 + list2\n",
    "print(list3)"
   ]
  },
  {
   "cell_type": "markdown",
   "id": "985bb7e7",
   "metadata": {},
   "source": [
    "Another way to join two lists is by appending all the items from list2 into list1, one by one:\n",
    "\n",
    "**Example**\n",
    "\n",
    "Append list2 into list1:\n",
    "\n",
    "```Python    \n",
    "list1 = [\"a\", \"b\" , \"c\"]\n",
    "list2 = [1, 2, 3]\n",
    "\n",
    "for x in list2:\n",
    "    list1.append(x)\n",
    "\n",
    "print(list1)\n",
    "```"
   ]
  },
  {
   "cell_type": "code",
   "execution_count": null,
   "id": "1f5157cf",
   "metadata": {},
   "outputs": [],
   "source": [
    "list1 = [\"a\", \"b\" , \"c\"]\n",
    "list2 = [1, 2, 3]\n",
    "\n",
    "for x in list2:\n",
    "    list1.append(x)\n",
    "\n",
    "print(list1)"
   ]
  },
  {
   "cell_type": "markdown",
   "id": "ad996661",
   "metadata": {},
   "source": [
    "Or you can use the **extend()** method, which purpose is to add elements from one list to another list:\n",
    "\n",
    "**Example**\n",
    "\n",
    "Use the **extend()** method to add list2 at the end of list1:\n",
    "\n",
    "```Python    \n",
    "list1 = [\"a\", \"b\" , \"c\"]\n",
    "list2 = [1, 2, 3]\n",
    "\n",
    "list1.extend(list2)\n",
    "print(list1)\n",
    "```"
   ]
  },
  {
   "cell_type": "code",
   "execution_count": null,
   "id": "2574fcb6",
   "metadata": {},
   "outputs": [],
   "source": [
    "list1 = [\"a\", \"b\" , \"c\"]\n",
    "list2 = [1, 2, 3]\n",
    "\n",
    "list1.extend(list2)\n",
    "print(list1)"
   ]
  },
  {
   "cell_type": "markdown",
   "id": "75c9af76",
   "metadata": {},
   "source": [
    "#### Python - List Methods"
   ]
  },
  {
   "cell_type": "markdown",
   "id": "d957cea2",
   "metadata": {},
   "source": [
    "**List Methods**\n",
    "\n",
    "Python has a set of built-in methods that you can use on lists.\n",
    "\n",
    "|Method|Description|\n",
    "|:-------|:----------------------------------------------------------------------------------------|\n",
    "|**append()**|Adds an element at the end of the list|\n",
    "|**clear()**|Removes all the elements from the list|\n",
    "|**copy()**|Returns a copy of the list|\n",
    "|**count()**|Returns the number of elements with the specified value|\n",
    "|**extend()**|Add the elements of a list (or any iterable), to the end of the current list|\n",
    "|**index()**|Returns the index of the first element with the specified value|\n",
    "|**insert()**|Adds an element at the specified position|\n",
    "|**pop()**|Removes the element at the specified position|\n",
    "|**remove()**|Removes the item with the specified value|\n",
    "|**reverse()**|Reverses the order of the list|\n",
    "|**sort()**|Sorts the list|\n"
   ]
  }
 ],
 "metadata": {
  "kernelspec": {
   "display_name": "Python 3 (ipykernel)",
   "language": "python",
   "name": "python3"
  },
  "language_info": {
   "codemirror_mode": {
    "name": "ipython",
    "version": 3
   },
   "file_extension": ".py",
   "mimetype": "text/x-python",
   "name": "python",
   "nbconvert_exporter": "python",
   "pygments_lexer": "ipython3",
   "version": "3.9.12"
  }
 },
 "nbformat": 4,
 "nbformat_minor": 5
}
