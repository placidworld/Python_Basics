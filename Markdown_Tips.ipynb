{
 "cells": [
  {
   "cell_type": "markdown",
   "id": "910587be",
   "metadata": {},
   "source": [
    "# What Is Markdown? <br/>\n",
    "* Lightweight markup language with a plain text formatting syntax <br/>\n",
    "* Can be converted into HTML/XHTML and other formats <br/>\n",
    "* It's main purpose is readability and ease of use <br/>"
   ]
  },
  {
   "cell_type": "markdown",
   "id": "21cc1a7e",
   "metadata": {},
   "source": [
    "# What Is it Used For? <br/>\n",
    "* Readme Files (Github, etc) <br/>\n",
    "* Forum & Blog Posts <br/>\n",
    "* Used In Many Static Site Generators <br/>"
   ]
  },
  {
   "cell_type": "markdown",
   "id": "dad61a7f",
   "metadata": {},
   "source": [
    "# Some Things You Can Format <br/>\n",
    "* Headings <br/>\n",
    "* Blockes of Code <br/>\n",
    "* Lists <br/>\n",
    "* Images <br/>\n",
    "* Emphasis <br/>\n",
    "* Links <br/>\n",
    "* Blockquotes <br/>\n",
    "* Horizontal Rules <br/>"
   ]
  },
  {
   "cell_type": "markdown",
   "id": "b92b7614",
   "metadata": {},
   "source": [
    "# Markdown Editors <br/>\n",
    "* Text Editor Extensions (VSCode, Atom, etc) <br/>\n",
    "* MarkPad <br/>\n",
    "* HarooPad <br/>\n",
    "* MarkdownPad2 <br/>\n",
    "* Typora <br/>"
   ]
  },
  {
   "cell_type": "markdown",
   "id": "9932c17c",
   "metadata": {},
   "source": [
    "**Test the following code**<br/>\n",
    ">\\#  Heading 1 <br/>\n",
    ">\\## Heading 2 <br/>\n",
    ">\\### Heading 3 <br/>\n",
    ">\\#### Heading 4 <br/>\n",
    ">\\##### Heading 5 <br/>\n",
    ">\\###### Heading 6 <br/>"
   ]
  },
  {
   "cell_type": "markdown",
   "id": "47e50138",
   "metadata": {},
   "source": [
    "**Test the following code**<br/>\n",
    "```\n",
    "#  Heading 1\n",
    "## Heading 2\n",
    "### Heading 3\n",
    "#### Heading 4\n",
    "##### Heading 5\n",
    "###### Heading 6\n",
    "```"
   ]
  },
  {
   "cell_type": "code",
   "execution_count": null,
   "id": "1832d8e4",
   "metadata": {},
   "outputs": [],
   "source": [
    "#  Heading 1\n",
    "## Heading 2\n",
    "### Heading 3\n",
    "#### Heading 4\n",
    "##### Heading 5\n",
    "###### Heading 6"
   ]
  },
  {
   "cell_type": "markdown",
   "id": "40780c46",
   "metadata": {},
   "source": [
    "## **How to make words/letters/numbers etc** *Italic*  "
   ]
  },
  {
   "cell_type": "markdown",
   "id": "63a83610",
   "metadata": {},
   "source": [
    "# **use** single * <br/> \n",
    "> __*__ <br/>\n",
    "> <br/>\n",
    "> **```*This text* is italic. ```**<br/>"
   ]
  },
  {
   "cell_type": "markdown",
   "id": "916982d3",
   "metadata": {},
   "source": [
    "*This text* is italic. "
   ]
  },
  {
   "cell_type": "markdown",
   "id": "8da6d958",
   "metadata": {},
   "source": [
    "## use single _ also can make words/letters/numbers etc italic. <br/>\n",
    "> **_** <br/>\n",
    "> <br/>\n",
    "> **```_This text_ is italic. ```**<br/>"
   ]
  },
  {
   "cell_type": "markdown",
   "id": "319017ad",
   "metadata": {},
   "source": [
    "_This text_ is italic. "
   ]
  },
  {
   "cell_type": "markdown",
   "id": "0322d3f5",
   "metadata": {},
   "source": [
    "## **Strong/Bold** "
   ]
  },
  {
   "cell_type": "markdown",
   "id": "b81c145f",
   "metadata": {},
   "source": [
    "### Use double ** <br/>\n",
    "> \\*\\* <br/>\n",
    "> <br/>\n",
    "> ```**This text** is italic.```"
   ]
  },
  {
   "cell_type": "markdown",
   "id": "06449f41",
   "metadata": {},
   "source": [
    "**This text** is italic"
   ]
  },
  {
   "cell_type": "markdown",
   "id": "dc378529",
   "metadata": {},
   "source": [
    "### Use double __ <br/>\n",
    "> **\\_\\_** <br/>\n",
    "> <br/>\n",
    "> **\\_\\_This text\\_\\_ is italic.**"
   ]
  },
  {
   "cell_type": "markdown",
   "id": "b0388049",
   "metadata": {},
   "source": [
    "__This Text__ is italic."
   ]
  },
  {
   "cell_type": "markdown",
   "id": "8c522a77",
   "metadata": {},
   "source": [
    "## **Strikethrough**"
   ]
  },
  {
   "cell_type": "markdown",
   "id": "5598ebec",
   "metadata": {},
   "source": [
    "### **Use ~~** <br/>\n",
    "> **\\~\\~** <br/>\n",
    "> <br/>\n",
    "> **```~~This text~~ is italic.```**\n"
   ]
  },
  {
   "cell_type": "markdown",
   "id": "fbcaf1d1",
   "metadata": {},
   "source": [
    "~~This text~~ is strikethrough!"
   ]
  },
  {
   "cell_type": "markdown",
   "id": "1fef01a3",
   "metadata": {},
   "source": [
    "### Horizontal Rule "
   ]
  },
  {
   "cell_type": "markdown",
   "id": "95be3d99",
   "metadata": {},
   "source": [
    "### Escape special characters such as **\\*** with **\\\\** <br/>\n",
    "> **\\\\** <br/>\n",
    "> <br/>\n",
    "> **```\\*This text\\* is italic.```** "
   ]
  },
  {
   "cell_type": "markdown",
   "id": "d074c6e9",
   "metadata": {},
   "source": [
    "**Characters You Can Escape**\n",
    "You can use a backslash to escape the following characters.\n",
    "\n",
    "|Character| Name|\n",
    "|:-------------:|:---------------------------------------------------|\n",
    "|\\\\|backslash|\n",
    "|`|backtick (see also escaping backticks in code)|\n",
    "|*|asterisk|\n",
    "|_|underscore|\n",
    "|{ }|curly braces|\n",
    "|[ ]|brackets|\n",
    "|< >|angle brackets|\n",
    "|( )|parentheses|\n",
    "|#|pound sign|\n",
    "|+|plus sign|\n",
    "|-|minus sign (hyphen)|\n",
    "|.|dot|\n",
    "|!|exclamation mark|\n",
    "|||pipe (see also escaping pipe in tables)|"
   ]
  },
  {
   "cell_type": "markdown",
   "id": "b16bf1af",
   "metadata": {},
   "source": [
    "\\*This text\\* is italic."
   ]
  },
  {
   "cell_type": "markdown",
   "id": "ea04c25e",
   "metadata": {},
   "source": [
    "### **Blockquote** <br/>\n",
    "> **\\>** <br/>\n",
    "> <br/>\n",
    "> **```>This is a quote.```**<br/>"
   ]
  },
  {
   "cell_type": "markdown",
   "id": "e76e7fea",
   "metadata": {},
   "source": [
    "> **```<p>This is a paragraph</p>```**\n",
    ">> **``` Hurry, this is Nested Blockquotes ```**"
   ]
  },
  {
   "cell_type": "markdown",
   "id": "41152f2c",
   "metadata": {},
   "source": [
    "> This is a quote. "
   ]
  },
  {
   "cell_type": "markdown",
   "id": "4256530d",
   "metadata": {},
   "source": [
    "**Blockquotes with Other Elements**\n",
    "```\n",
    "> #### The Quarterly results look great!\n",
    ">\n",
    "> - Revenue was off the chart.\n",
    "> - Profits were higher than ever.\n",
    ">\n",
    ">  *Everything* is going according to **plan**.\n",
    "```"
   ]
  },
  {
   "cell_type": "markdown",
   "id": "59cb0d8a",
   "metadata": {},
   "source": [
    "> #### The Quarterly results look great!\n",
    ">\n",
    "> - Revenue was off the chart.\n",
    "> - Profits were higher than ever.\n",
    ">\n",
    ">*Everything* is going according to **plan**."
   ]
  },
  {
   "cell_type": "markdown",
   "id": "f0038978",
   "metadata": {},
   "source": [
    "### Links <br/>"
   ]
  },
  {
   "cell_type": "markdown",
   "id": "1fdb35d1",
   "metadata": {},
   "source": [
    "> **Use _[alias of the link](actual url)_** <br/>\n",
    "**``` \n",
    "[Chase]<br/>(https://www.chase.com/)\n",
    "```**"
   ]
  },
  {
   "cell_type": "code",
   "execution_count": null,
   "id": "45db3b81",
   "metadata": {},
   "outputs": [],
   "source": [
    "[Chase](https://www.chase.com/)"
   ]
  },
  {
   "cell_type": "code",
   "execution_count": null,
   "id": "d26f3989",
   "metadata": {},
   "outputs": [],
   "source": [
    "> **Use _[alias of the link](acutal URL \"Label of the site\")_**<br/>\n",
    "> <br/>\n",
    "**```\n",
    "[Chase](https://www.chase.com \"Chase Website\")\n",
    "```**"
   ]
  },
  {
   "cell_type": "markdown",
   "id": "5e85c358",
   "metadata": {},
   "source": [
    "[Chase](https://www.chase.com\n",
    "        \"Chase Website\")"
   ]
  },
  {
   "cell_type": "markdown",
   "id": "d0d1f02c",
   "metadata": {},
   "source": [
    "### UL <br/>"
   ]
  },
  {
   "cell_type": "markdown",
   "id": "6b8c4374",
   "metadata": {},
   "source": [
    "### **Use below code to achieve the goal of itemization** <br/>\n",
    "> **\\*** <br/>\n",
    "> **\\-** <br/>\n",
    "> **\\+** <br/>\n",
    "\n",
    "```\n",
    "* Item 1\n",
    "* Item 2\n",
    "* Item 3\n",
    "```"
   ]
  },
  {
   "cell_type": "markdown",
   "id": "5fbd95d4",
   "metadata": {},
   "source": [
    "* Item 1\n",
    "* Item 2\n",
    "* Item 3"
   ]
  },
  {
   "cell_type": "markdown",
   "id": "48af8107",
   "metadata": {},
   "source": [
    "## **Nested Itemization using Tab** <br/>\n",
    "> **\\* Item 1** <br/> \n",
    "> **\\* Item 2** <br/> \n",
    "> **\\* Item 3** <br/>\n",
    ">    \\* Nested Item 1 <br/>\n",
    ">    \\* Nested Item 2 <br/>\n",
    ">    \\* Nested Item 3 <br/>"
   ]
  },
  {
   "cell_type": "markdown",
   "id": "faf759e8",
   "metadata": {},
   "source": [
    "* Item 1\n",
    "* Item 2\n",
    "* Item 3\n",
    "    * Nested Item 1\n",
    "    * Nested Item 2\n",
    "    * Nested Item 3"
   ]
  },
  {
   "cell_type": "markdown",
   "id": "fc106798",
   "metadata": {},
   "source": [
    "- First item\n",
    "- Second item\n",
    "- Third item\n",
    "- Fourth item\n",
    "    - Indented first item\n",
    "    - Indented second item\n",
    "- Fifth item"
   ]
  },
  {
   "cell_type": "markdown",
   "id": "8a9bf6de",
   "metadata": {},
   "source": [
    "### OL <br/>"
   ]
  },
  {
   "cell_type": "markdown",
   "id": "a10ca89c",
   "metadata": {},
   "source": [
    "> **1. Item 1** <br/>\n",
    "> **2. Item 2** <br/>\n",
    "> **3. Item 3** <br/>"
   ]
  },
  {
   "cell_type": "markdown",
   "id": "28846528",
   "metadata": {},
   "source": [
    "1. Item 1\n",
    "2. Item 2\n",
    "3. Item 3"
   ]
  },
  {
   "cell_type": "markdown",
   "id": "1bfaf17a",
   "metadata": {},
   "source": [
    "### Inline Code Block"
   ]
  },
  {
   "cell_type": "markdown",
   "id": "174e6cbb",
   "metadata": {},
   "source": [
    "> **```<p>This is a paragraph</p>```**"
   ]
  },
  {
   "cell_type": "markdown",
   "id": "0bf6809b",
   "metadata": {},
   "source": [
    "### Images"
   ]
  },
  {
   "cell_type": "markdown",
   "id": "773db012",
   "metadata": {},
   "source": [
    "![Google Logo] <br/>\n",
    "(https://cdn.7boats.com/academy/wp-content/uploads/2017/04/google-images.jpg) <br/>"
   ]
  },
  {
   "cell_type": "markdown",
   "id": "e35c4570",
   "metadata": {},
   "source": [
    "### Tables\n",
    "```\n",
    "|Dog's Name| Dog's Age|\n",
    "|:-------------:|------------|\n",
    "|Snickers|2|\n",
    "|Lunch Box|9|\n",
    "```\n",
    "header and cell data can be aligned to the left or right of columns in a table The below example explains about alignment\n",
    "\n",
    "* Content to align left by prefix colon : before dashes - :---\n",
    "* Right align by suffix colon : after dashes - ---:\n",
    "* Centre align by prefix and suffix colon : for dashes - :---:"
   ]
  },
  {
   "cell_type": "markdown",
   "id": "0a652c2f",
   "metadata": {},
   "source": [
    "|Dog's Name| Dog's Age|\n",
    "|:-------------:|------------|\n",
    "|Snickers|2|\n",
    "|Lunch Box|9|"
   ]
  },
  {
   "cell_type": "markdown",
   "id": "ffa49c9b",
   "metadata": {},
   "source": [
    "### Task Lists"
   ]
  },
  {
   "cell_type": "markdown",
   "id": "86ddbebb",
   "metadata": {},
   "source": [
    "```\n",
    "* [X] Task 1\n",
    "* [X] Task 2\n",
    "* [] Task3\n",
    "```"
   ]
  },
  {
   "cell_type": "markdown",
   "id": "e991018a",
   "metadata": {},
   "source": [
    "* [X] Task 1\n",
    "* [X] Task 2\n",
    "* [] Task3"
   ]
  },
  {
   "cell_type": "code",
   "execution_count": null,
   "id": "d4493993",
   "metadata": {},
   "outputs": [],
   "source": []
  }
 ],
 "metadata": {
  "kernelspec": {
   "display_name": "Python 3 (ipykernel)",
   "language": "python",
   "name": "python3"
  },
  "language_info": {
   "codemirror_mode": {
    "name": "ipython",
    "version": 3
   },
   "file_extension": ".py",
   "mimetype": "text/x-python",
   "name": "python",
   "nbconvert_exporter": "python",
   "pygments_lexer": "ipython3",
   "version": "3.9.12"
  }
 },
 "nbformat": 4,
 "nbformat_minor": 5
}
