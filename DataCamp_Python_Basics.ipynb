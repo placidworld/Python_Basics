{
 "cells": [
  {
   "cell_type": "markdown",
   "id": "37b11b13",
   "metadata": {},
   "source": [
    "* Pythong Basics\n",
    "* Python Lists\n",
    "* Functions and Packages\n",
    "* NumPy"
   ]
  },
  {
   "cell_type": "markdown",
   "id": "1edaecfa",
   "metadata": {},
   "source": [
    "**The Python Interface** \n",
    "\n",
    "In the Python script on the right, you can type Python code to solve the exercises. If you hit Run Code or Submit Answer, your python script (script.py) is executed and the output is shown in the IPython Shell. Submit Answer checks whether your submission is correct and gives you feedback.\n",
    "\n",
    "You can hit Run Code and Submit Answer as often as you want. If you're stuck, you can click Get Hint, and ultimately Get Solution.\n",
    "\n",
    "You can also use the IPython Shell interactively by simply typing commands and hitting Enter. When you work in the shell directly, your code will not be checked for correctness so it is a great way to experiment.\n",
    "\n",
    "**Instructions**\n",
    "* Experiment in the IPython Shell; type 5 / 8, for example.\n",
    "* Add another line of code to the Python script on the top-right (not in the Shell): print(7 + 10).\n",
    "* Hit Submit Answer to execute the Python script and receive feedback."
   ]
  },
  {
   "cell_type": "code",
   "execution_count": 1,
   "id": "bc270c37",
   "metadata": {},
   "outputs": [
    {
     "name": "stdout",
     "output_type": "stream",
     "text": [
      "0.625\n",
      "17\n"
     ]
    }
   ],
   "source": [
    "# Example, do not modify\n",
    "print(5 / 8)\n",
    "\n",
    "# print the sum of 7 and 10\n",
    "print(7 + 10)"
   ]
  },
  {
   "cell_type": "markdown",
   "id": "deaa2f26",
   "metadata": {},
   "source": [
    "**When to use Python?**<br/>\n",
    "\n",
    "Python is a pretty versatile language. For which applications can you use Python? <br/>\n",
    "\n",
    "**Instructions**\n",
    "Possible Answers\n",
    "\n",
    "* [] You want to do some quick calculations.<br/>\n",
    "\n",
    "* [] For your new business, you want to develop a database-driven website.<br/>\n",
    "\n",
    "* [] Your boss asks you to clean and analyze the results of the latest satisfaction survey.<br/>\n",
    "\n",
    "* [X] All of the above."
   ]
  },
  {
   "cell_type": "markdown",
   "id": "112f85a0",
   "metadata": {},
   "source": [
    "**Any comments?** <br/>\n",
    "\n",
    "Something that Hugo didn't mention in his videos is that you can add comments to your Python scripts. Comments are important to make sure that you and others can understand what your code is about.\n",
    "\n",
    "To add comments to your Python script, you can use the # tag. These comments are not run as Python code, so they will not influence your result. As an example, take the comment in the editor, # Division; it is completely ignored during execution.\n",
    "\n",
    "**Instructions**<br/>\n",
    "\n",
    "Above the print(7 + 10), add the comment\n",
    "\n",
    "```# Addition```"
   ]
  },
  {
   "cell_type": "code",
   "execution_count": 2,
   "id": "35257bd7",
   "metadata": {},
   "outputs": [
    {
     "name": "stdout",
     "output_type": "stream",
     "text": [
      "0.625\n",
      "17\n"
     ]
    }
   ],
   "source": [
    "# Division\n",
    "print(5 / 8)\n",
    "\n",
    "# Addition\n",
    "print(7 + 10)"
   ]
  },
  {
   "cell_type": "markdown",
   "id": "a8dd52f7",
   "metadata": {},
   "source": [
    "**Python as a calculator** <br/>\n",
    "\n",
    "Python is perfectly suited to do basic calculations. Apart from addition, subtraction, multiplication and division, there is also support for more advanced operations such as:\n",
    "\n",
    "* Exponentiation: \\*\\*. This operator raises the number to its left to the power of the number to its right. For example 4**2 will give 16.\n",
    "* Modulo: %. This operator returns the remainder of the division of the number to the left by the number on its right. For example 18 % 7 equals 4.\n",
    "\n",
    "The code in the script gives some examples.\n",
    "\n",
    "**Instructions** <br/>\n",
    "\n",
    "Suppose you have $100, which you can invest with a 10% return each year. After one year, it's  dollars, and after two years it's . Add code to calculate how much money you end up with after 7 years, and print the result."
   ]
  },
  {
   "cell_type": "code",
   "execution_count": null,
   "id": "45da03f6",
   "metadata": {},
   "outputs": [],
   "source": [
    "# Add this code below to show all outputs in the cell.\n",
    "\n",
    "from IPython.core.interactiveshell import InteractiveShell\n",
    "InteractiveShell.ast_node_interactivity = \"all\""
   ]
  },
  {
   "cell_type": "code",
   "execution_count": 3,
   "id": "11c3d0af",
   "metadata": {
    "scrolled": true
   },
   "outputs": [
    {
     "name": "stdout",
     "output_type": "stream",
     "text": [
      "10\n",
      "0\n",
      "15\n",
      "5.0\n",
      "4\n",
      "16\n",
      "194.87171000000012\n"
     ]
    }
   ],
   "source": [
    "# Addition, subtraction\n",
    "print(5 + 5)\n",
    "print(5 - 5)\n",
    "\n",
    "# Multiplication, division, modulo, and exponentiation\n",
    "print(3 * 5)\n",
    "print(10 / 2)\n",
    "print(18 % 7)\n",
    "print(4 ** 2)\n",
    "\n",
    "# How much is your $100 worth after 7 years?\n",
    "start_amt = 100\n",
    "rate = 1.1\n",
    "result = start_amt * (rate ** 7)\n",
    "print(result)"
   ]
  },
  {
   "cell_type": "markdown",
   "id": "b4ed4cc3",
   "metadata": {},
   "source": [
    "**Variable Assignment** <br/>\n",
    "\n",
    "In Python, a variable allows you to refer to a value with a name. To create a variable use =, like this example:\n",
    "\n",
    "```x = 5```<br/><br/>\n",
    "You can now use the name of this variable, x, instead of the actual value, 5.\n",
    "\n",
    "Remember, = in Python means assignment, it doesn't test equality!\n",
    "\n",
    "**Instructions**\n",
    "* Create a variable savings with the value 100.\n",
    "* Check out this variable by typing print(savings) in the script."
   ]
  },
  {
   "cell_type": "code",
   "execution_count": 5,
   "id": "633d5f1e",
   "metadata": {},
   "outputs": [
    {
     "name": "stdout",
     "output_type": "stream",
     "text": [
      "100\n"
     ]
    }
   ],
   "source": [
    "# Create a variable savings\n",
    "savings = 100\n",
    "\n",
    "# Print out savings\n",
    "print(savings)"
   ]
  },
  {
   "cell_type": "markdown",
   "id": "dfd60321",
   "metadata": {},
   "source": [
    "**Calculations with variables**<br/>\n",
    "\n",
    "Remember how you calculated the money you ended up with after 7 years of investing $100? You did something like this:\n",
    "\n",
    "```100 * 1.1 ** 7```<br/><br/>\n",
    "Instead of calculating with the actual values, you can use variables instead. The savings variable you've created in the previous exercise represents the $100 you started with. It's up to you to create a new variable to represent 1.1 and then redo the calculations!\n",
    "\n",
    "**Instructions**\n",
    "* Create a variable growth_multiplier, equal to 1.1.\n",
    "* Create a variable, result, equal to the amount of money you saved after 7 years.\n",
    "* Print out the value of result."
   ]
  },
  {
   "cell_type": "code",
   "execution_count": 6,
   "id": "3ccf3729",
   "metadata": {},
   "outputs": [
    {
     "name": "stdout",
     "output_type": "stream",
     "text": [
      "194.87171000000012\n"
     ]
    }
   ],
   "source": [
    "# Create a variable savings\n",
    "savings = 100\n",
    "\n",
    "# Create a variable growth_multiplier\n",
    "growth_multiplier = 1.1\n",
    "\n",
    "# Calculate result\n",
    "result = savings * growth_multiplier ** 7\n",
    "\n",
    "# Print out result\n",
    "print(result)"
   ]
  },
  {
   "cell_type": "markdown",
   "id": "725e7506",
   "metadata": {},
   "source": [
    "**Other variable types**<br/>\n",
    "\n",
    "In the previous exercise, you worked with two Python data types:\n",
    "\n",
    "* int, or integer: a number without a fractional part. savings, with the value 100, is an example of an integer.\n",
    "* float, or floating point: a number that has both an integer and fractional part, separated by a point. growth_multiplier, with the value 1.1, is an example of a float.\n",
    "\n",
    "Next to numerical data types, there are two other very common data types:\n",
    "\n",
    "* str, or string: a type to represent text. You can use single or double quotes to build a string.\n",
    "* bool, or boolean: a type to represent logical values. Can only be True or False (the capitalization is important!).\n",
    "\n",
    "**Instructions**\n",
    "* Create a new string, desc, with the value \"compound interest\".\n",
    "* Create a new boolean, profitable, with the value True."
   ]
  },
  {
   "cell_type": "code",
   "execution_count": 8,
   "id": "f7ab8cdf",
   "metadata": {},
   "outputs": [],
   "source": [
    "# Create a variable desc\n",
    "desc = \"compound interest\"\n",
    "\n",
    "# Create a variable profitable\n",
    "profitable = True"
   ]
  },
  {
   "cell_type": "markdown",
   "id": "0a4b592e",
   "metadata": {},
   "source": [
    "**Guess the type**<br/>\n",
    "\n",
    "To find out the type of a value or a variable that refers to that value, you can use the type() function. Suppose you've defined a variable a, but you forgot the type of this variable. To determine the type of a, simply execute:\n",
    "\n",
    "> type(a)<br/>\n",
    "\n",
    "We already went ahead and created three variables: a, b and c. You can use the IPython shell to discover their type. Which of the following options is correct?\n",
    "\n",
    "**Instructions**<br/>\n",
    "Possible Answers\n",
    "\n",
    "* [] a is of type int, b is of type str, c is of type bool\n",
    "\n",
    "* [] a is of type float, b is of type bool, c is of type str\n",
    "\n",
    "* [X]a is of type float, b is of type str, c is of type bool\n",
    "\n",
    "* [] a is of type int, b is of type bool, c is of type str"
   ]
  },
  {
   "cell_type": "markdown",
   "id": "29d3a0bd",
   "metadata": {},
   "source": [
    "**Operations with other types** <br/>\n",
    "\n",
    "Hugo mentioned that different types behave differently in Python.\n",
    "\n",
    "When you sum two strings, for example, you'll get different behavior than when you sum two integers or two booleans.\n",
    "\n",
    "In the script some variables with different types have already been created. It's up to you to use them.\n",
    "\n",
    "**Instructions**\n",
    "\n",
    "* Calculate the product of savings and growth_multiplier. Store the result in year1.\n",
    "* What do you think the resulting type will be? Find out by printing out the type of year1.\n",
    "* Calculate the sum of desc and desc and store the result in a new variable doubledesc.\n",
    "* Print out doubledesc. Did you expect this?"
   ]
  },
  {
   "cell_type": "code",
   "execution_count": 11,
   "id": "90664984",
   "metadata": {
    "scrolled": true
   },
   "outputs": [
    {
     "name": "stdout",
     "output_type": "stream",
     "text": [
      "<class 'float'>\n",
      "compound interestcompound interest\n"
     ]
    }
   ],
   "source": [
    "savings = 100\n",
    "growth_multiplier = 1.1\n",
    "desc = \"compound interest\"\n",
    "\n",
    "# Assign product of savings and growth_multiplier to year1\n",
    "year1 = savings * growth_multiplier\n",
    "\n",
    "# Print the type of year1\n",
    "print(type(year1))\n",
    "\n",
    "# Assign sum of desc and desc to doubledesc\n",
    "doubledesc = desc + desc\n",
    "\n",
    "# Print out doubledesc\n",
    "print(doubledesc)"
   ]
  },
  {
   "cell_type": "markdown",
   "id": "c10dd41d",
   "metadata": {},
   "source": [
    "**Type conversion**<br/>\n",
    "\n",
    "Using the + operator to paste together two strings can be very useful in building custom messages.\n",
    "\n",
    "Suppose, for example, that you've calculated the return of your investment and want to summarize the results in a string. Assuming the integer savings and float result are defined, you can try something like this:\n",
    "\n",
    "> **```print(\"I started with $\" + savings + \" and now have $\" + result + \". Awesome!\")```**<br/>\n",
    "\n",
    "This will not work, though, as you cannot simply sum strings and integers/floats.\n",
    "\n",
    "To fix the error, you'll need to explicitly convert the types of your variables. More specifically, you'll need str(), to convert a value into a string. str(savings), for example, will convert the integer savings to a string.\n",
    "\n",
    "Similar functions such as int(), float() and bool() will help you convert Python values into any type.\n",
    "\n",
    "**Instructions**\n",
    "\n",
    "* Hit Run Code to run the code. Try to understand the error message.\n",
    "* Fix the code such that the printout runs without errors; use the function str() to convert the variables to strings.\n",
    "* Convert the variable pi_string to a float and store this float as a new variable, pi_float."
   ]
  },
  {
   "cell_type": "code",
   "execution_count": 12,
   "id": "4638cb4b",
   "metadata": {
    "scrolled": true
   },
   "outputs": [
    {
     "name": "stdout",
     "output_type": "stream",
     "text": [
      "I started with $100 and now have $194.87171000000012. Awesome!\n"
     ]
    }
   ],
   "source": [
    "# Definition of savings and result\n",
    "savings = 100\n",
    "result = 100 * 1.10 ** 7\n",
    "\n",
    "# Fix the printout\n",
    "print(\"I started with $\" + str(savings) + \" and now have $\" + str(result) + \". Awesome!\")\n",
    "\n",
    "# Definition of pi_string\n",
    "pi_string = \"3.1415926\"\n",
    "\n",
    "# Convert pi_string into float: pi_float\n",
    "pi_float = float(pi_string)"
   ]
  },
  {
   "cell_type": "markdown",
   "id": "4d4edcca",
   "metadata": {},
   "source": [
    "**Can Python handle everything?**<br/>\n",
    "\n",
    "Now that you know something more about combining different sources of information, have a look at the four Python expressions below. Which one of these will throw an error? You can always copy and paste this code in the IPython Shell to find out!\n",
    "\n",
    "**Instructions** <br/>\n",
    "\n",
    "Possible Answers\n",
    "\n",
    "* [] \"I can add integers, like \" + str(5) + \" to strings.\"\n",
    "\n",
    "* [] \"I said \" + (\"Hey \" * 2) + \"Hey!\"\n",
    "\n",
    "* [X] \"The correct answer to this multiple choice exercise is answer number \" + 2\n",
    "\n",
    "* [] True + False"
   ]
  },
  {
   "cell_type": "markdown",
   "id": "8800489c",
   "metadata": {},
   "source": [
    "**Create a list**<br/>\n",
    "\n",
    "As opposed to int, bool etc., a list is a compound data type; you can group values together:\n",
    "\n",
    "> a = \"is\" <br/>\n",
    "> b = \"nice\" <br/>\n",
    "> my_list = [\"my\", \"list\", a, b] <br/>\n",
    "\n",
    "\n",
    "After measuring the height of your family, you decide to collect some information on the house you're living in. The areas of the different parts of your house are stored in separate variables for now, as shown in the script.\n",
    "\n",
    "**Instructions**\n",
    "\n",
    "* Create a list, areas, that contains the area of the hallway (hall), kitchen (kit), living room (liv), bedroom (bed) and bathroom (bath), in this order. Use the predefined variables.\n",
    "* Print areas with the print() function."
   ]
  },
  {
   "cell_type": "code",
   "execution_count": null,
   "id": "aee7362b",
   "metadata": {},
   "outputs": [],
   "source": [
    "# area variables (in square meters)\n",
    "hall = 11.25\n",
    "kit = 18.0\n",
    "liv = 20.0\n",
    "bed = 10.75\n",
    "bath = 9.50\n",
    "\n",
    "# Create list areas\n",
    "areas = [hall, kit, liv, bed, bath]\n",
    "\n",
    "# Print areas\n",
    "print(areas)"
   ]
  },
  {
   "cell_type": "markdown",
   "id": "d25a666d",
   "metadata": {},
   "source": [
    "**Create list with different types**<br/>\n",
    "\n",
    "A list can contain any Python type. Although it's not really common, a list can also contain a mix of Python types including strings, floats, booleans, etc.\n",
    "\n",
    "The printout of the previous exercise wasn't really satisfying. It's just a list of numbers representing the areas, but you can't tell which area corresponds to which part of your house.\n",
    "\n",
    "The code in the editor is the start of a solution. For some of the areas, the name of the corresponding room is already placed in front. Pay attention here! \"bathroom\" is a string, while bath is a variable that represents the float 9.50 you specified earlier.\n",
    "\n",
    "**Instructions**\n",
    "\n",
    "- Finish the code that creates the areas list. Build the list so that the list first contains the name of each room as a string and then its area. In other words, add the strings \"hallway\", \"kitchen\" and \"bedroom\" at the appropriate locations.\n",
    "- Print areas again; is the printout more informative this time?"
   ]
  },
  {
   "cell_type": "code",
   "execution_count": null,
   "id": "190b4609",
   "metadata": {},
   "outputs": [],
   "source": [
    "# area variables (in square meters)\n",
    "hall = 11.25\n",
    "kit = 18.0\n",
    "liv = 20.0\n",
    "bed = 10.75\n",
    "bath = 9.50\n",
    "\n",
    "# Adapt list areas\n",
    "areas = [\"hallway\", hall, \"kitchen\", kit, \"living room\", liv, \"bedroom\", bed, \"bathroom\", bath]\n",
    "\n",
    "# Print areas\n",
    "print(areas)"
   ]
  },
  {
   "cell_type": "markdown",
   "id": "7286cfb5",
   "metadata": {},
   "source": [
    "** Select the valid list** <br/>\n",
    "\n",
    "A list can contain any Python type. But a list itself is also a Python type. That means that a list can also contain a list! Python is getting funkier by the minute, but fear not, just remember the list syntax:\n",
    "\n",
    "> **my_list = [el1, el2, el3]**\n",
    "\n",
    "Can you tell which ones of the following lines of Python code are valid ways to build a list?\n",
    "\n",
    "+ A.  [1, 3, 4, 2] \n",
    "+ B.  [[1, 2, 3], [4, 5, 7]] \n",
    "+ C.  [1 + 2, \"a\" * 5, 3]\n",
    "\n",
    "**Instructions** \n",
    "\n",
    "Possible Answers\n",
    "\n",
    "* [X] A, B and C\n",
    "\n",
    "* [] B\n",
    "\n",
    "* [] B and C\n",
    "\n",
    "* [] C"
   ]
  },
  {
   "cell_type": "markdown",
   "id": "03bbbf35",
   "metadata": {},
   "source": [
    "**List of lists**<br/>\n",
    "\n",
    "As a data scientist, you'll often be dealing with a lot of data, and it will make sense to group some of this data.\n",
    "\n",
    "Instead of creating a flat list containing strings and floats, representing the names and areas of the rooms in your house, you can create a list of lists. The script in the editor can already give you an idea.\n",
    "\n",
    "Don't get confused here: \"hallway\" is a string, while hall is a variable that represents the float 11.25 you specified earlier.\n",
    "\n",
    "**Instructions**\n",
    "\n",
    "- Finish the list of lists so that it also contains the bedroom and bathroom data. Make sure you enter these in order!\n",
    "- Print out house; does this way of structuring your data make more sense?\n",
    "- Print out the type of house. Are you still dealing with a list?"
   ]
  },
  {
   "cell_type": "code",
   "execution_count": null,
   "id": "07f1febd",
   "metadata": {},
   "outputs": [],
   "source": [
    "# area variables (in square meters)\n",
    "hall = 11.25\n",
    "kit = 18.0\n",
    "liv = 20.0\n",
    "bed = 10.75\n",
    "bath = 9.50\n",
    "\n",
    "# house information as list of lists\n",
    "house = [[\"hallway\", hall],\n",
    "         [\"kitchen\", kit],\n",
    "         [\"living room\", liv],\n",
    "         [\"bedroom\", bed],\n",
    "         [\"bathroom\", bath]]\n",
    "\n",
    "# Print out house\n",
    "print(house)\n",
    "\n",
    "# Print out the type of house\n",
    "print(type(house))"
   ]
  },
  {
   "cell_type": "markdown",
   "id": "04726ba2",
   "metadata": {},
   "source": [
    "**Subset and conquer**<br/>\n",
    "\n",
    "Subsetting Python lists is a piece of cake. Take the code sample below, which creates a list x and then selects \"b\" from it. Remember that this is the second element, so it has index 1. You can also use negative indexing.\n",
    "\n",
    "> <br/>\n",
    "> x = [\"a\", \"b\", \"c\", \"d\"] <br/>\n",
    "> x[1] <br/>\n",
    "> x[-3]     # same result!<br/>\n",
    "\n",
    "Remember the areas list from before, containing both strings and floats? Its definition is already in the script. Can you add the correct code to do some Python subsetting?\n",
    "\n",
    "**Instructions**\n",
    "\n",
    "+ Print out the second element from the areas list (it has the value 11.25).\n",
    "+ Subset and print out the last element of areas, being 9.50. Using a negative index makes sense here!\n",
    "+ Select the number representing the area of the living room (20.0) and print it out."
   ]
  },
  {
   "cell_type": "code",
   "execution_count": null,
   "id": "b6be3032",
   "metadata": {},
   "outputs": [],
   "source": [
    "# Create the areas list\n",
    "areas = [\"hallway\", 11.25, \"kitchen\", 18.0, \"living room\", 20.0, \"bedroom\", 10.75, \"bathroom\", 9.50]\n",
    "\n",
    "# Print out second element from areas\n",
    "print(areas[1])\n",
    "\n",
    "# Print out last element from areas\n",
    "print(areas[-1])\n",
    "\n",
    "# Print out the area of the living room\n",
    "print(areas[5])"
   ]
  },
  {
   "cell_type": "markdown",
   "id": "0619802a",
   "metadata": {},
   "source": [
    "**Subset and calculate**<br/>\n",
    "\n",
    "After you've extracted values from a list, you can use them to perform additional calculations. Take this example, where the second and fourth element of a list x are extracted. The strings that result are pasted together using the + operator:\n",
    "\n",
    "> **```x = [\"a\", \"b\", \"c\", \"d\"]```**<br/>\n",
    "> **```print(x[1] + x[3])```**\n",
    "\n",
    "**Instructions**\n",
    "\n",
    "* Using a combination of list subsetting and variable assignment, create a new variable, eat_sleep_area, that contains the sum of the area of the kitchen and the area of the bedroom.\n",
    "* Print the new variable eat_sleep_area."
   ]
  },
  {
   "cell_type": "code",
   "execution_count": null,
   "id": "1b2d40b4",
   "metadata": {},
   "outputs": [],
   "source": [
    "# Create the areas list\n",
    "areas = [\"hallway\", 11.25, \"kitchen\", 18.0, \"living room\", 20.0, \"bedroom\", 10.75, \"bathroom\", 9.50]\n",
    "\n",
    "# Sum of kitchen and bedroom area: eat_sleep_area\n",
    "eat_sleep_area = areas[3] + areas[7]\n",
    "\n",
    "# Print the variable eat_sleep_area\n",
    "print(eat_sleep_area)"
   ]
  },
  {
   "cell_type": "markdown",
   "id": "1a9e2e35",
   "metadata": {},
   "source": [
    "**Slicing and dicing**<br/>\n",
    "\n",
    "Selecting single values from a list is just one part of the story. It's also possible to slice your list, which means selecting multiple elements from your list. Use the following syntax:\n",
    "\n",
    "> **```my_list[start:end]```**\n",
    "\n",
    "The **start** index will be included, while the **end** index is not.\n",
    "\n",
    "The code sample below shows an example. A list with **\"b\"** and **\"c\"**, corresponding to indexes 1 and 2, are selected from a list x:\n",
    "\n",
    "> **```x = [\"a\", \"b\", \"c\", \"d\"]```**<br/>\n",
    "> **```x[1:3]```**\n",
    "\n",
    "The elements with index 1 and 2 are included, while the element with index 3 is not.\n",
    "\n",
    "**Instructions**\n",
    "\n",
    "- Use slicing to create a list, **downstairs**, that contains the first 6 elements of areas.\n",
    "- Do a similar thing to create a new variable, **upstairs**, that contains the last 4 elements of areas.\n",
    "- Print both **downstairs** and **upstairs** using print()."
   ]
  },
  {
   "cell_type": "code",
   "execution_count": null,
   "id": "3b07867a",
   "metadata": {},
   "outputs": [],
   "source": [
    "# Create the areas list\n",
    "areas = [\"hallway\", 11.25, \"kitchen\", 18.0, \"living room\", 20.0, \"bedroom\", 10.75, \"bathroom\", 9.50]\n",
    "\n",
    "# Use slicing to create downstairs\n",
    "downstairs = areas[:6]\n",
    "\n",
    "# Use slicing to create upstairs\n",
    "upstairs = areas[6:]\n",
    "\n",
    "# Print out downstairs and upstairs\n",
    "print(downstairs)\n",
    "print(upstairs)"
   ]
  },
  {
   "cell_type": "markdown",
   "id": "e8842c32",
   "metadata": {},
   "source": [
    "**Slicing and dicing (2)**<br/>\n",
    "\n",
    "In the video, Hugo first discussed the syntax where you specify both where to begin and end the slice of your list:\n",
    "\n",
    "> **```my_list[begin:end]```**<br/>\n",
    "\n",
    "However, it's also possible not to specify these indexes. If you don't specify the **begin** index, Python figures out that you want to start your slice at the beginning of your list. If you don't specify the **end** index, the slice will go all the way to the last element of your list. To experiment with this, try the following commands in the IPython Shell:\n",
    "\n",
    "> **```x = [\"a\", \"b\", \"c\", \"d\"]```**<br/>\n",
    "> **```x[:2]```**<br/>\n",
    "> **```x[2:]```**<br/>\n",
    "> **```x[:]```**<br/>\n",
    "\n",
    "**Instructions**\n",
    "\n",
    "* Create **downstairs** again, as the first **6** elements of **areas**. This time, simplify the slicing by omitting the begin index.\n",
    "* Create **upstairs** again, as the last **4** elements of **areas**. This time, simplify the slicing by omitting the end index."
   ]
  },
  {
   "cell_type": "code",
   "execution_count": null,
   "id": "db1ba69b",
   "metadata": {},
   "outputs": [],
   "source": [
    "# Create the areas list\n",
    "areas = [\"hallway\", 11.25, \"kitchen\", 18.0, \"living room\", 20.0, \"bedroom\", 10.75, \"bathroom\", 9.50]\n",
    "\n",
    "# Alternative slicing to create downstairs\n",
    "downstairs = areas[:6]\n",
    "\n",
    "# Alternative slicing to create upstairs\n",
    "upstairs = areas[6:]"
   ]
  },
  {
   "cell_type": "markdown",
   "id": "2945d840",
   "metadata": {},
   "source": [
    "**Subsetting lists of lists**<br/>\n",
    "\n",
    "You saw before that a Python list can contain practically anything; even other lists! To subset lists of lists, you can use the same technique as before: square brackets. Try out the commands in the following code sample in the IPython Shell:\n",
    "\n",
    "```Python\n",
    "x = [[\"a\", \"b\", \"c\"],\n",
    "     [\"d\", \"e\", \"f\"],\n",
    "     [\"g\", \"h\", \"i\"]]\n",
    "x[2][0]\n",
    "x[2][:2]\n",
    "```\n",
    "x[2] results in a list, that you can subset again by adding additional square brackets.\n",
    "\n",
    "What will house[-1][1] return? house, the list of lists that you created before, is already defined for you in the workspace. You can experiment with it in the IPython Shell.\n",
    "\n",
    "**Instructions**\n",
    "\n",
    "Possible Answers\n",
    "\n",
    "* [] A float: the kitchen area\n",
    "\n",
    "* [] A string: \"kitchen\"\n",
    "\n",
    "* [X] A float: the bathroom area\n",
    "\n",
    "* [] A string: \"bathroom\""
   ]
  },
  {
   "cell_type": "code",
   "execution_count": null,
   "id": "0e32fcfc",
   "metadata": {},
   "outputs": [],
   "source": [
    "# area variables (in square meters)\n",
    "hall = 11.25\n",
    "kit = 18.0\n",
    "liv = 20.0\n",
    "bed = 10.75\n",
    "bath = 9.50\n",
    "\n",
    "# Adapt list areas\n",
    "areas = [\"hallway\", hall, \"kitchen\", kit, \"living room\", liv, \"bedroom\", bed, \"bathroom\", bath]\n",
    "\n",
    "# Print areas\n",
    "print(areas)"
   ]
  },
  {
   "cell_type": "markdown",
   "id": "28682447",
   "metadata": {},
   "source": [
    "**Replace list elements**<br/>\n",
    "\n",
    "Replacing list elements is pretty easy. Simply subset the list and assign new values to the subset. You can select single elements or you can change entire list slices at once.\n",
    "\n",
    "Use the IPython Shell to experiment with the commands below. Can you tell what's happening and why?\n",
    "\n",
    "> **```x = [\"a\", \"b\", \"c\", \"d\"]```**<br/>\n",
    "> **```x[1] = \"r\"```**<br/>\n",
    "**```x[2:] = [\"s\", \"t\"]```**<br/>\n",
    "\n",
    "For this and the following exercises, you'll continue working on the **areas** list that contains the names and areas of different rooms in a house.\n",
    "\n",
    "**Instructions**\n",
    "\n",
    "* Update the area of the bathroom area to be 10.50 square meters instead of 9.50.\n",
    "* Make the **areas** list more trendy! Change **\"living room\"** to **\"chill zone\"**."
   ]
  },
  {
   "cell_type": "code",
   "execution_count": null,
   "id": "e39b9829",
   "metadata": {},
   "outputs": [],
   "source": [
    "# Create the areas list\n",
    "areas = [\"hallway\", 11.25, \"kitchen\", 18.0, \"living room\", 20.0, \"bedroom\", 10.75, \"bathroom\", 9.50]\n",
    "\n",
    "# Correct the bathroom area\n",
    "areas[-1] = 10.50\n",
    "\n",
    "# Change \"living room\" to \"chill zone\"\n",
    "areas[4] = \"chill zone\""
   ]
  },
  {
   "cell_type": "markdown",
   "id": "debee943",
   "metadata": {},
   "source": [
    "**Extend a list**<br/>\n",
    "\n",
    "If you can change elements in a list, you sure want to be able to add elements to it, right? You can use the + operator:\n",
    "\n",
    "> **```x = [\"a\", \"b\", \"c\", \"d\"]```**<br/>\n",
    "> **```y = x + [\"e\", \"f\"]```**<br/>\n",
    "\n",
    "You just won the lottery, awesome! You decide to build a poolhouse and a garage. Can you add the information to the **areas** list?\n",
    "\n",
    "**Instructions**\n",
    "\n",
    "- Use the + operator to paste the list **[\"poolhouse\", 24.5]** to the end of the **areas** list. Store the resulting list as **areas_1**.\n",
    "- Further extend **areas_1** by adding data on your garage. Add the string **\"garage\"** and float **15.45**. Name the resulting list **areas_2**."
   ]
  },
  {
   "cell_type": "code",
   "execution_count": null,
   "id": "5e8b4d4c",
   "metadata": {},
   "outputs": [],
   "source": [
    "# Create the areas list and make some changes\n",
    "areas = [\"hallway\", 11.25, \"kitchen\", 18.0, \"chill zone\", 20.0,\n",
    "         \"bedroom\", 10.75, \"bathroom\", 10.50]\n",
    "\n",
    "# Add poolhouse data to areas, new list is areas_1\n",
    "areas_1 = areas + [\"poolhouse\", 24.5] \n",
    "\n",
    "# Add garage data to areas_1, new list is areas_2\n",
    "areas_2 = areas_1 + [\"garage\", 15.45]"
   ]
  },
  {
   "cell_type": "markdown",
   "id": "c5e230b1",
   "metadata": {},
   "source": [
    "**Delete list elements**<br/>\n",
    "\n",
    "Finally, you can also remove elements from your list. You can do this with the **del** statement:\n",
    "\n",
    "> **```x = [\"a\", \"b\", \"c\", \"d\"]```**<br/>\n",
    "> **```del(x[1])```**<br/>\n",
    "\n",
    "Pay attention here: as soon as you remove an element from a list, the indexes of the elements that come after the deleted element all change!\n",
    "\n",
    "The updated and extended version of **areas** that you've built in the previous exercises is coded below. You can copy and paste this into the IPython Shell to play around with the result.\n",
    "\n",
    "```Python\n",
    "areas = [\"hallway\", 11.25, \"kitchen\", 18.0,\n",
    "        \"chill zone\", 20.0, \"bedroom\", 10.75,\n",
    "         \"bathroom\", 10.50, \"poolhouse\", 24.5,\n",
    "         \"garage\", 15.45]\n",
    "```\n",
    "\n",
    "There was a mistake! The amount you won with the lottery is not that big after all and it looks like the poolhouse isn't going to happen. You decide to remove the corresponding string and float from the **areas** list.\n",
    "\n",
    "The **;** sign is used to place commands on the same line. The following two code chunks are equivalent:\n",
    "\n",
    "> **```# Same line```**<br/>\n",
    "> **```command1; command2```**<br/>\n",
    "\n",
    "> **```# Separate lines```**<br/>\n",
    "> **```command1```**<br/>\n",
    "> **```command2```**<br/>\n",
    "\n",
    "Which of the code chunks will do the job for us?\n",
    "\n",
    "**Instructions**\n",
    "\n",
    "Possible Answers\n",
    "\n",
    "* [] del(areas[10]); del(areas[11])\n",
    "\n",
    "* [] del(areas[10:11])\n",
    "\n",
    "* [X] del(areas[-4:-2])\n",
    "\n",
    "* [] del(areas[-3]); del(areas[-4])"
   ]
  },
  {
   "cell_type": "markdown",
   "id": "10ee531a",
   "metadata": {},
   "source": [
    "**Inner workings of lists**<br/>\n",
    "\n",
    "At the end of the video, Hugo explained how Python lists work behind the scenes. In this exercise you'll get some hands-on experience with this.\n",
    "\n",
    "The Python code in the script already creates a list with the name **areas** and a copy named **areas_copy**. Next, the first element in the **areas_copy** list is changed and the **areas** list is printed out. If you hit Run Code you'll see that, although you've changed **areas_copy**, the change also takes effect in the **areas** list. That's because **areas** and **areas_copy** point to the same list.\n",
    "\n",
    "If you want to prevent changes in **areas_copy** from also taking effect in areas, you'll have to do a more explicit copy of the **areas** list. You can do this with **list()** or by using **[:]**.\n",
    "\n",
    "**Instructions**)\n",
    "\n",
    "Change the second command, that creates the variable **areas_copy**, such that **areas_copy** is an explicit copy of **areas**. After your edit, changes made to **areas_copy** shouldn't affect **areas**. Submit the answer to check this."
   ]
  },
  {
   "cell_type": "code",
   "execution_count": null,
   "id": "9eec2f99",
   "metadata": {},
   "outputs": [],
   "source": [
    "# Create list areas\n",
    "areas = [11.25, 18.0, 20.0, 10.75, 9.50]\n",
    "\n",
    "# Create areas_copy\n",
    "areas_copy = list(areas)\n",
    "\n",
    "# Change areas_copy\n",
    "areas_copy[0] = 5.0\n",
    "\n",
    "# Print areas\n",
    "print(areas)"
   ]
  },
  {
   "cell_type": "markdown",
   "id": "a20cadbb",
   "metadata": {},
   "source": [
    "**Familiar functions**<br/>\n",
    "\n",
    "Out of the box, Python offers a bunch of built-in functions to make your life as a data scientist easier. You already know two such functions: **print()** and **type()**. You've also used the functions **str()**, **int()**, **bool()** and **float()** to switch between data types. These are built-in functions as well.\n",
    "\n",
    "Calling a function is easy. To get the type of **3.0** and store the output as a new variable, **result**, you can use the following:\n",
    "\n",
    "```Python\n",
    "result = type(3.0)\n",
    "```\n",
    "\n",
    "The general recipe for calling functions and saving the result to a variable is thus:\n",
    "\n",
    "```Python\n",
    "output = function_name(input)\n",
    "```\n",
    "\n",
    "**Instructions**\n",
    "\n",
    "* Use **print()** in combination with **type()** to print out the type of **var1**.\n",
    "* Use **len()** to get the length of the list **var1**. Wrap it in a **print()** call to directly print it out.\n",
    "* Use **int()** to convert **var2** to an integer. Store the output as **out2."
   ]
  },
  {
   "cell_type": "code",
   "execution_count": null,
   "id": "7b976505",
   "metadata": {},
   "outputs": [],
   "source": [
    "# Create variables var1 and var2\n",
    "var1 = [1, 2, 3, 4]\n",
    "var2 = True\n",
    "\n",
    "# Print out type of var1\n",
    "print(type(var1))\n",
    "\n",
    "# Print out length of var1\n",
    "print(len(var1))\n",
    "\n",
    "# Convert var2 to an integer: out2\n",
    "out2 = int(var2)"
   ]
  },
  {
   "cell_type": "markdown",
   "id": "1002eece",
   "metadata": {},
   "source": [
    "**Help!**<br/>\n",
    "\n",
    "Maybe you already know the name of a Python function, but you still have to figure out how to use it. Ironically, you have to ask for information about a function with another function: **help()**. In IPython specifically, you can also use ? before the function name.\n",
    "\n",
    "To get help on the **max()** function, for example, you can use one of these calls:\n",
    "\n",
    "```Python\n",
    "help(max)\n",
    "?max\n",
    "```\n",
    "Use the IPython Shell to open up the documentation on **pow()**. Which of the following statements is true?\n",
    "\n",
    "**Instructions**\n",
    "\n",
    "Possible Answers\n",
    "\n",
    "* [] pow() takes three arguments: base, exp, and mod. If you don't specify mod, the function will return an error.\n",
    "\n",
    "* [] pow() takes three arguments: base, exp, and None. All of these arguments are required.\n",
    "\n",
    "* [X] pow() takes three arguments: base, exp, and mod. base and exp are required arguments, mod is an optional argument.\n",
    "\n",
    "* [] pow() takes two arguments: exp and mod. If you don't specify exp, the function will return an error."
   ]
  },
  {
   "cell_type": "markdown",
   "id": "00d2fe70",
   "metadata": {},
   "source": [
    "**Multiple arguments**<br/>\n",
    "\n",
    "In the previous exercise, you identified optional arguments by viewing the documentation with **help()**. You'll now apply this to change the behavior of the **sorted()** function.\n",
    "\n",
    "Have a look at the documentation of **sorted()** by typing **help(sorted)** in the IPython Shell.\n",
    "\n",
    "You'll see that **sorted()** takes three arguments: **iterable, key, and reverse**.\n",
    "\n",
    "**key=None** means that if you don't specify the **key** argument, it will be **None**. **reverse=False** means that if you don't specify the **reverse** argument, it will be **False**, by default.\n",
    "\n",
    "In this exercise, you'll only have to specify **iterable** and **reverse**, not **key**. The first input you pass to **sorted()** will be matched to the **iterable** argument, but what about the second input? To tell Python you want to specify reverse without changing anything about key, you can use **=** to assign it a new value:\n",
    "\n",
    "```Python\n",
    "sorted(____, reverse=____)\n",
    "```\n",
    "Two lists have been created for you. Can you paste them together and sort them in descending order?\n",
    "\n",
    "Note: For now, we can understand an iterable as being any collection of objects, e.g., a List.\n",
    "\n",
    "**Instructions**\n",
    "\n",
    "+ Use **+** to merge the contents of **first** and **second** into a new list: **full**.\n",
    "+ Call **sorted()** on **full** and specify the **reverse** argument to be **True**. Save the sorted list as **full_sorted**.\n",
    "+ Finish off by printing out **full_sorted**."
   ]
  },
  {
   "cell_type": "code",
   "execution_count": null,
   "id": "f69c3540",
   "metadata": {},
   "outputs": [],
   "source": [
    "# Create lists first and second\n",
    "first = [11.25, 18.0, 20.0]\n",
    "second = [10.75, 9.50]\n",
    "\n",
    "# Paste together first and second: full\n",
    "full = first + second\n",
    "\n",
    "# Sort full in descending order: full_sorted\n",
    "full_sorted = sorted(full, reverse = True)\n",
    "\n",
    "# Print out full_sorted\n",
    "print(full_sorted)"
   ]
  },
  {
   "cell_type": "markdown",
   "id": "542f986b",
   "metadata": {},
   "source": [
    "**String Methods**\n",
    "\n",
    "Strings come with a bunch of methods. Follow the instructions closely to discover some of them. If you want to discover them in more detail, you can always type **help(str)** in the IPython Shell.\n",
    "\n",
    "A string **place** has already been created for you to experiment with.\n",
    "\n",
    "**Instructions**\n",
    "\n",
    "- Use the **upper()** method on **place** and store the result in **place_up**. Use the syntax for calling methods that you learned in the previous video.\n",
    "- Print out **place** and **place_up**. Did both change?\n",
    "- Print out the number of o's on the variable **place** by calling **count()** on **place** and passing the letter **'o'** as an input to the method. We're talking about the variable **place**, not the word **\"place\"**!"
   ]
  },
  {
   "cell_type": "code",
   "execution_count": null,
   "id": "d73d765b",
   "metadata": {},
   "outputs": [],
   "source": [
    "# string to experiment with: place\n",
    "place = \"poolhouse\"\n",
    "\n",
    "# Use upper() on place: place_up\n",
    "place_up = place.upper()\n",
    "\n",
    "# Print out place and place_up\n",
    "print(place)\n",
    "print(place_up)\n",
    "\n",
    "# Print out the number of o's in place\n",
    "print(place.count('o'))"
   ]
  },
  {
   "cell_type": "markdown",
   "id": "16ef439d",
   "metadata": {},
   "source": [
    "**List Methods**\n",
    "\n",
    "Strings are not the only Python types that have methods associated with them. Lists, floats, integers and booleans are also types that come packaged with a bunch of useful methods. In this exercise, you'll be experimenting with:\n",
    "\n",
    "- **index()**, to get the index of the first element of a list that matches its input and\n",
    "- **count()**, to get the number of times an element appears in a list.\n",
    "\n",
    "You'll be working on the list with the area of different parts of a house: areas.\n",
    "\n",
    "**Instructions**\n",
    "\n",
    "+ Use the **index()** method to get the index of the element in **areas** that is equal to **20.0**. Print out this index.\n",
    "+ Call **count()** on **areas** to find out how many times **9.50** appears in the list. Again, simply print out this number."
   ]
  },
  {
   "cell_type": "code",
   "execution_count": null,
   "id": "dd965c84",
   "metadata": {},
   "outputs": [],
   "source": [
    "# Create list areas\n",
    "areas = [11.25, 18.0, 20.0, 10.75, 9.50]\n",
    "\n",
    "# Print out the index of the element 20.0\n",
    "print(areas.index(20.0))\n",
    "\n",
    "# Print out how often 9.50 appears in areas\n",
    "print(areas.count(9.50))"
   ]
  },
  {
   "cell_type": "markdown",
   "id": "eeba86bc",
   "metadata": {},
   "source": [
    "**List Methods (2)**\n",
    "\n",
    "Most list methods will change the list they're called on. Examples are:\n",
    "\n",
    "- **append()**, that adds an element to the list it is called on,\n",
    "- **remove()**, that removes the first element of a list that matches the input, and\n",
    "- **reverse()**, that reverses the order of the elements in the list it is called on.\n",
    "\n",
    "You'll be working on the list with the area of different parts of the house: **areas**.\n",
    "\n",
    "**Instructions**\n",
    "\n",
    "* Use **append()** twice to add the size of the poolhouse and the garage again: **24.5** and **15.45**, respectively. Make sure to add them in this order.\n",
    "* Print out **areas**\n",
    "* Use the **reverse()** method to reverse the order of the elements in **areas**.\n",
    "* Print out **areas** once more."
   ]
  },
  {
   "cell_type": "code",
   "execution_count": null,
   "id": "3e9cc35c",
   "metadata": {},
   "outputs": [],
   "source": [
    "# Create list areas\n",
    "areas = [11.25, 18.0, 20.0, 10.75, 9.50]\n",
    "\n",
    "# Use append twice to add poolhouse and garage size\n",
    "areas.append(24.5)\n",
    "areas.append(15.45)\n",
    "\n",
    "# Print out areas\n",
    "print(areas)\n",
    "\n",
    "# Reverse the orders of the elements in areas\n",
    "areas.reverse()\n",
    "\n",
    "# Print out areas\n",
    "print(areas)"
   ]
  },
  {
   "cell_type": "markdown",
   "id": "fc3cae55",
   "metadata": {},
   "source": [
    "**Import package**\n",
    "\n",
    "As a data scientist, some notions of geometry never hurt. Let's refresh some of the basics.\n",
    "\n",
    "For a fancy clustering algorithm, you want to find the circumference, , and area, , of a circle. When the radius of the circle is **r**, you can calculate  and  as:\n",
    "\n",
    "> ```C = 2πr```<br/>\n",
    "> ```A = πR**2```\n",
    "\n",
    "To use the constant **pi**, you'll need the math package. A variable **r** is already coded in the script. Fill in the code to calculate **C** and **A** and see how the **print()** functions create some nice printouts.\n",
    "\n",
    "Instructions\n",
    "\n",
    "* Import the math package. Now you can access the constant pi with math.pi.\n",
    "* Calculate the circumference of the circle and store it in C.\n",
    "* Calculate the area of the circle and store it in A."
   ]
  },
  {
   "cell_type": "code",
   "execution_count": null,
   "id": "e8adb510",
   "metadata": {},
   "outputs": [],
   "source": [
    "# Definition of radius\n",
    "r = 0.43\n",
    "\n",
    "# Import the math package\n",
    "import math\n",
    "\n",
    "# Calculate C\n",
    "C = 2 * math.pi * r\n",
    "\n",
    "# Calculate A\n",
    "A = math.pi * r**2\n",
    "\n",
    "# Build printout\n",
    "print(\"Circumference: \" + str(C))\n",
    "print(\"Area: \" + str(A))"
   ]
  },
  {
   "cell_type": "markdown",
   "id": "878950b3",
   "metadata": {},
   "source": [
    "**Selective import**\n",
    "\n",
    "General imports, like **import math**, make all functionality from the **math** package available to you. However, if you decide to only use a specific part of a package, you can always make your import more selective:\n",
    "\n",
    "**```from math import pi```**\n",
    "\n",
    "Let's say the Moon's orbit around planet Earth is a perfect circle, with a radius **r** (in km) that is defined in the script.\n",
    "\n",
    "**Instructions**\n",
    "\n",
    "* Perform a selective import from the **math** package where you only import the **radians** function.\n",
    "* Calculate the distance travelled by the Moon over 12 degrees of its orbit. Assign the result to **dist**. You can calculate this as **r * phi**, where **r** is the radius and **phi** is the angle in radians. To convert an angle in degrees to an angle in radians, use the **radians()** function, which you just imported.\n",
    "* Print out **dist**."
   ]
  },
  {
   "cell_type": "markdown",
   "id": "3221c5f8",
   "metadata": {},
   "source": [
    "**Different ways of importing**\n",
    "\n",
    "There are several ways to import packages and modules into Python. Depending on the import call, you'll have to use different Python code.\n",
    "\n",
    "Suppose you want to use the function **inv()**, which is in the **linalg** subpackage of the **scipy** package. You want to be able to use this function as follows:\n",
    "\n",
    ">**```my_inv([[1,2], [3,4]])```**\n",
    "\n",
    "Which **import** statement will you need in order to run the above code without an error?\n",
    "\n",
    "**Instructions**\n",
    "\n",
    "Possible Answers\n",
    "\n",
    "* [] import scipy\n",
    "\n",
    "* [] import scipy.linalg\n",
    "\n",
    "* [] from scipy.linalg import my_inv\n",
    "\n",
    "* [X] from scipy.linalg import inv as my_inv"
   ]
  },
  {
   "cell_type": "code",
   "execution_count": 1,
   "id": "092b4897",
   "metadata": {},
   "outputs": [
    {
     "data": {
      "application/javascript": [
       "var output_area = this;\n",
       "// find my cell element\n",
       "var cell_element = output_area.element.parents('.cell');\n",
       "// which cell is it?\n",
       "var cell_idx = Jupyter.notebook.get_cell_elements().index(cell_element);\n",
       "console.log(cell_idx)\n"
      ],
      "text/plain": [
       "<IPython.core.display.Javascript object>"
      ]
     },
     "metadata": {},
     "output_type": "display_data"
    }
   ],
   "source": [
    "%%javascript\n",
    "var output_area = this;\n",
    "// find my cell element\n",
    "var cell_element = output_area.element.parents('.cell');\n",
    "// which cell is it?\n",
    "var cell_idx = Jupyter.notebook.get_cell_elements().index(cell_element);\n",
    "console.log(cell_idx)"
   ]
  },
  {
   "cell_type": "markdown",
   "id": "66818e07",
   "metadata": {},
   "source": [
    "**Your First NumPy Array**<br/>\n",
    "\n",
    "In this chapter, we're going to dive into the world of baseball. Along the way, you'll get comfortable with the basics of **numpy**, a powerful package to do data science.\n",
    "\n",
    "A list **baseball** has already been defined in the Python script, representing the height of some baseball players in centimeters. Can you add some code here and there to create a **numpy** array from it?\n",
    "\n",
    "**Instructions**\n",
    "\n",
    "* Import the **numpy** package as **np**, so that you can refer to **numpy** with **np**.\n",
    "* Use **np.array()** to create a **numpy** array from **baseball**. Name this array **np_baseball**.\n",
    "* Print out the type of **np_baseball** to check that you got it right."
   ]
  },
  {
   "cell_type": "code",
   "execution_count": null,
   "id": "23d27a6a",
   "metadata": {},
   "outputs": [],
   "source": [
    "# Create list baseball\n",
    "baseball = [180, 215, 210, 210, 188, 176, 209, 200]\n",
    "\n",
    "# Import the numpy package as np\n",
    "import numpy as np\n",
    "\n",
    "# Create a numpy array from baseball: np_baseball\n",
    "np_baseball = np.array(baseball)\n",
    "\n",
    "# Print out type of np_baseball\n",
    "print(type(np_baseball))"
   ]
  },
  {
   "cell_type": "markdown",
   "id": "ceee0a3a",
   "metadata": {},
   "source": [
    "**Baseball players' height**<br/>\n",
    "\n",
    "You are a huge baseball fan. You decide to call the MLB (Major League Baseball) and ask around for some more statistics on the height of the main players. They pass along data on more than a thousand players, which is stored as a regular Python list: **height_in**. The **height** is expressed in inches. Can you make a **numpy** array out of it and convert the units to meters?\n",
    "\n",
    "**height_in** is already available and the **numpy** package is loaded, so you can start straight away (Source: stat.ucla.edu).\n",
    "\n",
    "**Instructions**\n",
    "\n",
    "* Create a **numpy** array from **height_in**. Name this new array **np_height_in**.\n",
    "* Print **np_height_in**.\n",
    "* Multiply **np_height_in** with **0.0254** to convert all height measurements from inches to meters. Store the new values in a new array, **np_height_m**.\n",
    "* Print out **np_height_m** and check if the output makes sense."
   ]
  },
  {
   "cell_type": "code",
   "execution_count": null,
   "id": "c4cd4815",
   "metadata": {},
   "outputs": [],
   "source": [
    "# height_in is available as a regular list\n",
    "\n",
    "# Import numpy\n",
    "import numpy as np\n",
    "\n",
    "# Create a numpy array from height_in: np_height_in\n",
    "np_height_in = np.array(height_in)\n",
    "\n",
    "# Print out np_height_in\n",
    "print(np_height_in)\n",
    "\n",
    "# Convert np_height_in to m: np_height_m\n",
    "np_height_m = np_height_in * 0.0254\n",
    "\n",
    "# Print np_height_m\n",
    "print(np_height_m)"
   ]
  },
  {
   "cell_type": "markdown",
   "id": "467e680e",
   "metadata": {},
   "source": [
    "**Baseball player's BMI**<br/>\n",
    "\n",
    "The MLB also offers to let you analyze their weight data. Again, both are available as regular Python lists: **height_in** and **weight_lb**. **height_in** is in inches and **weight_lb** is in pounds.\n",
    "\n",
    "It's now possible to calculate the BMI of each baseball player. Python code to convert **height_in** to a **numpy** array with the correct units is already available in the workspace. Follow the instructions step by step and finish the game!\n",
    "\n",
    "> **BMI = weight ÷ height\\*\\*2**\n",
    "\n",
    "**Instructions**\n",
    "\n",
    "* Create a **numpy** array from the **weight_lb** list with the correct units. Multiply by **0.453592** to go from pounds to kilograms. Store the resulting numpy array as **np_weight_kg**.\n",
    "* Use **np_height_m** and **np_weight_kg** to calculate the BMI of each player. Use the following equation:\n",
    " \n",
    "Save the resulting **numpy** array as **bmi**.\n",
    "* Print out **bmi**."
   ]
  },
  {
   "cell_type": "code",
   "execution_count": null,
   "id": "5b2d2eb3",
   "metadata": {},
   "outputs": [],
   "source": [
    "# height_in and weight_lb are available as regular lists\n",
    "\n",
    "# Import numpy\n",
    "import numpy as np\n",
    "\n",
    "# Create array from height_in with metric units: np_height_m\n",
    "np_height_m = np.array(height_in) * 0.0254\n",
    "\n",
    "# Create array from weight_lb with metric units: np_weight_kg\n",
    "np_weight_kg = np.array(weight_lb) * 0.453592\n",
    "\n",
    "# Calculate the BMI: bmi\n",
    "bmi = np_weight_kg / np_height_m ** 2\n",
    "\n",
    "# Print out bmi\n",
    "print(bmi)"
   ]
  },
  {
   "cell_type": "markdown",
   "id": "90739faa",
   "metadata": {},
   "source": [
    "**Lightweight baseball players**<br/>\n",
    "\n",
    "To subset both regular Python lists and **numpy** arrays, you can use square brackets:\n",
    "\n",
    "```Python\n",
    "x = [4 , 9 , 6, 3, 1]\n",
    "x[1]\n",
    "import numpy as np\n",
    "y = np.array(x)\n",
    "y[1]\n",
    "```\n",
    "For **numpy** specifically, you can also use boolean **numpy** arrays:\n",
    "\n",
    "```Python\n",
    "high = y > 5\n",
    "y[high]\n",
    "```\n",
    "The code that calculates the BMI of all baseball players is already included. Follow the instructions and reveal interesting things from the data!\n",
    "\n",
    "**Instructions**\n",
    "\n",
    "* Create a boolean **numpy** array: the element of the array should be **True** if the corresponding baseball player's BMI is below 21. You can use the **<** operator for this. Name the array **light**.\n",
    "* Print the array **light**.\n",
    "* Print out a **numpy** array with the BMIs of all baseball players whose BMI is below 21. Use **light** inside square brackets to do a selection on the bmi array."
   ]
  },
  {
   "cell_type": "code",
   "execution_count": null,
   "id": "737f931c",
   "metadata": {},
   "outputs": [],
   "source": [
    "# height_in and weight_lb are available as a regular lists\n",
    "\n",
    "# Import numpy\n",
    "import numpy as np\n",
    "\n",
    "# Calculate the BMI: bmi\n",
    "np_height_m = np.array(height_in) * 0.0254\n",
    "np_weight_kg = np.array(weight_lb) * 0.453592\n",
    "bmi = np_weight_kg / np_height_m ** 2\n",
    "\n",
    "# Create the light array\n",
    "light = bmi < 21\n",
    "\n",
    "# Print out light\n",
    "print(light)\n",
    "\n",
    "# Print out BMIs of all baseball players whose BMI is below 21\n",
    "print(bmi[light])"
   ]
  },
  {
   "cell_type": "markdown",
   "id": "4e50d72a",
   "metadata": {},
   "source": [
    "**NumPy Side Effects**\n",
    "\n",
    "As Hugo explained before, **numpy** is great for doing vector arithmetic. If you compare its functionality with regular Python lists, however, some things have changed.\n",
    "\n",
    "First of all, **numpy** arrays cannot contain elements with different types. If you try to build such a list, some of the elements' types are changed to end up with a homogeneous list. This is known as type coercion.\n",
    "\n",
    "Second, the typical arithmetic operators, such as **+, -, \\*** and **/** have a different meaning for regular Python lists and **numpy** arrays.\n",
    "\n",
    "Have a look at this line of code:\n",
    "\n",
    "> ```np.array([True, 1, 2]) + np.array([3, 4, False])```\n",
    "\n",
    "Can you tell which code chunk builds the exact same Python object? The **numpy** package is already imported as **np**, so you can start experimenting in the IPython Shell straight away!\n",
    "\n",
    "**Instructions**\n",
    "\n",
    "Possible Answers\n",
    "\n",
    "* [] np.array([True, 1, 2, 3, 4, False])\n",
    "\n",
    "* [X] np.array([4, 3, 0]) + np.array([0, 2, 2])\n",
    "\n",
    "* [] np.array([1, 1, 2]) + np.array([3, 4, -1])\n",
    "\n",
    "* [] np.array([0, 1, 2, 3, 4, 5])"
   ]
  },
  {
   "cell_type": "markdown",
   "id": "77b5c472",
   "metadata": {},
   "source": [
    "**Subsetting NumPy Arrays**<br/>\n",
    "\n",
    "You've seen it with your own eyes: Python lists and **numpy** arrays sometimes behave differently. Luckily, there are still certainties in this world. For example, subsetting (using the square bracket notation on lists or arrays) works exactly the same. To see this for yourself, try the following lines of code in the IPython Shell:\n",
    "\n",
    "```Python\n",
    "x = [\"a\", \"b\", \"c\"]\n",
    "x[1]\n",
    "\n",
    "np_x = np.array(x)\n",
    "np_x[1]\n",
    "```\n",
    "The script in the editor already contains code that imports **numpy** as **np**, and stores both the height and weight of the MLB players as **numpy** arrays.\n",
    "\n",
    "**Instructions**\n",
    "\n",
    "* Subset **np_weight_lb** by printing out the element at index 50.\n",
    "* Print out a sub-array of **np_height_in** that contains the elements at index 100 up to and including **index 110**."
   ]
  },
  {
   "cell_type": "code",
   "execution_count": null,
   "id": "6f1a1e7b",
   "metadata": {},
   "outputs": [],
   "source": [
    "# height_in and weight_lb are available as a regular lists\n",
    "\n",
    "# Import numpy\n",
    "import numpy as np\n",
    "\n",
    "# Store weight and height lists as numpy arrays\n",
    "np_weight_lb = np.array(weight_lb)\n",
    "np_height_in = np.array(height_in)\n",
    "\n",
    "# Print out the weight at index 50\n",
    "print(np_weight_lb[50])\n",
    "\n",
    "# Print out sub-array of np_height_in: index 100 up to and including index 110\n",
    "print(np_height_in[100:111])"
   ]
  },
  {
   "cell_type": "markdown",
   "id": "06617cf0",
   "metadata": {},
   "source": [
    "**Your First 2D NumPy Array**<br/>\n",
    "\n",
    "Before working on the actual MLB data, let's try to create a **2D numpy** array from a small list of lists.\n",
    "\n",
    "In this exercise, **baseball** is a list of lists. The main list contains 4 elements. Each of these elements is a list containing the height and the weight of 4 baseball players, in this order. **baseball** is already coded for you in the script.\n",
    "\n",
    "**Instructions**\n",
    "\n",
    "+ Use **np.array()** to create a **2D numpy** array from **baseball**. Name it **np_baseball**.\n",
    "+ Print out the type of **np_baseball**.\n",
    "+ Print out the **shape** attribute of **np_baseball**. Use **np_baseball.shape**."
   ]
  },
  {
   "cell_type": "code",
   "execution_count": null,
   "id": "72cd886f",
   "metadata": {},
   "outputs": [],
   "source": [
    "# Create baseball, a list of lists\n",
    "baseball = [[180, 78.4],\n",
    "            [215, 102.7],\n",
    "            [210, 98.5],\n",
    "            [188, 75.2]]\n",
    "\n",
    "# Import numpy\n",
    "import numpy as np\n",
    "\n",
    "# Create a 2D numpy array from baseball: np_baseball\n",
    "np_baseball = np.array(baseball)\n",
    "\n",
    "# Print out the type of np_baseball\n",
    "print(type(np_baseball))\n",
    "\n",
    "# Print out the shape of np_baseball\n",
    "print(np_baseball.shape)"
   ]
  },
  {
   "cell_type": "markdown",
   "id": "16758cad",
   "metadata": {},
   "source": [
    "**Baseball data in 2D form**<br/>\n",
    "\n",
    "You have another look at the MLB data and realize that it makes more sense to restructure all this information in a **2D numpy** array. This array should have 1015 rows, corresponding to the 1015 baseball players you have information on, and 2 columns (for height and weight).\n",
    "\n",
    "The MLB was, again, very helpful and passed you the data in a different structure, a Python list of lists. In this list of lists, each sublist represents the height and weight of a single baseball player. The name of this embedded list is **basebal**l.\n",
    "\n",
    "Can you store the data as a 2D array to unlock **numpy**'s extra functionality?\n",
    "\n",
    "**Instructions**\n",
    "\n",
    "* Use **np.array()** to create a **2D numpy** array from **baseball**. Name it **np_baseball**.\n",
    "* Print out the **shape** attribute of **np_baseball**."
   ]
  },
  {
   "cell_type": "code",
   "execution_count": null,
   "id": "cd6c066b",
   "metadata": {},
   "outputs": [],
   "source": [
    "# baseball is available as a regular list of lists\n",
    "\n",
    "# Import numpy package\n",
    "import numpy as np\n",
    "\n",
    "# Create a 2D numpy array from baseball: np_baseball\n",
    "np_baseball = np.array(baseball)\n",
    "\n",
    "# Print out the shape of np_baseball\n",
    "print(np_baseball.shape)"
   ]
  },
  {
   "cell_type": "markdown",
   "id": "07d9a804",
   "metadata": {},
   "source": [
    "**Subsetting 2D NumPy Arrays**<br/>\n",
    "\n",
    "If your 2D numpy array has a regular structure, i.e. each row and column has a fixed number of values, complicated ways of subsetting become very easy. Have a look at the code below where the elements **\"a\"** and **\"c\"** are extracted from a list of lists.\n",
    "\n",
    "```Python\n",
    "# regular list of lists\n",
    "x = [[\"a\", \"b\"], [\"c\", \"d\"]]\n",
    "[x[0][0], x[1][0]]\n",
    "\n",
    "# numpy\n",
    "import numpy as np\n",
    "np_x = np.array(x)\n",
    "np_x[:, 0]\n",
    "```\n",
    "\n",
    "For regular Python lists, this is a real pain. For **2D numpy** arrays, however, it's pretty intuitive! The indexes before the comma refer to the rows, while those after the comma refer to the columns. The **:** is for slicing; in this example, it tells Python to include all rows.\n",
    "\n",
    "The code that converts the pre-loaded **baseball** list to a **2D numpy** array is already in the script. The first column contains the players' height in inches and the second column holds player weight, in pounds. Add some lines to make the correct selections. Remember that in Python, the first element is at index 0!\n",
    "\n",
    "**Instructions**\n",
    "\n",
    "* Print out the 50th row of **np_baseball**.\n",
    "* Make a new variable, **np_weight_lb**, containing the entire second column of **np_baseball**.\n",
    "* Select the height (first column) of the 124th baseball player in **np_baseball** and print it out."
   ]
  },
  {
   "cell_type": "code",
   "execution_count": null,
   "id": "d22cbc59",
   "metadata": {},
   "outputs": [],
   "source": [
    "# baseball is available as a regular list of lists\n",
    "\n",
    "# Import numpy package\n",
    "import numpy as np\n",
    "\n",
    "# Create np_baseball (2 cols)\n",
    "np_baseball = np.array(baseball)\n",
    "\n",
    "# Print out the 50th row of np_baseball\n",
    "print(np_baseball[49,:])\n",
    "\n",
    "# Select theb entire second column of np_baseball: np_weight_lb\n",
    "np_weight_lb = np_baseball[:, 1]\n",
    "\n",
    "# Print out height of 124th player\n",
    "print(np_baseball[123, 0])"
   ]
  },
  {
   "cell_type": "markdown",
   "id": "d1254fd6",
   "metadata": {},
   "source": [
    "**2D Arithmetic**<br/>\n",
    "\n",
    "Remember how you calculated the Body Mass Index for all baseball players? **numpy** was able to perform all calculations element-wise (i.e. element by element). For **2D numpy** arrays this isn't any different! You can combine matrices with single numbers, with vectors, and with other matrices.\n",
    "\n",
    "Execute the code below in the IPython shell and see if you understand:\n",
    "\n",
    "```Python\n",
    "import numpy as np\n",
    "np_mat = np.array([[1, 2],\n",
    "                   [3, 4],\n",
    "                   [5, 6]])\n",
    "np_mat * 2\n",
    "np_mat + np.array([10, 10])\n",
    "np_mat + np_mat\n",
    "```\n",
    "**np_baseball** is coded for you; it's again a **2D numpy** array with 3 columns representing height (in inches), weight (in pounds) and age (in years).\n",
    "\n",
    "**Instructions**\n",
    "\n",
    "* You managed to get hold of the changes in height, weight and age of all baseball players. It is available as a **2D numpy** array, updated. Add **np_baseball** and **updated** and print out the result.\n",
    "* You want to convert the units of height and weight to metric (meters and kilograms, respectively). As a first step, create a **numpy** array with three values: **0.0254, 0.453592** and **1**. Name this array **conversion**.\n",
    "* Multiply **np_baseball** with **conversion** and print out the result."
   ]
  },
  {
   "cell_type": "code",
   "execution_count": null,
   "id": "575e11d4",
   "metadata": {},
   "outputs": [],
   "source": [
    "# baseball is available as a regular list of lists\n",
    "# updated is available as 2D numpy array\n",
    "\n",
    "# Import numpy package\n",
    "import numpy as np\n",
    "\n",
    "# Create np_baseball (3 cols)\n",
    "np_baseball = np.array(baseball)\n",
    "\n",
    "# Print out addition of np_baseball and updated\n",
    "print(np_baseball + updated)\n",
    "# Create numpy array: conversion\n",
    "conversion = [0.0254, 0.453592, 1]\n",
    "\n",
    "# Print out product of np_baseball and conversion\n",
    "print(np_baseball * conversion)"
   ]
  },
  {
   "cell_type": "markdown",
   "id": "0175aaba",
   "metadata": {},
   "source": [
    "**Average versus median**<br/>\n",
    "\n",
    "You now know how to use **numpy** functions to get a better feeling for your data. It basically comes down to importing **numpy** and then calling several simple functions on the numpy arrays:\n",
    "\n",
    "```Python\n",
    "import numpy as np\n",
    "x = [1, 4, 8, 10, 12]\n",
    "np.mean(x)\n",
    "np.median(x)\n",
    "```\n",
    "The baseball data is available as a **2D numpy** array with 3 columns (height, weight, age) and 1015 rows. The name of this **numpy** array is **np_baseball**. After restructuring the data, however, you notice that some height values are abnormally high. Follow the instructions and discover which summary statistic is best suited if you're dealing with so-called outliers.\n",
    "\n",
    "**Instructions**\n",
    "\n",
    "* Create **numpy** array **np_height_in** that is equal to first column of **np_baseball**.\n",
    "* Print out the mean of **np_height_in**.\n",
    "* Print out the median of **np_height_in**."
   ]
  },
  {
   "cell_type": "code",
   "execution_count": null,
   "id": "5ea10de2",
   "metadata": {},
   "outputs": [],
   "source": [
    "# np_baseball is available\n",
    "\n",
    "# Import numpy\n",
    "import numpy as np\n",
    "\n",
    "# Create np_height_in from np_baseball\n",
    "np_height_in = np.array(np_baseball[:,0])\n",
    "\n",
    "# Print out the mean of np_height_in\n",
    "print(np.mean(np_height_in))\n",
    "\n",
    "# Print out the median of np_height_in\n",
    "print(np.median(np_height_in))"
   ]
  },
  {
   "cell_type": "markdown",
   "id": "43448355",
   "metadata": {},
   "source": [
    "**Explore the baseball data**<br/>\n",
    "\n",
    "Because the mean and median are so far apart, you decide to complain to the MLB. They find the error and send the corrected data over to you. It's again available as a **2D NumPy** array **np_baseball**, with three columns.\n",
    "\n",
    "The Python script in the editor already includes code to print out informative messages with the different summary statistics. Can you finish the job?\n",
    "\n",
    "**Instructions**\n",
    "\n",
    "* The code to print out the mean height is already included. Complete the code for the median height. Replace **None** with the correct code.\n",
    "* Use **np.std()** on the first column of **np_baseball** to calculate stddev. Replace **None** with the correct code.\n",
    "* Do big players tend to be heavier? Use np.corrcoef() to store the correlation between the first and second column of **np_baseball** in corr. Replace **None** with the correct code."
   ]
  },
  {
   "cell_type": "code",
   "execution_count": null,
   "id": "28141d6e",
   "metadata": {},
   "outputs": [],
   "source": [
    "# np_baseball is available\n",
    "\n",
    "# Import numpy\n",
    "import numpy as np\n",
    "\n",
    "# Print mean height (first column)\n",
    "avg = np.mean(np_baseball[:,0])\n",
    "print(\"Average: \" + str(avg))\n",
    "\n",
    "# Print median height. Replace 'None'\n",
    "med = np.median(np_baseball[:,0])\n",
    "print(\"Median: \" + str(med))\n",
    "\n",
    "# Print out the standard deviation on height. Replace 'None'\n",
    "stddev = np.std(np_baseball[:,0])\n",
    "print(\"Standard Deviation: \" + str(stddev))\n",
    "\n",
    "# Print out correlation between first and second column. Replace 'None'\n",
    "corr = np.corrcoef(np_baseball[:,0], np_baseball[:,1])\n",
    "print(\"Correlation: \" + str(corr))"
   ]
  },
  {
   "cell_type": "markdown",
   "id": "176fc2e0",
   "metadata": {},
   "source": [
    "**Blend it all together**\n",
    "\n",
    "In the last few exercises you've learned everything there is to know about heights and weights of baseball players. Now it's time to dive into another sport: soccer.\n",
    "\n",
    "You've contacted FIFA for some data and they handed you two lists. The lists are the following:\n",
    "\n",
    "```Python\n",
    "positions = ['GK', 'M', 'A', 'D', ...]\n",
    "heights = [191, 184, 185, 180, ...]\n",
    "```\n",
    "\n",
    "Each elmement in the lists corresponds to a player. The first list, **positions**, contains strings representing each player's position. The possible positions are: **'GK'** (goalkeeper), **'M'** (midfield), **'A'** (attack) and **'D'** (defense). The second list, **heights**, contains integers representing the height of the player in cm. The first player in the lists is a goalkeeper and is pretty tall (191 cm).\n",
    "\n",
    "You're fairly confident that the median height of goalkeepers is higher than that of other players on the soccer field. Some of your friends don't believe you, so you are determined to show them using the data you received from FIFA and your newly acquired Python skills.\n",
    "\n",
    "**Instructions**\n",
    "\n",
    "* Convert heights and positions, which are regular lists, to numpy arrays. Call them np_heights and np_positions.\n",
    "* Extract all the heights of the goalkeepers. You can use a little trick here: use np_positions == 'GK' as an index for np_heights. Assign the result to gk_heights.\n",
    "* Extract all the heights of all the other players. This time use np_positions != 'GK' as an index for np_heights. Assign the result to other_heights.\n",
    "* Print out the median height of the goalkeepers using np.median(). Replace None with the correct code.\n",
    "* Do the same for the other players. Print out their median height. Replace None with the correct code."
   ]
  },
  {
   "cell_type": "code",
   "execution_count": null,
   "id": "2775bb65",
   "metadata": {},
   "outputs": [],
   "source": [
    "# heights and positions are available as lists\n",
    "\n",
    "# Import numpy\n",
    "import numpy as np\n",
    "\n",
    "# Convert positions and heights to numpy arrays: np_positions, np_heights\n",
    "np_positions = np.array(positions)\n",
    "np_heights = np.array(heights)\n",
    "\n",
    "# Heights of the goalkeepers: gk_heights\n",
    "gk_heights = np_heights[np_positions == 'GK']\n",
    "\n",
    "# Heights of the other players: other_heights\n",
    "other_heights = np_heights[np_positions != 'GK']\n",
    "\n",
    "# Print out the median height of goalkeepers. Replace 'None'\n",
    "print(\"Median height of goalkeepers: \" + str(np.median(gk_heights)))\n",
    "\n",
    "# Print out the median height of other players. Replace 'None'\n",
    "print(\"Median height of other players: \" + str(np.median(other_heights)))"
   ]
  },
  {
   "cell_type": "code",
   "execution_count": null,
   "id": "d08e43fe",
   "metadata": {},
   "outputs": [],
   "source": []
  }
 ],
 "metadata": {
  "kernelspec": {
   "display_name": "Python 3 (ipykernel)",
   "language": "python",
   "name": "python3"
  },
  "language_info": {
   "codemirror_mode": {
    "name": "ipython",
    "version": 3
   },
   "file_extension": ".py",
   "mimetype": "text/x-python",
   "name": "python",
   "nbconvert_exporter": "python",
   "pygments_lexer": "ipython3",
   "version": "3.9.12"
  }
 },
 "nbformat": 4,
 "nbformat_minor": 5
}
