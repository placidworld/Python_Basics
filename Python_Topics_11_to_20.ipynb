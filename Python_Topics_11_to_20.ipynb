{
 "cells": [
  {
   "cell_type": "markdown",
   "id": "54439570",
   "metadata": {},
   "source": [
    "### 11. Python Tuples"
   ]
  },
  {
   "cell_type": "code",
   "execution_count": null,
   "id": "3d700a90",
   "metadata": {},
   "outputs": [],
   "source": [
    "mytuple = (\"apple\", \"banana\", \"cherry\")b"
   ]
  },
  {
   "cell_type": "markdown",
   "id": "5f5b8af8",
   "metadata": {},
   "source": [
    "**Tuple**\n",
    "\n",
    "Tuples are used to store multiple items in a single variable.\n",
    "\n",
    "Tuple is one of 4 built-in data types in Python used to store collections of data, the other 3 are List, Set, and Dictionary, all with different qualities and usage.\n",
    "\n",
    "A tuple is a collection which is ordered and **unchangeable**.\n",
    "\n",
    "Tuples are written with round brackets.\n",
    "\n",
    "**Example**\n",
    "\n",
    "Create a Tuple:\n",
    "\n",
    "```Python    \n",
    "thistuple = (\"apple\", \"banana\", \"cherry\")\n",
    "print(thistuple)\n",
    "```"
   ]
  },
  {
   "cell_type": "code",
   "execution_count": null,
   "id": "83732965",
   "metadata": {},
   "outputs": [],
   "source": [
    "thistuple = (\"apple\", \"banana\", \"cherry\")\n",
    "print(thistuple)"
   ]
  },
  {
   "cell_type": "markdown",
   "id": "c1137634",
   "metadata": {},
   "source": [
    "**Tuple Items**\n",
    "\n",
    "Tuple items are ordered, unchangeable, and allow duplicate values.\n",
    "\n",
    "Tuple items are indexed, the first item has index [0], the second item has index [1] etc.\n",
    "\n",
    "**Ordered**\n",
    "\n",
    "When we say that tuples are ordered, it means that the items have a defined order, and that order will not change.\n",
    "\n",
    "**Unchangeable**\n",
    "\n",
    "Tuples are unchangeable, meaning that we cannot change, add or remove items after the tuple has been created.\n",
    "\n",
    "**Allow Duplicates**\n",
    "\n",
    "Since tuples are indexed, they can have items with the same value:\n",
    "\n",
    "**Example**\n",
    "\n",
    "Tuples allow duplicate values:\n",
    "\n",
    "```Python    \n",
    "thistuple = (\"apple\", \"banana\", \"cherry\", \"apple\", \"cherry\")\n",
    "print(thistuple)\n",
    "```"
   ]
  },
  {
   "cell_type": "code",
   "execution_count": null,
   "id": "7a6d26ef",
   "metadata": {},
   "outputs": [],
   "source": [
    "thistuple = (\"apple\", \"banana\", \"cherry\", \"apple\", \"cherry\")\n",
    "print(thistuple)"
   ]
  },
  {
   "cell_type": "markdown",
   "id": "8fef1d7e",
   "metadata": {},
   "source": [
    "**Tuple Length**\n",
    "\n",
    "To determine how many items a tuple has, use the **len()** function:\n",
    "\n",
    "**Example**\n",
    "\n",
    "Print the number of items in the tuple:\n",
    "\n",
    "```Python    \n",
    "thistuple = (\"apple\", \"banana\", \"cherry\")\n",
    "print(len(thistuple))\n",
    "```"
   ]
  },
  {
   "cell_type": "code",
   "execution_count": null,
   "id": "5d6514fb",
   "metadata": {},
   "outputs": [],
   "source": [
    "thistuple = (\"apple\", \"banana\", \"cherry\")\n",
    "print(len(thistuple))"
   ]
  },
  {
   "cell_type": "markdown",
   "id": "fb5b7c14",
   "metadata": {},
   "source": [
    "**Create Tuple With One Item**\n",
    "\n",
    "To create a tuple with only one item, you have to add a comma after the item, otherwise Python will not recognize it as a tuple.\n",
    "\n",
    "**Example**\n",
    "\n",
    "One item tuple, remember the comma:\n",
    "\n",
    "```Python    \n",
    "thistuple = (\"apple\",)\n",
    "print(type(thistuple))\n",
    "\n",
    "#NOT a tuple\n",
    "thistuple = (\"apple\")\n",
    "print(type(thistuple))\n",
    "```"
   ]
  },
  {
   "cell_type": "code",
   "execution_count": null,
   "id": "b97d08ae",
   "metadata": {},
   "outputs": [],
   "source": [
    "thistuple = (\"apple\",)\n",
    "print(type(thistuple))\n",
    "\n",
    "#NOT a tuple\n",
    "thistuple = (\"apple\")\n",
    "print(type(thistuple))"
   ]
  },
  {
   "cell_type": "markdown",
   "id": "76a77e66",
   "metadata": {},
   "source": [
    "**Tuple Items - Data Types**\n",
    "\n",
    "Tuple items can be of any data type:\n",
    "\n",
    "**Example**\n",
    "\n",
    "String, int and boolean data types:\n",
    "\n",
    "```Python    \n",
    "tuple1 = (\"apple\", \"banana\", \"cherry\")\n",
    "tuple2 = (1, 5, 7, 9, 3)\n",
    "tuple3 = (True, False, False)\n",
    "```"
   ]
  },
  {
   "cell_type": "code",
   "execution_count": null,
   "id": "534f87f0",
   "metadata": {},
   "outputs": [],
   "source": [
    "tuple1 = (\"apple\", \"banana\", \"cherry\")\n",
    "tuple2 = (1, 5, 7, 9, 3)\n",
    "tuple3 = (True, False, False)"
   ]
  },
  {
   "cell_type": "code",
   "execution_count": null,
   "id": "8e1bb47a",
   "metadata": {},
   "outputs": [],
   "source": [
    "# A tuple can contain different data types:\n",
    "\n",
    "# Example\n",
    "# A tuple with strings, integers and boolean values:\n",
    "\n",
    "tuple1 = (\"abc\", 34, True, 40, \"male\")"
   ]
  },
  {
   "cell_type": "markdown",
   "id": "74291003",
   "metadata": {},
   "source": [
    "**type()**\n",
    "\n",
    "From Python's perspective, tuples are defined as objects with the data type 'tuple':\n",
    "\n",
    "```Python\n",
    "<class 'tuple'>\n",
    "```"
   ]
  },
  {
   "cell_type": "code",
   "execution_count": null,
   "id": "3fedf754",
   "metadata": {},
   "outputs": [],
   "source": [
    "# What is the data type of a tuple?\n",
    "\n",
    "mytuple = (\"apple\", \"banana\", \"cherry\")\n",
    "print(type(mytuple))"
   ]
  },
  {
   "cell_type": "markdown",
   "id": "76961fb3",
   "metadata": {},
   "source": [
    "**The tuple() Constructor**\n",
    "\n",
    "It is also possible to use the **tuple()** constructor to make a tuple.\n",
    "\n",
    "**Example**\n",
    "\n",
    "Using the **tuple()** method to make a tuple:\n",
    "\n",
    "```Python    \n",
    "thistuple = tuple((\"apple\", \"banana\", \"cherry\")) # note the double round-brackets\n",
    "print(thistuple)\n",
    "```"
   ]
  },
  {
   "cell_type": "code",
   "execution_count": null,
   "id": "9eac546d",
   "metadata": {},
   "outputs": [],
   "source": [
    "thistuple = tuple((\"apple\", \"banana\", \"cherry\")) # note the double round-brackets\n",
    "print(thistuple)"
   ]
  },
  {
   "cell_type": "markdown",
   "id": "4723bebe",
   "metadata": {},
   "source": [
    "**Python Collections (Arrays)**\n",
    "\n",
    "There are four collection data types in the Python programming language:\n",
    "\n",
    "* **List** is a collection which is ordered and changeable. Allows duplicate members.\n",
    "* **Tuple** is a collection which is ordered and unchangeable. Allows duplicate members.\n",
    "* **Set** is a collection which is unordered, unchangeable*, and unindexed. No duplicate members.\n",
    "* **Dictionary** is a collection which is ordered** and changeable. No duplicate members.\n",
    "\n",
    "* Set items are unchangeable, but you can remove and/or add items whenever you like.\n",
    "\n",
    "* As of Python version 3.7, dictionaries are ordered. In Python 3.6 and earlier, dictionaries are unordered.\n",
    "\n",
    "When choosing a collection type, it is useful to understand the properties of that type. Choosing the right type for a particular data set could mean retention of meaning, and, it could mean an increase in efficiency or security."
   ]
  },
  {
   "cell_type": "markdown",
   "id": "b7b97bd2",
   "metadata": {},
   "source": [
    "#### Python - Access Tuple Items"
   ]
  },
  {
   "cell_type": "markdown",
   "id": "72f8877c",
   "metadata": {},
   "source": [
    "**Access Tuple Items**\n",
    "\n",
    "You can access tuple items by referring to the index number, inside square brackets:\n",
    "\n",
    "**Example**\n",
    "\n",
    "Print the second item in the tuple:\n",
    "\n",
    "```Python    \n",
    "thistuple = (\"apple\", \"banana\", \"cherry\")\n",
    "print(thistuple[1])\n",
    "```\n",
    "\n",
    "* Note: The first item has index 0."
   ]
  },
  {
   "cell_type": "code",
   "execution_count": null,
   "id": "21a10aa9",
   "metadata": {},
   "outputs": [],
   "source": [
    "thistuple = (\"apple\", \"banana\", \"cherry\")\n",
    "print(thistuple[1])"
   ]
  },
  {
   "cell_type": "markdown",
   "id": "8dd848ef",
   "metadata": {},
   "source": [
    "**Negative Indexing**\n",
    "\n",
    "Negative indexing means start from the end.\n",
    "\n",
    "**-1** refers to the last item, **-2** refers to the second last item etc.\n",
    "\n",
    "**Example**\n",
    "\n",
    "Print the last item of the tuple:\n",
    "\n",
    "```Python    \n",
    "thistuple = (\"apple\", \"banana\", \"cherry\")\n",
    "print(thistuple[-1])\n",
    "```"
   ]
  },
  {
   "cell_type": "code",
   "execution_count": null,
   "id": "3a18bf45",
   "metadata": {},
   "outputs": [],
   "source": [
    "thistuple = (\"apple\", \"banana\", \"cherry\")\n",
    "print(thistuple[-1])"
   ]
  },
  {
   "cell_type": "markdown",
   "id": "3e7ccf14",
   "metadata": {},
   "source": [
    "**Range of Indexes**\n",
    "\n",
    "You can specify a range of indexes by specifying where to start and where to end the range.\n",
    "\n",
    "When specifying a range, the return value will be a new tuple with the specified items.\n",
    "\n",
    "**Example**\n",
    "\n",
    "Return the third, fourth, and fifth item:\n",
    "\n",
    "```Python    \n",
    "thistuple = (\"apple\", \"banana\", \"cherry\", \"orange\", \"kiwi\", \"melon\", \"mango\")\n",
    "print(thistuple[2:5])\n",
    "```\n",
    "\n",
    "Note: The search will start at index 2 (included) and end at index 5 (not included).\n",
    "\n",
    "Remember that the first item has index 0."
   ]
  },
  {
   "cell_type": "markdown",
   "id": "39e81609",
   "metadata": {},
   "source": [
    "By leaving out the start value, the range will start at the first item:\n",
    "\n",
    "**Example**\n",
    "\n",
    "This example returns the items from the beginning to, but NOT included, \"kiwi\":\n",
    "\n",
    "```Python    \n",
    "thistuple = (\"apple\", \"banana\", \"cherry\", \"orange\", \"kiwi\", \"melon\", \"mango\")\n",
    "print(thistuple[:4])\n",
    "```"
   ]
  },
  {
   "cell_type": "code",
   "execution_count": null,
   "id": "c454e458",
   "metadata": {},
   "outputs": [],
   "source": [
    "thistuple = (\"apple\", \"banana\", \"cherry\", \"orange\", \"kiwi\", \"melon\", \"mango\")\n",
    "print(thistuple[:4])"
   ]
  },
  {
   "cell_type": "markdown",
   "id": "88eb2f5c",
   "metadata": {},
   "source": [
    "By leaving out the end value, the range will go on to the end of the list:\n",
    "\n",
    "**Example**\n",
    "\n",
    "This example returns the items from \"cherry\" and to the end:\n",
    "\n",
    "```Python    \n",
    "thistuple = (\"apple\", \"banana\", \"cherry\", \"orange\", \"kiwi\", \"melon\", \"mango\")\n",
    "print(thistuple[2:])\n",
    "```"
   ]
  },
  {
   "cell_type": "code",
   "execution_count": null,
   "id": "ce85ebe9",
   "metadata": {},
   "outputs": [],
   "source": [
    "thistuple = (\"apple\", \"banana\", \"cherry\", \"orange\", \"kiwi\", \"melon\", \"mango\")\n",
    "print(thistuple[2:])"
   ]
  },
  {
   "cell_type": "markdown",
   "id": "a425ec43",
   "metadata": {},
   "source": [
    "**Range of Negative Indexes**\n",
    "\n",
    "Specify negative indexes if you want to start the search from the end of the tuple:\n",
    "\n",
    "**Example**\n",
    "\n",
    "This example returns the items from index -4 (included) to index -1 (excluded)\n",
    "\n",
    "```Python\n",
    "thistuple = (\"apple\", \"banana\", \"cherry\", \"orange\", \"kiwi\", \"melon\", \"mango\")\n",
    "print(thistuple[-4:-1])\n",
    "```"
   ]
  },
  {
   "cell_type": "code",
   "execution_count": null,
   "id": "f49f84e2",
   "metadata": {},
   "outputs": [],
   "source": [
    "thistuple = (\"apple\", \"banana\", \"cherry\", \"orange\", \"kiwi\", \"melon\", \"mango\")\n",
    "print(thistuple[-4:-1])"
   ]
  },
  {
   "cell_type": "markdown",
   "id": "45d50840",
   "metadata": {},
   "source": [
    "**Check if Item Exists**\n",
    "\n",
    "To determine if a specified item is present in a tuple use the in keyword:\n",
    "\n",
    "**Example**\n",
    "\n",
    "Check if \"apple\" is present in the tuple:\n",
    "\n",
    "```Python    \n",
    "thistuple = (\"apple\", \"banana\", \"cherry\")\n",
    "if \"apple\" in thistuple:\n",
    "    print(\"Yes, 'apple' is in the fruits tuple\")\n",
    "```"
   ]
  },
  {
   "cell_type": "code",
   "execution_count": null,
   "id": "6cde0e7f",
   "metadata": {},
   "outputs": [],
   "source": [
    "thistuple = (\"apple\", \"banana\", \"cherry\")\n",
    "if \"apple\" in thistuple:\n",
    "    print(\"Yes, 'apple' is in the fruits tuple\")"
   ]
  },
  {
   "cell_type": "markdown",
   "id": "ca06be38",
   "metadata": {},
   "source": [
    "Tuples are unchangeable, meaning that you cannot change, add, or remove items once the tuple is created.\n",
    "\n",
    "But there are some workarounds.\n",
    "\n",
    "**Change Tuple Values**\n",
    "\n",
    "Once a tuple is created, you cannot change its values. Tuples are unchangeable, or immutable as it also is called.\n",
    "\n",
    "But there is a workaround. You can convert the tuple into a list, change the list, and convert the list back into a tuple.\n",
    "\n",
    "**Example**\n",
    "\n",
    "Convert the tuple into a list to be able to change it:\n",
    "\n",
    "```Python    \n",
    "x = (\"apple\", \"banana\", \"cherry\")\n",
    "y = list(x)\n",
    "y[1] = \"kiwi\"\n",
    "x = tuple(y)\n",
    "\n",
    "print(x)\n",
    "```"
   ]
  },
  {
   "cell_type": "code",
   "execution_count": null,
   "id": "49b0bce2",
   "metadata": {},
   "outputs": [],
   "source": [
    "x = (\"apple\", \"banana\", \"cherry\")\n",
    "y = list(x)\n",
    "y[1] = \"kiwi\"\n",
    "x = tuple(y)\n",
    "\n",
    "print(x)"
   ]
  },
  {
   "cell_type": "markdown",
   "id": "1eba0e90",
   "metadata": {},
   "source": [
    "**Add Items**\n",
    "\n",
    "Since tuples are immutable, they do not have a build-in append() method, but there are other ways to add items to a tuple.\n",
    "\n",
    "1. Convert into a list: Just like the workaround for changing a tuple, you can convert it into a list, add your item(s), and convert it back into a tuple.\n",
    "\n",
    "**Example**\n",
    "\n",
    "Convert the tuple into a list, add \"orange\", and convert it back into a tuple:\n",
    "\n",
    "```Python    \n",
    "thistuple = (\"apple\", \"banana\", \"cherry\")\n",
    "y = list(thistuple)\n",
    "y.append(\"orange\")\n",
    "thistuple = tuple(y)\n",
    "```\n",
    "\n",
    "2. Add tuple to a tuple. You are allowed to add tuples to tuples, so if you want to add one item, (or many), create a new tuple with the item(s), and add it to the existing tuple:\n",
    "\n",
    "**Example**\n",
    "\n",
    "Create a new tuple with the value \"orange\", and add that tuple:\n",
    "\n",
    "```Python    \n",
    "thistuple = (\"apple\", \"banana\", \"cherry\")\n",
    "y = (\"orange\",)\n",
    "thistuple += y\n",
    "\n",
    "print(thistuple)\n",
    "```"
   ]
  },
  {
   "cell_type": "code",
   "execution_count": null,
   "id": "8bdd08c4",
   "metadata": {},
   "outputs": [],
   "source": [
    "thistuple = (\"apple\", \"banana\", \"cherry\")\n",
    "y = list(thistuple)\n",
    "y.append(\"orange\")\n",
    "thistuple = tuple(y)"
   ]
  },
  {
   "cell_type": "code",
   "execution_count": null,
   "id": "f51810f7",
   "metadata": {},
   "outputs": [],
   "source": [
    "thistuple = (\"apple\", \"banana\", \"cherry\")\n",
    "y = (\"orange\",)\n",
    "thistuple += y\n",
    "\n",
    "print(thistuple)"
   ]
  },
  {
   "cell_type": "markdown",
   "id": "045a7b84",
   "metadata": {},
   "source": [
    "**Remove Items**\n",
    "\n",
    "Note: You cannot remove items in a tuple.\n",
    "\n",
    "Tuples are unchangeable, so you cannot remove items from it, but you can use the same workaround as we used for changing and adding tuple items:\n",
    "\n",
    "**Example**\n",
    "\n",
    "Convert the tuple into a list, remove \"apple\", and convert it back into a tuple:\n",
    "\n",
    "```Python    \n",
    "thistuple = (\"apple\", \"banana\", \"cherry\")\n",
    "y = list(thistuple)\n",
    "y.remove(\"apple\")\n",
    "thistuple = tuple(y)\n",
    "```"
   ]
  },
  {
   "cell_type": "code",
   "execution_count": null,
   "id": "89449a85",
   "metadata": {},
   "outputs": [],
   "source": [
    "thistuple = (\"apple\", \"banana\", \"cherry\")\n",
    "y = list(thistuple)\n",
    "y.remove(\"apple\")\n",
    "thistuple = tuple(y)"
   ]
  },
  {
   "cell_type": "markdown",
   "id": "86c10118",
   "metadata": {},
   "source": [
    "**Example**\n",
    "\n",
    "The **del** keyword can delete the tuple completely:\n",
    "\n",
    "```Python    \n",
    "thistuple = (\"apple\", \"banana\", \"cherry\")\n",
    "del thistuple\n",
    "print(thistuple) #this will raise an error because the tuple no longer exists\n",
    "```"
   ]
  },
  {
   "cell_type": "code",
   "execution_count": null,
   "id": "b227dae2",
   "metadata": {},
   "outputs": [],
   "source": [
    "thistuple = (\"apple\", \"banana\", \"cherry\")\n",
    "del thistuple\n",
    "print(thistuple) #this will raise an error because the tuple no longer exists"
   ]
  },
  {
   "cell_type": "markdown",
   "id": "8b751246",
   "metadata": {},
   "source": [
    "#### Python - Unpack Tuples"
   ]
  },
  {
   "cell_type": "markdown",
   "id": "66f474c1",
   "metadata": {},
   "source": [
    "**Unpacking a Tuple**\n",
    "\n",
    "When we create a tuple, we normally assign values to it. This is called \"packing\" a tuple:\n",
    "\n",
    "**Example**\n",
    "\n",
    "Packing a tuple:\n",
    "\n",
    "```Python    \n",
    "fruits = (\"apple\", \"banana\", \"cherry\")\n",
    "```\n",
    "\n",
    "But, in Python, we are also allowed to extract the values back into variables. This is called \"unpacking\":\n",
    "\n",
    "**Example**\n",
    "\n",
    "Unpacking a tuple:\n",
    "\n",
    "```Python    \n",
    "fruits = (\"apple\", \"banana\", \"cherry\")\n",
    "\n",
    "(green, yellow, red) = fruits\n",
    "\n",
    "print(green)\n",
    "print(yellow)\n",
    "print(red)\n",
    "```\n",
    "\n",
    "* Note: The number of variables must match the number of values in the tuple, if not, you must use an asterisk to collect the remaining values as a list."
   ]
  },
  {
   "cell_type": "code",
   "execution_count": null,
   "id": "17b03a40",
   "metadata": {},
   "outputs": [],
   "source": [
    "fruits = (\"apple\", \"banana\", \"cherry\")\n",
    "\n",
    "(green, yellow, red) = fruits\n",
    "\n",
    "print(green)\n",
    "print(yellow)\n",
    "print(red)"
   ]
  },
  {
   "cell_type": "markdown",
   "id": "3fd45f4b",
   "metadata": {},
   "source": [
    "**Using Asterisk\\***\n",
    "\n",
    "If the number of variables is less than the number of values, you can add an * to the variable name and the values will be assigned to the variable as a list:\n",
    "\n",
    "**Example**\n",
    "\n",
    "Assign the rest of the values as a list called \"red\":\n",
    "\n",
    "```Python    \n",
    "fruits = (\"apple\", \"banana\", \"cherry\", \"strawberry\", \"raspberry\")\n",
    "\n",
    "(green, yellow, *red) = fruits\n",
    "\n",
    "print(green)\n",
    "print(yellow)\n",
    "print(red)\n",
    "```"
   ]
  },
  {
   "cell_type": "code",
   "execution_count": null,
   "id": "1f4b629d",
   "metadata": {},
   "outputs": [],
   "source": [
    "fruits = (\"apple\", \"banana\", \"cherry\", \"strawberry\", \"raspberry\")\n",
    "\n",
    "(green, yellow, *red) = fruits\n",
    "\n",
    "print(green)\n",
    "print(yellow)\n",
    "print(red)"
   ]
  },
  {
   "cell_type": "markdown",
   "id": "9bebd485",
   "metadata": {},
   "source": [
    "If the asterisk is added to another variable name than the last, Python will assign values to the variable until the number of values left matches the number of variables left.\n",
    "\n",
    "**Example**\n",
    "\n",
    "Add a list of values the \"tropic\" variable:\n",
    "\n",
    "```Python    \n",
    "fruits = (\"apple\", \"mango\", \"papaya\", \"pineapple\", \"cherry\")\n",
    "\n",
    "(green, *tropic, red) = fruits\n",
    "\n",
    "print(green)\n",
    "print(tropic)\n",
    "print(red)\n",
    "```"
   ]
  },
  {
   "cell_type": "code",
   "execution_count": null,
   "id": "b3f98a58",
   "metadata": {},
   "outputs": [],
   "source": [
    "fruits = (\"apple\", \"mango\", \"papaya\", \"pineapple\", \"cherry\")\n",
    "\n",
    "(green, *tropic, red) = fruits\n",
    "\n",
    "print(green)\n",
    "print(tropic)\n",
    "print(red)"
   ]
  },
  {
   "cell_type": "markdown",
   "id": "90ca6552",
   "metadata": {},
   "source": [
    "#### Python - Loop Tuples"
   ]
  },
  {
   "cell_type": "markdown",
   "id": "3b02859e",
   "metadata": {},
   "source": [
    "**Loop Through a Tuple**\n",
    "\n",
    "You can loop through the tuple items by using a for loop.\n",
    "\n",
    "**Example**\n",
    "\n",
    "Iterate through the items and print the values:\n",
    "\n",
    "```Python    \n",
    "thistuple = (\"apple\", \"banana\", \"cherry\")\n",
    "for x in thistuple:\n",
    "    print(x)\n",
    "```"
   ]
  },
  {
   "cell_type": "code",
   "execution_count": null,
   "id": "0c4a5aa1",
   "metadata": {},
   "outputs": [],
   "source": [
    "thistuple = (\"apple\", \"banana\", \"cherry\")\n",
    "for x in thistuple:\n",
    "    print(x)"
   ]
  },
  {
   "cell_type": "markdown",
   "id": "5dc73cba",
   "metadata": {},
   "source": [
    "**Loop Through the Index Numbers**\n",
    "\n",
    "You can also loop through the tuple items by referring to their index number.\n",
    "\n",
    "Use the **range()** and **len()** functions to create a suitable iterable.\n",
    "\n",
    "**Example**\n",
    "\n",
    "Print all items by referring to their index number:\n",
    "\n",
    "```Python    \n",
    "thistuple = (\"apple\", \"banana\", \"cherry\")\n",
    "for i in range(len(thistuple)):\n",
    "    print(thistuple[i])\n",
    "```"
   ]
  },
  {
   "cell_type": "code",
   "execution_count": null,
   "id": "9dda2782",
   "metadata": {},
   "outputs": [],
   "source": [
    "thistuple = (\"apple\", \"banana\", \"cherry\")\n",
    "for i in range(len(thistuple)):\n",
    "    print(thistuple[i])"
   ]
  },
  {
   "cell_type": "markdown",
   "id": "6e06495e",
   "metadata": {},
   "source": [
    "**Using a While Loop**\n",
    "\n",
    "You can loop through the list items by using a while loop.\n",
    "\n",
    "Use the **len()** function to determine the length of the tuple, then start at 0 and loop your way through the tuple items by refering to their indexes.\n",
    "\n",
    "Remember to increase the index by 1 after each iteration.\n",
    "\n",
    "**Example**\n",
    "\n",
    "Print all items, using a while loop to go through all the index numbers:\n",
    "\n",
    "```Python    \n",
    "thistuple = (\"apple\", \"banana\", \"cherry\")\n",
    "i = 0\n",
    "while i < len(thistuple):\n",
    "    print(thistuple[i])\n",
    "    i = i + 1\n",
    "```"
   ]
  },
  {
   "cell_type": "code",
   "execution_count": null,
   "id": "661432a9",
   "metadata": {},
   "outputs": [],
   "source": [
    "thistuple = (\"apple\", \"banana\", \"cherry\")\n",
    "i = 0\n",
    "while i < len(thistuple):\n",
    "    print(thistuple[i])\n",
    "    i = i + 1"
   ]
  },
  {
   "cell_type": "markdown",
   "id": "ca97f39c",
   "metadata": {},
   "source": [
    "#### Python - Join Tuples"
   ]
  },
  {
   "cell_type": "markdown",
   "id": "3dc48b3e",
   "metadata": {},
   "source": [
    "**Join Two Tuples**\n",
    "\n",
    "To join two or more tuples you can use the + operator:\n",
    "\n",
    "**Example**\n",
    "\n",
    "Join two tuples:\n",
    "\n",
    "```Python    \n",
    "tuple1 = (\"a\", \"b\" , \"c\")\n",
    "tuple2 = (1, 2, 3)\n",
    "\n",
    "tuple3 = tuple1 + tuple2\n",
    "print(tuple3)\n",
    "```"
   ]
  },
  {
   "cell_type": "code",
   "execution_count": null,
   "id": "7dcbb9a5",
   "metadata": {},
   "outputs": [],
   "source": [
    "tuple1 = (\"a\", \"b\" , \"c\")\n",
    "tuple2 = (1, 2, 3)\n",
    "\n",
    "tuple3 = tuple1 + tuple2\n",
    "print(tuple3)"
   ]
  },
  {
   "cell_type": "markdown",
   "id": "00be3264",
   "metadata": {},
   "source": [
    "**Multiply Tuples**\n",
    "\n",
    "If you want to multiply the content of a tuple a given number of times, you can use the * operator:\n",
    "\n",
    "**Example**\n",
    "\n",
    "Multiply the fruits tuple by 2:\n",
    "\n",
    "```Python    \n",
    "fruits = (\"apple\", \"banana\", \"cherry\")\n",
    "mytuple = fruits * 2\n",
    "\n",
    "print(mytuple)\n",
    "```"
   ]
  },
  {
   "cell_type": "code",
   "execution_count": null,
   "id": "26fcb581",
   "metadata": {},
   "outputs": [],
   "source": [
    "fruits = (\"apple\", \"banana\", \"cherry\")\n",
    "mytuple = fruits * 2\n",
    "\n",
    "print(mytuple)"
   ]
  },
  {
   "cell_type": "markdown",
   "id": "6ac6f509",
   "metadata": {},
   "source": [
    "#### Python - Tuple Methods"
   ]
  },
  {
   "cell_type": "markdown",
   "id": "f53d935e",
   "metadata": {},
   "source": [
    "**Tuple Methods**\n",
    "\n",
    "Python has two built-in methods that you can use on tuples.\n",
    "\n",
    "|Method|Description|\n",
    "|:----------|:--------------------------------------------------------------------------------------------|\n",
    "|**count()**|Returns the number of times a specified value occurs in a tuple|\n",
    "|**index()**|Searches the tuple for a specified value and returns the position of where it was found|"
   ]
  },
  {
   "cell_type": "markdown",
   "id": "a3e37951",
   "metadata": {},
   "source": [
    "### 12. Python Sets"
   ]
  },
  {
   "cell_type": "markdown",
   "id": "54fe53e2",
   "metadata": {},
   "source": [
    "#### Python Sets"
   ]
  },
  {
   "cell_type": "code",
   "execution_count": null,
   "id": "466eda2d",
   "metadata": {},
   "outputs": [],
   "source": [
    "myset = {\"apple\", \"banana\", \"cherry\"}"
   ]
  },
  {
   "cell_type": "markdown",
   "id": "204e0d2c",
   "metadata": {},
   "source": [
    "**Set**\n",
    "\n",
    "Sets are used to store multiple items in a single variable.\n",
    "\n",
    "Set is one of 4 built-in data types in Python used to store collections of data, the other 3 are List, Tuple, and Dictionary, all with different qualities and usage.\n",
    "\n",
    "A set is a collection which is **unordered, unchangeable*, and unindexed**.\n",
    "\n",
    "* Note: Set items are unchangeable, but you can remove items and add new items.\n",
    "\n",
    "Sets are written with curly brackets.\n",
    "\n",
    "**Example**\n",
    "\n",
    "Create a Set:\n",
    "\n",
    "```Python    \n",
    "thisset = {\"apple\", \"banana\", \"cherry\"}\n",
    "print(thisset)\n",
    "```\n",
    "\n",
    "* Note: Sets are unordered, so you cannot be sure in which order the items will appear."
   ]
  },
  {
   "cell_type": "code",
   "execution_count": null,
   "id": "56b47e84",
   "metadata": {},
   "outputs": [],
   "source": [
    "thisset = {\"apple\", \"banana\", \"cherry\"}\n",
    "print(thisset)"
   ]
  },
  {
   "cell_type": "markdown",
   "id": "154e2989",
   "metadata": {},
   "source": [
    "**Set Items**\n",
    "\n",
    "Set items are unordered, unchangeable, and do not allow duplicate values.\n",
    "\n",
    "**Unordered**\n",
    "\n",
    "Unordered means that the items in a set do not have a defined order.\n",
    "\n",
    "Set items can appear in a different order every time you use them, and cannot be referred to by index or key.\n",
    "\n",
    "**Unchangeable**\n",
    "\n",
    "Set items are unchangeable, meaning that we cannot change the items after the set has been created.\n",
    "\n",
    "Once a set is created, you cannot change its items, but you can remove items and add new items.\n",
    "\n",
    "**Duplicates Not Allowed**\n",
    "\n",
    "Sets cannot have two items with the same value.\n",
    "\n",
    "**Example**\n",
    "\n",
    "Duplicate values will be ignored:\n",
    "\n",
    "```Python    \n",
    "thisset = {\"apple\", \"banana\", \"cherry\", \"apple\"}\n",
    "\n",
    "print(thisset)\n",
    "```"
   ]
  },
  {
   "cell_type": "code",
   "execution_count": null,
   "id": "5f730687",
   "metadata": {},
   "outputs": [],
   "source": [
    "thisset = {\"apple\", \"banana\", \"cherry\", \"apple\"}\n",
    "\n",
    "print(thisset)"
   ]
  },
  {
   "cell_type": "markdown",
   "id": "d912581a",
   "metadata": {},
   "source": [
    "Get the Length of a Set\n",
    "\n",
    "To determine how many items a set has, use the len() function.\n",
    "\n",
    "**Example**\n",
    "\n",
    "Get the number of items in a set:\n",
    "\n",
    "```Python    \n",
    "thisset = {\"apple\", \"banana\", \"cherry\"}\n",
    "\n",
    "print(len(thisset))\n",
    "```"
   ]
  },
  {
   "cell_type": "code",
   "execution_count": null,
   "id": "f10c8453",
   "metadata": {},
   "outputs": [],
   "source": [
    "thisset = {\"apple\", \"banana\", \"cherry\"}\n",
    "\n",
    "print(len(thisset))"
   ]
  },
  {
   "cell_type": "markdown",
   "id": "ff8f5fa6",
   "metadata": {},
   "source": [
    "**Set Items - Data Types**\n",
    "\n",
    "Set items can be of any data type:\n",
    "\n",
    "**Example**\n",
    "\n",
    "String, int and boolean data types:\n",
    "\n",
    "```Python    \n",
    "set1 = {\"apple\", \"banana\", \"cherry\"}\n",
    "set2 = {1, 5, 7, 9, 3}\n",
    "set3 = {True, False, False}\n",
    "```"
   ]
  },
  {
   "cell_type": "code",
   "execution_count": null,
   "id": "7bb37996",
   "metadata": {},
   "outputs": [],
   "source": [
    "set1 = {\"apple\", \"banana\", \"cherry\"}\n",
    "set2 = {1, 5, 7, 9, 3}\n",
    "set3 = {True, False, False}"
   ]
  },
  {
   "cell_type": "code",
   "execution_count": null,
   "id": "1a74d11e",
   "metadata": {},
   "outputs": [],
   "source": [
    "# A set can contain different data types:\n",
    "\n",
    "# Example\n",
    "# A set with strings, integers and boolean values:\n",
    "\n",
    "set1 = {\"abc\", 34, True, 40, \"male\"}"
   ]
  },
  {
   "cell_type": "markdown",
   "id": "0f49053e",
   "metadata": {},
   "source": [
    "**type()**\n",
    "\n",
    "From Python's perspective, sets are defined as objects with the data type 'set':\n",
    "\n",
    "```Python\n",
    "<class 'set'>\n",
    "```\n",
    "\n",
    "**Example**\n",
    "\n",
    "What is the data type of a set?\n",
    "\n",
    "```Python\n",
    "myset = {\"apple\", \"banana\", \"cherry\"}\n",
    "print(type(myset))\n",
    "```"
   ]
  },
  {
   "cell_type": "code",
   "execution_count": null,
   "id": "7bfa2236",
   "metadata": {},
   "outputs": [],
   "source": [
    "myset = {\"apple\", \"banana\", \"cherry\"}\n",
    "print(type(myset))"
   ]
  },
  {
   "cell_type": "markdown",
   "id": "c94ae87c",
   "metadata": {},
   "source": [
    "**The set() Constructor**\n",
    "\n",
    "It is also possible to use the set() constructor to make a set.\n",
    "\n",
    "**Example**\n",
    "\n",
    "Using the set() constructor to make a set:\n",
    "\n",
    "```Python    \n",
    "thisset = set((\"apple\", \"banana\", \"cherry\")) # note the double round-brackets\n",
    "print(thisset)\n",
    "```"
   ]
  },
  {
   "cell_type": "code",
   "execution_count": null,
   "id": "c548fb78",
   "metadata": {},
   "outputs": [],
   "source": [
    "thisset = set((\"apple\", \"banana\", \"cherry\")) # note the double round-brackets\n",
    "print(thisset)"
   ]
  },
  {
   "cell_type": "markdown",
   "id": "9d040cf4",
   "metadata": {},
   "source": [
    "**Python Collections (Arrays)**\n",
    "\n",
    "There are four collection data types in the Python programming language:\n",
    "\n",
    "* **List** is a collection which is ordered and changeable. Allows duplicate members.\n",
    "* **Tuple** is a collection which is ordered and unchangeable. Allows duplicate members.\n",
    "* **Set** is a collection which is unordered, unchangeable*, and unindexed. No duplicate members.\n",
    "* **Dictionary** is a collection which is ordered** and changeable. No duplicate members.\n",
    "\n",
    "\\* Set items are unchangeable, but you can remove items and add new items.\n",
    "\n",
    "\\* As of Python version 3.7, dictionaries are ordered. In Python 3.6 and earlier, dictionaries are unordered.\n",
    "\n",
    "When choosing a collection type, it is useful to understand the properties of that type. Choosing the right type for a particular data set could mean retention of meaning, and, it could mean an increase in efficiency or security.\n",
    "\n"
   ]
  },
  {
   "cell_type": "markdown",
   "id": "ed430c0e",
   "metadata": {},
   "source": [
    "#### Python - Access Set Items"
   ]
  },
  {
   "cell_type": "markdown",
   "id": "b358c67b",
   "metadata": {},
   "source": [
    "**Access Items**\n",
    "\n",
    "You cannot access items in a set by referring to an index or a key.\n",
    "\n",
    "But you can loop through the set items using a for loop, or ask if a specified value is present in a set, by using the in keyword.\n",
    "\n",
    "**Example**\n",
    "\n",
    "Loop through the set, and print the values:\n",
    "\n",
    "```Python    \n",
    "thisset = {\"apple\", \"banana\", \"cherry\"}\n",
    "\n",
    "for x in thisset:\n",
    "    print(x)\n",
    "```"
   ]
  },
  {
   "cell_type": "code",
   "execution_count": null,
   "id": "77f411d7",
   "metadata": {},
   "outputs": [],
   "source": [
    "thisset = {\"apple\", \"banana\", \"cherry\"}\n",
    "\n",
    "for x in thisset:\n",
    "    print(x)"
   ]
  },
  {
   "cell_type": "code",
   "execution_count": null,
   "id": "996b2006",
   "metadata": {},
   "outputs": [],
   "source": [
    "# Check if \"banana\" is present in the set:\n",
    "\n",
    "thisset = {\"apple\", \"banana\", \"cherry\"}\n",
    "\n",
    "print(\"banana\" in thisset)"
   ]
  },
  {
   "cell_type": "markdown",
   "id": "8926dc94",
   "metadata": {},
   "source": [
    "Change Items\n",
    "Once a set is created, you cannot change its items, but you can add new items."
   ]
  },
  {
   "cell_type": "markdown",
   "id": "7c70ca37",
   "metadata": {},
   "source": [
    "#### Python - Add Set Items"
   ]
  },
  {
   "cell_type": "markdown",
   "id": "3b7bdcbf",
   "metadata": {},
   "source": [
    "**Add Items**\n",
    "\n",
    "Once a set is created, you cannot change its items, but you can add new items.\n",
    "\n",
    "To add one item to a set use the **add()** method.\n",
    "\n",
    "**Example**\n",
    "\n",
    "Add an item to a set, using the add() method:\n",
    "\n",
    "```Python    \n",
    "thisset = {\"apple\", \"banana\", \"cherry\"}\n",
    "\n",
    "thisset.add(\"orange\")\n",
    "\n",
    "print(thisset)\n",
    "```"
   ]
  },
  {
   "cell_type": "code",
   "execution_count": null,
   "id": "1b104831",
   "metadata": {},
   "outputs": [],
   "source": [
    "thisset = {\"apple\", \"banana\", \"cherry\"}\n",
    "\n",
    "thisset.add(\"orange\")\n",
    "\n",
    "print(thisset)"
   ]
  },
  {
   "cell_type": "markdown",
   "id": "46412724",
   "metadata": {},
   "source": [
    "**Add Sets**\n",
    "\n",
    "To add items from another set into the current set, use the update() method.\n",
    "\n",
    "**Example**\n",
    "\n",
    "Add elements from tropical into thisset:\n",
    "\n",
    "```Python    \n",
    "thisset = {\"apple\", \"banana\", \"cherry\"}\n",
    "tropical = {\"pineapple\", \"mango\", \"papaya\"}\n",
    "\n",
    "thisset.update(tropical)\n",
    "\n",
    "print(thisset)\n",
    "```"
   ]
  },
  {
   "cell_type": "code",
   "execution_count": null,
   "id": "4bf87af7",
   "metadata": {},
   "outputs": [],
   "source": [
    "thisset = {\"apple\", \"banana\", \"cherry\"}\n",
    "tropical = {\"pineapple\", \"mango\", \"papaya\"}\n",
    "\n",
    "thisset.update(tropical)\n",
    "\n",
    "print(thisset)"
   ]
  },
  {
   "cell_type": "markdown",
   "id": "c44bc760",
   "metadata": {},
   "source": [
    "**Add Any Iterable**\n",
    "\n",
    "The object in the update() method does not have to be a set, it can be any iterable object (tuples, lists, dictionaries etc.).\n",
    "\n",
    "**Example**\n",
    "\n",
    "Add elements of a list to at set:\n",
    "\n",
    "```Python    \n",
    "thisset = {\"apple\", \"banana\", \"cherry\"}\n",
    "mylist = [\"kiwi\", \"orange\"]\n",
    "\n",
    "thisset.update(mylist)\n",
    "\n",
    "print(thisset)\n",
    "```"
   ]
  },
  {
   "cell_type": "code",
   "execution_count": null,
   "id": "41bd4438",
   "metadata": {},
   "outputs": [],
   "source": [
    "thisset = {\"apple\", \"banana\", \"cherry\"}\n",
    "mylist = [\"kiwi\", \"orange\"]\n",
    "\n",
    "thisset.update(mylist)\n",
    "\n",
    "print(thisset)"
   ]
  },
  {
   "cell_type": "markdown",
   "id": "34b41697",
   "metadata": {},
   "source": [
    "#### Python - Remove Set Items"
   ]
  },
  {
   "cell_type": "markdown",
   "id": "4fbfba6d",
   "metadata": {},
   "source": [
    "**Remove Item**\n",
    "\n",
    "To remove an item in a set, use the **remove()**, or the **discard()** method.\n",
    "\n",
    "**Example**\n",
    "\n",
    "Remove \"banana\" by using the **remove()** method:\n",
    "    \n",
    "```Python\n",
    "thisset = {\"apple\", \"banana\", \"cherry\"}\n",
    "\n",
    "thisset.remove(\"banana\")\n",
    "\n",
    "print(thisset)\n",
    "```\n",
    "\n",
    "* Note: If the item to remove does not exist, remove() will raise an error."
   ]
  },
  {
   "cell_type": "code",
   "execution_count": null,
   "id": "a989d760",
   "metadata": {},
   "outputs": [],
   "source": [
    "thisset = {\"apple\", \"banana\", \"cherry\"}\n",
    "\n",
    "thisset.remove(\"banana\")\n",
    "\n",
    "print(thisset)"
   ]
  },
  {
   "cell_type": "markdown",
   "id": "903f755b",
   "metadata": {},
   "source": [
    "Remove \"banana\" by using the discard() method:\n",
    "\n",
    "```Python    \n",
    "thisset = {\"apple\", \"banana\", \"cherry\"}\n",
    "\n",
    "thisset.discard(\"banana\")\n",
    "\n",
    "print(thisset)\n",
    "```\n",
    "\n",
    "* Note: If the item to remove does not exist, discard() will NOT raise an error."
   ]
  },
  {
   "cell_type": "code",
   "execution_count": null,
   "id": "29fac9d6",
   "metadata": {},
   "outputs": [],
   "source": [
    "thisset = {\"apple\", \"banana\", \"cherry\"}\n",
    "\n",
    "thisset.discard(\"banana\")\n",
    "\n",
    "print(thisset)"
   ]
  },
  {
   "cell_type": "code",
   "execution_count": null,
   "id": "0b3d6d12",
   "metadata": {},
   "outputs": [],
   "source": [
    "You can also use the **pop()** method to remove an item, but this method will remove the last item. Remember that sets are unordered, so you will not know what item that gets removed.\n",
    "\n",
    "The return value of the **pop()** method is the removed item.\n",
    "\n",
    "**Example**\n",
    "\n",
    "Remove the last item by using the **pop()** method:\n",
    "\n",
    "```Python    \n",
    "thisset = {\"apple\", \"banana\", \"cherry\"}\n",
    "\n",
    "x = thisset.pop()\n",
    "\n",
    "print(x)\n",
    "\n",
    "print(thisset)\n",
    "```\n",
    "\n",
    "* Note: Sets are unordered, so when using the pop() method, you do not know which item that gets removed."
   ]
  },
  {
   "cell_type": "code",
   "execution_count": null,
   "id": "02cfa560",
   "metadata": {},
   "outputs": [],
   "source": [
    "thisset = {\"apple\", \"banana\", \"cherry\"}\n",
    "\n",
    "x = thisset.pop()\n",
    "\n",
    "print(x)\n",
    "\n",
    "print(thisset)"
   ]
  },
  {
   "cell_type": "code",
   "execution_count": null,
   "id": "fc3dbd26",
   "metadata": {},
   "outputs": [],
   "source": [
    "# The clear() method empties the set:\n",
    "\n",
    "thisset = {\"apple\", \"banana\", \"cherry\"}\n",
    "\n",
    "thisset.clear()\n",
    "\n",
    "print(thisset)\n"
   ]
  },
  {
   "cell_type": "code",
   "execution_count": null,
   "id": "26a3b387",
   "metadata": {},
   "outputs": [],
   "source": [
    "# The del keyword will delete the set completely:\n",
    "\n",
    "thisset = {\"apple\", \"banana\", \"cherry\"}\n",
    "\n",
    "del thisset\n",
    "\n",
    "print(thisset)"
   ]
  },
  {
   "cell_type": "markdown",
   "id": "7e656b46",
   "metadata": {},
   "source": [
    "#### Python - Loop Sets"
   ]
  },
  {
   "cell_type": "markdown",
   "id": "88ac3efb",
   "metadata": {},
   "source": [
    "**Loop Items**\n",
    "\n",
    "You can loop through the set items by using a for loop:\n",
    "\n",
    "**Example**\n",
    "\n",
    "Loop through the set, and print the values:\n",
    "\n",
    "```Python    \n",
    "thisset = {\"apple\", \"banana\", \"cherry\"}\n",
    "\n",
    "for x in thisset:\n",
    "    print(x)\n",
    "```"
   ]
  },
  {
   "cell_type": "code",
   "execution_count": null,
   "id": "e2b18b42",
   "metadata": {},
   "outputs": [],
   "source": [
    "thisset = {\"apple\", \"banana\", \"cherry\"}\n",
    "\n",
    "for x in thisset:\n",
    "    print(x)"
   ]
  },
  {
   "cell_type": "markdown",
   "id": "f12823fc",
   "metadata": {},
   "source": [
    "#### Python - Join Sets"
   ]
  },
  {
   "cell_type": "markdown",
   "id": "30c872a0",
   "metadata": {},
   "source": [
    "**Join Two Sets**\n",
    "\n",
    "There are several ways to join two or more sets in Python.\n",
    "\n",
    "You can use the **union()** method that returns a new set containing all items from both sets, or the **update()** method that inserts all the items from one set into another:\n",
    "\n",
    "**Example**\n",
    "\n",
    "The union() method returns a new set with all items from both sets:\n",
    "\n",
    "```Python    \n",
    "set1 = {\"a\", \"b\" , \"c\"}\n",
    "set2 = {1, 2, 3}\n",
    "\n",
    "set3 = set1.union(set2)\n",
    "print(set3)\n",
    "```"
   ]
  },
  {
   "cell_type": "code",
   "execution_count": null,
   "id": "6083fda1",
   "metadata": {},
   "outputs": [],
   "source": [
    "set1 = {\"a\", \"b\" , \"c\"}\n",
    "set2 = {1, 2, 3}\n",
    "\n",
    "set3 = set1.union(set2)\n",
    "print(set3)"
   ]
  },
  {
   "cell_type": "code",
   "execution_count": null,
   "id": "7b49a9a0",
   "metadata": {},
   "outputs": [],
   "source": [
    "# The update() method inserts the items in set2 into set1:\n",
    "\n",
    "set1 = {\"a\", \"b\" , \"c\"}\n",
    "set2 = {1, 2, 3}\n",
    "\n",
    "set1.update(set2)\n",
    "print(set1)\n",
    "\n",
    "# Note: Both union() and update() will exclude any duplicate items."
   ]
  },
  {
   "cell_type": "markdown",
   "id": "4c8b85aa",
   "metadata": {},
   "source": [
    "**Keep ONLY the Duplicates**\n",
    "\n",
    "The **intersection_update()** method will keep only the items that are present in both sets.\n",
    "\n",
    "**Example**\n",
    "\n",
    "Keep the items that exist in both set x, and set y:\n",
    "\n",
    "```Python    \n",
    "x = {\"apple\", \"banana\", \"cherry\"}\n",
    "y = {\"google\", \"microsoft\", \"apple\"}\n",
    "\n",
    "x.intersection_update(y)\n",
    "\n",
    "print(x)\n",
    "```\n",
    "\n",
    "* The intersection() method will return a new set, that only contains the items that are present in both sets."
   ]
  },
  {
   "cell_type": "code",
   "execution_count": null,
   "id": "07b0df85",
   "metadata": {},
   "outputs": [],
   "source": [
    "x = {\"apple\", \"banana\", \"cherry\"}\n",
    "y = {\"google\", \"microsoft\", \"apple\"}\n",
    "\n",
    "x.intersection_update(y)\n",
    "\n",
    "print(x)"
   ]
  },
  {
   "cell_type": "code",
   "execution_count": null,
   "id": "dcb8bcad",
   "metadata": {},
   "outputs": [],
   "source": [
    "# Return a set that contains the items that exist in both set x, and set y:\n",
    "\n",
    "x = {\"apple\", \"banana\", \"cherry\"}\n",
    "y = {\"google\", \"microsoft\", \"apple\"}\n",
    "\n",
    "z = x.intersection(y)\n",
    "\n",
    "print(z)"
   ]
  },
  {
   "cell_type": "markdown",
   "id": "be591615",
   "metadata": {},
   "source": [
    "**Keep All, But NOT the Duplicates**\n",
    "\n",
    "The **symmetric_difference_update()** method will keep only the elements that are NOT present in both sets.\n",
    "\n",
    "**Example**\n",
    "\n",
    "Keep the items that are not present in both sets:\n",
    "\n",
    "```Python    \n",
    "x = {\"apple\", \"banana\", \"cherry\"}\n",
    "y = {\"google\", \"microsoft\", \"apple\"}\n",
    "\n",
    "x.symmetric_difference_update(y)\n",
    "\n",
    "print(x)\n",
    "```\n",
    "\n",
    "* The symmetric_difference() method will return a new set, that contains only the elements that are NOT present in both sets."
   ]
  },
  {
   "cell_type": "code",
   "execution_count": null,
   "id": "923180a2",
   "metadata": {},
   "outputs": [],
   "source": [
    "x = {\"apple\", \"banana\", \"cherry\"}\n",
    "y = {\"google\", \"microsoft\", \"apple\"}\n",
    "\n",
    "x.symmetric_difference_update(y)\n",
    "\n",
    "print(x)"
   ]
  },
  {
   "cell_type": "code",
   "execution_count": null,
   "id": "ba7dcfcc",
   "metadata": {},
   "outputs": [],
   "source": [
    "# Return a set that contains all items from both sets, except items that are present in both:\n",
    "\n",
    "x = {\"apple\", \"banana\", \"cherry\"}\n",
    "y = {\"google\", \"microsoft\", \"apple\"}\n",
    "\n",
    "z = x.symmetric_difference(y)\n",
    "\n",
    "print(z)"
   ]
  },
  {
   "cell_type": "markdown",
   "id": "8cdd8df0",
   "metadata": {},
   "source": [
    "#### Python - Set Methods"
   ]
  },
  {
   "cell_type": "code",
   "execution_count": null,
   "id": "1cfe6dd1",
   "metadata": {},
   "outputs": [],
   "source": [
    "**Set Methods**\n",
    "\n",
    "Python has a set of built-in methods that you can use on sets.\n",
    "\n",
    "|Method|Description|\n",
    "|:----------|:--------------------------------------------------------------------------------------------|\n",
    "|**add()**|Adds an element to the set|\n",
    "|**clear()**|Removes all the elements from the set|\n",
    "|**copy()**|Returns a copy of the set|\n",
    "|**difference()**|Returns a set containing the difference between two or more sets|\n",
    "|**difference_update()**|Removes the items in this set that are also included in another, specified set|\n",
    "|**discard()**|Remove the specified item|\n",
    "|**intersection()**|Returns a set, that is the intersection of two other sets|\n",
    "|**intersection_update()**|Removes the items in this set that are not present in other, specified set(s)|\n",
    "|**isdisjoint()**|Returns whether two sets have a intersection or not|\n",
    "|**issubset()**|Returns whether another set contains this set or not|\n",
    "|**issuperset()**|Returns whether this set contains another set or not|\n",
    "|**pop()**|Removes an element from the set|\n",
    "|**remove()**|Removes the specified element|\n",
    "|**symmetric_difference()**|Returns a set with the symmetric differences of two sets|\n",
    "|**symmetric_difference_update()**|inserts the symmetric differences from this set and another|\n",
    "|**union()**|Return a set containing the union of sets|\n",
    "|**update()**|Update the set with the union of this set and others|\n"
   ]
  },
  {
   "cell_type": "markdown",
   "id": "479e6c39",
   "metadata": {},
   "source": [
    "### 13. Python Dictionaries"
   ]
  },
  {
   "cell_type": "code",
   "execution_count": null,
   "id": "01afafff",
   "metadata": {},
   "outputs": [],
   "source": [
    "thisdict = {\n",
    "  \"brand\": \"Ford\",\n",
    "  \"model\": \"Mustang\",\n",
    "  \"year\": 1964\n",
    "}"
   ]
  },
  {
   "cell_type": "markdown",
   "id": "0108b355",
   "metadata": {},
   "source": [
    "**Dictionary**\n",
    "\n",
    "Dictionaries are used to store data values in key:value pairs.\n",
    "\n",
    "A dictionary is a collection which is ordered*, changeable and do not allow duplicates.\n",
    "\n",
    "As of Python version 3.7, dictionaries are ordered. In Python 3.6 and earlier, dictionaries are unordered.\n",
    "\n",
    "Dictionaries are written with curly brackets, and have keys and values:\n",
    "\n",
    "**Example**\n",
    "\n",
    "Create and print a dictionary:\n",
    "\n",
    "```Python    \n",
    "thisdict = {\n",
    "  \"brand\": \"Ford\",\n",
    "  \"model\": \"Mustang\",\n",
    "  \"year\": 1964\n",
    "}\n",
    "print(thisdict)\n",
    "```"
   ]
  },
  {
   "cell_type": "code",
   "execution_count": null,
   "id": "548e69ca",
   "metadata": {},
   "outputs": [],
   "source": [
    "thisdict = {\n",
    "  \"brand\": \"Ford\",\n",
    "  \"model\": \"Mustang\",\n",
    "  \"year\": 1964\n",
    "}\n",
    "print(thisdict)"
   ]
  },
  {
   "cell_type": "markdown",
   "id": "3be4bd36",
   "metadata": {},
   "source": [
    "**Dictionary Items**\n",
    "\n",
    "Dictionary items are ordered, changeable, and does not allow duplicates.\n",
    "\n",
    "Dictionary items are presented in key:value pairs, and can be referred to by using the key name.\n",
    "\n",
    "**Example**\n",
    "\n",
    "Print the \"brand\" value of the dictionary:\n",
    "\n",
    "```Python    \n",
    "thisdict = {\n",
    "  \"brand\": \"Ford\",\n",
    "  \"model\": \"Mustang\",\n",
    "  \"year\": 1964\n",
    "}\n",
    "print(thisdict[\"brand\"])\n",
    "```"
   ]
  },
  {
   "cell_type": "code",
   "execution_count": null,
   "id": "4ac741e3",
   "metadata": {},
   "outputs": [],
   "source": [
    "thisdict = {\n",
    "  \"brand\": \"Ford\",\n",
    "  \"model\": \"Mustang\",\n",
    "  \"year\": 1964\n",
    "}\n",
    "print(thisdict[\"brand\"])"
   ]
  },
  {
   "cell_type": "markdown",
   "id": "d8431c83",
   "metadata": {},
   "source": [
    "**Ordered or Unordered?**\n",
    "\n",
    "As of Python version 3.7, dictionaries are **ordered**. In Python 3.6 and earlier, dictionaries are unordered.\n",
    "\n",
    "When we say that dictionaries are ordered, it means that the items have a defined order, and that order will not change.\n",
    "\n",
    "**Unordered** means that the items does not have a defined order, you cannot refer to an item by using an index.\n",
    "\n",
    "**Changeable**\n",
    "\n",
    "Dictionaries are changeable, meaning that we can change, add or remove items after the dictionary has been created."
   ]
  },
  {
   "cell_type": "markdown",
   "id": "90357c38",
   "metadata": {},
   "source": [
    "**Duplicates Not Allowed**\n",
    "\n",
    "Dictionaries cannot have two items with the same key:\n",
    "\n",
    "**Example**\n",
    "\n",
    "Duplicate values will overwrite existing values:\n",
    "\n",
    "```Python    \n",
    "thisdict = {\n",
    "  \"brand\": \"Ford\",\n",
    "  \"model\": \"Mustang\",\n",
    "  \"year\": 1964,\n",
    "  \"year\": 2020\n",
    "}\n",
    "print(thisdict)\n",
    "```"
   ]
  },
  {
   "cell_type": "code",
   "execution_count": null,
   "id": "f2ab31c4",
   "metadata": {},
   "outputs": [],
   "source": [
    "thisdict = {\n",
    "  \"brand\": \"Ford\",\n",
    "  \"model\": \"Mustang\",\n",
    "  \"year\": 1964,\n",
    "  \"year\": 2020\n",
    "}\n",
    "print(thisdict)"
   ]
  },
  {
   "cell_type": "markdown",
   "id": "430eff26",
   "metadata": {},
   "source": [
    "**Dictionary Length**\n",
    "\n",
    "To determine how many items a dictionary has, use the len() function:\n",
    "\n",
    "**Example**\n",
    "\n",
    "Print the number of items in the dictionary:\n",
    "\n",
    "> **print(len(thisdict))**\n"
   ]
  },
  {
   "cell_type": "code",
   "execution_count": null,
   "id": "4ddbae4a",
   "metadata": {},
   "outputs": [],
   "source": [
    "thisdict = {\n",
    "  \"brand\": \"Ford\",\n",
    "  \"model\": \"Mustang\",\n",
    "  \"year\": 1964,\n",
    "  \"year\": 2020\n",
    "}\n",
    "print(len(thisdict))"
   ]
  },
  {
   "cell_type": "markdown",
   "id": "4bdcb533",
   "metadata": {},
   "source": [
    "**Dictionary Items - Data Types**\n",
    "\n",
    "The values in dictionary items can be of any data type:\n",
    "\n",
    "**Example**\n",
    "\n",
    "String, int, boolean, and list data types:\n",
    "\n",
    "```Python    \n",
    "thisdict = {\n",
    "  \"brand\": \"Ford\",\n",
    "  \"electric\": False,\n",
    "  \"year\": 1964,\n",
    "  \"colors\": [\"red\", \"white\", \"blue\"]\n",
    "}\n",
    "```"
   ]
  },
  {
   "cell_type": "code",
   "execution_count": null,
   "id": "1849753d",
   "metadata": {},
   "outputs": [],
   "source": [
    "thisdict = {\n",
    "  \"brand\": \"Ford\",\n",
    "  \"electric\": False,\n",
    "  \"year\": 1964,\n",
    "  \"colors\": [\"red\", \"white\", \"blue\"]\n",
    "}\n",
    "\n",
    "print(thisdict)"
   ]
  },
  {
   "cell_type": "markdown",
   "id": "699b0200",
   "metadata": {},
   "source": [
    "**type()**\n",
    "\n",
    "From Python's perspective, dictionaries are defined as objects with the data type 'dict':\n",
    "\n",
    "```Python\n",
    "<class 'dict'>\n",
    "```\n",
    "\n",
    "**Example**\n",
    "\n",
    "Print the data type of a dictionary:\n",
    "\n",
    "```Python    \n",
    "thisdict = {\n",
    "  \"brand\": \"Ford\",\n",
    "  \"model\": \"Mustang\",\n",
    "  \"year\": 1964\n",
    "}\n",
    "print(type(thisdict))\n",
    "```"
   ]
  },
  {
   "cell_type": "code",
   "execution_count": null,
   "id": "9128edd2",
   "metadata": {},
   "outputs": [],
   "source": [
    "thisdict = {\n",
    "  \"brand\": \"Ford\",\n",
    "  \"model\": \"Mustang\",\n",
    "  \"year\": 1964\n",
    "}\n",
    "print(type(thisdict))"
   ]
  },
  {
   "cell_type": "markdown",
   "id": "b69f54db",
   "metadata": {},
   "source": [
    "**Python Collections (Arrays)**\n",
    "\n",
    "There are four collection data types in the Python programming language:\n",
    "\n",
    "* **List** is a collection which is ordered and changeable. Allows duplicate members.\n",
    "* **Tuple** is a collection which is ordered and unchangeable. Allows duplicate members.\n",
    "* **Set** is a collection which is unordered, unchangeable*, and unindexed. No duplicate members.\n",
    "* **Dictionary** is a collection which is ordered** and changeable. No duplicate members.\n",
    "\n",
    "\\*Set items are unchangeable, but you can remove and/or add items whenever you like.\n",
    "\n",
    "\\**As of Python version 3.7, dictionaries are ordered. In Python 3.6 and earlier, dictionaries are unordered.\n",
    "\n",
    "When choosing a collection type, it is useful to understand the properties of that type. Choosing the right type for a particular data set could mean retention of meaning, and, it could mean an increase in efficiency or security."
   ]
  },
  {
   "cell_type": "markdown",
   "id": "c3275999",
   "metadata": {},
   "source": [
    "#### Python - Access Dictionary Items"
   ]
  },
  {
   "cell_type": "markdown",
   "id": "8ec3bc38",
   "metadata": {},
   "source": [
    "**Accessing Items**\n",
    "\n",
    "You can access the items of a dictionary by referring to its key name, inside square brackets:\n",
    "\n",
    "**Example**\n",
    "\n",
    "Get the value of the \"model\" key:\n",
    "\n",
    "```Python    \n",
    "thisdict = {\n",
    "  \"brand\": \"Ford\",\n",
    "  \"model\": \"Mustang\",\n",
    "  \"year\": 1964\n",
    "}\n",
    "x = thisdict[\"model\"]\n",
    "```"
   ]
  },
  {
   "cell_type": "markdown",
   "id": "f2ec27ec",
   "metadata": {},
   "source": [
    "There is also a method called get() that will give you the same result:\n",
    "\n",
    "**Example**\n",
    "\n",
    "Get the value of the \"model\" key:\n",
    "\n",
    "> **x = thisdict.get(\"model\")**"
   ]
  },
  {
   "cell_type": "code",
   "execution_count": null,
   "id": "ecb78129",
   "metadata": {},
   "outputs": [],
   "source": [
    "thisdict = {\n",
    "  \"brand\": \"Ford\",\n",
    "  \"model\": \"Mustang\",\n",
    "  \"year\": 1964\n",
    "}\n",
    "x = thisdict.get(\"model\")\n",
    "print(x)"
   ]
  },
  {
   "cell_type": "markdown",
   "id": "4d5c3598",
   "metadata": {},
   "source": [
    "**Get Keys**\n",
    "\n",
    "The **keys()** method will return a list of all the keys in the dictionary.\n",
    "\n",
    "**Example**\n",
    "\n",
    "Get a list of the keys:\n",
    "\n",
    "```Python    \n",
    "x = thisdict.keys()\n",
    "```\n",
    "\n",
    "The list of the keys is a view of the dictionary, meaning that any changes done to the dictionary will be reflected in the keys list."
   ]
  },
  {
   "cell_type": "code",
   "execution_count": null,
   "id": "cc9a165d",
   "metadata": {},
   "outputs": [],
   "source": [
    "thisdict = {\n",
    "  \"brand\": \"Ford\",\n",
    "  \"model\": \"Mustang\",\n",
    "  \"year\": 1964\n",
    "}\n",
    "\n",
    "x = thisdict.keys()\n",
    "\n",
    "print(x)"
   ]
  },
  {
   "cell_type": "code",
   "execution_count": null,
   "id": "5b426d11",
   "metadata": {},
   "outputs": [],
   "source": [
    "# Add a new item to the original dictionary, and see that the keys list gets updated as well:\n",
    "\n",
    "car = {\n",
    "\"brand\": \"Ford\",\n",
    "\"model\": \"Mustang\",\n",
    "\"year\": 1964\n",
    "}\n",
    "\n",
    "x = car.keys()\n",
    "\n",
    "print(x)      #before the change\n",
    "\n",
    "car[\"color\"] = \"white\"\n",
    "\n",
    "print(x)      #after the change"
   ]
  },
  {
   "cell_type": "markdown",
   "id": "7ca6b1a3",
   "metadata": {},
   "source": [
    "**Get Values**\n",
    "\n",
    "The **values()** method will return a list of all the values in the dictionary.\n",
    "\n",
    "**Example**\n",
    "\n",
    "Get a list of the values:\n",
    "\n",
    "```Python    \n",
    "x = thisdict.values()\n",
    "```\n",
    "\n",
    "The list of the values is a view of the dictionary, meaning that any changes done to the dictionary will be reflected in the values list."
   ]
  },
  {
   "cell_type": "code",
   "execution_count": null,
   "id": "83e41d9b",
   "metadata": {},
   "outputs": [],
   "source": [
    "thisdict = {\n",
    "  \"brand\": \"Ford\",\n",
    "  \"model\": \"Mustang\",\n",
    "  \"year\": 1964\n",
    "}\n",
    "\n",
    "x = thisdict.values()\n",
    "\n",
    "print(x)"
   ]
  },
  {
   "cell_type": "code",
   "execution_count": null,
   "id": "80382fe0",
   "metadata": {},
   "outputs": [],
   "source": [
    "# Make a change in the original dictionary, and see that the values list gets updated as well:\n",
    "\n",
    "car = {\n",
    "\"brand\": \"Ford\",\n",
    "\"model\": \"Mustang\",\n",
    "\"year\": 1964\n",
    "}\n",
    "\n",
    "x = car.values()\n",
    "\n",
    "print(x)     # before the change\n",
    "\n",
    "car[\"year\"] = 2020\n",
    "\n",
    "print(x)     # after the change"
   ]
  },
  {
   "cell_type": "code",
   "execution_count": null,
   "id": "d28e955c",
   "metadata": {},
   "outputs": [],
   "source": [
    "# Add a new item to the original dictionary, and see that the values list gets updated as well:\n",
    "\n",
    "car = {\n",
    "\"brand\": \"Ford\",\n",
    "\"model\": \"Mustang\",\n",
    "\"year\": 1964\n",
    "}\n",
    "\n",
    "x = car.values()\n",
    "\n",
    "print(x)     # before the change\n",
    "\n",
    "car[\"color\"] = \"red\"\n",
    "\n",
    "print(x)     # after the change"
   ]
  },
  {
   "cell_type": "markdown",
   "id": "5c60eeba",
   "metadata": {},
   "source": [
    "**Get Items**\n",
    "\n",
    "The **items()** method will return each item in a dictionary, as tuples in a list.\n",
    "\n",
    "**Example**\n",
    "\n",
    "Get a list of the key:value pairs\n",
    "\n",
    "```Python    \n",
    "x = thisdict.items()\n",
    "```\n",
    "\n",
    "The returned list is a view of the items of the dictionary, meaning that any changes done to the dictionary will be reflected in the items list."
   ]
  },
  {
   "cell_type": "code",
   "execution_count": null,
   "id": "8daabab1",
   "metadata": {},
   "outputs": [],
   "source": [
    "thisdict = {\n",
    "  \"brand\": \"Ford\",\n",
    "  \"model\": \"Mustang\",\n",
    "  \"year\": 1964\n",
    "}\n",
    "\n",
    "x = thisdict.items()\n",
    "\n",
    "print(x)"
   ]
  },
  {
   "cell_type": "code",
   "execution_count": null,
   "id": "56ebe0f8",
   "metadata": {},
   "outputs": [],
   "source": [
    "# Make a change in the original dictionary, and see that the items list gets updated as well:\n",
    "\n",
    "car = {\n",
    "\"brand\": \"Ford\",\n",
    "\"model\": \"Mustang\",\n",
    "\"year\": 1964\n",
    "}\n",
    "\n",
    "x = car.items()\n",
    "\n",
    "print(x)      # before the change\n",
    "\n",
    "car[\"year\"] = 2020\n",
    "\n",
    "print(x)     # after the change"
   ]
  },
  {
   "cell_type": "code",
   "execution_count": null,
   "id": "7d61d1f0",
   "metadata": {},
   "outputs": [],
   "source": [
    "# Add a new item to the original dictionary, and see that the items list gets updated as well:\n",
    "\n",
    "car = {\n",
    "\"brand\": \"Ford\",\n",
    "\"model\": \"Mustang\",\n",
    "\"year\": 1964\n",
    "}\n",
    "\n",
    "x = car.items()\n",
    "\n",
    "print(x)     # before the change\n",
    "\n",
    "car[\"color\"] = \"red\"\n",
    "\n",
    "print(x)     # after the change"
   ]
  },
  {
   "cell_type": "markdown",
   "id": "2e7e0db9",
   "metadata": {},
   "source": [
    "**Check if Key Exists**\n",
    "\n",
    "To determine if a specified key is present in a dictionary use the in keyword:\n",
    "\n",
    "**Example**\n",
    "\n",
    "Check if \"model\" is present in the dictionary:\n",
    "\n",
    "```Python    \n",
    "thisdict = {\n",
    "  \"brand\": \"Ford\",\n",
    "  \"model\": \"Mustang\",\n",
    "  \"year\": 1964\n",
    "}\n",
    "if \"model\" in thisdict:\n",
    "    print(\"Yes, 'model' is one of the keys in the thisdict dictionary\")\n",
    "```"
   ]
  },
  {
   "cell_type": "code",
   "execution_count": null,
   "id": "653b2bbb",
   "metadata": {},
   "outputs": [],
   "source": [
    "thisdict = {\n",
    "  \"brand\": \"Ford\",\n",
    "  \"model\": \"Mustang\",\n",
    "  \"year\": 1964\n",
    "}\n",
    "if \"model\" in thisdict:\n",
    "    print(\"Yes, 'model' is one of the keys in the thisdict dictionary\")"
   ]
  },
  {
   "cell_type": "markdown",
   "id": "057f9f98",
   "metadata": {},
   "source": [
    "#### Python - Change Dictionary Items"
   ]
  },
  {
   "cell_type": "markdown",
   "id": "9013871f",
   "metadata": {},
   "source": [
    "**Change Values**\n",
    "\n",
    "You can change the value of a specific item by referring to its key name:\n",
    "\n",
    "**Example**\n",
    "\n",
    "Change the \"year\" to 2018:\n",
    "\n",
    "```Python    \n",
    "thisdict = {\n",
    "  \"brand\": \"Ford\",\n",
    "  \"model\": \"Mustang\",\n",
    "  \"year\": 1964\n",
    "}\n",
    "thisdict[\"year\"] = 2018\n",
    "```"
   ]
  },
  {
   "cell_type": "code",
   "execution_count": null,
   "id": "dea5b305",
   "metadata": {},
   "outputs": [],
   "source": [
    "thisdict = {\n",
    "  \"brand\": \"Ford\",\n",
    "  \"model\": \"Mustang\",\n",
    "  \"year\": 1964\n",
    "}\n",
    "thisdict[\"year\"] = 2018"
   ]
  },
  {
   "cell_type": "markdown",
   "id": "eec58c4e",
   "metadata": {},
   "source": [
    "**Update Dictionary**\n",
    "\n",
    "The **update()** method will update the dictionary with the items from the given argument.\n",
    "\n",
    "The argument must be a dictionary, or an iterable object with key:value pairs.\n",
    "\n",
    "**Example**\n",
    "\n",
    "Update the \"year\" of the car by using the **update()** method:\n",
    "\n",
    "```Python    \n",
    "thisdict = {\n",
    "  \"brand\": \"Ford\",\n",
    "  \"model\": \"Mustang\",\n",
    "  \"year\": 1964\n",
    "}\n",
    "thisdict.update({\"year\": 2020})\n",
    "```"
   ]
  },
  {
   "cell_type": "code",
   "execution_count": null,
   "id": "6437de3f",
   "metadata": {},
   "outputs": [],
   "source": [
    "thisdict = {\n",
    "  \"brand\": \"Ford\",\n",
    "  \"model\": \"Mustang\",\n",
    "  \"year\": 1964\n",
    "}\n",
    "thisdict.update({\"year\": 2020})"
   ]
  },
  {
   "cell_type": "markdown",
   "id": "cd2dbe12",
   "metadata": {},
   "source": [
    "#### Python - Add Dictionary Items"
   ]
  },
  {
   "cell_type": "markdown",
   "id": "e4e38b64",
   "metadata": {},
   "source": [
    "**Adding Items**\n",
    "\n",
    "Adding an item to the dictionary is done by using a new index key and assigning a value to it:\n",
    "\n",
    "**Example**\n",
    "\n",
    "```Python\n",
    "thisdict = {\n",
    "  \"brand\": \"Ford\",\n",
    "  \"model\": \"Mustang\",\n",
    "  \"year\": 1964\n",
    "}\n",
    "thisdict[\"color\"] = \"red\"\n",
    "print(thisdict)\n",
    "```"
   ]
  },
  {
   "cell_type": "code",
   "execution_count": null,
   "id": "3ecfe3da",
   "metadata": {},
   "outputs": [],
   "source": [
    "thisdict = {\n",
    "  \"brand\": \"Ford\",\n",
    "  \"model\": \"Mustang\",\n",
    "  \"year\": 1964\n",
    "}\n",
    "thisdict[\"color\"] = \"red\"\n",
    "print(thisdict)"
   ]
  },
  {
   "cell_type": "markdown",
   "id": "68866d93",
   "metadata": {},
   "source": [
    "**Update Dictionary**\n",
    "\n",
    "The **update()** method will update the dictionary with the items from a given argument. If the item does not exist, the item will be added.\n",
    "\n",
    "The argument must be a dictionary, or an iterable object with key:value pairs.\n",
    "\n",
    "**Example**\n",
    "\n",
    "Add a color item to the dictionary by using the **update()** method:\n",
    "\n",
    "```Python    \n",
    "thisdict = {\n",
    "  \"brand\": \"Ford\",\n",
    "  \"model\": \"Mustang\",\n",
    "  \"year\": 1964\n",
    "}\n",
    "thisdict.update({\"color\": \"red\"})\n",
    "```"
   ]
  },
  {
   "cell_type": "code",
   "execution_count": null,
   "id": "15b5faac",
   "metadata": {},
   "outputs": [],
   "source": [
    "thisdict = {\n",
    "  \"brand\": \"Ford\",\n",
    "  \"model\": \"Mustang\",\n",
    "  \"year\": 1964\n",
    "}\n",
    "thisdict.update({\"color\": \"red\"})"
   ]
  },
  {
   "cell_type": "markdown",
   "id": "01248c4a",
   "metadata": {},
   "source": [
    "#### Python - Remove Dictionary Items"
   ]
  },
  {
   "cell_type": "markdown",
   "id": "31131930",
   "metadata": {},
   "source": [
    "**Removing Items**\n",
    "\n",
    "There are several methods to remove items from a dictionary:\n",
    "\n",
    "**Example**\n",
    "\n",
    "The **pop()** method removes the item with the specified key name:\n",
    "\n",
    "```Python    \n",
    "thisdict = {\n",
    "  \"brand\": \"Ford\",\n",
    "  \"model\": \"Mustang\",\n",
    "  \"year\": 1964\n",
    "}\n",
    "thisdict.pop(\"model\")\n",
    "print(thisdict)\n",
    "```"
   ]
  },
  {
   "cell_type": "code",
   "execution_count": null,
   "id": "61a446c5",
   "metadata": {},
   "outputs": [],
   "source": [
    "thisdict = {\n",
    "  \"brand\": \"Ford\",\n",
    "  \"model\": \"Mustang\",\n",
    "  \"year\": 1964\n",
    "}\n",
    "thisdict.pop(\"model\")\n",
    "print(thisdict)"
   ]
  },
  {
   "cell_type": "code",
   "execution_count": null,
   "id": "caff680d",
   "metadata": {},
   "outputs": [],
   "source": [
    "# The popitem() method removes the last inserted item (in versions before 3.7, a random item is removed instead):\n",
    "\n",
    "thisdict = {\n",
    "  \"brand\": \"Ford\",\n",
    "  \"model\": \"Mustang\",\n",
    "  \"year\": 1964\n",
    "}\n",
    "thisdict.popitem()\n",
    "print(thisdict)"
   ]
  },
  {
   "cell_type": "code",
   "execution_count": null,
   "id": "58e042f7",
   "metadata": {},
   "outputs": [],
   "source": [
    "# The del keyword removes the item with the specified key name:\n",
    "\n",
    "thisdict = {\n",
    "  \"brand\": \"Ford\",\n",
    "  \"model\": \"Mustang\",\n",
    "  \"year\": 1964\n",
    "}\n",
    "\n",
    "del thisdict[\"model\"]\n",
    "\n",
    "print(thisdict)"
   ]
  },
  {
   "cell_type": "code",
   "execution_count": null,
   "id": "2dabda7c",
   "metadata": {},
   "outputs": [],
   "source": [
    "# The del keyword can also delete the dictionary completely:\n",
    "\n",
    "thisdict = {\n",
    "  \"brand\": \"Ford\",\n",
    "  \"model\": \"Mustang\",\n",
    "  \"year\": 1964\n",
    "}\n",
    "\n",
    "del thisdict\n",
    "\n",
    "print(thisdict) #this will cause an error because \"thisdict\" no longer exists."
   ]
  },
  {
   "cell_type": "code",
   "execution_count": null,
   "id": "d306e899",
   "metadata": {},
   "outputs": [],
   "source": [
    "# The clear() method empties the dictionary:\n",
    "\n",
    "thisdict = {\n",
    "  \"brand\": \"Ford\",\n",
    "  \"model\": \"Mustang\",\n",
    "  \"year\": 1964\n",
    "}\n",
    "\n",
    "thisdict.clear()\n",
    "\n",
    "print(thisdict)"
   ]
  },
  {
   "cell_type": "markdown",
   "id": "f9958168",
   "metadata": {},
   "source": [
    "#### Python - Loop Dictionaries"
   ]
  },
  {
   "cell_type": "markdown",
   "id": "eb969617",
   "metadata": {},
   "source": [
    "**Loop Through a Dictionary**\n",
    "\n",
    "You can loop through a dictionary by using a for loop.\n",
    "\n",
    "When looping through a dictionary, the return value are the keys of the dictionary, but there are methods to return the values as well.\n",
    "\n",
    "**Example**\n",
    "\n",
    "Print all key names in the dictionary, one by one:\n",
    "\n",
    "```Python    \n",
    "for x in thisdict:\n",
    "    print(x)\n",
    "```"
   ]
  },
  {
   "cell_type": "code",
   "execution_count": null,
   "id": "02a9b06c",
   "metadata": {},
   "outputs": [],
   "source": [
    "thisdict =\t{\n",
    "  \"brand\": \"Ford\",\n",
    "  \"model\": \"Mustang\",\n",
    "  \"year\": 1964\n",
    "}\n",
    "\n",
    "for x in thisdict:\n",
    "    print(x)"
   ]
  },
  {
   "cell_type": "code",
   "execution_count": null,
   "id": "8a21af80",
   "metadata": {},
   "outputs": [],
   "source": [
    "# Print all values in the dictionary, one by one:\n",
    "\n",
    "for x in thisdict:\n",
    "    print(thisdict[x])"
   ]
  },
  {
   "cell_type": "code",
   "execution_count": null,
   "id": "cf204d1d",
   "metadata": {},
   "outputs": [],
   "source": [
    "# You can also use the values() method to return values of a dictionary:\n",
    "\n",
    "for x in thisdict.values():\n",
    "    print(x)"
   ]
  },
  {
   "cell_type": "code",
   "execution_count": null,
   "id": "d3979e09",
   "metadata": {},
   "outputs": [],
   "source": [
    "# You can use the keys() method to return the keys of a dictionary:\n",
    "\n",
    "for x in thisdict.keys():\n",
    "    print(x)"
   ]
  },
  {
   "cell_type": "code",
   "execution_count": null,
   "id": "ec46614d",
   "metadata": {},
   "outputs": [],
   "source": [
    "# Loop through both keys and values, by using the items() method:\n",
    "\n",
    "for x, y in thisdict.items():\n",
    "    print(x, y)"
   ]
  },
  {
   "cell_type": "markdown",
   "id": "7bdc2a91",
   "metadata": {},
   "source": [
    "#### Python - Copy Dictionaries"
   ]
  },
  {
   "cell_type": "markdown",
   "id": "971c0b30",
   "metadata": {},
   "source": [
    "**Copy a Dictionary**\n",
    "\n",
    "You cannot copy a dictionary simply by typing dict2 = dict1, because: dict2 will only be a reference to dict1, and changes made in dict1 will automatically also be made in dict2.\n",
    "\n",
    "There are ways to make a copy, one way is to use the built-in Dictionary method **copy()**.\n",
    "\n",
    "**Example**\n",
    "\n",
    "Make a copy of a dictionary with the **copy()** method:\n",
    "\n",
    "```Python    \n",
    "thisdict = {\n",
    "  \"brand\": \"Ford\",\n",
    "  \"model\": \"Mustang\",\n",
    "  \"year\": 1964\n",
    "}\n",
    "\n",
    "mydict = thisdict.copy()\n",
    "\n",
    "print(mydict)\n",
    "```"
   ]
  },
  {
   "cell_type": "code",
   "execution_count": null,
   "id": "476ce2bf",
   "metadata": {},
   "outputs": [],
   "source": [
    "thisdict = {\n",
    "  \"brand\": \"Ford\",\n",
    "  \"model\": \"Mustang\",\n",
    "  \"year\": 1964\n",
    "}\n",
    "\n",
    "mydict = thisdict.copy()\n",
    "\n",
    "print(mydict)"
   ]
  },
  {
   "cell_type": "markdown",
   "id": "07aa428f",
   "metadata": {},
   "source": [
    "Another way to make a copy is to use the built-in function **dict()**.\n",
    "\n",
    "**Example**\n",
    "\n",
    "Make a copy of a dictionary with the **dict()** function:\n",
    "\n",
    "```Python    \n",
    "thisdict = {\n",
    "  \"brand\": \"Ford\",\n",
    "  \"model\": \"Mustang\",\n",
    "  \"year\": 1964\n",
    "}\n",
    "\n",
    "mydict = dict(thisdict)\n",
    "\n",
    "print(mydict)\n",
    "```"
   ]
  },
  {
   "cell_type": "code",
   "execution_count": null,
   "id": "171109ce",
   "metadata": {},
   "outputs": [],
   "source": [
    "thisdict = {\n",
    "  \"brand\": \"Ford\",\n",
    "  \"model\": \"Mustang\",\n",
    "  \"year\": 1964\n",
    "}\n",
    "\n",
    "mydict = dict(thisdict)\n",
    "\n",
    "print(mydict)"
   ]
  },
  {
   "cell_type": "markdown",
   "id": "050f182f",
   "metadata": {},
   "source": [
    "#### Python - Nested Dictionaries"
   ]
  },
  {
   "cell_type": "markdown",
   "id": "11d04a07",
   "metadata": {},
   "source": [
    "**Nested Dictionaries**\n",
    "\n",
    "A dictionary can contain dictionaries, this is called nested dictionaries.\n",
    "\n",
    "**Example**\n",
    "\n",
    "Create a dictionary that contain three dictionaries:\n",
    "\n",
    "```Python    \n",
    "myfamily = {\n",
    "  \"child1\" : {\n",
    "    \"name\" : \"Emil\",\n",
    "    \"year\" : 2004\n",
    "  },\n",
    "  \"child2\" : {\n",
    "    \"name\" : \"Tobias\",\n",
    "    \"year\" : 2007\n",
    "  },\n",
    "  \"child3\" : {\n",
    "    \"name\" : \"Linus\",\n",
    "    \"year\" : 2011\n",
    "  }\n",
    "}\n",
    "```"
   ]
  },
  {
   "cell_type": "code",
   "execution_count": null,
   "id": "c6f4d01e",
   "metadata": {},
   "outputs": [],
   "source": [
    "myfamily = {\n",
    "  \"child1\" : {\n",
    "    \"name\" : \"Emil\",\n",
    "    \"year\" : 2004\n",
    "  },\n",
    "  \"child2\" : {\n",
    "    \"name\" : \"Tobias\",\n",
    "    \"year\" : 2007\n",
    "  },\n",
    "  \"child3\" : {\n",
    "    \"name\" : \"Linus\",\n",
    "    \"year\" : 2011\n",
    "  }\n",
    "}\n",
    "\n",
    "print(myfamily)"
   ]
  },
  {
   "cell_type": "markdown",
   "id": "bf4a0f37",
   "metadata": {},
   "source": [
    "or, if you want to add three dictionaries into a new dictionary:\n",
    "\n",
    "**Example**\n",
    "\n",
    "Create three dictionaries, then create one dictionary that will contain the other three dictionaries:\n",
    "\n",
    "```Python    \n",
    "child1 = {\n",
    "  \"name\" : \"Emil\",\n",
    "  \"year\" : 2004\n",
    "}\n",
    "child2 = {\n",
    "  \"name\" : \"Tobias\",\n",
    "  \"year\" : 2007\n",
    "}\n",
    "child3 = {\n",
    "  \"name\" : \"Linus\",\n",
    "  \"year\" : 2011\n",
    "}\n",
    "\n",
    "myfamily = {\n",
    "  \"child1\" : child1,\n",
    "  \"child2\" : child2,\n",
    "  \"child3\" : child3\n",
    "}\n",
    "```"
   ]
  },
  {
   "cell_type": "code",
   "execution_count": null,
   "id": "0331bd95",
   "metadata": {},
   "outputs": [],
   "source": [
    "child1 = {\n",
    "  \"name\" : \"Emil\",\n",
    "  \"year\" : 2004\n",
    "}\n",
    "child2 = {\n",
    "  \"name\" : \"Tobias\",\n",
    "  \"year\" : 2007\n",
    "}\n",
    "child3 = {\n",
    "  \"name\" : \"Linus\",\n",
    "  \"year\" : 2011\n",
    "}\n",
    "\n",
    "myfamily = {\n",
    "  \"child1\" : child1,\n",
    "  \"child2\" : child2,\n",
    "  \"child3\" : child3\n",
    "}\n",
    "\n",
    "print(myfamily)"
   ]
  },
  {
   "cell_type": "markdown",
   "id": "717ce25f",
   "metadata": {},
   "source": [
    "#### Python Dictionary Methods"
   ]
  },
  {
   "cell_type": "markdown",
   "id": "7ab1a1b8",
   "metadata": {},
   "source": [
    "**Dictionary Methods**\n",
    "\n",
    "Python has a set of built-in methods that you can use on dictionaries.\n",
    "\n",
    "|Method|Description|\n",
    "|:------------|:---------------------------------------------------------------------------------------------------------------|\n",
    "|**clear()**|Removes all the elements from the dictionary|\n",
    "|**copy()**|Returns a copy of the dictionary|\n",
    "|**fromkeys()**|Returns a dictionary with the specified keys and value|\n",
    "|**get()**|Returns the value of the specified key|\n",
    "|**items()**|Returns a list containing a tuple for each key value pair|\n",
    "|**keys()**|Returns a list containing the dictionary's keys|\n",
    "|**pop()**|Removes the element with the specified key|\n",
    "|**popitem()**|Removes the last inserted key-value pair|\n",
    "|**setdefault()**|Returns the value of the specified key. If the key does not exist: insert the key, with the specified value|\n",
    "|**update()**|Updates the dictionary with the specified key-value pairs|\n",
    "|**values()**|Returns a list of all the values in the dictionary|\n"
   ]
  },
  {
   "cell_type": "markdown",
   "id": "41c2e08c",
   "metadata": {},
   "source": [
    "### 14. Python If...Else"
   ]
  },
  {
   "cell_type": "markdown",
   "id": "1c528d84",
   "metadata": {},
   "source": [
    "**Python Conditions and If statements**\n",
    "\n",
    "Python supports the usual logical conditions from mathematics:\n",
    "\n",
    "* Equals: a == b\n",
    "* Not Equals: a != b\n",
    "* Less than: a < b\n",
    "* Less than or equal to: a <= b\n",
    "* Greater than: a > b\n",
    "* Greater than or equal to: a >= b\n",
    "    \n",
    "These conditions can be used in several ways, most commonly in \"if statements\" and loops.\n",
    "\n",
    "An \"if statement\" is written by using the if keyword.\n",
    "\n",
    "**Example**\n",
    "\n",
    "If statement:\n",
    "\n",
    "```Python    \n",
    "a = 33\n",
    "b = 200\n",
    "if b > a:\n",
    "    print(\"b is greater than a\")\n",
    "```\n",
    "\n",
    "In this example we use two variables, a and b, which are used as part of the if statement to test whether b is greater than a. As a is 33, and b is 200, we know that 200 is greater than 33, and so we print to screen that \"b is greater than a\"."
   ]
  },
  {
   "cell_type": "code",
   "execution_count": null,
   "id": "0eb95a64",
   "metadata": {},
   "outputs": [],
   "source": [
    "a = 33\n",
    "b = 200\n",
    "\n",
    "if b > a:\n",
    "    print(\"b is greater than a\")"
   ]
  },
  {
   "cell_type": "markdown",
   "id": "1e117df4",
   "metadata": {},
   "source": [
    "**Indentation**\n",
    "\n",
    "Python relies on indentation (whitespace at the beginning of a line) to define scope in the code. Other programming languages often use curly-brackets for this purpose.\n",
    "\n",
    "**Example**\n",
    "\n",
    "If statement, without indentation (will raise an error):\n",
    "\n",
    "```Python    \n",
    "a = 33\n",
    "b = 200\n",
    "if b > a:\n",
    "print(\"b is greater than a\") # you will get an error\n",
    "```"
   ]
  },
  {
   "cell_type": "code",
   "execution_count": null,
   "id": "7020f95b",
   "metadata": {},
   "outputs": [],
   "source": [
    "a = 33\n",
    "b = 200\n",
    "if b > a:\n",
    "print(\"b is greater than a\") # you will get an error"
   ]
  },
  {
   "cell_type": "markdown",
   "id": "891c1c13",
   "metadata": {},
   "source": [
    "**Elif**\n",
    "\n",
    "The **elif** keyword is pythons way of saying \"if the previous conditions were not true, then try this condition\".\n",
    "\n",
    "**Example**\n",
    "\n",
    "```Python\n",
    "a = 33\n",
    "b = 33\n",
    "if b > a:\n",
    "    print(\"b is greater than a\")\n",
    "elif a == b:\n",
    "    print(\"a and b are equal\")\n",
    "```    \n",
    "\n",
    "In this example a is equal to b, so the first condition is not true, but the elif condition is true, so we print to screen that \"a and b are equal\"."
   ]
  },
  {
   "cell_type": "code",
   "execution_count": null,
   "id": "f98c25ea",
   "metadata": {},
   "outputs": [],
   "source": [
    "a = 33\n",
    "b = 33\n",
    "if b > a:\n",
    "    print(\"b is greater than a\")\n",
    "elif a == b:\n",
    "    print(\"a and b are equal\")"
   ]
  },
  {
   "cell_type": "markdown",
   "id": "dcb44fa4",
   "metadata": {},
   "source": [
    "**Else**\n",
    "\n",
    "The **else** keyword catches anything which isn't caught by the preceding conditions.\n",
    "\n",
    "**Example**\n",
    "\n",
    "```Python\n",
    "a = 200\n",
    "b = 33\n",
    "if b > a:\n",
    "    print(\"b is greater than a\")\n",
    "elif a == b:\n",
    "    print(\"a and b are equal\")\n",
    "else:\n",
    "    print(\"a is greater than b\")\n",
    "```\n",
    "\n",
    "In this example a is greater than b, so the first condition is not true, also the elif condition is not true, so we go to the else condition and print to screen that \"a is greater than b\"."
   ]
  },
  {
   "cell_type": "code",
   "execution_count": null,
   "id": "e5fed356",
   "metadata": {},
   "outputs": [],
   "source": [
    "a = 200\n",
    "b = 33\n",
    "\n",
    "if b > a:\n",
    "    print(\"b is greater than a\")\n",
    "elif a == b:\n",
    "    print(\"a and b are equal\")\n",
    "else:\n",
    "    print(\"a is greater than b\")"
   ]
  },
  {
   "cell_type": "code",
   "execution_count": null,
   "id": "39a98d83",
   "metadata": {},
   "outputs": [],
   "source": [
    "# You can also have an else without the elif:\n",
    "\n",
    "# Example\n",
    "a = 200\n",
    "b = 33\n",
    "\n",
    "if b > a:\n",
    "    print(\"b is greater than a\")\n",
    "else:\n",
    "    print(\"b is not greater than a\")"
   ]
  },
  {
   "cell_type": "markdown",
   "id": "757be5b7",
   "metadata": {},
   "source": [
    "**Short Hand If**\n",
    "\n",
    "If you have only one statement to execute, you can put it on the same line as the if statement.\n",
    "\n",
    "**Example**\n",
    "\n",
    "One line if statement:\n",
    "\n",
    "```Python    \n",
    "if a > b: print(\"a is greater than b\")\n",
    "```"
   ]
  },
  {
   "cell_type": "code",
   "execution_count": null,
   "id": "f39a7b01",
   "metadata": {},
   "outputs": [],
   "source": [
    "a = 200\n",
    "b = 33\n",
    "\n",
    "if a > b: print(\"a is greater than b\")"
   ]
  },
  {
   "cell_type": "markdown",
   "id": "06630946",
   "metadata": {},
   "source": [
    "**Short Hand If ... Else**\n",
    "\n",
    "If you have only one statement to execute, one for if, and one for else, you can put it all on the same line:\n",
    "\n",
    "**Example**\n",
    "\n",
    "One line if else statement:\n",
    "\n",
    "```Python    \n",
    "a = 2\n",
    "b = 330\n",
    "\n",
    "print(\"A\") if a > b else print(\"B\")\n",
    "```\n",
    "This technique is known as Ternary Operators, or Conditional Expressions."
   ]
  },
  {
   "cell_type": "code",
   "execution_count": null,
   "id": "ca67b7f9",
   "metadata": {},
   "outputs": [],
   "source": [
    "a = 2\n",
    "b = 330\n",
    "\n",
    "print(\"A\") if a > b else print(\"B\")"
   ]
  },
  {
   "cell_type": "code",
   "execution_count": null,
   "id": "604c984b",
   "metadata": {},
   "outputs": [],
   "source": [
    "# You can also have multiple else statements on the same line:\n",
    "\n",
    "# Example\n",
    "# One line if else statement, with 3 conditions:\n",
    "\n",
    "a = 330\n",
    "b = 330\n",
    "\n",
    "print(\"A\") if a > b else print(\"=\") if a == b else print(\"B\")\n"
   ]
  },
  {
   "cell_type": "markdown",
   "id": "19f027a7",
   "metadata": {},
   "source": [
    "**And**\n",
    "\n",
    "The and keyword is a logical operator, and is used to combine conditional statements:\n",
    "\n",
    "**Example**\n",
    "\n",
    "Test if a is greater than b, AND if c is greater than a:\n",
    "\n",
    "```Python    \n",
    "a = 200\n",
    "b = 33\n",
    "c = 500\n",
    "\n",
    "if a > b and c > a:\n",
    "    print(\"Both conditions are True\")\n",
    "```"
   ]
  },
  {
   "cell_type": "code",
   "execution_count": null,
   "id": "e197c1b9",
   "metadata": {},
   "outputs": [],
   "source": [
    "a = 200\n",
    "b = 33\n",
    "c = 500\n",
    "if a > b and c > a:\n",
    "    print(\"Both conditions are True\")"
   ]
  },
  {
   "cell_type": "markdown",
   "id": "58748d96",
   "metadata": {},
   "source": [
    "**Or**\n",
    "\n",
    "The or keyword is a logical operator, and is used to combine conditional statements:\n",
    "\n",
    "**Example**\n",
    "\n",
    "Test if a is greater than b, OR if a is greater than c:\n",
    "\n",
    "```Python    \n",
    "a = 200\n",
    "b = 33\n",
    "c = 500\n",
    "\n",
    "if a > b or a > c:\n",
    "    print(\"At least one of the conditions is True\")\n",
    "```"
   ]
  },
  {
   "cell_type": "code",
   "execution_count": null,
   "id": "f792af32",
   "metadata": {},
   "outputs": [],
   "source": [
    "a = 200\n",
    "b = 33\n",
    "c = 500\n",
    "if a > b or a > c:\n",
    "    print(\"At least one of the conditions is True\")"
   ]
  },
  {
   "cell_type": "markdown",
   "id": "cce0469f",
   "metadata": {},
   "source": [
    "**Nested If**\n",
    "\n",
    "You can have if statements inside if statements, this is called nested if statements.\n",
    "\n",
    "**Example**\n",
    "\n",
    "```Python\n",
    "x = 41\n",
    "\n",
    "if x > 10:\n",
    "    print(\"Above ten,\")\n",
    "    if x > 20:\n",
    "        print(\"and also above 20!\")\n",
    "    else:\n",
    "        print(\"but not above 20.\")\n",
    "```"
   ]
  },
  {
   "cell_type": "code",
   "execution_count": null,
   "id": "ec3a7c69",
   "metadata": {},
   "outputs": [],
   "source": [
    "x = 41\n",
    "\n",
    "if x > 10:\n",
    "    print(\"Above ten,\")\n",
    "    \n",
    "    if x > 20:\n",
    "        print(\"and also above 20!\")\n",
    "    else:\n",
    "        print(\"but not above 20.\")"
   ]
  },
  {
   "cell_type": "markdown",
   "id": "66000f1d",
   "metadata": {},
   "source": [
    "**The pass Statement**\n",
    "\n",
    "if statements cannot be empty, but if you for some reason have an if statement with no content, put in the pass statement to avoid getting an error.\n",
    "\n",
    "**Example**\n",
    "\n",
    "```Python\n",
    "a = 33\n",
    "b = 200\n",
    "\n",
    "if b > a:\n",
    "    pass\n",
    "```"
   ]
  },
  {
   "cell_type": "code",
   "execution_count": null,
   "id": "c61a79bc",
   "metadata": {},
   "outputs": [],
   "source": [
    "a = 33\n",
    "b = 200\n",
    "\n",
    "if b > a:\n",
    "    pass\n",
    "\n",
    "# having an empty if statement like this, would raise an error without the pass statement\n"
   ]
  },
  {
   "cell_type": "markdown",
   "id": "75ad2899",
   "metadata": {},
   "source": [
    "### 15. Python WHile Loops"
   ]
  },
  {
   "cell_type": "markdown",
   "id": "645ff84b",
   "metadata": {},
   "source": [
    "**Python Loops**\n",
    "\n",
    "Python has two primitive loop commands:\n",
    "\n",
    "* **while** loops\n",
    "* **for** loops\n",
    "\n",
    "**The while Loop**\n",
    "\n",
    "With the **while** loop we can execute a set of statements as long as a condition is true.\n",
    "\n",
    "**Example**\n",
    "\n",
    "Print i as long as i is less than 6:\n",
    "\n",
    "```Python    \n",
    "i = 1\n",
    "while i < 6:\n",
    "    print(i)\n",
    "    i += 1\n",
    "```\n",
    "\n",
    "Note: remember to increment i, or else the loop will continue forever.\n",
    "\n",
    "The **while** loop requires relevant variables to be ready, in this example we need to define an indexing variable, i, which we set to 1."
   ]
  },
  {
   "cell_type": "code",
   "execution_count": null,
   "id": "229be869",
   "metadata": {},
   "outputs": [],
   "source": [
    "i = 1\n",
    "while i < 6:\n",
    "    print(i)\n",
    "    i += 1"
   ]
  },
  {
   "cell_type": "markdown",
   "id": "261a9bfa",
   "metadata": {},
   "source": [
    "**The break Statement**\n",
    "\n",
    "With the break statement we can stop the loop even if the while condition is true:\n",
    "\n",
    "**Example**\n",
    "\n",
    "Exit the loop when i is 3:\n",
    "\n",
    "```Python    \n",
    "i = 1\n",
    "while i < 6:\n",
    "    print(i)\n",
    "    \n",
    "    if i == 3:\n",
    "        break\n",
    "    i += 1\n",
    "```"
   ]
  },
  {
   "cell_type": "code",
   "execution_count": null,
   "id": "ef169fc6",
   "metadata": {},
   "outputs": [],
   "source": [
    "i = 1\n",
    "while i < 6:\n",
    "    print(i)\n",
    "    \n",
    "    if i == 3:\n",
    "        break\n",
    "    i += 1"
   ]
  },
  {
   "cell_type": "markdown",
   "id": "73377057",
   "metadata": {},
   "source": [
    "**The continue Statement**\n",
    "\n",
    "With the continue statement we can stop the current iteration, and continue with the next:\n",
    "\n",
    "**Example**\n",
    "\n",
    "Continue to the next iteration if i is 3:\n",
    "\n",
    "```Python    \n",
    "i = 0\n",
    "\n",
    "while i < 6:\n",
    "    i += 1\n",
    "    if i == 3:\n",
    "        continue\n",
    "    print(i)\n",
    "```"
   ]
  },
  {
   "cell_type": "code",
   "execution_count": null,
   "id": "dec57e28",
   "metadata": {},
   "outputs": [],
   "source": [
    "i = 0\n",
    "while i < 6:\n",
    "    i += 1\n",
    "    if i == 3:\n",
    "        continue\n",
    "    print(i)\n",
    "\n",
    "# Note that number 3 is missing in the result"
   ]
  },
  {
   "cell_type": "markdown",
   "id": "53237abf",
   "metadata": {},
   "source": [
    "**The else Statement**\n",
    "\n",
    "With the else statement we can run a block of code once when the condition no longer is true:\n",
    "\n",
    "**Example**\n",
    "\n",
    "Print a message once the condition is false:\n",
    "\n",
    "```Python    \n",
    "i = 1\n",
    "\n",
    "while i < 6:\n",
    "    print(i)\n",
    "    i += 1\n",
    "else:\n",
    "    print(\"i is no longer less than 6\")\n",
    "```"
   ]
  },
  {
   "cell_type": "code",
   "execution_count": null,
   "id": "5292e5d2",
   "metadata": {},
   "outputs": [],
   "source": [
    "i = 1\n",
    "\n",
    "while i < 6:\n",
    "    print(i)\n",
    "    i += 1\n",
    "else:\n",
    "    print(\"i is no longer less than 6\")"
   ]
  },
  {
   "cell_type": "markdown",
   "id": "b76a46ad",
   "metadata": {},
   "source": [
    "### 16. For Loops"
   ]
  },
  {
   "cell_type": "markdown",
   "id": "a4d5fc0d",
   "metadata": {},
   "source": [
    "**Python For Loops**\n",
    "\n",
    "A **for** loop is used for iterating over a sequence (that is either a list, a tuple, a dictionary, a set, or a string).\n",
    "\n",
    "This is less like the **for** keyword in other programming languages, and works more like an iterator method as found in other object-orientated programming languages.\n",
    "\n",
    "With the **for** loop we can execute a set of statements, once for each item in a list, tuple, set etc.\n",
    "\n",
    "**Example**\n",
    "\n",
    "Print each fruit in a fruit list:\n",
    "\n",
    "```Python    \n",
    "fruits = [\"apple\", \"banana\", \"cherry\"]\n",
    "\n",
    "for x in fruits:\n",
    "    print(x)\n",
    "```\n",
    "\n",
    "The for loop does not require an indexing variable to set beforehand."
   ]
  },
  {
   "cell_type": "code",
   "execution_count": null,
   "id": "9ec4d36b",
   "metadata": {},
   "outputs": [],
   "source": [
    "**Looping Through a String**\n",
    "\n",
    "Even strings are iterable objects, they contain a sequence of characters:\n",
    "\n",
    "**Example**\n",
    "\n",
    "Loop through the letters in the word \"banana\":\n",
    "\n",
    "```Python    \n",
    "for x in \"banana\":\n",
    "    print(x)\n",
    "```"
   ]
  },
  {
   "cell_type": "code",
   "execution_count": null,
   "id": "510f6190",
   "metadata": {},
   "outputs": [],
   "source": [
    "for x in \"banana\":\n",
    "    print(x) "
   ]
  },
  {
   "cell_type": "markdown",
   "id": "ce3b8e64",
   "metadata": {},
   "source": [
    "**The break Statement**\n",
    "\n",
    "With the break statement we can stop the loop before it has looped through all the items:\n",
    "\n",
    "**Example**\n",
    "\n",
    "Exit the loop when x is \"banana\":\n",
    "\n",
    "```Python    \n",
    "fruits = [\"apple\", \"banana\", \"cherry\"]\n",
    "\n",
    "for x in fruits:\n",
    "    print(x)\n",
    "    if x == \"banana\":\n",
    "        break\n",
    "```"
   ]
  },
  {
   "cell_type": "code",
   "execution_count": null,
   "id": "db2726fd",
   "metadata": {},
   "outputs": [],
   "source": [
    "fruits = [\"apple\", \"banana\", \"cherry\"]\n",
    "\n",
    "for x in fruits:\n",
    "    print(x)\n",
    "    if x == \"banana\":\n",
    "        break"
   ]
  },
  {
   "cell_type": "code",
   "execution_count": null,
   "id": "abdd4bbf",
   "metadata": {},
   "outputs": [],
   "source": [
    "# Exit the loop when x is \"banana\", but this time the break comes before the print:\n",
    "\n",
    "fruits = [\"apple\", \"banana\", \"cherry\"]\n",
    "\n",
    "for x in fruits:\n",
    "    if x == \"banana\":\n",
    "        break\n",
    "    print(x)"
   ]
  },
  {
   "cell_type": "markdown",
   "id": "b8a2fc97",
   "metadata": {},
   "source": [
    "**The continue Statement**\n",
    "\n",
    "With the continue statement we can stop the current iteration of the loop, and continue with the next:\n",
    "\n",
    "**Example**\n",
    "\n",
    "Do not print banana:\n",
    "\n",
    "```Python    \n",
    "fruits = [\"apple\", \"banana\", \"cherry\"]\n",
    "\n",
    "for x in fruits:\n",
    "    if x == \"banana\":\n",
    "        continue\n",
    "    print(x)\n",
    "```"
   ]
  },
  {
   "cell_type": "code",
   "execution_count": null,
   "id": "acef4bc7",
   "metadata": {},
   "outputs": [],
   "source": [
    "fruits = [\"apple\", \"banana\", \"cherry\"]\n",
    "\n",
    "for x in fruits:\n",
    "    if x == \"banana\":\n",
    "        continue\n",
    "    print(x)"
   ]
  },
  {
   "cell_type": "markdown",
   "id": "f57cfb4d",
   "metadata": {},
   "source": [
    "**The range() Function**\n",
    "\n",
    "To loop through a set of code a specified number of times, we can use the range() function,\n",
    "The range() function returns a sequence of numbers, starting from 0 by default, and increments by 1 (by default), and ends at a specified number.\n",
    "\n",
    "**Example**\n",
    "\n",
    "Using the range() function:\n",
    "\n",
    "```Python    \n",
    "for x in range(6):\n",
    "    print(x)\n",
    "```\n",
    "Note that range(6) is not the values of 0 to 6, but the values 0 to 5."
   ]
  },
  {
   "cell_type": "code",
   "execution_count": null,
   "id": "c17d20fe",
   "metadata": {},
   "outputs": [],
   "source": [
    "for x in range(6):\n",
    "    print(x)"
   ]
  },
  {
   "cell_type": "code",
   "execution_count": null,
   "id": "6e2dd92d",
   "metadata": {},
   "outputs": [],
   "source": [
    "# The range() function defaults to 0 as a starting value, however it is possible to specify the starting value by adding a parameter: range(2, 6), which means values from 2 to 6 (but not including 6):\n",
    "\n",
    "# Example\n",
    "# Using the start parameter:\n",
    "\n",
    "for x in range(2, 6):\n",
    "    print(x)"
   ]
  },
  {
   "cell_type": "code",
   "execution_count": null,
   "id": "5ccb69d9",
   "metadata": {},
   "outputs": [],
   "source": [
    "# The range() function defaults to increment the sequence by 1, however it is possible to specify the increment value by adding a third parameter: range(2, 30, 3):\n",
    "\n",
    "# Example\n",
    "# Increment the sequence with 3 (default is 1):\n",
    "\n",
    "for x in range(2, 30, 3):\n",
    "    print(x)"
   ]
  },
  {
   "cell_type": "markdown",
   "id": "4c6550ed",
   "metadata": {},
   "source": [
    "**Else in For Loop**\n",
    "\n",
    "The else keyword in a for loop specifies a block of code to be executed when the loop is finished:\n",
    "\n",
    "**Example**\n",
    "\n",
    "Print all numbers from 0 to 5, and print a message when the loop has ended:\n",
    "\n",
    "```Python    \n",
    "for x in range(6):\n",
    "    print(x)\n",
    "else:\n",
    "    print(\"Finally finished!\")\n",
    "```\n",
    "    \n",
    "Note: The else block will NOT be executed if the loop is stopped by a break statement."
   ]
  },
  {
   "cell_type": "code",
   "execution_count": null,
   "id": "c5615ee9",
   "metadata": {},
   "outputs": [],
   "source": [
    "for x in range(6):\n",
    "    print(x)\n",
    "else:\n",
    "    print(\"Finally finished!\")"
   ]
  },
  {
   "cell_type": "code",
   "execution_count": null,
   "id": "d7c994ec",
   "metadata": {},
   "outputs": [],
   "source": [
    "# Break the loop when x is 3, and see what happens with the else block:\n",
    "\n",
    "for x in range(6):\n",
    "    if x == 3: break\n",
    "    print(x)\n",
    "else:\n",
    "    print(\"Finally finished!\")\n",
    "\n",
    "# If the loop breaks, the else block is not executed."
   ]
  },
  {
   "cell_type": "code",
   "execution_count": null,
   "id": "927c1f68",
   "metadata": {},
   "outputs": [],
   "source": [
    "for x in range(6):\n",
    "    if x == 3: \n",
    "        break\n",
    "    print(x)\n",
    "else:\n",
    "    print(\"Finally finished!\")"
   ]
  },
  {
   "cell_type": "markdown",
   "id": "7bc60dbd",
   "metadata": {},
   "source": [
    "**Nested Loops**\n",
    "\n",
    "A nested loop is a loop inside a loop.\n",
    "\n",
    "The \"inner loop\" will be executed one time for each iteration of the \"outer loop\":\n",
    "\n",
    "**Example**\n",
    "\n",
    "Print each adjective for every fruit:\n",
    "\n",
    "```Python    \n",
    "adj = [\"red\", \"big\", \"tasty\"]\n",
    "fruits = [\"apple\", \"banana\", \"cherry\"]\n",
    "\n",
    "for x in adj:\n",
    "    for y in fruits:\n",
    "        print(x, y)\n",
    "```"
   ]
  },
  {
   "cell_type": "code",
   "execution_count": null,
   "id": "09310ed2",
   "metadata": {},
   "outputs": [],
   "source": [
    "adj = [\"red\", \"big\", \"tasty\"]\n",
    "fruits = [\"apple\", \"banana\", \"cherry\"]\n",
    "\n",
    "for x in adj:\n",
    "    for y in fruits:\n",
    "        print(x, y)"
   ]
  },
  {
   "cell_type": "markdown",
   "id": "584cca66",
   "metadata": {},
   "source": [
    "**The pass Statement**\n",
    "\n",
    "for loops cannot be empty, but if you for some reason have a for loop with no content, put in the pass statement to avoid getting an error.\n",
    "\n",
    "**Example**\n",
    "\n",
    "```Python\n",
    "for x in [0,m 1, 2]:\n",
    "    pass\n",
    "```"
   ]
  },
  {
   "cell_type": "code",
   "execution_count": null,
   "id": "d220d60e",
   "metadata": {},
   "outputs": [],
   "source": [
    "for x in [0, 1, 2]:\n",
    "    pass\n",
    "\n",
    "# having an empty for loop like this, would raise an error without the pass statement"
   ]
  },
  {
   "cell_type": "markdown",
   "id": "fef3ef78",
   "metadata": {},
   "source": [
    "### 17. Python Functions"
   ]
  },
  {
   "cell_type": "markdown",
   "id": "e10c7094",
   "metadata": {},
   "source": [
    "A function is a block of code which only runs when it is called.\n",
    "\n",
    "You can pass data, known as parameters, into a function.\n",
    "\n",
    "A function can return data as a result."
   ]
  },
  {
   "cell_type": "markdown",
   "id": "a72e0281",
   "metadata": {},
   "source": [
    "**Creating a Function**\n",
    "\n",
    "In Python a function is defined using the **def** keyword:\n",
    "\n",
    "**Example**\n",
    "\n",
    "```Python\n",
    "def my_function():\n",
    "    print(\"Hello from a function\")\n",
    "```"
   ]
  },
  {
   "cell_type": "markdown",
   "id": "62096569",
   "metadata": {},
   "source": [
    "**Calling a Function**\n",
    "\n",
    "To call a function, use the function name followed by parenthesis:\n",
    "\n",
    "**Example**\n",
    "\n",
    "```Python\n",
    "def my_function():\n",
    "    print(\"Hello from a function\")\n",
    "\n",
    "my_function()\n",
    "```"
   ]
  },
  {
   "cell_type": "code",
   "execution_count": null,
   "id": "50152589",
   "metadata": {},
   "outputs": [],
   "source": [
    "def my_function():\n",
    "    print(\"Hello from a function\")\n",
    "\n",
    "my_function()"
   ]
  },
  {
   "cell_type": "markdown",
   "id": "1263a832",
   "metadata": {},
   "source": [
    "**Arguments**\n",
    "\n",
    "Information can be passed into functions as arguments.\n",
    "\n",
    "Arguments are specified after the function name, inside the parentheses. You can add as many arguments as you want, just separate them with a comma.\n",
    "\n",
    "The following example has a function with one argument (fname). When the function is called, we pass along a first name, which is used inside the function to print the full name:\n",
    "\n",
    "**Example**\n",
    "\n",
    "```Python\n",
    "def my_function(fname):\n",
    "    print(fname + \" Refsnes\")\n",
    "\n",
    "my_function(\"Emil\")\n",
    "my_function(\"Tobias\")\n",
    "my_function(\"Linus\")\n",
    "```\n",
    "Arguments are often shortened to args in Python documentations."
   ]
  },
  {
   "cell_type": "code",
   "execution_count": null,
   "id": "b47fa419",
   "metadata": {},
   "outputs": [],
   "source": [
    "def my_function(fname):\n",
    "    print(fname + \" Refsnes\")\n",
    "\n",
    "my_function(\"Emil\")\n",
    "my_function(\"Tobias\")\n",
    "my_function(\"Linus\")"
   ]
  },
  {
   "cell_type": "markdown",
   "id": "ef317ed6",
   "metadata": {},
   "source": [
    "**Parameters or Arguments?**\n",
    "\n",
    "The terms parameter and argument can be used for the same thing: information that are passed into a function.\n",
    "\n",
    "From a function's perspective:\n",
    "\n",
    "A parameter is the variable listed inside the parentheses in the function definition.\n",
    "\n",
    "An argument is the value that is sent to the function when it is called."
   ]
  },
  {
   "cell_type": "markdown",
   "id": "9b7b2ca4",
   "metadata": {},
   "source": [
    "**Number of Arguments**\n",
    "\n",
    "By default, a function must be called with the correct number of arguments. Meaning that if your function expects 2 arguments, you have to call the function with 2 arguments, not more, and not less.\n",
    "\n",
    "**Example**\n",
    "\n",
    "This function expects 2 arguments, and gets 2 arguments:\n",
    "\n",
    "```Python    \n",
    "def my_function(fname, lname):\n",
    "    print(fname + \" \" + lname)\n",
    "\n",
    "my_function(\"Emil\", \"Refsnes\")\n",
    "```"
   ]
  },
  {
   "cell_type": "code",
   "execution_count": null,
   "id": "3dd11e81",
   "metadata": {},
   "outputs": [],
   "source": [
    "def my_function(fname, lname):\n",
    "    print(fname + \" \" + lname)\n",
    "\n",
    "my_function(\"Emil\", \"Refsnes\")"
   ]
  },
  {
   "cell_type": "markdown",
   "id": "00aa8d25",
   "metadata": {},
   "source": [
    "If you try to call the function with 1 or 3 arguments, you will get an error:\n",
    "\n",
    "**Example**\n",
    "\n",
    "This function expects 2 arguments, but gets only 1:\n",
    "\n",
    "```Python    \n",
    "def my_function(fname, lname):\n",
    "    print(fname + \" \" + lname)\n",
    "\n",
    "my_function(\"Emil\")\n",
    "```"
   ]
  },
  {
   "cell_type": "markdown",
   "id": "28c82c28",
   "metadata": {},
   "source": [
    "**Arbitrary Arguments, \\*args**\n",
    "\n",
    "If you do not know how many arguments that will be passed into your function, add a \\* before the parameter name in the function definition.\n",
    "\n",
    "This way the function will receive a tuple of arguments, and can access the items accordingly:\n",
    "\n",
    "**Example**\n",
    "\n",
    "If the number of arguments is unknown, add a \\* before the parameter name:\n",
    "\n",
    "```Python    \n",
    "def my_function(*kids):\n",
    "    print(\"The youngest child is \" + kids[2])\n",
    "\n",
    "my_function(\"Emil\", \"Tobias\", \"Linus\")\n",
    "```\n",
    "\n",
    "Arbitrary Arguments are often shortened to *args in Python documentations."
   ]
  },
  {
   "cell_type": "code",
   "execution_count": null,
   "id": "5b65d667",
   "metadata": {},
   "outputs": [],
   "source": [
    "def my_function(*kids):\n",
    "    print(\"The youngest child is \" + kids[2])\n",
    "\n",
    "my_function(\"Emil\", \"Tobias\", \"Linus\")"
   ]
  },
  {
   "cell_type": "markdown",
   "id": "052192bd",
   "metadata": {},
   "source": [
    "**Keyword Arguments**\n",
    "\n",
    "You can also send arguments with the key = value syntax.\n",
    "\n",
    "This way the order of the arguments does not matter.\n",
    "\n",
    "**Example**\n",
    "\n",
    "```Python\n",
    "def my_function(child3, child2, child1):\n",
    "    print(\"The youngest child is \" + child3)\n",
    "\n",
    "my_function(child1 = \"Emil\", child2 = \"Tobias\", child3 = \"Linus\")\n",
    "```\n",
    "\n",
    "The phrase Keyword Arguments are often shortened to kwargs in Python documentations."
   ]
  },
  {
   "cell_type": "code",
   "execution_count": null,
   "id": "45ca944f",
   "metadata": {},
   "outputs": [],
   "source": [
    "def my_function(child3, child2, child1):\n",
    "    print(\"The youngest child is \" + child3)\n",
    "\n",
    "my_function(child1 = \"Emil\", child2 = \"Tobias\", child3 = \"Linus\")"
   ]
  },
  {
   "cell_type": "markdown",
   "id": "840b7faa",
   "metadata": {},
   "source": [
    "**Arbitrary Keyword Arguments, \\*\\*kwargs**\n",
    "\n",
    "If you do not know how many keyword arguments that will be passed into your function, add two asterisk: \\*\\* before the parameter name in the function definition.\n",
    "\n",
    "This way the function will receive a dictionary of arguments, and can access the items accordingly:\n",
    "\n",
    "**Example**\n",
    "\n",
    "If the number of keyword arguments is unknown, add a double ** before the parameter name:\n",
    "\n",
    "```Python    \n",
    "def my_function(**kid):\n",
    "    print(\"His last name is \" + kid[\"lname\"])\n",
    "\n",
    "my_function(fname = \"Tobias\", lname = \"Refsnes\")\n",
    "```\n",
    "\n",
    "Arbitrary Kword Arguments are often shortened to \\*\\*kwargs in Python documentations."
   ]
  },
  {
   "cell_type": "code",
   "execution_count": null,
   "id": "eff16eac",
   "metadata": {},
   "outputs": [],
   "source": [
    "def my_function(**kid):\n",
    "    print(\"His last name is \" + kid[\"lname\"])\n",
    "\n",
    "my_function(fname = \"Tobias\", lname = \"Refsnes\")"
   ]
  },
  {
   "cell_type": "markdown",
   "id": "432cd21d",
   "metadata": {},
   "source": [
    "**Default Parameter Value**\n",
    "\n",
    "The following example shows how to use a default parameter value.\n",
    "\n",
    "If we call the function without argument, it uses the default value:\n",
    "\n",
    "**Example**\n",
    "\n",
    "```Python\n",
    "def my_function(country = \"Norway\"):\n",
    "    print(\"I am from \" + country)\n",
    "\n",
    "my_function(\"Sweden\")\n",
    "my_function(\"India\")\n",
    "my_function()\n",
    "my_function(\"Brazil\")\n",
    "```"
   ]
  },
  {
   "cell_type": "code",
   "execution_count": null,
   "id": "78ccc88f",
   "metadata": {},
   "outputs": [],
   "source": [
    "def my_function(country = \"Norway\"):\n",
    "    print(\"I am from \" + country)\n",
    "\n",
    "my_function(\"Sweden\")\n",
    "my_function(\"India\")\n",
    "my_function()\n",
    "my_function(\"Brazil\")"
   ]
  },
  {
   "cell_type": "markdown",
   "id": "ff72f88b",
   "metadata": {},
   "source": [
    "**Passing a List as an Argument**\n",
    "\n",
    "You can send any data types of argument to a function (string, number, list, dictionary etc.), and it will be treated as the same data type inside the function.\n",
    "\n",
    "E.g. if you send a List as an argument, it will still be a List when it reaches the function:\n",
    "\n",
    "**Example**\n",
    "\n",
    "```Python\n",
    "def my_function(food):\n",
    "    for x in food:\n",
    "        print(x)\n",
    "\n",
    "fruits = [\"apple\", \"banana\", \"cherry\"]\n",
    "\n",
    "my_function(fruits)\n",
    "```"
   ]
  },
  {
   "cell_type": "code",
   "execution_count": null,
   "id": "5f0c7567",
   "metadata": {},
   "outputs": [],
   "source": [
    "def my_function(food):\n",
    "    for x in food:\n",
    "        print(x)\n",
    "\n",
    "fruits = [\"apple\", \"banana\", \"cherry\"]\n",
    "\n",
    "my_function(fruits)"
   ]
  },
  {
   "cell_type": "markdown",
   "id": "3355d460",
   "metadata": {},
   "source": [
    "**Return Values**\n",
    "\n",
    "To let a function return a value, use the return statement:\n",
    "\n",
    "**Example**\n",
    "\n",
    "```Python\n",
    "def my_function(x):\n",
    "    return 5 * x\n",
    "\n",
    "print(my_function(3))\n",
    "print(my_function(5))\n",
    "print(my_function(9))\n",
    "```"
   ]
  },
  {
   "cell_type": "code",
   "execution_count": null,
   "id": "b3cac4a5",
   "metadata": {},
   "outputs": [],
   "source": [
    "def my_function(x):\n",
    "    return 5 * x\n",
    "\n",
    "print(my_function(3))\n",
    "print(my_function(5))\n",
    "print(my_function(9))"
   ]
  },
  {
   "cell_type": "markdown",
   "id": "fe71fc59",
   "metadata": {},
   "source": [
    "**The pass Statement**\n",
    "\n",
    "function definitions cannot be empty, but if you for some reason have a function definition with no content, put in the pass statement to avoid getting an error.\n",
    "\n",
    "**Example**\n",
    "\n",
    "```Python\n",
    "def myfunction():\n",
    "    pass\n",
    "```"
   ]
  },
  {
   "cell_type": "code",
   "execution_count": null,
   "id": "90cb4dc3",
   "metadata": {},
   "outputs": [],
   "source": [
    "def myfunction():\n",
    "    pass\n",
    "\n",
    "# having an empty function definition like this, would raise an error without the pass statement"
   ]
  },
  {
   "cell_type": "code",
   "execution_count": null,
   "id": "08b3190e",
   "metadata": {},
   "outputs": [],
   "source": [
    "**Recursion**\n",
    "\n",
    "Python also accepts function recursion, which means a defined function can call itself.\n",
    "\n",
    "Recursion is a common mathematical and programming concept. It means that a function calls itself. This has the benefit of meaning that you can loop through data to reach a result.\n",
    "\n",
    "The developer should be very careful with recursion as it can be quite easy to slip into writing a function which never terminates, or one that uses excess amounts of memory or processor power. However, when written correctly recursion can be a very efficient and mathematically-elegant approach to programming.\n",
    "\n",
    "In this example, tri_recursion() is a function that we have defined to call itself (\"recurse\"). We use the k variable as the data, which decrements (-1) every time we recurse. The recursion ends when the condition is not greater than 0 (i.e. when it is 0).\n",
    "\n",
    "To a new developer it can take some time to work out how exactly this works, best way to find out is by testing and modifying it.\n",
    "\n",
    "**Example**\n",
    "\n",
    "Recursion Example\n",
    "\n",
    "```Python\n",
    "def tri_recursion(k):\n",
    "    if(k > 0):\n",
    "        result = k + tri_recursion(k - 1)\n",
    "        print(result)\n",
    "    else:\n",
    "        result = 0\n",
    "    return result\n",
    "\n",
    "print(\"\\n\\nRecursion Example Results\")\n",
    "tri_recursion(6)\n",
    "```"
   ]
  },
  {
   "cell_type": "code",
   "execution_count": null,
   "id": "87d4d70f",
   "metadata": {},
   "outputs": [],
   "source": [
    "def tri_recursion(k):\n",
    "    if(k > 0):\n",
    "        result = k + tri_recursion(k - 1)\n",
    "        print(result)\n",
    "    else:\n",
    "        result = 0\n",
    "    return result\n",
    "\n",
    "print(\"\\n\\nRecursion Example Results\")\n",
    "tri_recursion(6)"
   ]
  },
  {
   "cell_type": "markdown",
   "id": "aaff57d3",
   "metadata": {},
   "source": [
    "### 18. Python Lambda"
   ]
  },
  {
   "cell_type": "markdown",
   "id": "22d7db33",
   "metadata": {},
   "source": [
    "A lambda function is a small anonymous function.\n",
    "\n",
    "A lambda function can take any number of arguments, but can only have one expression.\n",
    "\n",
    "Syntax\n",
    "> **lambda arguments : expression**\n",
    "\n",
    "The expression is executed and the result is returned:\n",
    "\n",
    "**Example**\n",
    "Add 10 to argument a, and return the result:\n",
    "\n",
    "```Python\n",
    "x = lambda a : a + 10\n",
    "print(x(5))\n",
    "```"
   ]
  },
  {
   "cell_type": "code",
   "execution_count": null,
   "id": "87b8ec2c",
   "metadata": {},
   "outputs": [],
   "source": [
    "x = lambda a : a + 10\n",
    "print(x(5))"
   ]
  },
  {
   "cell_type": "code",
   "execution_count": 12,
   "id": "eb0a1a0e",
   "metadata": {},
   "outputs": [
    {
     "name": "stdout",
     "output_type": "stream",
     "text": [
      "30\n"
     ]
    }
   ],
   "source": [
    "# Lambda functions can take any number of arguments:\n",
    "\n",
    "# Example\n",
    "# Multiply argument a with argument b and return the result:\n",
    "\n",
    "x = lambda a, b : a * b\n",
    "print(x(5, 6))"
   ]
  },
  {
   "cell_type": "code",
   "execution_count": null,
   "id": "23b1d00d",
   "metadata": {},
   "outputs": [],
   "source": [
    "# Summarize argument a, b, and c and return the result:\n",
    "\n",
    "x = lambda a, b, c : a + b + c\n",
    "print(x(5, 6, 2))"
   ]
  },
  {
   "cell_type": "markdown",
   "id": "aa86ba88",
   "metadata": {},
   "source": [
    "**Why Use Lambda Functions?**\n",
    "\n",
    "The power of lambda is better shown when you use them as an anonymous function inside another function.\n",
    "\n",
    "Say you have a function definition that takes one argument, and that argument will be multiplied with an unknown number:\n",
    "\n",
    "```Python    \n",
    "def myfunc(n):\n",
    "    return lambda a : a * n\n",
    "```\n",
    "\n",
    "Use that function definition to make a function that always doubles the number you send in:\n",
    "\n",
    "**Example**\n",
    "\n",
    "```Python\n",
    "def myfunc(n):\n",
    "    return lambda a : a * n\n",
    "\n",
    "mydoubler = myfunc(2)\n",
    "\n",
    "print(mydoubler(11))\n",
    "```"
   ]
  },
  {
   "cell_type": "code",
   "execution_count": null,
   "id": "dcff0cd2",
   "metadata": {},
   "outputs": [],
   "source": [
    "def myfunc(n):\n",
    "    return lambda a : a * n\n",
    "\n",
    "mydoubler = myfunc(2)\n",
    "\n",
    "print(mydoubler(11))"
   ]
  },
  {
   "cell_type": "code",
   "execution_count": null,
   "id": "0b821ff4",
   "metadata": {},
   "outputs": [],
   "source": [
    "def myfunc(a, n):\n",
    "    return a * n\n",
    "\n",
    "def mydoubler(a):\n",
    "    return myfunc(a,  2)\n",
    "\n",
    "print(mydoubler(11))"
   ]
  },
  {
   "cell_type": "code",
   "execution_count": null,
   "id": "1ac8dfab",
   "metadata": {},
   "outputs": [],
   "source": [
    "# Or, use the same function definition to make a function that always triples the number you send in:\n",
    "\n",
    "# Example\n",
    "\n",
    "def myfunc(n):\n",
    "    return lambda a : a * n\n",
    "\n",
    "mytripler = myfunc(3)\n",
    "\n",
    "print(mytripler(11))"
   ]
  },
  {
   "cell_type": "code",
   "execution_count": null,
   "id": "c70fab32",
   "metadata": {},
   "outputs": [],
   "source": [
    "# Or, use the same function definition to make both functions, in the same program:\n",
    "\n",
    "# Example\n",
    "\n",
    "def myfunc(n):\n",
    "    return lambda a : a * n\n",
    "\n",
    "mydoubler = myfunc(2)\n",
    "mytripler = myfunc(3)\n",
    "\n",
    "print(mydoubler(11))\n",
    "print(mytripler(11))\n",
    "\n",
    "# Use lambda functions when an anonymous function is required for a short period of time."
   ]
  },
  {
   "cell_type": "markdown",
   "id": "2ea3e617",
   "metadata": {},
   "source": [
    "### 19. Arrays"
   ]
  },
  {
   "cell_type": "markdown",
   "id": "b25da97d",
   "metadata": {},
   "source": [
    "Note: Python does not have built-in support for Arrays, but Python Lists can be used instead.\n",
    "\n",
    "**Arrays**\n",
    "\n",
    "Note: This page shows you how to use LISTS as ARRAYS, however, to work with arrays in Python you will have to import a library, like the NumPy library.\n",
    "\n",
    "Arrays are used to store multiple values in one single variable:\n",
    "\n",
    "**Example**\n",
    "\n",
    "Create an array containing car names:\n",
    "\n",
    "```Python    \n",
    "cars = [\"Ford\", \"Volvo\", \"BMW\"]\n",
    "```\n",
    "\n",
    "**What is an Array?**\n",
    "\n",
    "An array is a special variable, which can hold more than one value at a time.\n",
    "\n",
    "If you have a list of items (a list of car names, for example), storing the cars in single variables could look like this:\n",
    "\n",
    "```Python    \n",
    "car1 = \"Ford\"\n",
    "car2 = \"Volvo\"\n",
    "car3 = \"BMW\"\n",
    "```\n",
    "\n",
    "However, what if you want to loop through the cars and find a specific one? And what if you had not 3 cars, but 300?\n",
    "\n",
    "The solution is an array!\n",
    "\n",
    "An array can hold many values under a single name, and you can access the values by referring to an index number."
   ]
  },
  {
   "cell_type": "markdown",
   "id": "a374e84b",
   "metadata": {},
   "source": [
    "**Access the Elements of an Array**\n",
    "\n",
    "You refer to an array element by referring to the index number.\n",
    "\n",
    "**Example**\n",
    "\n",
    "Get the value of the first array item:\n",
    "\n",
    "```Python\n",
    "x = cars[0]\n",
    "```"
   ]
  },
  {
   "cell_type": "code",
   "execution_count": null,
   "id": "f4073650",
   "metadata": {},
   "outputs": [],
   "source": [
    "cars = [\"Ford\", \"Volvo\", \"BMW\"]\n",
    "\n",
    "x = cars[0]\n",
    "\n",
    "print(x)"
   ]
  },
  {
   "cell_type": "markdown",
   "id": "ab3a9172",
   "metadata": {},
   "source": [
    "Modify the value of the first array item:\n",
    "\n",
    "```Python    \n",
    "cars[0] = \"Toyota\"\n",
    "```"
   ]
  },
  {
   "cell_type": "code",
   "execution_count": null,
   "id": "cf69b82b",
   "metadata": {},
   "outputs": [],
   "source": [
    "cars = [\"Ford\", \"Volvo\", \"BMW\"]\n",
    "\n",
    "cars[0] = \"Toyota\"\n",
    "\n",
    "print(cars)"
   ]
  },
  {
   "cell_type": "markdown",
   "id": "f7030987",
   "metadata": {},
   "source": [
    "**The Length of an Array**\n",
    "\n",
    "Use the **len()** method to return the length of an array (the number of elements in an array).\n",
    "\n",
    "**Example**\n",
    "\n",
    "Return the number of elements in the cars array:\n",
    "\n",
    "```Python    \n",
    "x = len(cars)\n",
    "```\n",
    "\n",
    "Note: The length of an array is always one more than the highest array index."
   ]
  },
  {
   "cell_type": "code",
   "execution_count": null,
   "id": "b182c06f",
   "metadata": {},
   "outputs": [],
   "source": [
    "cars = [\"Ford\", \"Volvo\", \"BMW\"]\n",
    "\n",
    "x = len(cars)\n",
    "\n",
    "print(x)"
   ]
  },
  {
   "cell_type": "markdown",
   "id": "87c0cb8e",
   "metadata": {},
   "source": [
    "**Looping Array Elements**\n",
    "\n",
    "You can use the for in loop to loop through all the elements of an array.\n",
    "\n",
    "**Example**\n",
    "\n",
    "Print each item in the cars array:\n",
    "\n",
    "```Python    \n",
    "for x in cars:\n",
    "    print(x)\n",
    "```"
   ]
  },
  {
   "cell_type": "code",
   "execution_count": null,
   "id": "fb0386bd",
   "metadata": {},
   "outputs": [],
   "source": [
    "cars = [\"Ford\", \"Volvo\", \"BMW\"]\n",
    "\n",
    "for x in cars:\n",
    "    print(x)"
   ]
  },
  {
   "cell_type": "markdown",
   "id": "fa07435d",
   "metadata": {},
   "source": [
    "**Adding Array Elements**\n",
    "\n",
    "You can use the **append()** method to add an element to an array.\n",
    "\n",
    "**Example**\n",
    "\n",
    "Add one more element to the cars array:\n",
    "\n",
    "```Python    \n",
    "cars.append(\"Honda\")\n",
    "```\n"
   ]
  },
  {
   "cell_type": "code",
   "execution_count": null,
   "id": "7b80e783",
   "metadata": {},
   "outputs": [],
   "source": [
    "cars = [\"Ford\", \"Volvo\", \"BMW\"]\n",
    "\n",
    "cars.append(\"Honda\")\n",
    "\n",
    "print(cars)"
   ]
  },
  {
   "cell_type": "markdown",
   "id": "b7cdb1af",
   "metadata": {},
   "source": [
    "**Removing Array Elements**\n",
    "\n",
    "You can use the **pop()** method to remove an element from the array.\n",
    "\n",
    "**Example**\n",
    "\n",
    "Delete the second element of the cars array:\n",
    "\n",
    "```Python    \n",
    "cars.pop(1)\n",
    "```"
   ]
  },
  {
   "cell_type": "code",
   "execution_count": null,
   "id": "c4241fbb",
   "metadata": {},
   "outputs": [],
   "source": [
    "cars = [\"Ford\", \"Volvo\", \"BMW\"]\n",
    "\n",
    "cars.pop(1)\n",
    "\n",
    "print(cars)"
   ]
  },
  {
   "cell_type": "markdown",
   "id": "d6ea141d",
   "metadata": {},
   "source": [
    "You can also use the **remove()** method to remove an element from the array.\n",
    "\n",
    "**Example**\n",
    "\n",
    "Delete the element that has the value \"Volvo\":\n",
    "\n",
    "```Python    \n",
    "cars.remove(\"Volvo\")\n",
    "```\n",
    "\n",
    "Note: The list's **remove()** method only removes the first occurrence of the specified value."
   ]
  },
  {
   "cell_type": "code",
   "execution_count": null,
   "id": "ea8af68c",
   "metadata": {},
   "outputs": [],
   "source": [
    "cars = [\"Ford\", \"Volvo\", \"BMW\"]\n",
    "\n",
    "cars.remove(\"Volvo\")\n",
    "\n",
    "print(cars)"
   ]
  },
  {
   "cell_type": "markdown",
   "id": "0b550b55",
   "metadata": {},
   "source": [
    "**Array Methods**\n",
    "\n",
    "Python has a set of built-in methods that you can use on lists/arrays.\n",
    "\n",
    "|Method|Description|\n",
    "|:------------|:---------------------------------------------------------------------------------------------------------------|\n",
    "|**append()**|Adds an element at the end of the list|\n",
    "|**clear()**|Removes all the elements from the list|\n",
    "|**copy()**|Returns a copy of the list|\n",
    "|**count()**|Returns the number of elements with the specified value|\n",
    "|**extend()**|Add the elements of a list (or any iterable), to the end of the current list|\n",
    "|**index()**|Returns the index of the first element with the specified value|\n",
    "|**insert()**|Adds an element at the specified position|\n",
    "|**pop()**|Removes the element at the specified position|\n",
    "|**remove()**|Removes the first item with the specified value|\n",
    "|**reverse()**|Reverses the order of the list|\n",
    "|**sort()**|Sorts the list|\n",
    "\n",
    "Note: Python does not have built-in support for Arrays, but Python Lists can be used instead."
   ]
  },
  {
   "cell_type": "markdown",
   "id": "720cab2c",
   "metadata": {},
   "source": [
    "### 20. Python Classes/Object"
   ]
  },
  {
   "cell_type": "markdown",
   "id": "8b88d8cb",
   "metadata": {},
   "source": [
    "Python is an object oriented programming language.\n",
    "\n",
    "Almost everything in Python is an object, with its properties and methods.\n",
    "\n",
    "A Class is like an object constructor, or a \"blueprint\" for creating objects."
   ]
  },
  {
   "cell_type": "markdown",
   "id": "48d05997",
   "metadata": {},
   "source": [
    "**Create a Class**\n",
    "\n",
    "To create a class, use the keyword class:\n",
    "\n",
    "**Example**\n",
    "\n",
    "Create a class named MyClass, with a property named x:\n",
    "\n",
    "```Python    \n",
    "class MyClass:\n",
    "    x = 5\n",
    "```"
   ]
  },
  {
   "cell_type": "code",
   "execution_count": null,
   "id": "b911e8a6",
   "metadata": {},
   "outputs": [],
   "source": [
    "class MyClass:\n",
    "    x = 5\n",
    "\n",
    "print(MyClass)"
   ]
  },
  {
   "cell_type": "markdown",
   "id": "71ec1b42",
   "metadata": {},
   "source": [
    "**Create Object**\n",
    "\n",
    "Now we can use the class named MyClass to create objects:\n",
    "\n",
    "**Example**\n",
    "\n",
    "Create an object named p1, and print the value of x:\n",
    "\n",
    "```Python    \n",
    "p1 = MyClass()\n",
    "print(p1.x)\n",
    "```"
   ]
  },
  {
   "cell_type": "code",
   "execution_count": null,
   "id": "1fa8371d",
   "metadata": {},
   "outputs": [],
   "source": [
    "class MyClass:\n",
    "    x = 5\n",
    "\n",
    "p1 = MyClass()\n",
    "print(p1.x)"
   ]
  },
  {
   "cell_type": "markdown",
   "id": "205f543a",
   "metadata": {},
   "source": [
    "**The __init__() Function**\n",
    "\n",
    "The examples above are classes and objects in their simplest form, and are not really useful in real life applications.\n",
    "\n",
    "To understand the meaning of classes we have to understand the built-in **__init__()** function.\n",
    "\n",
    "All classes have a function called **__init__()**, which is always executed when the class is being initiated.\n",
    "\n",
    "Use the **__init__()** function to assign values to object properties, or other operations that are necessary to do when the object is being created:\n",
    "\n",
    "**Example**\n",
    "\n",
    "Create a class named Person, use the **__init__()** function to assign values for name and age:\n",
    "\n",
    "```Python    \n",
    "class Person:\n",
    "    def __init__(self, name, age):\n",
    "        self.name = name\n",
    "        self.age = age\n",
    "\n",
    "p1 = Person(\"John\", 36)\n",
    "\n",
    "print(p1.name)\n",
    "print(p1.age)\n",
    "```\n",
    "\n",
    "Note: The __init__() function is called automatically every time the class is being used to create a new object."
   ]
  },
  {
   "cell_type": "code",
   "execution_count": null,
   "id": "594b53fc",
   "metadata": {},
   "outputs": [],
   "source": [
    "class Person:\n",
    "    def __init__(self, name, age):\n",
    "        self.name = name\n",
    "        self.age = age\n",
    "\n",
    "p1 = Person(\"John\", 36)\n",
    "\n",
    "print(p1.name)\n",
    "print(p1.age)"
   ]
  },
  {
   "cell_type": "markdown",
   "id": "3b648a85",
   "metadata": {},
   "source": [
    "**Object Methods**\n",
    "\n",
    "Objects can also contain methods. Methods in objects are functions that belong to the object.\n",
    "\n",
    "Let us create a method in the Person class:\n",
    "\n",
    "**Example**\n",
    "\n",
    "Insert a function that prints a greeting, and execute it on the p1 object:\n",
    "\n",
    "```Python    \n",
    "class Person:\n",
    "    def __init__(self, name, age):\n",
    "        self.name = name\n",
    "        self.age = age\n",
    "\n",
    "    def myfunc(self):\n",
    "        print(\"Hello my name is \" + self.name)\n",
    "\n",
    "p1 = Person(\"John\", 36)\n",
    "p1.myfunc()\n",
    "```\n",
    "Note: The self parameter is a reference to the current instance of the class, and is used to access variables that belong to the class."
   ]
  },
  {
   "cell_type": "code",
   "execution_count": null,
   "id": "fbc40263",
   "metadata": {},
   "outputs": [],
   "source": [
    "class Person:\n",
    "    def __init__(self, name, age):\n",
    "        self.name = name\n",
    "        self.age = age\n",
    "    \n",
    "    def myfunc(self):\n",
    "        print(\"Hello my name is \" + self.name)\n",
    "\n",
    "p1 = Person(\"John\", 36)\n",
    "p1.myfunc()"
   ]
  },
  {
   "cell_type": "code",
   "execution_count": null,
   "id": "33646467",
   "metadata": {},
   "outputs": [],
   "source": [
    "**The self Parameter**\n",
    "\n",
    "The self parameter is a reference to the current instance of the class, and is used to access variables that belongs to the class.\n",
    "\n",
    "It does not have to be named self , you can call it whatever you like, but it has to be the first parameter of any function in the class:\n",
    "\n",
    "**Example**\n",
    "\n",
    "Use the words mysillyobject and abc instead of self:\n",
    "\n",
    "```Python    \n",
    "class Person:\n",
    "    def __init__(mysillyobject, name, age):\n",
    "        mysillyobject.name = name\n",
    "        mysillyobject.age = age\n",
    "\n",
    "    def myfunc(abc):\n",
    "        print(\"Hello my name is \" + abc.name)\n",
    "\n",
    "p1 = Person(\"John\", 36)\n",
    "p1.myfunc()\n",
    "```"
   ]
  },
  {
   "cell_type": "code",
   "execution_count": null,
   "id": "d6aa30b6",
   "metadata": {},
   "outputs": [],
   "source": [
    "class Person:\n",
    "    def __init__(mysillyobject, name, age):\n",
    "        mysillyobject.name = name\n",
    "        mysillyobject.age = age\n",
    "\n",
    "    def myfunc(abc):\n",
    "        print(\"Hello my name is \" + abc.name)\n",
    "\n",
    "p1 = Person(\"John\", 36)\n",
    "p1.myfunc()"
   ]
  },
  {
   "cell_type": "markdown",
   "id": "8e8fe6f7",
   "metadata": {},
   "source": [
    "**Modify Object Properties**\n",
    "\n",
    "You can modify properties on objects like this:\n",
    "\n",
    "**Example**\n",
    "\n",
    "Set the age of p1 to 40:\n",
    "\n",
    "```Python    \n",
    "p1.age = 40\n",
    "```"
   ]
  },
  {
   "cell_type": "code",
   "execution_count": null,
   "id": "7eabf4f0",
   "metadata": {},
   "outputs": [],
   "source": [
    "class Person:\n",
    "    def __init__(self, name, age):\n",
    "        self.name = name\n",
    "        self.age = age\n",
    "    \n",
    "    def myfunc(self):\n",
    "        print(\"Hello my name is \" + self.name)\n",
    "\n",
    "p1 = Person(\"John\", 36)\n",
    "\n",
    "p1.age = 40\n",
    "\n",
    "print(p1.age)"
   ]
  },
  {
   "cell_type": "markdown",
   "id": "12d823f2",
   "metadata": {},
   "source": [
    "**Delete Object Properties**\n",
    "\n",
    "You can delete properties on objects by using the del keyword:\n",
    "\n",
    "**Example**\n",
    "\n",
    "Delete the age property from the p1 object:\n",
    "\n",
    "```Python    \n",
    "del p1.age\n",
    "```"
   ]
  },
  {
   "cell_type": "code",
   "execution_count": null,
   "id": "eb3f21b9",
   "metadata": {},
   "outputs": [],
   "source": [
    "class Person:\n",
    "    def __init__(self, name, age):\n",
    "        self.name = name\n",
    "        self.age = age\n",
    "    \n",
    "    def myfunc(self):\n",
    "        print(\"Hello my name is \" + self.name)\n",
    "\n",
    "p1 = Person(\"John\", 36)\n",
    "\n",
    "del p1.age\n",
    "\n",
    "print(p1.age)"
   ]
  },
  {
   "cell_type": "markdown",
   "id": "8a60063a",
   "metadata": {},
   "source": [
    "**Delete Objects**\n",
    "\n",
    "You can delete objects by using the del keyword:\n",
    "\n",
    "**Example**\n",
    "\n",
    "Delete the p1 object:\n",
    "\n",
    "```Python    \n",
    "del p1\n",
    "```"
   ]
  },
  {
   "cell_type": "code",
   "execution_count": null,
   "id": "c8f82ad6",
   "metadata": {},
   "outputs": [],
   "source": [
    "class Person:\n",
    "    def __init__(self, name, age):\n",
    "        self.name = name\n",
    "        self.age = age\n",
    "    \n",
    "    def myfunc(self):\n",
    "        print(\"Hello my name is \" + self.name)\n",
    "\n",
    "p1 = Person(\"John\", 36)\n",
    "\n",
    "del p1\n",
    "\n",
    "print(p1)"
   ]
  },
  {
   "cell_type": "markdown",
   "id": "c9fabc58",
   "metadata": {},
   "source": [
    "**The pass Statement**\n",
    "\n",
    "class definitions cannot be empty, but if you for some reason have a class definition with no content, put in the pass statement to avoid getting an error.\n",
    "\n",
    "**Example**\n",
    "\n",
    "```Python\n",
    "class Person:\n",
    "    pass\n",
    "```"
   ]
  },
  {
   "cell_type": "code",
   "execution_count": null,
   "id": "6f04d431",
   "metadata": {},
   "outputs": [],
   "source": [
    "class Person:\n",
    "    pass\n",
    "\n",
    "# having an empty class definition like this, would raise an error without the pass statement\n"
   ]
  },
  {
   "cell_type": "code",
   "execution_count": null,
   "id": "d495cb40",
   "metadata": {},
   "outputs": [],
   "source": []
  }
 ],
 "metadata": {
  "kernelspec": {
   "display_name": "Python 3 (ipykernel)",
   "language": "python",
   "name": "python3"
  },
  "language_info": {
   "codemirror_mode": {
    "name": "ipython",
    "version": 3
   },
   "file_extension": ".py",
   "mimetype": "text/x-python",
   "name": "python",
   "nbconvert_exporter": "python",
   "pygments_lexer": "ipython3",
   "version": "3.9.12"
  }
 },
 "nbformat": 4,
 "nbformat_minor": 5
}
