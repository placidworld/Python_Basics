{
 "cells": [
  {
   "cell_type": "markdown",
   "id": "a05a4975",
   "metadata": {},
   "source": [
    "### 21. Python Inheritance"
   ]
  },
  {
   "cell_type": "markdown",
   "id": "53a03f04",
   "metadata": {},
   "source": [
    "**Python Inheritance**\n",
    "\n",
    "Inheritance allows us to define a class that inherits all the methods and properties from another class.\n",
    "\n",
    "Parent class is the class being inherited from, also called base class.\n",
    "\n",
    "Child class is the class that inherits from another class, also called derived class."
   ]
  },
  {
   "cell_type": "markdown",
   "id": "0268981e",
   "metadata": {},
   "source": [
    "**Create a Parent Class**\n",
    "\n",
    "Any class can be a parent class, so the syntax is the same as creating any other class:\n",
    "\n",
    "**Example**\n",
    "\n",
    "Create a class named Person, with firstname and lastname properties, and a printname method:\n",
    "\n",
    "```Python    \n",
    "class Person:\n",
    "    def __init__(self, fname, lname):\n",
    "        self.firstname = fname\n",
    "        self.lastname = lname\n",
    "\n",
    "    def printname(self):\n",
    "        print(self.firstname, self.lastname)\n",
    "\n",
    "#Use the Person class to create an object, and then execute the printname method:\n",
    "\n",
    "x = Person(\"John\", \"Doe\")\n",
    "x.printname()\n",
    "```"
   ]
  },
  {
   "cell_type": "code",
   "execution_count": null,
   "id": "d284335c",
   "metadata": {},
   "outputs": [],
   "source": [
    "class Person:\n",
    "    def __init__(self, fname, lname):\n",
    "        self.firstname = fname\n",
    "        self.lastname = lname\n",
    "\n",
    "    def printname(self):\n",
    "        print(self.firstname, self.lastname)\n",
    "\n",
    "#Use the Person class to create an object, and then execute the printname method:\n",
    "\n",
    "x = Person(\"John\", \"Doe\")\n",
    "x.printname()"
   ]
  },
  {
   "cell_type": "markdown",
   "id": "1c2a5e2f",
   "metadata": {},
   "source": [
    "**Create a Child Class**\n",
    "\n",
    "To create a class that inherits the functionality from another class, send the parent class as a parameter when creating the child class:\n",
    "\n",
    "**Example**\n",
    "\n",
    "Create a class named Student, which will inherit the properties and methods from the Person class:\n",
    "\n",
    "```Python    \n",
    "class Student(Person):\n",
    "    pass\n",
    "```\n",
    "\n",
    "Note: Use the pass keyword when you do not want to add any other properties or methods to the class.\n",
    "\n",
    "Now the Student class has the same properties and methods as the Person class.\n",
    "\n",
    "**Example**\n",
    "\n",
    "Use the Student class to create an object, and then execute the printname method:\n",
    "\n",
    "```Python    \n",
    "x = Student(\"Mike\", \"Olsen\")\n",
    "x.printname()\n",
    "```"
   ]
  },
  {
   "cell_type": "code",
   "execution_count": null,
   "id": "c48c53d1",
   "metadata": {},
   "outputs": [],
   "source": [
    "class Person:\n",
    "    def __init__(self, fname, lname):\n",
    "        self.firstname = fname\n",
    "        self.lastname = lname\n",
    "\n",
    "    def printname(self):\n",
    "        print(self.firstname, self.lastname)\n",
    "\n",
    "class Student(Person):\n",
    "    pass\n",
    "\n",
    "x = Student(\"Mike\", \"Olsen\")\n",
    "x.printname()\n"
   ]
  },
  {
   "cell_type": "markdown",
   "id": "0c43d776",
   "metadata": {},
   "source": [
    "**Add the __init__() Function**\n",
    "\n",
    "So far we have created a child class that inherits the properties and methods from its parent.\n",
    "\n",
    "We want to add the **__init__()** function to the child class (instead of the pass keyword).\n",
    "\n",
    "Note: The **__init__()** function is called automatically every time the class is being used to create a new object.\n",
    "\n",
    "**Example**\n",
    "\n",
    "Add the **__init__()** function to the Student class:\n",
    "\n",
    "```Python    \n",
    "class Student(Person):\n",
    "    def __init__(self, fname, lname):\n",
    "    #add properties etc.\n",
    "```\n",
    "\n",
    "When you add the **__init__()** function, the child class will no longer inherit the parent's **__init__()** function.\n",
    "\n",
    "Note: The child's **__init__()** function overrides the inheritance of the parent's **__init__()** function.\n",
    "\n",
    "To keep the inheritance of the parent's **__init__()** function, add a call to the parent's **__init__()** function:\n",
    "\n",
    "**Example**\n",
    "\n",
    "```Python\n",
    "class Student(Person):\n",
    "    def __init__(self, fname, lname):\n",
    "        Person.__init__(self, fname, lname)\n",
    "```\n",
    "Now we have successfully added the **__init__()** function, and kept the inheritance of the parent class, and we are ready to add functionality in the __init__() function.\n",
    "\n"
   ]
  },
  {
   "cell_type": "code",
   "execution_count": null,
   "id": "b9e668d3",
   "metadata": {},
   "outputs": [],
   "source": [
    "class Person:\n",
    "    def __init__(self, fname, lname):\n",
    "        self.firstname = fname\n",
    "        self.lastname = lname\n",
    "\n",
    "    def printname(self):\n",
    "        print(self.firstname, self.lastname)\n",
    "\n",
    "class Student(Person):\n",
    "    def __init__(self, fname, lname):\n",
    "        Person.__init__(self, fname, lname)\n",
    "\n",
    "x = Student(\"Mike\", \"Olsen\")\n",
    "x.printname()\n"
   ]
  },
  {
   "cell_type": "markdown",
   "id": "8de561a1",
   "metadata": {},
   "source": [
    "**Use the super() Function**\n",
    "\n",
    "Python also has a **super()** function that will make the child class inherit all the methods and properties from its parent:\n",
    "\n",
    "**Example**\n",
    "\n",
    "```Python\n",
    "class Student(Person):\n",
    "    def __init__(self, fname, lname):\n",
    "        super().__init__(fname, lname)\n",
    "```\n",
    "By using the super() function, you do not have to use the name of the parent element, it will automatically inherit the methods and properties from its parent."
   ]
  },
  {
   "cell_type": "code",
   "execution_count": null,
   "id": "6abacb8e",
   "metadata": {},
   "outputs": [],
   "source": [
    "class Person:\n",
    "    def __init__(self, fname, lname):\n",
    "        self.firstname = fname\n",
    "        self.lastname = lname\n",
    "\n",
    "    def printname(self):\n",
    "        print(self.firstname, self.lastname)\n",
    "\n",
    "class Student(Person):\n",
    "    def __init__(self, fname, lname):\n",
    "        super().__init__(fname, lname)\n",
    "\n",
    "x = Student(\"Mike\", \"Olsen\")\n",
    "x.printname()"
   ]
  },
  {
   "cell_type": "markdown",
   "id": "ef137ab4",
   "metadata": {},
   "source": [
    "**Add Properties**\n",
    "\n",
    "**Example**\n",
    "\n",
    "Add a property called graduationyear to the Student class:\n",
    "\n",
    "```Python    \n",
    "class Student(Person):\n",
    "    def __init__(self, fname, lname):\n",
    "        super().__init__(fname, lname)\n",
    "        self.graduationyear = 2019\n",
    "```"
   ]
  },
  {
   "cell_type": "code",
   "execution_count": null,
   "id": "a7a8e5c2",
   "metadata": {},
   "outputs": [],
   "source": [
    "class Person:\n",
    "    def __init__(self, fname, lname):\n",
    "        self.firstname = fname\n",
    "        self.lastname = lname\n",
    "\n",
    "    def printname(self):\n",
    "        print(self.firstname, self.lastname)\n",
    "\n",
    "class Student(Person):\n",
    "    def __init__(self, fname, lname):\n",
    "        super().__init__(fname, lname)\n",
    "        self.graduationyear = 2019\n",
    "\n",
    "x = Student(\"Mike\", \"Olsen\")\n",
    "print(x.graduationyear)"
   ]
  },
  {
   "cell_type": "markdown",
   "id": "f39d3979",
   "metadata": {},
   "source": [
    "In the example below, the year 2019 should be a variable, and passed into the Student class when creating student objects. To do so, add another parameter in the __init__() function:\n",
    "\n",
    "**Example**\n",
    "\n",
    "Add a year parameter, and pass the correct year when creating objects:\n",
    "\n",
    "```Python\n",
    "class Student(Person):\n",
    "    def __init__(self, fname, lname, year):\n",
    "        super().__init__(fname, lname)\n",
    "        self.graduationyear = year\n",
    "\n",
    "x = Student(\"Mike\", \"Olsen\", 2019)\n",
    "```"
   ]
  },
  {
   "cell_type": "code",
   "execution_count": null,
   "id": "3c76b582",
   "metadata": {},
   "outputs": [],
   "source": [
    "class Person:\n",
    "    def __init__(self, fname, lname):\n",
    "        self.firstname = fname\n",
    "        self.lastname = lname\n",
    "\n",
    "    def printname(self):\n",
    "        print(self.firstname, self.lastname)\n",
    "\n",
    "class Student(Person):\n",
    "    def __init__(self, fname, lname, year):\n",
    "        super().__init__(fname, lname)\n",
    "        self.graduationyear = year\n",
    "\n",
    "x = Student(\"Mike\", \"Olsen\", 2019)\n",
    "print(x.graduationyear)"
   ]
  },
  {
   "cell_type": "markdown",
   "id": "a484b7a4",
   "metadata": {},
   "source": [
    "**Add Methods**\n",
    "\n",
    "**Example**\n",
    "\n",
    "Add a method called welcome to the Student class:\n",
    "\n",
    "```Python    \n",
    "class Student(Person):\n",
    "    def __init__(self, fname, lname, year):\n",
    "        super().__init__(fname, lname)\n",
    "        self.graduationyear = year\n",
    "    \n",
    "    def welcome(self):\n",
    "        print(\"Welcome\", self.firstname, self.lastname, \"to the class of\", self.graduationyear)\n",
    "```\n",
    "If you add a method in the child class with the same name as a function in the parent class, the inheritance of the parent method will be overridden."
   ]
  },
  {
   "cell_type": "code",
   "execution_count": null,
   "id": "28b01b9f",
   "metadata": {},
   "outputs": [],
   "source": [
    "class Person:\n",
    "    def __init__(self, fname, lname):\n",
    "        self.firstname = fname\n",
    "        self.lastname = lname\n",
    "\n",
    "    def printname(self):\n",
    "        print(self.firstname, self.lastname)\n",
    "\n",
    "class Student(Person):\n",
    "    def __init__(self, fname, lname, year):\n",
    "        super().__init__(fname, lname)\n",
    "        self.graduationyear = year\n",
    "    \n",
    "    def welcome(self):\n",
    "        print(\"Welcome\", self.firstname, self.lastname, \"to the class of\", self.graduationyear)\n",
    "\n",
    "x = Student(\"Mike\", \"Olsen\", 2019)\n",
    "x.welcome()"
   ]
  },
  {
   "cell_type": "markdown",
   "id": "32f74420",
   "metadata": {},
   "source": [
    "### 22. Python Iterators"
   ]
  },
  {
   "cell_type": "markdown",
   "id": "32f54914",
   "metadata": {},
   "source": [
    "**Python Iterators**\n",
    "\n",
    "An iterator is an object that contains a countable number of values.\n",
    "\n",
    "An iterator is an object that can be iterated upon, meaning that you can traverse through all the values.\n",
    "\n",
    "Technically, in Python, an iterator is an object which implements the iterator protocol, which consist of the methods **__iter__()** and **__next__()**.\n",
    "\n",
    "**Iterator vs Iterable**\n",
    "\n",
    "Lists, tuples, dictionaries, and sets are all iterable objects. They are iterable containers which you can get an iterator from.\n",
    "\n",
    "All these objects have a **iter()** method which is used to get an iterator:\n",
    "\n",
    "**Example**\n",
    "\n",
    "Return an iterator from a tuple, and print each value:\n",
    "\n",
    "```Python    \n",
    "mytuple = (\"apple\", \"banana\", \"cherry\")\n",
    "myit = iter(mytuple)\n",
    "\n",
    "print(next(myit))\n",
    "print(next(myit))\n",
    "print(next(myit))\n",
    "```"
   ]
  },
  {
   "cell_type": "code",
   "execution_count": null,
   "id": "d7c21cc0",
   "metadata": {},
   "outputs": [],
   "source": [
    "mytuple = (\"apple\", \"banana\", \"cherry\")\n",
    "myit = iter(mytuple)\n",
    "\n",
    "print(next(myit))\n",
    "print(next(myit))\n",
    "print(next(myit))"
   ]
  },
  {
   "cell_type": "markdown",
   "id": "9b2941a4",
   "metadata": {},
   "source": [
    "Even strings are iterable objects, and can return an iterator:\n",
    "\n",
    "**Example**\n",
    "\n",
    "Strings are also iterable objects, containing a sequence of characters:\n",
    "\n",
    "```Python    \n",
    "mystr = \"banana\"\n",
    "myit = iter(mystr)\n",
    "\n",
    "print(next(myit))\n",
    "print(next(myit))\n",
    "print(next(myit))\n",
    "print(next(myit))\n",
    "print(next(myit))\n",
    "print(next(myit))\n",
    "```"
   ]
  },
  {
   "cell_type": "code",
   "execution_count": null,
   "id": "8eb7a111",
   "metadata": {},
   "outputs": [],
   "source": [
    "mystr = \"banana\"\n",
    "myit = iter(mystr)\n",
    "\n",
    "print(next(myit))\n",
    "print(next(myit))\n",
    "print(next(myit))\n",
    "print(next(myit))\n",
    "print(next(myit))\n",
    "print(next(myit))"
   ]
  },
  {
   "cell_type": "markdown",
   "id": "e6d635d2",
   "metadata": {},
   "source": [
    "**Looping Through an Iterator**\n",
    "\n",
    "We can also use a for loop to iterate through an iterable object:\n",
    "\n",
    "**Example**\n",
    "\n",
    "Iterate the values of a tuple:\n",
    "\n",
    "```Python    \n",
    "mytuple = (\"apple\", \"banana\", \"cherry\")\n",
    "\n",
    "for x in mytuple:\n",
    "    print(x)\n",
    "```"
   ]
  },
  {
   "cell_type": "code",
   "execution_count": null,
   "id": "e22464b3",
   "metadata": {},
   "outputs": [],
   "source": [
    "mytuple = (\"apple\", \"banana\", \"cherry\")\n",
    "\n",
    "for x in mytuple:\n",
    "    print(x)"
   ]
  },
  {
   "cell_type": "code",
   "execution_count": null,
   "id": "4eb535b0",
   "metadata": {},
   "outputs": [],
   "source": [
    "# Iterate the characters of a string:\n",
    "\n",
    "mystr = \"banana\"\n",
    "\n",
    "for x in mystr:\n",
    "    print(x)\n",
    "\n",
    "# The for loop actually creates an iterator object and executes the next() method for each loop."
   ]
  },
  {
   "cell_type": "code",
   "execution_count": null,
   "id": "59400692",
   "metadata": {},
   "outputs": [],
   "source": [
    "mystr = \"banana\"\n",
    "\n",
    "for x in mystr:\n",
    "    print(x)\n"
   ]
  },
  {
   "cell_type": "markdown",
   "id": "d44d11a2",
   "metadata": {},
   "source": [
    "**Create an Iterator**\n",
    "\n",
    "To create an object/class as an iterator you have to implement the methods **__iter__()** and **__next__()** to your object.\n",
    "\n",
    "As you have learned in the Python Classes/Objects chapter, all classes have a function called **__init__()**, which allows you to do some initializing when the object is being created.\n",
    "\n",
    "The **__iter__()** method acts similar, you can do operations (initializing etc.), but must always return the iterator object itself.\n",
    "\n",
    "The **__next__()** method also allows you to do operations, and must return the next item in the sequence.\n",
    "\n",
    "**Example**\n",
    "\n",
    "Create an iterator that returns numbers, starting with 1, and each sequence will increase by one (returning 1,2,3,4,5 etc.):\n",
    "\n",
    "```Python    \n",
    "class MyNumbers:\n",
    "    def __iter__(self):\n",
    "        self.a = 1\n",
    "        return self\n",
    "\n",
    "    def __next__(self):\n",
    "        x = self.a\n",
    "        self.a += 1\n",
    "        return x\n",
    "\n",
    "myclass = MyNumbers()\n",
    "myiter = iter(myclass)\n",
    "\n",
    "print(next(myiter))\n",
    "print(next(myiter))\n",
    "print(next(myiter))\n",
    "print(next(myiter))\n",
    "print(next(myiter))\n",
    "```"
   ]
  },
  {
   "cell_type": "code",
   "execution_count": null,
   "id": "9c73db5f",
   "metadata": {},
   "outputs": [],
   "source": [
    "class MyNumbers:\n",
    "    def __iter__(self):\n",
    "        self.a = 1\n",
    "        return self\n",
    "\n",
    "    def __next__(self):\n",
    "        x = self.a\n",
    "        self.a += 1\n",
    "        return x\n",
    "\n",
    "myclass = MyNumbers()\n",
    "myiter = iter(myclass)\n",
    "\n",
    "print(next(myiter))\n",
    "print(next(myiter))\n",
    "print(next(myiter))\n",
    "print(next(myiter))\n",
    "print(next(myiter))"
   ]
  },
  {
   "cell_type": "markdown",
   "id": "a5b38ac8",
   "metadata": {},
   "source": [
    "**StopIteration**\n",
    "\n",
    "The example above would continue forever if you had enough next() statements, or if it was used in a for loop.\n",
    "\n",
    "To prevent the iteration to go on forever, we can use the StopIteration statement.\n",
    "\n",
    "In the **__next__()** method, we can add a terminating condition to raise an error if the iteration is done a specified number of times:\n",
    "\n",
    "**Example**\n",
    "\n",
    "Stop after 20 iterations:\n",
    "\n",
    "```Python    \n",
    "class MyNumbers:\n",
    "    def __iter__(self):\n",
    "        self.a = 1\n",
    "        return self\n",
    "\n",
    "    def __next__(self):\n",
    "        if self.a <= 20:\n",
    "            x = self.a\n",
    "            self.a += 1\n",
    "            return x\n",
    "        else:\n",
    "            raise StopIteration\n",
    "\n",
    "myclass = MyNumbers()\n",
    "myiter = iter(myclass)\n",
    "\n",
    "for x in myiter:\n",
    "    print(x)\n",
    "```"
   ]
  },
  {
   "cell_type": "code",
   "execution_count": null,
   "id": "f62b8742",
   "metadata": {},
   "outputs": [],
   "source": [
    "class MyNumbers:\n",
    "    def __iter__(self):\n",
    "        self.a = 1\n",
    "        return self\n",
    "\n",
    "    def __next__(self):\n",
    "        if self.a <= 20:\n",
    "            x = self.a\n",
    "            self.a += 1\n",
    "            return x\n",
    "        else:\n",
    "            raise StopIteration\n",
    "\n",
    "myclass = MyNumbers()\n",
    "myiter = iter(myclass)\n",
    "\n",
    "for x in myiter:\n",
    "    print(x)"
   ]
  },
  {
   "cell_type": "markdown",
   "id": "27b142d0",
   "metadata": {},
   "source": [
    "### 23. Python Scope"
   ]
  },
  {
   "cell_type": "markdown",
   "id": "48daae4f",
   "metadata": {},
   "source": [
    "A variable is only available from inside the region it is created. This is called scope.\n",
    "\n",
    "**Local Scope**\n",
    "\n",
    "A variable created inside a function belongs to the local scope of that function, and can only be used inside that function.\n",
    "\n",
    "**Example**\n",
    "\n",
    "A variable created inside a function is available inside that function:\n",
    "\n",
    "```Python    \n",
    "def myfunc():\n",
    "    x = 300\n",
    "    print(x)\n",
    "\n",
    "myfunc()\n",
    "```"
   ]
  },
  {
   "cell_type": "code",
   "execution_count": null,
   "id": "77d8379a",
   "metadata": {},
   "outputs": [],
   "source": [
    "def myfunc():\n",
    "    x = 300\n",
    "    print(x)\n",
    "\n",
    "myfunc()"
   ]
  },
  {
   "cell_type": "markdown",
   "id": "82ba284b",
   "metadata": {},
   "source": [
    "**Function Inside Function**\n",
    "\n",
    "As explained in the example above, the variable x is not available outside the function, but it is available for any function inside the function:\n",
    "\n",
    "**Example**\n",
    "\n",
    "The local variable can be accessed from a function within the function:\n",
    "\n",
    "```Python\n",
    "def myfunc():\n",
    "    x = 300\n",
    "    def myinnerfunc():\n",
    "        print(x)\n",
    "    myinnerfunc()\n",
    "\n",
    "myfunc()\n",
    "```"
   ]
  },
  {
   "cell_type": "code",
   "execution_count": null,
   "id": "a94250f1",
   "metadata": {},
   "outputs": [],
   "source": [
    "def myfunc():\n",
    "    x = 300\n",
    "    def myinnerfunc():\n",
    "        print(x)\n",
    "    myinnerfunc()\n",
    "\n",
    "myfunc()"
   ]
  },
  {
   "cell_type": "markdown",
   "id": "54586a4d",
   "metadata": {},
   "source": [
    "**Global Scope**\n",
    "\n",
    "A variable created in the main body of the Python code is a global variable and belongs to the global scope.\n",
    "\n",
    "Global variables are available from within any scope, global and local.\n",
    "\n",
    "**Example**\n",
    "\n",
    "A variable created outside of a function is global and can be used by anyone:\n",
    "\n",
    "```Python    \n",
    "x = 300\n",
    "\n",
    "def myfunc():\n",
    "    print(x)\n",
    "\n",
    "myfunc()\n",
    "\n",
    "print(x)\n",
    "```"
   ]
  },
  {
   "cell_type": "code",
   "execution_count": null,
   "id": "2accd167",
   "metadata": {},
   "outputs": [],
   "source": [
    "x = 300\n",
    "\n",
    "def myfunc():\n",
    "    print(x)\n",
    "\n",
    "myfunc()\n",
    "\n",
    "print(x)"
   ]
  },
  {
   "cell_type": "markdown",
   "id": "b32e191d",
   "metadata": {},
   "source": [
    "**Naming Variables**\n",
    "\n",
    "If you operate with the same variable name inside and outside of a function, Python will treat them as two separate variables, one available in the global scope (outside the function) and one available in the local scope (inside the function):\n",
    "\n",
    "**Example**\n",
    "\n",
    "The function will print the local x, and then the code will print the global x:\n",
    "\n",
    "```Python    \n",
    "x = 300\n",
    "\n",
    "def myfunc():\n",
    "    x = 200\n",
    "    print(x)\n",
    "\n",
    "myfunc()\n",
    "\n",
    "print(x)\n",
    "```"
   ]
  },
  {
   "cell_type": "code",
   "execution_count": null,
   "id": "9d5abcf6",
   "metadata": {},
   "outputs": [],
   "source": [
    "x = 300\n",
    "\n",
    "def myfunc():\n",
    "    x = 200\n",
    "    print(x)\n",
    "\n",
    "myfunc()\n",
    "\n",
    "print(x)"
   ]
  },
  {
   "cell_type": "markdown",
   "id": "89c8f29c",
   "metadata": {},
   "source": [
    "**Global Keyword**\n",
    "\n",
    "If you need to create a global variable, but are stuck in the local scope, you can use the global keyword.\n",
    "\n",
    "The global keyword makes the variable global.\n",
    "\n",
    "**Example**\n",
    "\n",
    "If you use the global keyword, the variable belongs to the global scope:\n",
    "\n",
    "```Python    \n",
    "def myfunc():\n",
    "    global x\n",
    "    x = 300\n",
    "\n",
    "myfunc()\n",
    "\n",
    "print(x)\n",
    "```\n",
    "Also, use the global keyword if you want to make a change to a global variable inside a function."
   ]
  },
  {
   "cell_type": "code",
   "execution_count": null,
   "id": "95499467",
   "metadata": {},
   "outputs": [],
   "source": [
    "def myfunc():\n",
    "    global x\n",
    "    x = 300\n",
    "\n",
    "myfunc()\n",
    "\n",
    "print(x)"
   ]
  },
  {
   "cell_type": "code",
   "execution_count": null,
   "id": "64d1e383",
   "metadata": {},
   "outputs": [],
   "source": [
    "# To change the value of a global variable inside a function, refer to the variable by using the global keyword:\n",
    "\n",
    "x = 300\n",
    "\n",
    "def myfunc():\n",
    "    global x\n",
    "    x = 200\n",
    "\n",
    "myfunc()\n",
    "\n",
    "print(x)"
   ]
  },
  {
   "cell_type": "markdown",
   "id": "b2055e07",
   "metadata": {},
   "source": [
    "### 24. Python Modules"
   ]
  },
  {
   "cell_type": "markdown",
   "id": "c6a829c4",
   "metadata": {},
   "source": [
    "**What is a Module?**\n",
    "\n",
    "Consider a module to be the same as a code library.\n",
    "\n",
    "A file containing a set of functions you want to include in your application."
   ]
  },
  {
   "cell_type": "markdown",
   "id": "62a60d2c",
   "metadata": {},
   "source": [
    "**Create a Module**\n",
    "\n",
    "To create a module just save the code you want in a file with the file extension .py:\n",
    "\n",
    "**Example**\n",
    "\n",
    "Save this code in a file named mymodule.py\n",
    "\n",
    "```Python\n",
    "def greeting(name):\n",
    "    print(\"Hello, \" + name)\n",
    "```"
   ]
  },
  {
   "cell_type": "markdown",
   "id": "7894db89",
   "metadata": {},
   "source": [
    "**Use a Module**\n",
    "\n",
    "Now we can use the module we just created, by using the import statement:\n",
    "\n",
    "**Example**\n",
    "\n",
    "Import the module named mymodule, and call the greeting function:\n",
    "\n",
    "```Python    \n",
    "import mymodule\n",
    "\n",
    "mymodule.greeting(\"Jonathan\")\n",
    "```\n"
   ]
  },
  {
   "cell_type": "code",
   "execution_count": null,
   "id": "e7c2b92f",
   "metadata": {},
   "outputs": [],
   "source": [
    "# demo_module1.py\n",
    "# C:\\Users\\Yourname\\python demo_module1.py\n",
    "import mymodule\n",
    "\n",
    "mymodule.greeting(\"Jonathan\")\n",
    "# Note: When using a function from a module, use the syntax: module_name.function_name."
   ]
  },
  {
   "cell_type": "markdown",
   "id": "13a101df",
   "metadata": {},
   "source": [
    "**Variables in Module**\n",
    "\n",
    "The module can contain functions, as already described, but also variables of all types (arrays, dictionaries, objects etc):\n",
    "\n",
    "**Example**\n",
    "\n",
    "Save this code in the file mymodule.py\n",
    "\n",
    "```Python\n",
    "person1 = {\n",
    "  \"name\": \"John\",\n",
    "  \"age\": 36,\n",
    "  \"country\": \"Norway\"\n",
    "}\n",
    "```\n",
    "**Example**\n",
    "\n",
    "Import the module named mymodule, and access the person1 dictionary:\n",
    "\n",
    "```Python    \n",
    "import mymodule\n",
    "\n",
    "a = mymodule.person1[\"age\"]\n",
    "print(a)\n",
    "```"
   ]
  },
  {
   "cell_type": "code",
   "execution_count": null,
   "id": "555e1bfc",
   "metadata": {},
   "outputs": [],
   "source": [
    "# C:\\Users\\My Name>python demo_module2.py\n",
    "import mymodule\n",
    "\n",
    "a = mymodule.person1[\"age\"]\n",
    "print(a)"
   ]
  },
  {
   "cell_type": "markdown",
   "id": "9df56df3",
   "metadata": {},
   "source": [
    "**Naming a Module**\n",
    "\n",
    "You can name the module file whatever you like, but it must have the file extension .py\n",
    "\n",
    "**Re-naming a Module**\n",
    "\n",
    "You can create an alias when you import a module, by using the as keyword:\n",
    "\n",
    "**Example**\n",
    "\n",
    "Create an alias for mymodule called mx:\n",
    "\n",
    "```Python    \n",
    "import mymodule as mx\n",
    "\n",
    "a = mx.person1[\"age\"]\n",
    "print(a)\n",
    "```"
   ]
  },
  {
   "cell_type": "code",
   "execution_count": null,
   "id": "60315da5",
   "metadata": {},
   "outputs": [],
   "source": [
    "# C:\\Users\\My Name>python demo_module3.py \n",
    "import mymodule as mx\n",
    "\n",
    "a = mx.person1[\"age\"]\n",
    "print(a)"
   ]
  },
  {
   "cell_type": "markdown",
   "id": "1f7067b7",
   "metadata": {},
   "source": [
    "**Built-in Modules**\n",
    "\n",
    "There are several built-in modules in Python, which you can import whenever you like.\n",
    "\n",
    "**Example**\n",
    "\n",
    "Import and use the platform module:\n",
    "\n",
    "```Python    \n",
    "import platform\n",
    "\n",
    "x = platform.system()\n",
    "print(x)\n",
    "```"
   ]
  },
  {
   "cell_type": "code",
   "execution_count": null,
   "id": "7816deca",
   "metadata": {},
   "outputs": [],
   "source": [
    "import platform\n",
    "\n",
    "x = platform.system()\n",
    "print(x)"
   ]
  },
  {
   "cell_type": "markdown",
   "id": "be76503b",
   "metadata": {},
   "source": [
    "**Using the dir() Function**\n",
    "\n",
    "There is a built-in function to list all the function names (or variable names) in a module. The dir() function:\n",
    "\n",
    "**Example**\n",
    "\n",
    "List all the defined names belonging to the platform module:\n",
    "\n",
    "```Python    \n",
    "import platform\n",
    "\n",
    "x = dir(platform)\n",
    "print(x)\n",
    "```\n",
    "\n",
    "Note: Thedir() function can be used on all modules, also the ones you create yourself."
   ]
  },
  {
   "cell_type": "code",
   "execution_count": null,
   "id": "7b482e3c",
   "metadata": {},
   "outputs": [],
   "source": [
    "import platform\n",
    "\n",
    "x = dir(platform)\n",
    "print(x)"
   ]
  },
  {
   "cell_type": "markdown",
   "id": "e3278c36",
   "metadata": {},
   "source": [
    "**Import From Module**\n",
    "\n",
    "You can choose to import only parts from a module, by using the from keyword.\n",
    "\n",
    "**Example**\n",
    "\n",
    "The module named mymodule has one function and one dictionary:\n",
    "\n",
    "```Python    \n",
    "def greeting(name):\n",
    "    print(\"Hello, \" + name)\n",
    "\n",
    "person1 = {\n",
    "  \"name\": \"John\",\n",
    "  \"age\": 36,\n",
    "  \"country\": \"Norway\"\n",
    "}\n",
    "```\n",
    "**Example**\n",
    "\n",
    "Import only the person1 dictionary from the module:\n",
    "\n",
    "```Python    \n",
    "from mymodule import person1\n",
    "\n",
    "print (person1[\"age\"])\n",
    "```\n",
    "Note: When importing using the from keyword, do not use the module name when referring to elements in the module. Example: person1[\"age\"], not mymodule.person1[\"age\"]"
   ]
  },
  {
   "cell_type": "code",
   "execution_count": null,
   "id": "7b7b534b",
   "metadata": {},
   "outputs": [],
   "source": [
    "# C:\\Users\\My Name>python demo_module6.py\n",
    "from mymodule import person1\n",
    "\n",
    "print(person1[\"age\"])"
   ]
  },
  {
   "cell_type": "markdown",
   "id": "0058929c",
   "metadata": {},
   "source": [
    "### 25. Pthon Datetime"
   ]
  },
  {
   "cell_type": "markdown",
   "id": "518367df",
   "metadata": {},
   "source": [
    "**Python Dates**\n",
    "\n",
    "A date in Python is not a data type of its own, but we can import a module named datetime to work with dates as date objects.\n",
    "\n",
    "**Example**\n",
    "\n",
    "Import the datetime module and display the current date:\n",
    "\n",
    "```Python    \n",
    "import datetime\n",
    "\n",
    "x = datetime.datetime.now()\n",
    "print(x)\n",
    "```"
   ]
  },
  {
   "cell_type": "code",
   "execution_count": null,
   "id": "29c4f365",
   "metadata": {},
   "outputs": [],
   "source": [
    "import datetime\n",
    "\n",
    "x = datetime.datetime.now()\n",
    "print(x)"
   ]
  },
  {
   "cell_type": "markdown",
   "id": "9f39cee0",
   "metadata": {},
   "source": [
    "**Date Output**\n",
    "\n",
    "When we execute the code from the example above the result will be:\n",
    "\n",
    "> **2022-07-31 22:05:14.641387**\n",
    "\n",
    "The date contains year, month, day, hour, minute, second, and microsecond.\n",
    "\n",
    "The datetime module has many methods to return information about the date object.\n",
    "\n",
    "Here are a few examples, you will learn more about them later in this chapter:\n",
    "\n",
    "**Example**\n",
    "\n",
    "Return the year and name of weekday:\n",
    "\n",
    "```Python    \n",
    "import datetime\n",
    "\n",
    "x = datetime.datetime.now()\n",
    "\n",
    "print(x.year)\n",
    "print(x.strftime(\"%A\"))\n",
    "```"
   ]
  },
  {
   "cell_type": "code",
   "execution_count": null,
   "id": "5d2f126f",
   "metadata": {},
   "outputs": [],
   "source": [
    "import datetime\n",
    "\n",
    "x = datetime.datetime.now()\n",
    "\n",
    "print(x.year)\n",
    "print(x.strftime(\"%A\"))"
   ]
  },
  {
   "cell_type": "markdown",
   "id": "3962227c",
   "metadata": {},
   "source": [
    "**Creating Date Objects**\n",
    "\n",
    "To create a date, we can use the **datetime()** class (constructor) of the **datetime** module.\n",
    "\n",
    "The **datetime()** class requires three parameters to create a date: year, month, day.\n",
    "\n",
    "**Example**\n",
    "\n",
    "Create a date object:\n",
    "\n",
    "```Python    \n",
    "import datetime\n",
    "\n",
    "x = datetime.datetime(2020, 5, 17)\n",
    "\n",
    "print(x)\n",
    "```\n",
    "\n",
    "The **datetime()** class also takes parameters for time and timezone (hour, minute, second, microsecond, tzone), but they are optional, and has a default value of **0**, (**None** for timezone)."
   ]
  },
  {
   "cell_type": "code",
   "execution_count": null,
   "id": "ccd71951",
   "metadata": {},
   "outputs": [],
   "source": [
    "import datetime\n",
    "\n",
    "x = datetime.datetime(2020, 5, 17)\n",
    "\n",
    "print(x) "
   ]
  },
  {
   "cell_type": "markdown",
   "id": "ed765862",
   "metadata": {},
   "source": [
    "**The strftime() Method**\n",
    "\n",
    "The datetime object has a method for formatting date objects into readable strings.\n",
    "\n",
    "The method is called strftime(), and takes one parameter, format, to specify the format of the returned string:\n",
    "\n",
    "**Example**\n",
    "\n",
    "Display the name of the month:\n",
    "\n",
    "```Python    \n",
    "import datetime\n",
    "\n",
    "x = datetime.datetime(2018, 6, 1)\n",
    "\n",
    "print(x.strftime(\"%B\"))\n",
    "```"
   ]
  },
  {
   "cell_type": "code",
   "execution_count": null,
   "id": "8b06dad8",
   "metadata": {},
   "outputs": [],
   "source": [
    "import datetime\n",
    "\n",
    "x = datetime.datetime(2018, 6, 1)\n",
    "\n",
    "print(x.strftime(\"%B\"))"
   ]
  },
  {
   "cell_type": "markdown",
   "id": "1fe9c678",
   "metadata": {},
   "source": [
    "**A reference of all the legal format codes:**\n",
    "\n",
    "|Directive|Description|Example|\n",
    "|:------------|:--------------------------------------------------------|:--------------------------------------------------|\n",
    "|**%a**|Weekday, short version|Wed|\t\n",
    "|**%A**|Weekday, full version|Wednesday|\t\n",
    "|**%w**|Weekday as a number 0-6, 0 is Sunday|3|\t\n",
    "|**%d**|Day of month 01-31|31|\t\n",
    "|**%b**|Month name, short version|Dec|\t\n",
    "|**%B**|Month name, full version|December|\t\n",
    "|**%m**|Month as a number 01-12|12|\t\n",
    "|**%y**|Year, short version, without century|18|\n",
    "|**%Y**|Year, full version|2018|\t\n",
    "|**%H**|Hour 00-23|17|\t\n",
    "|**%I**|Hour 00-12|05|\t\n",
    "|**%p**|AM/PM|PM|\n",
    "|**%M**|Minute 00-59|41|\t\n",
    "|**%S**|Second 00-59|08|\t\n",
    "|**%f**|Microsecond 000000-999999|548513|\t\n",
    "|**%z**|UTC offset|+0100|\t\n",
    "|**%Z**|Timezone|CST|\t\n",
    "|**%j**|Day number of year 001-366|365|\t\n",
    "|**%U**|Week number of year, Sunday as the first day of week, 00-53|52|\t\n",
    "|**%W**|Week number of year, Monday as the first day of week, 00-53|52|\t\n",
    "|**%c**|Local version of date and time|Mon Dec 31 17:41:00 2018|\t\n",
    "|**%C**|Century|20|\t\n",
    "|**%x**|Local version of date|12/31/18|\t\n",
    "|**%X**|Local version of time|17:41:00|\t\n",
    "|**%%**|A % character|%|\t\n",
    "|**%G**|ISO 8601 year|2018|\t\n",
    "|**%u**|ISO 8601 weekday (1-7)|1|\t\n",
    "|**%V**|ISO 8601 weeknumber (01-53)|01|"
   ]
  },
  {
   "cell_type": "code",
   "execution_count": null,
   "id": "1f2745b3",
   "metadata": {},
   "outputs": [],
   "source": [
    "# Dates legal format code practice 1 - Short version of Weekday\n",
    "\n",
    "import datetime\n",
    "\n",
    "x = datetime.datetime.now()\n",
    "\n",
    "print(x.strftime(\"%a\"))"
   ]
  },
  {
   "cell_type": "code",
   "execution_count": null,
   "id": "6b64f843",
   "metadata": {},
   "outputs": [],
   "source": [
    "# Dates legal format code practice 2 - Full version of Weekday\n",
    "\n",
    "import datetime\n",
    "\n",
    "x = datetime.datetime.now()\n",
    "\n",
    "print(x.strftime(\"%A\"))"
   ]
  },
  {
   "cell_type": "code",
   "execution_count": null,
   "id": "9aa5fd9a",
   "metadata": {},
   "outputs": [],
   "source": [
    "# Dates legal format code practice 3 - Weekday as a number 0-6, 0 is Sunday\n",
    "\n",
    "import datetime\n",
    "\n",
    "x = datetime.datetime.now()\n",
    "\n",
    "print(x.strftime(\"%w\"))"
   ]
  },
  {
   "cell_type": "code",
   "execution_count": null,
   "id": "9cc33dfe",
   "metadata": {},
   "outputs": [],
   "source": [
    "# Dates legal format code practice 4 - Day of month 01-31\n",
    "\n",
    "import datetime\n",
    "\n",
    "x = datetime.datetime.now()\n",
    "\n",
    "print(x.strftime(\"%d\"))"
   ]
  },
  {
   "cell_type": "code",
   "execution_count": null,
   "id": "3b894874",
   "metadata": {},
   "outputs": [],
   "source": [
    "# Dates legal format code practice 5 - Month name, short version\n",
    "\n",
    "import datetime\n",
    "\n",
    "x = datetime.datetime.now()\n",
    "\n",
    "print(x.strftime(\"%b\"))"
   ]
  },
  {
   "cell_type": "code",
   "execution_count": null,
   "id": "005120be",
   "metadata": {},
   "outputs": [],
   "source": [
    "# Dates legal format code practice 6 - Month name, full version\n",
    "\n",
    "import datetime\n",
    "\n",
    "x = datetime.datetime.now()\n",
    "\n",
    "print(x.strftime(\"%B\"))"
   ]
  },
  {
   "cell_type": "code",
   "execution_count": null,
   "id": "ef8bc80c",
   "metadata": {},
   "outputs": [],
   "source": [
    "# Dates legal format code practice 7 - Month as a number 01-12\n",
    "\n",
    "import datetime\n",
    "\n",
    "x = datetime.datetime.now()\n",
    "\n",
    "print(x.strftime(\"%m\"))"
   ]
  },
  {
   "cell_type": "code",
   "execution_count": null,
   "id": "5fd3ee47",
   "metadata": {},
   "outputs": [],
   "source": [
    "# Dates legal format code practice 8 - Year, short version, without century\n",
    "\n",
    "import datetime\n",
    "\n",
    "x = datetime.datetime.now()\n",
    "\n",
    "print(x.strftime(\"%y\"))"
   ]
  },
  {
   "cell_type": "code",
   "execution_count": null,
   "id": "d1e32449",
   "metadata": {},
   "outputs": [],
   "source": [
    "# Dates legal format code practice 9 - Year, full version\n",
    "\n",
    "import datetime\n",
    "\n",
    "x = datetime.datetime.now()\n",
    "\n",
    "print(x.strftime(\"%Y\"))"
   ]
  },
  {
   "cell_type": "code",
   "execution_count": null,
   "id": "20e24447",
   "metadata": {},
   "outputs": [],
   "source": [
    "# Dates legal format code practice 10 - Hour 00-23\n",
    "\n",
    "import datetime\n",
    "\n",
    "x = datetime.datetime.now()\n",
    "\n",
    "print(x.strftime(\"%H\"))"
   ]
  },
  {
   "cell_type": "code",
   "execution_count": null,
   "id": "db02d1e0",
   "metadata": {},
   "outputs": [],
   "source": [
    "# Dates legal format code practice 11 - Hour 00-12\n",
    "\n",
    "import datetime\n",
    "\n",
    "x = datetime.datetime.now()\n",
    "\n",
    "print(x.strftime(\"%I\"))"
   ]
  },
  {
   "cell_type": "code",
   "execution_count": null,
   "id": "ea8b3f59",
   "metadata": {},
   "outputs": [],
   "source": [
    "# Dates legal format code practice 12 - PM of AM/PM \n",
    "\n",
    "import datetime\n",
    "\n",
    "x = datetime.datetime.now()\n",
    "\n",
    "print(x.strftime(\"%p\"))"
   ]
  },
  {
   "cell_type": "code",
   "execution_count": null,
   "id": "c77f8371",
   "metadata": {},
   "outputs": [],
   "source": [
    "# Dates legal format code practice 13 - Minute 00-59\n",
    "\n",
    "import datetime\n",
    "\n",
    "x = datetime.datetime.now()\n",
    "\n",
    "print(x.strftime(\"%M\"))"
   ]
  },
  {
   "cell_type": "code",
   "execution_count": null,
   "id": "c1bf3122",
   "metadata": {},
   "outputs": [],
   "source": [
    "# Dates legal format code practice 14 - Second 00-59\n",
    "\n",
    "import datetime\n",
    "\n",
    "x = datetime.datetime.now()\n",
    "\n",
    "print(x.strftime(\"%S\"))"
   ]
  },
  {
   "cell_type": "code",
   "execution_count": null,
   "id": "12384578",
   "metadata": {},
   "outputs": [],
   "source": [
    "# Dates legal format code practice 15 - Microsecond 000000-999999\n",
    "\n",
    "import datetime\n",
    "\n",
    "x = datetime.datetime.now()\n",
    "\n",
    "print(x.strftime(\"%f\"))"
   ]
  },
  {
   "cell_type": "code",
   "execution_count": null,
   "id": "87041e3a",
   "metadata": {},
   "outputs": [],
   "source": [
    "# Dates legal format code practice 16 - UTC offset\n",
    "\n",
    "# Python 3.2+ has support for %z format when parsing a string into a datetime object.\n",
    "\n",
    "# UTC offset in the form +HHMM or -HHMM (empty string if the object is naive).\n",
    "\n",
    "import datetime\n",
    "dt = datetime.datetime.strptime(\"2019-04-15T08:27:18-0500\", \"%Y-%m-%dT%H:%M:%S%z\")\n",
    "print(dt)"
   ]
  },
  {
   "cell_type": "code",
   "execution_count": null,
   "id": "8d3a542b",
   "metadata": {},
   "outputs": [],
   "source": [
    "# Dates legal format code practice 17 - Timezone\n",
    "\n",
    "# TBD"
   ]
  },
  {
   "cell_type": "code",
   "execution_count": null,
   "id": "d2e34dff",
   "metadata": {},
   "outputs": [],
   "source": [
    "# Dates legal format code practice 18 - Day number of year 001-366\n",
    "\n",
    "import datetime\n",
    "\n",
    "x = datetime.datetime.now()\n",
    "\n",
    "print(x.strftime(\"%j\"))"
   ]
  },
  {
   "cell_type": "code",
   "execution_count": null,
   "id": "b66a7285",
   "metadata": {},
   "outputs": [],
   "source": [
    "# Dates legal format code practice 19 - Week number of year, Sunday as the first day of week, 00-53\n",
    "\n",
    "import datetime\n",
    "\n",
    "x = datetime.datetime.now()\n",
    "\n",
    "print(x.strftime(\"%U\"))"
   ]
  },
  {
   "cell_type": "code",
   "execution_count": null,
   "id": "b1a377c3",
   "metadata": {},
   "outputs": [],
   "source": [
    "# Dates legal format code practice 20 - Week number of year, Monday as the first day of week, 00-53\n",
    "\n",
    "import datetime\n",
    "\n",
    "x = datetime.datetime(2018, 5, 31)\n",
    "\n",
    "print(x.strftime(\"%W\"))"
   ]
  },
  {
   "cell_type": "code",
   "execution_count": null,
   "id": "38341410",
   "metadata": {},
   "outputs": [],
   "source": [
    "# Dates legal format code practice 21 - Local version of date and time\n",
    "\n",
    "import datetime\n",
    "\n",
    "x = datetime.datetime.now()\n",
    "\n",
    "print(x.strftime(\"%c\"))"
   ]
  },
  {
   "cell_type": "code",
   "execution_count": null,
   "id": "16d4254d",
   "metadata": {},
   "outputs": [],
   "source": [
    "# Dates legal format code practice 22 - Century\n",
    "\n",
    "import datetime\n",
    "\n",
    "x = datetime.datetime.now()\n",
    "\n",
    "print(x.strftime(\"%C\"))"
   ]
  },
  {
   "cell_type": "code",
   "execution_count": null,
   "id": "c86cd7e6",
   "metadata": {},
   "outputs": [],
   "source": [
    "# Dates legal format code practice 23 - Local version of data\n",
    "\n",
    "import datetime\n",
    "\n",
    "x = datetime.datetime.now()\n",
    "\n",
    "print(x.strftime(\"%x\"))"
   ]
  },
  {
   "cell_type": "code",
   "execution_count": null,
   "id": "2c9602dc",
   "metadata": {},
   "outputs": [],
   "source": [
    "# Dates legal format code practice 24 - Local version of time\n",
    "\n",
    "import datetime\n",
    "\n",
    "x = datetime.datetime.now()\n",
    "\n",
    "print(x.strftime(\"%X\"))"
   ]
  },
  {
   "cell_type": "code",
   "execution_count": null,
   "id": "a0109cf8",
   "metadata": {},
   "outputs": [],
   "source": [
    "# Dates legal format code practice 25 - A % character\n",
    "\n",
    "import datetime\n",
    "\n",
    "x = datetime.datetime.now()\n",
    "\n",
    "print(x.strftime(\"%%\"))"
   ]
  },
  {
   "cell_type": "code",
   "execution_count": null,
   "id": "6d110276",
   "metadata": {},
   "outputs": [],
   "source": [
    "# Dates legal format code practice 26 - ISO 8601 year\n",
    "\n",
    "import datetime\n",
    "\n",
    "x = datetime.datetime.now()\n",
    "\n",
    "print(x.strftime(\"%G\"))"
   ]
  },
  {
   "cell_type": "code",
   "execution_count": null,
   "id": "083a9305",
   "metadata": {},
   "outputs": [],
   "source": [
    "# Dates legal format code practice 27 - ISO 8601 weekday (1-7)\n",
    "\n",
    "import datetime\n",
    "\n",
    "x = datetime.datetime.now()\n",
    "\n",
    "print(x.strftime(\"%u\"))"
   ]
  },
  {
   "cell_type": "code",
   "execution_count": null,
   "id": "8a4577d4",
   "metadata": {},
   "outputs": [],
   "source": [
    "# Dates legal format code practice 28 - ISO 8601 weeknumber (01-53)\n",
    "\n",
    "import datetime\n",
    "\n",
    "x = datetime.datetime.now()\n",
    "\n",
    "print(x.strftime(\"%V\"))"
   ]
  },
  {
   "cell_type": "markdown",
   "id": "1192e0f9",
   "metadata": {},
   "source": [
    "### 26. Python Math"
   ]
  },
  {
   "cell_type": "markdown",
   "id": "c6c461de",
   "metadata": {},
   "source": [
    "Python has a set of built-in math functions, including an extensive math module, that allows you to perform mathematical tasks on numbers.\n",
    "\n",
    "Built-in Math Functions\n",
    "The **min()** and **max()** functions can be used to find the lowest or highest value in an iterable:\n",
    "\n",
    "**Example**\n",
    "\n",
    "```Python\n",
    "x = min(5, 10, 25)\n",
    "y = max(5, 10, 25)\n",
    "\n",
    "print(x)\n",
    "print(y)\n",
    "```"
   ]
  },
  {
   "cell_type": "code",
   "execution_count": null,
   "id": "17f90e88",
   "metadata": {},
   "outputs": [],
   "source": [
    "x = min(5, 10, 25)\n",
    "y = max(5, 10, 25)\n",
    "\n",
    "print(x)\n",
    "print(y)"
   ]
  },
  {
   "cell_type": "code",
   "execution_count": null,
   "id": "cba93283",
   "metadata": {},
   "outputs": [],
   "source": [
    "# The abs() function returns the absolute (positive) value of the specified number:\n",
    "\n",
    "# Example\n",
    "x = abs(-7.25)\n",
    "\n",
    "print(x)"
   ]
  },
  {
   "cell_type": "code",
   "execution_count": null,
   "id": "72dc36d7",
   "metadata": {},
   "outputs": [],
   "source": [
    "# The pow(x, y) function returns the value of x to the power of y (xy).\n",
    "\n",
    "# Example\n",
    "# Return the value of 4 to the power of 3 (same as 4 * 4 * 4):\n",
    "\n",
    "x = pow(4, 3)\n",
    "\n",
    "print(x)"
   ]
  },
  {
   "cell_type": "markdown",
   "id": "65f1f108",
   "metadata": {},
   "source": [
    "**The Math Module**\n",
    "\n",
    "Python has also a built-in module called math, which extends the list of mathematical functions.\n",
    "\n",
    "To use it, you must **import** the **math** module:\n",
    "\n",
    "```Python    \n",
    "import math\n",
    "```\n",
    "When you have imported the math module, you can start using methods and constants of the module.\n",
    "\n",
    "The **math.sqrt()** method for example, returns the square root of a number:\n",
    "\n",
    "**Example**\n",
    "\n",
    "```Python\n",
    "import math\n",
    "\n",
    "x = math.sqrt(64)\n",
    "\n",
    "print(x)\n",
    "```"
   ]
  },
  {
   "cell_type": "code",
   "execution_count": null,
   "id": "fb66cc6b",
   "metadata": {},
   "outputs": [],
   "source": [
    "import math\n",
    "\n",
    "x = math.sqrt(64)\n",
    "\n",
    "print(x)"
   ]
  },
  {
   "cell_type": "code",
   "execution_count": null,
   "id": "37c206aa",
   "metadata": {},
   "outputs": [],
   "source": [
    "# The math.ceil() method rounds a number upwards to its nearest integer, and the math.floor() method rounds a number downwards to its nearest integer, and returns the result:\n",
    "\n",
    "# Example\n",
    "\n",
    "import math\n",
    "\n",
    "x = math.ceil(1.4)\n",
    "y = math.floor(1.4)\n",
    "\n",
    "print(x) # returns 2\n",
    "print(y) # returns 1"
   ]
  },
  {
   "cell_type": "code",
   "execution_count": null,
   "id": "65ff05e6",
   "metadata": {},
   "outputs": [],
   "source": [
    "# The math.pi constant, returns the value of PI (3.14...):\n",
    "\n",
    "# Example\n",
    "\n",
    "import math\n",
    "\n",
    "x = math.pi\n",
    "\n",
    "print(x)"
   ]
  },
  {
   "cell_type": "markdown",
   "id": "e4fa6f81",
   "metadata": {},
   "source": [
    "### 27. Python JSON"
   ]
  },
  {
   "cell_type": "markdown",
   "id": "4763409d",
   "metadata": {},
   "source": [
    "JSON is a syntax for storing and exchanging data.\n",
    "\n",
    "JSON is text, written with JavaScript object notation."
   ]
  },
  {
   "cell_type": "markdown",
   "id": "a09bbc08",
   "metadata": {},
   "source": [
    "**JSON in Python**\n",
    "\n",
    "Python has a built-in package called json, which can be used to work with JSON data.\n",
    "\n",
    "**Example**\n",
    "\n",
    "Import the json module:\n",
    "\n",
    "```Python    \n",
    "import json\n",
    "```\n",
    "\n",
    "**Parse JSON - Convert from JSON to Python**\n",
    "\n",
    "If you have a JSON string, you can parse it by using the **json.loads()** method.\n",
    "\n",
    "The result will be a Python dictionary.\n",
    "\n",
    "**Example**\n",
    "\n",
    "Convert from JSON to Python:\n",
    "\n",
    "```Python    \n",
    "import json\n",
    "\n",
    "# some JSON:\n",
    "x =  '{ \"name\":\"John\", \"age\":30, \"city\":\"New York\"}'\n",
    "\n",
    "# parse x:\n",
    "y = json.loads(x)\n",
    "\n",
    "# the result is a Python dictionary:\n",
    "print(y[\"age\"])\n",
    "```"
   ]
  },
  {
   "cell_type": "code",
   "execution_count": null,
   "id": "32a346ee",
   "metadata": {},
   "outputs": [],
   "source": [
    "import json\n",
    "\n",
    "# some JSON:\n",
    "x = '{ \"name\":\"John\", \"age\":30, \"city\":\"New York\"}'\n",
    "\n",
    "# parse x:\n",
    "y = json.loads(x)\n",
    "\n",
    "# the result is a Python dictionary:\n",
    "print(y[\"age\"])"
   ]
  },
  {
   "cell_type": "markdown",
   "id": "13add55f",
   "metadata": {},
   "source": [
    "**Convert from Python to JSON**\n",
    "\n",
    "If you have a Python object, you can convert it into a JSON string by using the json.dumps() method.\n",
    "\n",
    "**Example**\n",
    "\n",
    "Convert from Python to JSON:\n",
    "\n",
    "```Python    \n",
    "import json\n",
    "\n",
    "# a Python object (dict):\n",
    "x = {\n",
    "  \"name\": \"John\",\n",
    "  \"age\": 30,\n",
    "  \"city\": \"New York\"\n",
    "}\n",
    "\n",
    "# convert into JSON:\n",
    "y = json.dumps(x)\n",
    "\n",
    "# the result is a JSON string:\n",
    "print(y)\n",
    "```"
   ]
  },
  {
   "cell_type": "code",
   "execution_count": null,
   "id": "ff80f258",
   "metadata": {},
   "outputs": [],
   "source": [
    "import json\n",
    "\n",
    "# a Python object (dict):\n",
    "x = {\n",
    "  \"name\": \"John\",\n",
    "  \"age\": 30,\n",
    "  \"city\": \"New York\"\n",
    "}\n",
    "\n",
    "# convert into JSON:\n",
    "y = json.dumps(x)\n",
    "\n",
    "# the result is a JSON string:\n",
    "print(y)"
   ]
  },
  {
   "cell_type": "markdown",
   "id": "88455151",
   "metadata": {},
   "source": [
    "You can convert Python objects of the following types, into JSON strings:\n",
    "\n",
    "* dict\n",
    "* list\n",
    "* tuple\n",
    "* string\n",
    "* int\n",
    "* float\n",
    "* True\n",
    "* False\n",
    "* None\n",
    "\n",
    "**Example**\n",
    "\n",
    "Convert Python objects into JSON strings, and print the values:\n",
    "\n",
    "```Python    \n",
    "import json\n",
    "\n",
    "print(json.dumps({\"name\": \"John\", \"age\": 30}))\n",
    "print(json.dumps([\"apple\", \"bananas\"]))\n",
    "print(json.dumps((\"apple\", \"bananas\")))\n",
    "print(json.dumps(\"hello\"))\n",
    "print(json.dumps(42))\n",
    "print(json.dumps(31.76))\n",
    "print(json.dumps(True))\n",
    "print(json.dumps(False))\n",
    "print(json.dumps(None))\n",
    "```"
   ]
  },
  {
   "cell_type": "code",
   "execution_count": null,
   "id": "74146041",
   "metadata": {},
   "outputs": [],
   "source": [
    "import json\n",
    "\n",
    "print(json.dumps({\"name\": \"John\", \"age\": 30}))\n",
    "print(json.dumps([\"apple\", \"bananas\"]))\n",
    "print(json.dumps((\"apple\", \"bananas\")))\n",
    "print(json.dumps(\"hello\"))\n",
    "print(json.dumps(42))\n",
    "print(json.dumps(31.76))\n",
    "print(json.dumps(True))\n",
    "print(json.dumps(False))\n",
    "print(json.dumps(None))"
   ]
  },
  {
   "cell_type": "markdown",
   "id": "f21c8bb6",
   "metadata": {},
   "source": [
    "**When you convert from Python to JSON, Python objects are converted into the JSON (JavaScript) equivalent:**\n",
    "\n",
    "|Python|JSON|\n",
    "|:------------|:---------------------------|\n",
    "|**dict**|Object|\n",
    "|**list**|Array|\n",
    "|**tuple**|Array|\n",
    "|**str**|String|\n",
    "|**int**|Number|\n",
    "|**float**|Number|\n",
    "|**True**|true|\n",
    "|**False**|false|\n",
    "|**None**|null|"
   ]
  },
  {
   "cell_type": "code",
   "execution_count": null,
   "id": "25905f54",
   "metadata": {},
   "outputs": [],
   "source": [
    "# Convert a Python object containing all the legal data types:\n",
    "\n",
    "import json\n",
    "\n",
    "x = {\n",
    "  \"name\": \"John\",\n",
    "  \"age\": 30,\n",
    "  \"married\": True,\n",
    "  \"divorced\": False,\n",
    "  \"children\": (\"Ann\",\"Billy\"),\n",
    "  \"pets\": None,\n",
    "  \"cars\": [\n",
    "    {\"model\": \"BMW 230\", \"mpg\": 27.5},\n",
    "    {\"model\": \"Ford Edge\", \"mpg\": 24.1}\n",
    "  ]\n",
    "}\n",
    "\n",
    "print(json.dumps(x))"
   ]
  },
  {
   "cell_type": "markdown",
   "id": "57da32f6",
   "metadata": {},
   "source": [
    "**Format the Result**\n",
    "\n",
    "The example above prints a JSON string, but it is not very easy to read, with no indentations and line breaks.\n",
    "\n",
    "The **json.dumps()** method has parameters to make it easier to read the result:\n",
    "\n",
    "**Example**\n",
    "\n",
    "Use the indent parameter to define the numbers of indents:\n",
    "\n",
    "```Python    \n",
    "json.dumps(x, indent=4)\n",
    "```"
   ]
  },
  {
   "cell_type": "code",
   "execution_count": null,
   "id": "ae080eed",
   "metadata": {},
   "outputs": [],
   "source": [
    "import json\n",
    "\n",
    "x = {\n",
    "  \"name\": \"John\",\n",
    "  \"age\": 30,\n",
    "  \"married\": True,\n",
    "  \"divorced\": False,\n",
    "  \"children\": (\"Ann\",\"Billy\"),\n",
    "  \"pets\": None,\n",
    "  \"cars\": [\n",
    "    {\"model\": \"BMW 230\", \"mpg\": 27.5},\n",
    "    {\"model\": \"Ford Edge\", \"mpg\": 24.1}\n",
    "  ]\n",
    "}\n",
    "\n",
    "# use four indents to make it easier to read the result:\n",
    "print(json.dumps(x, indent=4))"
   ]
  },
  {
   "cell_type": "markdown",
   "id": "097d33bf",
   "metadata": {},
   "source": [
    "You can also define the separators, default value is (\", \", \": \"), which means using a comma and a space to separate each object, and a colon and a space to separate keys from values:\n",
    "\n",
    "**Example**\n",
    "\n",
    "Use the separators parameter to change the default separator:\n",
    "\n",
    "```Python    \n",
    "json.dumps(x, indent=4, separators=(\". \", \" = \"))\n",
    "```"
   ]
  },
  {
   "cell_type": "code",
   "execution_count": null,
   "id": "17a488ba",
   "metadata": {},
   "outputs": [],
   "source": [
    "import json\n",
    "\n",
    "x = {\n",
    "  \"name\": \"John\",\n",
    "  \"age\": 30,\n",
    "  \"married\": True,\n",
    "  \"divorced\": False,\n",
    "  \"children\": (\"Ann\",\"Billy\"),\n",
    "  \"pets\": None,\n",
    "  \"cars\": [\n",
    "    {\"model\": \"BMW 230\", \"mpg\": 27.5},\n",
    "    {\"model\": \"Ford Edge\", \"mpg\": 24.1}\n",
    "  ]\n",
    "}\n",
    "\n",
    "# use . and a space to separate objects, and a space, a = and a space to separate keys from their values:\n",
    "print(json.dumps(x, indent=4, separators=(\". \", \" = \")))"
   ]
  },
  {
   "cell_type": "markdown",
   "id": "c618ea3d",
   "metadata": {},
   "source": [
    "**Order the Result**\n",
    "\n",
    "The **json.dumps()** method has parameters to order the keys in the result:\n",
    "\n",
    "**Example**\n",
    "\n",
    "Use the sort_keys parameter to specify if the result should be sorted or not:\n",
    "\n",
    "```Python    \n",
    "json.dumps(x, indent=4, sort_keys=True)\n",
    "```"
   ]
  },
  {
   "cell_type": "code",
   "execution_count": null,
   "id": "d8f04548",
   "metadata": {},
   "outputs": [],
   "source": [
    "import json\n",
    "\n",
    "x = {\n",
    "  \"name\": \"John\",\n",
    "  \"age\": 30,\n",
    "  \"married\": True,\n",
    "  \"divorced\": False,\n",
    "  \"children\": (\"Ann\",\"Billy\"),\n",
    "  \"pets\": None,\n",
    "  \"cars\": [\n",
    "    {\"model\": \"BMW 230\", \"mpg\": 27.5},\n",
    "    {\"model\": \"Ford Edge\", \"mpg\": 24.1}\n",
    "  ]\n",
    "}\n",
    "\n",
    "# sort the result alphabetically by keys:\n",
    "print(json.dumps(x, indent=4, sort_keys=True))"
   ]
  },
  {
   "cell_type": "markdown",
   "id": "f71d5fb8",
   "metadata": {},
   "source": [
    "### 28. Python RegEx"
   ]
  },
  {
   "cell_type": "markdown",
   "id": "980b1b9a",
   "metadata": {},
   "source": [
    "A RegEx, or Regular Expression, is a sequence of characters that forms a search pattern.\n",
    "\n",
    "RegEx can be used to check if a string contains the specified search pattern.\n",
    "\n",
    "**RegEx Module**\n",
    "\n",
    "Python has a built-in package called re, which can be used to work with Regular Expressions.\n",
    "\n",
    "Import the re module:\n",
    "\n",
    "```Python    \n",
    "import re\n",
    "```\n",
    "\n",
    "**RegEx in Python**\n",
    "\n",
    "When you have imported the **re** module, you can start using regular expressions:\n",
    "\n",
    "**Example**\n",
    "Search the string to see if it starts with \"The\" and ends with \"Spain\":\n",
    "\n",
    "```Python    \n",
    "import re\n",
    "\n",
    "txt = \"The rain in Spain\"\n",
    "x = re.search(\"^The.*Spain$\", txt)\n",
    "```"
   ]
  },
  {
   "cell_type": "code",
   "execution_count": null,
   "id": "d1d5f771",
   "metadata": {},
   "outputs": [],
   "source": [
    "import re\n",
    "\n",
    "#Check if the string starts with \"The\" and ends with \"Spain\":\n",
    "\n",
    "txt = \"The rain in Spain\"\n",
    "x = re.search(\"^The.*Spain$\", txt)\n",
    "\n",
    "if x:\n",
    "    print(\"YES! We have a match!\")\n",
    "else:\n",
    "    print(\"No match\")"
   ]
  },
  {
   "cell_type": "markdown",
   "id": "989b42db",
   "metadata": {},
   "source": [
    "**RegEx Functions**\n",
    "\n",
    "The re module offers a set of functions that allows us to search a string for a match:\n",
    "\n",
    "|Function|Description|\n",
    "|:------------|:----------------------------------------------------------------|\n",
    "|**findall**|Returns a list containing all matches|\n",
    "|**search**|Returns a Match object if there is a match anywhere in the string|\n",
    "|**split**|Returns a list where the string has been split at each match|\n",
    "|**sub**|Replaces one or many matches with a string|"
   ]
  },
  {
   "cell_type": "markdown",
   "id": "b557607b",
   "metadata": {},
   "source": [
    "Metacharacters\n",
    "\n",
    "Metacharacters are characters with a special meaning:\n",
    "\n",
    "|Character|Description|Example|\n",
    "|-----|:----------------------------------------------------------------|:--------|\n",
    "|**[]**|A set of characters|\"[a-m]\"|\t\n",
    "|**\\\\**|Signals a special sequence (can also be used to escape special characters)|\"\\d\"|\t\n",
    "|**.**|Any character (except newline character)|\"he..o\"|\t\n",
    "|**^**|Starts with|\"^hello\"|\t\n",
    "|**\\$**|Ends with|\"planet$\"|\t\n",
    "|**\\***|Zero or more occurrences|\"he.*o\"|\t\n",
    "|**+**|One or more occurrences|\"he.+o\"|\n",
    "|**?**|Zero or one occurrences|\"he.?o\"|\t\n",
    "|**{}**|Exactly the specified number of occurrences|\"he.{2}o\"|\t\n",
    "|**\\|**||Either or|\"falls|stays\"|\t\n",
    "|**()**|Capture and group||"
   ]
  },
  {
   "cell_type": "code",
   "execution_count": null,
   "id": "3964e7dc",
   "metadata": {},
   "outputs": [],
   "source": [
    "# Metacharacters practice 1 - A set of characters \"[a-m]\"\n",
    "\n",
    "import re\n",
    "\n",
    "txt = \"The rain in Spain\"\n",
    "\n",
    "#Find all lower case characters alphabetically between \"a\" and \"m\":\n",
    "\n",
    "x = re.findall(\"[a-m]\", txt)\n",
    "print(x)\n",
    "\n",
    "# Here m is inclusive"
   ]
  },
  {
   "cell_type": "code",
   "execution_count": null,
   "id": "e6a5dc8f",
   "metadata": {},
   "outputs": [],
   "source": [
    "# Metacharacters practice 2 - Signals a special sequence (can also be used to escape special characters) \"\\d\"\n",
    "\n",
    "import re\n",
    "\n",
    "txt = \"That will be 59 dollars\"\n",
    "\n",
    "#Find all digit characters:\n",
    "\n",
    "x = re.findall(\"\\d\", txt)\n",
    "print(x)"
   ]
  },
  {
   "cell_type": "code",
   "execution_count": null,
   "id": "935b95ed",
   "metadata": {},
   "outputs": [],
   "source": [
    "# Metacharacters practice 3 - Any character (except newline character) .\n",
    "\n",
    "import re\n",
    "\n",
    "txt = \"hello planet\"\n",
    "\n",
    "#Search for a sequence that starts with \"he\", followed by two (any) characters, and an \"o\":\n",
    "\n",
    "x = re.findall(\"he..o\", txt)\n",
    "print(x)\n",
    "\n",
    "# looks like SAS %like * etc"
   ]
  },
  {
   "cell_type": "code",
   "execution_count": null,
   "id": "8f355989",
   "metadata": {},
   "outputs": [],
   "source": [
    "# Metacharacters practice 4 - Starts with ^\n",
    "\n",
    "import re\n",
    "\n",
    "txt = \"hello planet\"\n",
    "\n",
    "#Check if the string starts with 'hello':\n",
    "\n",
    "x = re.findall(\"^hello\", txt)\n",
    "if x:\n",
    "    print(\"Yes, the string starts with 'hello'\")\n",
    "else:\n",
    "    print(\"No match\")"
   ]
  },
  {
   "cell_type": "code",
   "execution_count": null,
   "id": "190237a0",
   "metadata": {},
   "outputs": [],
   "source": [
    "# Metacharacters practice 5 - Ends with $\n",
    "\n",
    "import re\n",
    "\n",
    "txt = \"hello planet\"\n",
    "\n",
    "#Check if the string ends with 'planet':\n",
    "\n",
    "x = re.findall(\"planet$\", txt)\n",
    "if x:\n",
    "    print(\"Yes, the string ends with 'planet'\")\n",
    "else:\n",
    "    print(\"No match\")"
   ]
  },
  {
   "cell_type": "code",
   "execution_count": null,
   "id": "ca430a41",
   "metadata": {},
   "outputs": [],
   "source": [
    "# Metacharacters practice 6 - Zero or more occurrences *\n",
    "\n",
    "import re\n",
    "\n",
    "txt = \"hello planet\"\n",
    "\n",
    "#Search for a sequence that starts with \"he\", followed by 0 or more  (any) characters, and an \"o\":\n",
    "\n",
    "x = re.findall(\"he.*o\", txt)\n",
    "\n",
    "print(x)"
   ]
  },
  {
   "cell_type": "code",
   "execution_count": null,
   "id": "d0395627",
   "metadata": {},
   "outputs": [],
   "source": [
    "# Metacharacters practice 7 - One or more occurrences +\n",
    "\n",
    "import re\n",
    "\n",
    "txt = \"hello planet\"\n",
    "\n",
    "#Search for a sequence that starts with \"he\", followed by 1 or more  (any) characters, and an \"o\":\n",
    "\n",
    "x = re.findall(\"he.+o\", txt)\n",
    "\n",
    "print(x)"
   ]
  },
  {
   "cell_type": "code",
   "execution_count": null,
   "id": "76de339b",
   "metadata": {},
   "outputs": [],
   "source": [
    "# Metacharacters practice 8 - Zero or one occurrence ?\n",
    "\n",
    "import re\n",
    "\n",
    "txt = \"hello planet\"\n",
    "\n",
    "#Search for a sequence that starts with \"he\", followed by 0 or 1  (any) character, and an \"o\":\n",
    "\n",
    "x = re.findall(\"he.?o\", txt)\n",
    "\n",
    "print(x)\n",
    "\n",
    "#This time we got no match, because there were not zero, not one, but two characters between \"he\" and the \"o\""
   ]
  },
  {
   "cell_type": "code",
   "execution_count": null,
   "id": "51cb2bb0",
   "metadata": {},
   "outputs": [],
   "source": [
    "# Metacharacters practice 9 - Exactly the specified number of occurrences {}\n",
    "\n",
    "import re\n",
    "\n",
    "txt = \"hello planet\"\n",
    "\n",
    "#Search for a sequence that starts with \"he\", followed excactly 2 (any) characters, and an \"o\":\n",
    "\n",
    "x = re.findall(\"he.{2}o\", txt)\n",
    "\n",
    "print(x)"
   ]
  },
  {
   "cell_type": "code",
   "execution_count": null,
   "id": "812b16e6",
   "metadata": {},
   "outputs": [],
   "source": [
    "# Metacharacters practice 10 - Either or |\n",
    "\n",
    "import re\n",
    "\n",
    "txt = \"The rain in Spain falls mainly in the plain!\"\n",
    "\n",
    "#Check if the string contains either \"falls\" or \"stays\":\n",
    "\n",
    "x = re.findall(\"falls|stays\", txt)\n",
    "\n",
    "print(x)\n",
    "\n",
    "if x:\n",
    "    print(\"Yes, there is at least one match!\")\n",
    "else:\n",
    "    print(\"No match\")"
   ]
  },
  {
   "cell_type": "code",
   "execution_count": null,
   "id": "9ea9863f",
   "metadata": {},
   "outputs": [],
   "source": [
    "# Metacharacters practice 11 - Capture and group ()\n",
    "\n",
    "TBD"
   ]
  },
  {
   "cell_type": "markdown",
   "id": "bdb4d1ba",
   "metadata": {},
   "source": [
    "**Special Sequences**\n",
    "\n",
    "A special sequence is a \\ followed by one of the characters in the list below, and has a special meaning:\n",
    "\n",
    "|Character|Description|Example|\n",
    "|---------|:----------------------------------------------------------------------------------------------------------------------------------|:--------|\n",
    "|**\\\\A**|Returns a match if the specified characters are at the beginning of the string|\"\\AThe\"|\t\n",
    "|**\\\\b**|Returns a match where the specified characters are at the beginning or at the end of a word|r\"\\bain\"| \n",
    "|**\\\\b**|(the \"r\" in the beginning is making sure that the string is being treated as a \"raw string\")|r\"ain\\b\"|\t\n",
    "|**\\\\B**|Returns a match where the specified characters are present, but NOT at the beginning (or at the end) of a word|r\"\\Bain\"|\n",
    "|**\\\\B**|(the \"r\" in the beginning is making sure that the string is being treated as a \"raw string\")|r\"ain\\B\"|\t\t\n",
    "|**\\\\d**|Returns a match where the string contains digits (numbers from 0-9)|\"\\d\"|\t\n",
    "|**\\\\D**|Returns a match where the string DOES NOT contain digits|\"\\D\"|\n",
    "|**\\\\s**|Returns a match where the string contains a white space character|\"\\s\"|\n",
    "|**\\\\S**|Returns a match where the string DOES NOT contain a white space character|\"\\S\"|\n",
    "|**\\\\w**|Returns a match where the string contains any word characters (characters from a to Z, digits from 0-9, and the underscore _ character)|\"\\w\"|\t\n",
    "|**\\\\W**|Returns a match where the string DOES NOT contain any word characters|\"\\W\"|\n",
    "|**\\\\Z**|Returns a match if the specified characters are at the end of the string|\"Spain\\Z|"
   ]
  },
  {
   "cell_type": "code",
   "execution_count": null,
   "id": "b950978d",
   "metadata": {},
   "outputs": [],
   "source": [
    "# Special Sequences practice 1 - \\A - Returns a match if the specified characters are at the beginning of the string\n",
    "\n",
    "import re\n",
    "\n",
    "txt = \"The rain in Spain\"\n",
    "\n",
    "#Check if the string starts with \"The\":\n",
    "\n",
    "x = re.findall(\"\\AThe\", txt)\n",
    "\n",
    "print(x)\n",
    "\n",
    "if x:\n",
    "    print(\"Yes, there is a match!\")\n",
    "else:\n",
    "    print(\"No match\")\n"
   ]
  },
  {
   "cell_type": "code",
   "execution_count": null,
   "id": "5f8f3683",
   "metadata": {},
   "outputs": [],
   "source": [
    "# Special Sequences practice 2 - \\b - Returns a match where the specified characters are at the beginning or at the end of a word\n",
    "\n",
    "import re\n",
    "\n",
    "txt = \"The rain in Spain\"\n",
    "\n",
    "#Check if \"ain\" is present at the beginning of a WORD:\n",
    "\n",
    "x = re.findall(r\"\\bain\", txt)\n",
    "\n",
    "print(x)\n",
    "\n",
    "if x:\n",
    "    print(\"Yes, there is at least one match!\")\n",
    "else:\n",
    "    print(\"No match\")"
   ]
  },
  {
   "cell_type": "code",
   "execution_count": null,
   "id": "6e343401",
   "metadata": {},
   "outputs": [],
   "source": [
    "# Special Sequences practice 3 - \\b - (the \"r\" in the beginning is making sure that the string is being treated as a \"raw string\")\n",
    "\n",
    "import re\n",
    "\n",
    "txt = \"The rain in Spain\"\n",
    "\n",
    "#Check if \"ain\" is present at the end of a WORD:\n",
    "\n",
    "x = re.findall(r\"ain\\b\", txt)\n",
    "\n",
    "print(x)\n",
    "\n",
    "if x:\n",
    "    print(\"Yes, there is at least one match!\")\n",
    "else:\n",
    "    print(\"No match\")"
   ]
  },
  {
   "cell_type": "code",
   "execution_count": null,
   "id": "f7b1dd94",
   "metadata": {},
   "outputs": [],
   "source": [
    "# Special Sequences practice 4 - \\B - Returns a match where the specified characters are present, but NOT at the beginning (or at the end) of a word\n",
    "\n",
    "import re\n",
    "\n",
    "txt = \"The rain in Spain\"\n",
    "\n",
    "#Check if \"ain\" is present, but NOT at the beginning of a word:\n",
    "\n",
    "x = re.findall(r\"\\Bain\", txt)\n",
    "\n",
    "print(x)\n",
    "\n",
    "if x:\n",
    "    print(\"Yes, there is at least one match!\")\n",
    "else:\n",
    "    print(\"No match\")"
   ]
  },
  {
   "cell_type": "code",
   "execution_count": null,
   "id": "47e7c5d5",
   "metadata": {},
   "outputs": [],
   "source": [
    "# Special Sequences practice 5 - \\B - (the \"r\" in the beginning is making sure that the string is being treated as a \"raw string\")\n",
    "\n",
    "import re\n",
    "\n",
    "txt = \"The rain in Spain\"\n",
    "\n",
    "#Check if \"ain\" is present, but NOT at the end of a word:\n",
    "\n",
    "x = re.findall(r\"ain\\B\", txt)\n",
    "\n",
    "print(x)\n",
    "\n",
    "if x:\n",
    "    print(\"Yes, there is at least one match!\")\n",
    "else:\n",
    "    print(\"No match\")"
   ]
  },
  {
   "cell_type": "code",
   "execution_count": null,
   "id": "eb63ea4f",
   "metadata": {},
   "outputs": [],
   "source": [
    "# Special Sequences practice 6 - \\d - Returns a match where the string contains digits (numbers from 0-9)\n",
    "\n",
    "import re\n",
    "\n",
    "txt = \"The rain in Spain\"\n",
    "\n",
    "#Check if the string contains any digits (numbers from 0-9):\n",
    "\n",
    "x = re.findall(\"\\d\", txt)\n",
    "\n",
    "print(x)\n",
    "\n",
    "if x:\n",
    "    print(\"Yes, there is at least one match!\")\n",
    "else:\n",
    "    print(\"No match\")"
   ]
  },
  {
   "cell_type": "code",
   "execution_count": null,
   "id": "3956578c",
   "metadata": {},
   "outputs": [],
   "source": [
    "# Special Sequences practice 7 - \\D - Returns a match where the string DOES NOT contain digits\n",
    "\n",
    "import re\n",
    "\n",
    "txt = \"The rain in Spain\"\n",
    "\n",
    "#Return a match at every no-digit character:\n",
    "\n",
    "x = re.findall(\"\\D\", txt)\n",
    "\n",
    "print(x)\n",
    "\n",
    "if x:\n",
    "    print(\"Yes, there is at least one match!\")\n",
    "else:\n",
    "    print(\"No match\")"
   ]
  },
  {
   "cell_type": "code",
   "execution_count": null,
   "id": "e1a5a5f2",
   "metadata": {},
   "outputs": [],
   "source": [
    "# Special Sequences practice 8 - \\s - Returns a match where the string contains a white space character\n",
    "\n",
    "import re\n",
    "\n",
    "txt = \"The rain in Spain\"\n",
    "\n",
    "#Return a match at every white-space character:\n",
    "\n",
    "x = re.findall(\"\\s\", txt)\n",
    "\n",
    "print(x)\n",
    "\n",
    "if x:\n",
    "    print(\"Yes, there is at least one match!\")\n",
    "else:\n",
    "    print(\"No match\")"
   ]
  },
  {
   "cell_type": "code",
   "execution_count": null,
   "id": "48161b10",
   "metadata": {},
   "outputs": [],
   "source": [
    "# Special Sequences practice 9 - \\S - Returns a match where the string DOES NOT contain a white space character\n",
    "\n",
    "import re\n",
    "\n",
    "txt = \"The rain in Spain\"\n",
    "\n",
    "#Return a match at every NON white-space character:\n",
    "\n",
    "x = re.findall(\"\\S\", txt)\n",
    "\n",
    "print(x)\n",
    "\n",
    "if x:\n",
    "    print(\"Yes, there is at least one match!\")\n",
    "else:\n",
    "    print(\"No match\")"
   ]
  },
  {
   "cell_type": "code",
   "execution_count": null,
   "id": "1912ebe2",
   "metadata": {},
   "outputs": [],
   "source": [
    "# Special Sequences practice 10 - \\w - Returns a match where the string contains any word characters (characters from a to Z, digits from 0-9, and the underscore _ character)\n",
    "\n",
    "import re\n",
    "\n",
    "txt = \"The rain in Spain\"\n",
    "\n",
    "#Return a match at every word character (characters from a to Z, digits from 0-9, and the underscore _ character):\n",
    "\n",
    "x = re.findall(\"\\w\", txt)\n",
    "\n",
    "print(x)\n",
    "\n",
    "if x:\n",
    "    print(\"Yes, there is at least one match!\")\n",
    "else:\n",
    "    print(\"No match\")"
   ]
  },
  {
   "cell_type": "code",
   "execution_count": null,
   "id": "5394f49e",
   "metadata": {},
   "outputs": [],
   "source": [
    "# Special Sequences practice 11 - \\W - Returns a match where the string DOES NOT contain any word characters\n",
    "\n",
    "import re\n",
    "\n",
    "txt = \"The rain in Spain\"\n",
    "\n",
    "#Return a match at every NON word character (characters NOT between a and Z. Like \"!\", \"?\" white-space etc.):\n",
    "\n",
    "x = re.findall(\"\\W\", txt)\n",
    "\n",
    "print(x)\n",
    "\n",
    "if x:\n",
    "    print(\"Yes, there is at least one match!\")\n",
    "else:\n",
    "    print(\"No match\")"
   ]
  },
  {
   "cell_type": "code",
   "execution_count": null,
   "id": "f9d392e5",
   "metadata": {},
   "outputs": [],
   "source": [
    "# Special Sequences practice 12 - \\Z - Returns a match if the specified characters are at the end of the string\n",
    "\n",
    "import re\n",
    "\n",
    "txt = \"The rain in Spain\"\n",
    "\n",
    "#Check if the string ends with \"Spain\":\n",
    "\n",
    "x = re.findall(\"Spain\\Z\", txt)\n",
    "\n",
    "print(x)\n",
    "\n",
    "if x:\n",
    "    print(\"Yes, there is a match!\")\n",
    "else:\n",
    "    print(\"No match\")"
   ]
  },
  {
   "cell_type": "markdown",
   "id": "633613d6",
   "metadata": {},
   "source": [
    "**Sets**\n",
    "\n",
    "A set is a set of characters inside a pair of square brackets [] with a special meaning:\n",
    "\n",
    "|Setm|Description|\n",
    "|---------|:---------------------------------------------------------------------------------------------------------------|\n",
    "|**[arn]**|Returns a match where one of the specified characters (a, r, or n) is present|\n",
    "|**[a-n]**|Returns a match for any lower case character, alphabetically between a and n|\t\n",
    "|**[^arn]**|Returns a match for any character EXCEPT a, r, and n|\t\n",
    "|**[0123]**|Returns a match where any of the specified digits (0, 1, 2, or 3) are present|\t\n",
    "|**[0-9]**|Returns a match for any digit between 0 and 9|\n",
    "|**[0-5][0-9]**|Returns a match for any two-digit numbers from 00 and 59|\n",
    "|**[a-zA-Z]**|Returns a match for any character alphabetically between a and z, lower case OR upper case|\n",
    "|**[+]**|In sets, \\+, \\*, \\., \\|, \\(), \\$,\\{} has no special meaning, so [+] means: return a match for any + character in the string|"
   ]
  },
  {
   "cell_type": "code",
   "execution_count": null,
   "id": "15dc2ce8",
   "metadata": {},
   "outputs": [],
   "source": [
    "# RegEx Sets practice 1 - [arn] - Returns a match where one of the specified characters (a, r, or n) is present\n",
    "\n",
    "import re\n",
    "\n",
    "txt = \"The rain in Spain\"\n",
    "\n",
    "#Check if the string has any a, r, or n characters:\n",
    "\n",
    "x = re.findall(\"[arn]\", txt)\n",
    "\n",
    "print(x)\n",
    "\n",
    "if x:\n",
    "    print(\"Yes, there is at least one match!\")\n",
    "else:\n",
    "    print(\"No match\")"
   ]
  },
  {
   "cell_type": "code",
   "execution_count": null,
   "id": "66070ade",
   "metadata": {},
   "outputs": [],
   "source": [
    "# RegEx Sets practice 1 - [a-n] - Returns a match for any lower case character, alphabetically between a and n\n",
    "\n",
    "import re\n",
    "\n",
    "txt = \"The rain in Spain\"\n",
    "\n",
    "#Check if the string has any characters between a and n:\n",
    "\n",
    "x = re.findall(\"[a-n]\", txt)\n",
    "\n",
    "print(x)\n",
    "\n",
    "if x:\n",
    "    print(\"Yes, there is at least one match!\")\n",
    "else:\n",
    "    print(\"No match\")"
   ]
  },
  {
   "cell_type": "code",
   "execution_count": null,
   "id": "3bf73d2e",
   "metadata": {},
   "outputs": [],
   "source": [
    "# RegEx Sets practice 3 - [^arn] - Returns a match for any character EXCEPT a, r, and n\n",
    "\n",
    "import re\n",
    "\n",
    "txt = \"The rain in Spain\"\n",
    "\n",
    "#Check if the string has other characters than a, r, or n:\n",
    "\n",
    "x = re.findall(\"[^arn]\", txt)\n",
    "\n",
    "print(x)\n",
    "\n",
    "if x:\n",
    "    print(\"Yes, there is at least one match!\")\n",
    "else:\n",
    "    print(\"No match\")"
   ]
  },
  {
   "cell_type": "code",
   "execution_count": null,
   "id": "f6c8bcfb",
   "metadata": {},
   "outputs": [],
   "source": [
    "# RegEx Sets practice 4 - [01234] - Returns a match where any of the specified digits (0, 1, 2, or 3) are present\n",
    "\n",
    "import re\n",
    "\n",
    "txt = \"The rain in Spain\"\n",
    "\n",
    "#Check if the string has any 0, 1, 2, or 3 digits:\n",
    "\n",
    "x = re.findall(\"[0123]\", txt)\n",
    "\n",
    "print(x)\n",
    "\n",
    "if x:\n",
    "    print(\"Yes, there is at least one match!\")\n",
    "else:\n",
    "    print(\"No match\")"
   ]
  },
  {
   "cell_type": "code",
   "execution_count": null,
   "id": "b94394e8",
   "metadata": {},
   "outputs": [],
   "source": [
    "# RegEx Sets practice 5 - [0-9] - Returns a match for any digit between 0 and 9\n",
    "\n",
    "import re\n",
    "\n",
    "txt = \"8 times before 11:45 AM\"\n",
    "\n",
    "#Check if the string has any digits:\n",
    "\n",
    "x = re.findall(\"[0-9]\", txt)\n",
    "\n",
    "print(x)\n",
    "\n",
    "if x:\n",
    "    print(\"Yes, there is at least one match!\")\n",
    "else:\n",
    "    print(\"No match\")"
   ]
  },
  {
   "cell_type": "code",
   "execution_count": null,
   "id": "2612e48b",
   "metadata": {},
   "outputs": [],
   "source": [
    "# RegEx Sets practice 6 - [0-5][0-9] - Returns a match for any two-digit numbers from 00 and 59\n",
    "\n",
    "import re\n",
    "\n",
    "txt = \"8 times before 11:45 AM\"\n",
    "\n",
    "#Check if the string has any two-digit numbers, from 00 to 59:\n",
    "\n",
    "x = re.findall(\"[0-5][0-9]\", txt)\n",
    "\n",
    "print(x)\n",
    "\n",
    "if x:\n",
    "    print(\"Yes, there is at least one match!\")\n",
    "else:\n",
    "    print(\"No match\")"
   ]
  },
  {
   "cell_type": "code",
   "execution_count": null,
   "id": "08700e51",
   "metadata": {},
   "outputs": [],
   "source": [
    "# RegEx Sets practice 7 - [a-zA-Z] - Returns a match for any character alphabetically between a and z, lower case OR upper case\n",
    "\n",
    "import re\n",
    "\n",
    "txt = \"8 times before 11:45 AM\"\n",
    "\n",
    "#Check if the string has any characters from a to z lower case, and A to Z upper case:\n",
    "\n",
    "x = re.findall(\"[a-zA-Z]\", txt)\n",
    "\n",
    "print(x)\n",
    "\n",
    "if x:\n",
    "    print(\"Yes, there is at least one match!\")\n",
    "else:\n",
    "    print(\"No match\")"
   ]
  },
  {
   "cell_type": "code",
   "execution_count": null,
   "id": "860710fc",
   "metadata": {},
   "outputs": [],
   "source": [
    "# RegEx Sets practice 8 - [+] - In sets, +, *, ., |, (), $,{} has no special meaning, so [+] means: return a match for any + character in the string\n",
    "\n",
    "import re\n",
    "\n",
    "txt = \"8 times before 11:45 AM\"\n",
    "\n",
    "#Check if the string has any + characters:\n",
    "\n",
    "x = re.findall(\"[+]\", txt)\n",
    "\n",
    "print(x)\n",
    "\n",
    "if x:\n",
    "    print(\"Yes, there is at least one match!\")\n",
    "else:\n",
    "    print(\"No match\")\n"
   ]
  },
  {
   "cell_type": "markdown",
   "id": "9e7ef326",
   "metadata": {},
   "source": [
    "**The findall() Function**\n",
    "\n",
    "The findall() function returns a list containing all matches.\n",
    "\n",
    "**Example**\n",
    "\n",
    "Print a list of all matches:\n",
    "\n",
    "```Python    \n",
    "import re\n",
    "\n",
    "txt = \"The rain in Spain\"\n",
    "x = re.findall(\"ai\", txt)\n",
    "print(x)\n",
    "```"
   ]
  },
  {
   "cell_type": "code",
   "execution_count": null,
   "id": "fde0d5a3",
   "metadata": {},
   "outputs": [],
   "source": [
    "import re\n",
    "\n",
    "#Return a list containing every occurrence of \"ai\":\n",
    "\n",
    "txt = \"The rain in Spain\"\n",
    "x = re.findall(\"ai\", txt)\n",
    "print(x)\n",
    "\n",
    "# The list contains the matches in the order they are found."
   ]
  },
  {
   "cell_type": "code",
   "execution_count": null,
   "id": "457c2d45",
   "metadata": {},
   "outputs": [],
   "source": [
    "If no matches are found, an empty list is returned:\n",
    "\n",
    "**Example**\n",
    "\n",
    "Return an empty list if no match was found:\n",
    "\n",
    "```Python    \n",
    "import re\n",
    "\n",
    "txt = \"The rain in Spain\"\n",
    "x = re.findall(\"Portugal\", txt)\n",
    "print(x)\n",
    "```"
   ]
  },
  {
   "cell_type": "code",
   "execution_count": null,
   "id": "6f192ef4",
   "metadata": {},
   "outputs": [],
   "source": [
    "import re\n",
    "\n",
    "txt = \"The rain in Spain\"\n",
    "\n",
    "#Check if \"Portugal\" is in the string:\n",
    "\n",
    "x = re.findall(\"Portugal\", txt)\n",
    "print(x)\n",
    "\n",
    "if (x):\n",
    "    print(\"Yes, there is at least one match!\")\n",
    "else:\n",
    "    print(\"No match\")"
   ]
  },
  {
   "cell_type": "code",
   "execution_count": null,
   "id": "9e658c63",
   "metadata": {},
   "outputs": [],
   "source": [
    "**The search() Function**\n",
    "\n",
    "The search() function searches the string for a match, and returns a Match object if there is a match.\n",
    "\n",
    "If there is more than one match, only the first occurrence of the match will be returned:\n",
    "\n",
    "**Example**\n",
    "\n",
    "Search for the first white-space character in the string:\n",
    "\n",
    "```Python    \n",
    "import re\n",
    "\n",
    "txt = \"The rain in Spain\"\n",
    "x = re.search(\"\\s\", txt)\n",
    "\n",
    "print(\"The first white-space character is located in position:\", x.start())\n",
    "```"
   ]
  },
  {
   "cell_type": "code",
   "execution_count": null,
   "id": "c7238775",
   "metadata": {},
   "outputs": [],
   "source": [
    "import re\n",
    "\n",
    "txt = \"The rain in Spain\"\n",
    "x = re.search(\"\\s\", txt)\n",
    "\n",
    "print(\"The first white-space character is located in position:\", x.start()) "
   ]
  },
  {
   "cell_type": "code",
   "execution_count": null,
   "id": "06f38b74",
   "metadata": {},
   "outputs": [],
   "source": [
    "# If no matches are found, the value None is returned:\n",
    "\n",
    "# Example\n",
    "# Make a search that returns no match:\n",
    "\n",
    "import re\n",
    "\n",
    "txt = \"The rain in Spain\"\n",
    "x = re.search(\"Portugal\", txt)\n",
    "print(x)"
   ]
  },
  {
   "cell_type": "code",
   "execution_count": null,
   "id": "41b12187",
   "metadata": {},
   "outputs": [],
   "source": [
    "# The split() Function\n",
    "# The split() function returns a list where the string has been split at each match:\n",
    "\n",
    "# Example\n",
    "# Split at each white-space character:\n",
    "\n",
    "import re\n",
    "\n",
    "txt = \"The rain in Spain\"\n",
    "x = re.split(\"\\s\", txt)\n",
    "print(x)"
   ]
  },
  {
   "cell_type": "code",
   "execution_count": null,
   "id": "802a721f",
   "metadata": {},
   "outputs": [],
   "source": [
    "# You can control the number of occurrences by specifying the maxsplit parameter:\n",
    "\n",
    "# Example\n",
    "# Split the string only at the first occurrence:\n",
    "\n",
    "import re\n",
    "\n",
    "txt = \"The rain in Spain\"\n",
    "x = re.split(\"\\s\", txt, 1)\n",
    "print(x)"
   ]
  },
  {
   "cell_type": "code",
   "execution_count": null,
   "id": "0681442e",
   "metadata": {},
   "outputs": [],
   "source": [
    "# The sub() Function\n",
    "# The sub() function replaces the matches with the text of your choice:\n",
    "\n",
    "# Example\n",
    "# Replace every white-space character with the number 9:\n",
    "\n",
    "import re\n",
    "\n",
    "txt = \"The rain in Spain\"\n",
    "x = re.sub(\"\\s\", \"9\", txt)\n",
    "print(x)"
   ]
  },
  {
   "cell_type": "code",
   "execution_count": null,
   "id": "6fbd3a57",
   "metadata": {},
   "outputs": [],
   "source": [
    "# You can control the number of replacements by specifying the count parameter:\n",
    "\n",
    "# Example\n",
    "# Replace the first 2 occurrences:\n",
    "\n",
    "import re\n",
    "\n",
    "txt = \"The rain in Spain\"\n",
    "x = re.sub(\"\\s\", \"9\", txt, 2)\n",
    "print(x)"
   ]
  },
  {
   "cell_type": "markdown",
   "id": "f405674a",
   "metadata": {},
   "source": [
    "**Match Object**\n",
    "\n",
    "A Match Object is an object containing information about the search and the result.\n",
    "\n",
    "Note: If there is no match, the value None will be returned, instead of the Match Object.\n",
    "\n",
    "**Example**\n",
    "\n",
    "Do a search that will return a Match Object:\n",
    "\n",
    "```Python\n",
    "import re\n",
    "\n",
    "txt = \"The rain in Spain\"\n",
    "x = re.search(\"ai\", txt)\n",
    "print(x) #this will print an object\n",
    "```"
   ]
  },
  {
   "cell_type": "markdown",
   "id": "487e3c79",
   "metadata": {},
   "source": [
    "The Match object has properties and methods used to retrieve information about the search, and the result:\n",
    "\n",
    "- **span()** returns a tuple containing the start-, and end positions of the match.\n",
    "- **string** returns the string passed into the function\n",
    "- **group()** returns the part of the string where there was a match\n"
   ]
  },
  {
   "cell_type": "code",
   "execution_count": null,
   "id": "b0208fff",
   "metadata": {},
   "outputs": [],
   "source": [
    "# Print the position (start- and end-position) of the first match occurrence.\n",
    "\n",
    "# The regular expression looks for any words that starts with an upper case \"S\":\n",
    "\n",
    "import re\n",
    "\n",
    "txt = \"The rain in Spain\"\n",
    "x = re.search(r\"\\bS\\w+\", txt)\n",
    "print(x.span())"
   ]
  },
  {
   "cell_type": "code",
   "execution_count": null,
   "id": "46a2dca7",
   "metadata": {},
   "outputs": [],
   "source": [
    "# Print the string passed into the function:\n",
    "\n",
    "import re\n",
    "\n",
    "txt = \"The rain in Spain\"\n",
    "x = re.search(r\"\\bS\\w+\", txt)\n",
    "print(x.string)"
   ]
  },
  {
   "cell_type": "code",
   "execution_count": null,
   "id": "44ac7056",
   "metadata": {},
   "outputs": [],
   "source": [
    "# Print the part of the string where there was a match.\n",
    "\n",
    "# The regular expression looks for any words that starts with an upper case \"S\":\n",
    "\n",
    "import re\n",
    "\n",
    "txt = \"The rain in Spain\"\n",
    "x = re.search(r\"\\bS\\w+\", txt)\n",
    "print(x.group())\n",
    "\n",
    "# Note: If there is no match, the value None will be returned, instead of the Match Object."
   ]
  },
  {
   "cell_type": "markdown",
   "id": "251d9452",
   "metadata": {},
   "source": [
    "### 29. Python PIP"
   ]
  },
  {
   "cell_type": "markdown",
   "id": "4a338d7c",
   "metadata": {},
   "source": [
    "**What is PIP?**\n",
    "\n",
    "PIP is a package manager for Python packages, or modules if you like.\n",
    "\n",
    "Note: If you have Python version 3.4 or later, PIP is included by default.\n",
    "\n",
    "**What is a Package?**\n",
    "\n",
    "A package contains all the files you need for a module.\n",
    "\n",
    "Modules are Python code libraries you can include in your project.\n",
    "\n",
    "Check if PIP is Installed\n",
    "\n",
    "Navigate your command line to the location of Python's script directory, and type the following:\n",
    "\n",
    "**Example**\n",
    "\n",
    "Check PIP version:\n",
    "\n",
    "C:\\Users\\Your Name\\AppData\\Local\\Programs\\Python\\Python36-32\\Scripts>pip --version\n",
    "\n",
    "**Install PIP**\n",
    "\n",
    "If you do not have PIP installed, you can download and install it from this page: https://pypi.org/project/pip/\n",
    "\n",
    "**Download a Package**\n",
    "\n",
    "Downloading a package is very easy.\n",
    "\n",
    "Open the command line interface and tell PIP to download the package you want.\n",
    "\n",
    "Navigate your command line to the location of Python's script directory, and type the following:\n",
    "\n",
    "**Example**\n",
    "\n",
    "Download a package named \"camelcase\":\n",
    "\n",
    "C:\\Users\\Your Name\\AppData\\Local\\Programs\\Python\\Python36-32\\Scripts>pip install camelcase\n",
    "Now you have downloaded and installed your first package!\n"
   ]
  },
  {
   "cell_type": "markdown",
   "id": "c08b359f",
   "metadata": {},
   "source": [
    "**Using a Package**\n",
    "\n",
    "Once the package is installed, it is ready to use.\n",
    "\n",
    "Import the \"camelcase\" package into your project.\n",
    "\n",
    "**Example**\n",
    "\n",
    "Import and use \"camelcase\":\n",
    "\n",
    "```Python    \n",
    "import camelcase\n",
    "\n",
    "c = camelcase.CamelCase()\n",
    "\n",
    "txt = \"hello world\"\n",
    "\n",
    "print(c.hump(txt))\n",
    "```"
   ]
  },
  {
   "cell_type": "code",
   "execution_count": null,
   "id": "2108c11b",
   "metadata": {},
   "outputs": [],
   "source": [
    "import camelcase\n",
    "\n",
    "c = camelcase.CamelCase()\n",
    "\n",
    "txt = \"lorem ipsum dolor sit amet\"\n",
    "\n",
    "print(c.hump(txt))\n",
    "\n",
    "#This method capitalizes the first letter of each word."
   ]
  },
  {
   "cell_type": "markdown",
   "id": "688935fd",
   "metadata": {},
   "source": [
    "**Find Packages**\n",
    "\n",
    "Find more packages at https://pypi.org/.\n",
    "\n",
    "**Remove a Package**\n",
    "Use the **uninstall** command to remove a package:\n",
    "\n",
    "**Example**\n",
    "Uninstall the package named \"camelcase\":\n",
    "\n",
    "> C:\\Users\\Your Name\\AppData\\Local\\Programs\\Python\\Python36-32\\Scripts>pip uninstall camelcase\n",
    "\n",
    "The PIP Package Manager will ask you to confirm that you want to remove the camelcase package:\n",
    "```\n",
    "Uninstalling camelcase-02.1:\n",
    "  Would remove:\n",
    "    c:\\users\\Your Name\\appdata\\local\\programs\\python\\python36-32\\lib\\site-packages\\camecase-0.2-py3.6.egg-info\n",
    "    c:\\users\\Your Name\\appdata\\local\\programs\\python\\python36-32\\lib\\site-packages\\camecase\\*\n",
    "Proceed (y/n)?\n",
    "Press y and the package will be removed.\n",
    "```\n",
    "\n",
    "**List Packages**\n",
    "\n",
    "Use the list command to list all the packages installed on your system:"
   ]
  },
  {
   "cell_type": "markdown",
   "id": "79e93e2a",
   "metadata": {},
   "source": [
    "List installed packages:\n",
    "\n",
    "> C:\\Users\\Your Name\\AppData\\Local\\Programs\\Python\\Python36-32\\Scripts>pip list"
   ]
  },
  {
   "cell_type": "markdown",
   "id": "d9acb216",
   "metadata": {},
   "source": [
    "### 30. Python Try Except"
   ]
  },
  {
   "cell_type": "markdown",
   "id": "8af3f9bb",
   "metadata": {},
   "source": [
    "The **try** block lets you test a block of code for errors.\n",
    "\n",
    "The **except** block lets you handle the error.\n",
    "\n",
    "The **else** block lets you execute code when there is no error.\n",
    "\n",
    "The **finally** block lets you execute code, regardless of the result of the try- and except blocks."
   ]
  },
  {
   "cell_type": "markdown",
   "id": "dfe9e023",
   "metadata": {},
   "source": [
    "**Exception Handling**\n",
    "\n",
    "When an error occurs, or exception as we call it, Python will normally stop and generate an error message.\n",
    "\n",
    "These exceptions can be handled using the try statement:\n",
    "\n",
    "**Example**\n",
    "\n",
    "The **try** block will generate an exception, because x is not defined:\n",
    "\n",
    "```Python    \n",
    "try:\n",
    "    print(x)\n",
    "except:\n",
    "    print(\"An exception occurred\")\n",
    "```"
   ]
  },
  {
   "cell_type": "code",
   "execution_count": null,
   "id": "4a717ce4",
   "metadata": {},
   "outputs": [],
   "source": [
    "#The try block will generate an error, because x is not defined:\n",
    "\n",
    "try:\n",
    "    print(x)\n",
    "except:\n",
    "    print(\"An exception occurred\")\n",
    "\n",
    "# Since the try block raises an error, the except block will be executed."
   ]
  },
  {
   "cell_type": "code",
   "execution_count": null,
   "id": "2a9bcb7f",
   "metadata": {},
   "outputs": [],
   "source": [
    "# Example\n",
    "# This statement will raise an error, because x is not defined:\n",
    "\n",
    "print(x)\n",
    "\n",
    "#This will raise an exception, because x is not defined:"
   ]
  },
  {
   "cell_type": "markdown",
   "id": "d2a2cf55",
   "metadata": {},
   "source": [
    "**Many Exceptions**\n",
    "\n",
    "You can define as many exception blocks as you want, e.g. if you want to execute a special block of code for a special kind of error:\n",
    "\n",
    "**Example**\n",
    "\n",
    "Print one message if the try block raises a NameError and another for other errors:\n",
    "\n",
    "```Python    \n",
    "try:\n",
    "    print(x)\n",
    "except NameError:\n",
    "    print(\"Variable x is not defined\")\n",
    "except:\n",
    "    print(\"Something else went wrong\")\n",
    "```"
   ]
  },
  {
   "cell_type": "code",
   "execution_count": null,
   "id": "dff821ff",
   "metadata": {},
   "outputs": [],
   "source": [
    "#The try block will generate a NameError, because x is not defined:\n",
    "\n",
    "try:\n",
    "    print(x)\n",
    "except NameError:\n",
    "    print(\"Variable x is not defined\")\n",
    "except:\n",
    "    print(\"Something else went wrong\")\n"
   ]
  },
  {
   "cell_type": "markdown",
   "id": "4f5aecc0",
   "metadata": {},
   "source": [
    "**Else**\n",
    "\n",
    "You can use the else keyword to define a block of code to be executed if no errors were raised:\n",
    "\n",
    "**Example**\n",
    "\n",
    "In this example, the try block does not generate any error:\n",
    "\n",
    "```Python    \n",
    "try:\n",
    "    print(\"Hello\")\n",
    "except:\n",
    "    print(\"Something went wrong\")\n",
    "else:\n",
    "    print(\"Nothing went wrong\")\n",
    "```"
   ]
  },
  {
   "cell_type": "code",
   "execution_count": null,
   "id": "ef81a5a1",
   "metadata": {},
   "outputs": [],
   "source": [
    "#The try block does not raise any errors, so the else block is executed:\n",
    "\n",
    "try:\n",
    "  print(\"Hello\")\n",
    "except:\n",
    "  print(\"Something went wrong\")\n",
    "else:\n",
    "  print(\"Nothing went wrong\")"
   ]
  },
  {
   "cell_type": "markdown",
   "id": "b859dbf9",
   "metadata": {},
   "source": [
    "**Finally**\n",
    "\n",
    "The finally block, if specified, will be executed regardless if the try block raises an error or not.\n",
    "\n",
    "**Example**\n",
    "\n",
    "```Python\n",
    "try:\n",
    "    print(x)\n",
    "except:\n",
    "    print(\"Something went wrong\")\n",
    "finally:\n",
    "    print(\"The 'try except' is finished\")\n",
    "```"
   ]
  },
  {
   "cell_type": "code",
   "execution_count": null,
   "id": "c11593bf",
   "metadata": {},
   "outputs": [],
   "source": [
    "#The finally block gets executed no matter if the try block raises any errors or not:\n",
    "\n",
    "try:\n",
    "    print(x)\n",
    "except:\n",
    "    print(\"Something went wrong\")\n",
    "finally:\n",
    "    print(\"The 'try except' is finished\")"
   ]
  },
  {
   "cell_type": "markdown",
   "id": "797538f5",
   "metadata": {},
   "source": [
    "This can be useful to close objects and clean up resources:\n",
    "\n",
    "**Example**\n",
    "\n",
    "Try to open and write to a file that is not writable:\n",
    "\n",
    "```Python    \n",
    "try:\n",
    "    f = open(\"demofile.txt\")\n",
    "    try:\n",
    "        f.write(\"Lorum Ipsum\")\n",
    "    except:\n",
    "        print(\"Something went wrong when writing to the file\")\n",
    "    finally:\n",
    "        f.close()\n",
    "    except:\n",
    "        print(\"Something went wrong when opening the file\")\n",
    "```\n",
    "The program can continue, without leaving the file object open."
   ]
  },
  {
   "cell_type": "code",
   "execution_count": null,
   "id": "4dfcd7bc",
   "metadata": {},
   "outputs": [],
   "source": [
    "#The try block will raise an error when trying to write to a read-only file:\n",
    "# C:\\Users\\My Name>python demo_try_except5.py\n",
    "\n",
    "try:\n",
    "    f = open(\"demofile.txt\")\n",
    "    try:\n",
    "        f.write(\"Lorum Ipsum\")\n",
    "    except:\n",
    "        print(\"Something went wrong when writing to the file\")\n",
    "\n",
    "    finally:\n",
    "        f.close()\n",
    "except:\n",
    "    print(\"Something went wrong when opening the file\")  "
   ]
  },
  {
   "cell_type": "markdown",
   "id": "0105ad8f",
   "metadata": {},
   "source": [
    "**Raise an exception**\n",
    "\n",
    "As a Python developer you can choose to throw an exception if a condition occurs.\n",
    "\n",
    "To throw (or raise) an exception, use the raise keyword.\n",
    "\n",
    "**Example**\n",
    "\n",
    "Raise an error and stop the program if x is lower than 0:\n",
    "\n",
    "```Python    \n",
    "x = -1\n",
    "\n",
    "if x < 0:\n",
    "    raise Exception(\"Sorry, no numbers below zero\")\n",
    "```\n",
    "The raise keyword is used to raise an exception.\n",
    "\n",
    "You can define what kind of error to raise, and the text to print to the user."
   ]
  },
  {
   "cell_type": "code",
   "execution_count": null,
   "id": "4b5748a2",
   "metadata": {},
   "outputs": [],
   "source": [
    "x = -1\n",
    "\n",
    "if x < 0:\n",
    "    raise Exception(\"Sorry, no numbers below zero\")"
   ]
  },
  {
   "cell_type": "code",
   "execution_count": null,
   "id": "5fe0b3ed",
   "metadata": {},
   "outputs": [],
   "source": [
    "# Raise a TypeError if x is not an integer:\n",
    "\n",
    "x = \"hello\"\n",
    "\n",
    "if not type(x) is int:\n",
    "    raise TypeError(\"Only integers are allowed\")"
   ]
  },
  {
   "cell_type": "markdown",
   "id": "3f05f28b",
   "metadata": {},
   "source": [
    "### 31. Python User Input"
   ]
  },
  {
   "cell_type": "markdown",
   "id": "d0d5827a",
   "metadata": {},
   "source": [
    "**User Input**\n",
    "\n",
    "Python allows for user input.\n",
    "\n",
    "That means we are able to ask the user for input.\n",
    "\n",
    "The method is a bit different in Python 3.6 than Python 2.7.\n",
    "\n",
    "Python 3.6 uses the **input()** method.\n",
    "\n",
    "Python 2.7 uses the **raw_input()** method.\n",
    "\n",
    "The following example asks for the username, and when you entered the username, it gets printed on the screen:\n",
    "\n",
    "**Python 3.6**\n",
    "```Python\n",
    "username = input(\"Enter username:\")\n",
    "print(\"Username is: \" + username)\n",
    "```"
   ]
  },
  {
   "cell_type": "code",
   "execution_count": null,
   "id": "516916e2",
   "metadata": {},
   "outputs": [],
   "source": [
    "username = input(\"Enter username:\")\n",
    "print(\"Username is: \" + username)"
   ]
  },
  {
   "cell_type": "code",
   "execution_count": null,
   "id": "0b0a6102",
   "metadata": {},
   "outputs": [],
   "source": [
    "# Python 2.7\n",
    "username = raw_input(\"Enter username:\")\n",
    "print(\"Username is: \" + username)"
   ]
  },
  {
   "cell_type": "markdown",
   "id": "50e31e7a",
   "metadata": {},
   "source": [
    "Python stops executing when it comes to the input() function, and continues when the user has given some input."
   ]
  },
  {
   "cell_type": "markdown",
   "id": "d73ceb61",
   "metadata": {},
   "source": [
    "### 32. Python String Formatting"
   ]
  },
  {
   "cell_type": "markdown",
   "id": "d80eb344",
   "metadata": {},
   "source": [
    "To make sure a string will display as expected, we can format the result with the format() method.\n",
    "\n",
    "**String format()**\n",
    "\n",
    "The **format()** method allows you to format selected parts of a string.\n",
    "\n",
    "Sometimes there are parts of a text that you do not control, maybe they come from a database, or user input?\n",
    "\n",
    "To control such values, add placeholders (curly brackets {}) in the text, and run the values through the **format()** method:"
   ]
  },
  {
   "cell_type": "code",
   "execution_count": null,
   "id": "669047eb",
   "metadata": {},
   "outputs": [],
   "source": [
    "# Add a placeholder where you want to display the price:\n",
    "\n",
    "price = 49\n",
    "txt = \"The price is {} dollars\"\n",
    "print(txt.format(price))"
   ]
  },
  {
   "cell_type": "markdown",
   "id": "71a69354",
   "metadata": {},
   "source": [
    "You can add parameters inside the curly brackets to specify how to convert the value:\n",
    "\n",
    "**Example**\n",
    "\n",
    "Format the price to be displayed as a number with two decimals:\n",
    "\n",
    "```Python\n",
    "txt = \"The price is {:.2f} dollars\"\n",
    "```"
   ]
  },
  {
   "cell_type": "code",
   "execution_count": null,
   "id": "9c6566f8",
   "metadata": {},
   "outputs": [],
   "source": [
    "price = 49\n",
    "txt = \"The price is {:.2f} dollars\"\n",
    "print(txt.format(price))"
   ]
  },
  {
   "cell_type": "markdown",
   "id": "f2881a18",
   "metadata": {},
   "source": [
    "**Multiple Values**\n",
    "\n",
    "If you want to use more values, just add more values to the **format()** method:\n",
    "\n",
    "```Python\n",
    "print(txt.format(price, itemno, count))\n",
    "```"
   ]
  },
  {
   "cell_type": "code",
   "execution_count": null,
   "id": "de1c765d",
   "metadata": {},
   "outputs": [],
   "source": [
    "# And add more placeholders:\n",
    "\n",
    "# Example\n",
    "quantity = 3\n",
    "itemno = 567\n",
    "price = 49\n",
    "myorder = \"I want {} pieces of item number {} for {:.2f} dollars.\"\n",
    "\n",
    "print(myorder.format(quantity, itemno, price))"
   ]
  },
  {
   "cell_type": "markdown",
   "id": "981ef718",
   "metadata": {},
   "source": [
    "**Index Numbers**\n",
    "\n",
    "You can use index numbers (a number inside the curly brackets {0}) to be sure the values are placed in the correct placeholders:\n",
    "\n",
    "**Example**\n",
    "\n",
    "```Python\n",
    "quantity = 3\n",
    "itemno = 567\n",
    "price = 49\n",
    "myorder = \"I want {0} pieces of item number {1} for {2:.2f} dollars.\"\n",
    "print(myorder.format(quantity, itemno, price))\n",
    "```"
   ]
  },
  {
   "cell_type": "code",
   "execution_count": null,
   "id": "e762a50d",
   "metadata": {},
   "outputs": [],
   "source": [
    "quantity = 3\n",
    "itemno = 567\n",
    "price = 49\n",
    "myorder = \"I want {0} pieces of item number {1} for {2:.2f} dollars.\"\n",
    "print(myorder.format(quantity, itemno, price))"
   ]
  },
  {
   "cell_type": "code",
   "execution_count": null,
   "id": "b7e3bbcf",
   "metadata": {},
   "outputs": [],
   "source": [
    "# Also, if you want to refer to the same value more than once, use the index number:\n",
    "\n",
    "# Example\n",
    "age = 36\n",
    "name = \"John\"\n",
    "txt = \"His name is {1}. {1} is {0} years old.\"\n",
    "print(txt.format(age, name))"
   ]
  },
  {
   "cell_type": "code",
   "execution_count": null,
   "id": "b77bf692",
   "metadata": {},
   "outputs": [],
   "source": [
    "# Named Indexes\n",
    "# You can also use named indexes by entering a name inside the curly brackets {carname}, but then you must use names when you pass the parameter values txt.format(carname = \"Ford\"):\n",
    "\n",
    "# Example\n",
    "myorder = \"I have a {carname}, it is a {model}.\"\n",
    "print(myorder.format(carname = \"Ford\", model = \"Mustang\"))"
   ]
  }
 ],
 "metadata": {
  "kernelspec": {
   "display_name": "Python 3 (ipykernel)",
   "language": "python",
   "name": "python3"
  },
  "language_info": {
   "codemirror_mode": {
    "name": "ipython",
    "version": 3
   },
   "file_extension": ".py",
   "mimetype": "text/x-python",
   "name": "python",
   "nbconvert_exporter": "python",
   "pygments_lexer": "ipython3",
   "version": "3.9.12"
  }
 },
 "nbformat": 4,
 "nbformat_minor": 5
}
